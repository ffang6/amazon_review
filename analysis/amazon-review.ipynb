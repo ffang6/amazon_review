{
 "cells": [
  {
   "cell_type": "code",
   "execution_count": 7,
   "metadata": {
    "collapsed": false
   },
   "outputs": [],
   "source": [
    "%matplotlib inline\n",
    "import re\n",
    "import numpy as np\n",
    "import matplotlib.pyplot as plt\n",
    "import pandas as pd\n",
    "import seaborn as sns\n",
    "import datetime"
   ]
  },
  {
   "cell_type": "code",
   "execution_count": 8,
   "metadata": {
    "collapsed": true
   },
   "outputs": [],
   "source": [
    "products = pd.read_csv('new_result.csv', sep=',')\n",
    "reviews = pd.read_csv(\"reviews.csv\")"
   ]
  },
  {
   "cell_type": "code",
   "execution_count": 5,
   "metadata": {
    "collapsed": false
   },
   "outputs": [
    {
     "data": {
      "text/html": [
       "<div>\n",
       "<table border=\"1\" class=\"dataframe\">\n",
       "  <thead>\n",
       "    <tr style=\"text-align: right;\">\n",
       "      <th></th>\n",
       "      <th>product_id</th>\n",
       "      <th>product_name</th>\n",
       "      <th>product_brand</th>\n",
       "      <th>product_detail</th>\n",
       "      <th>product_description</th>\n",
       "      <th>product_price</th>\n",
       "      <th>product_sale</th>\n",
       "      <th>weight</th>\n",
       "      <th>photo_num</th>\n",
       "      <th>best_seller_rank</th>\n",
       "      <th>water_proof</th>\n",
       "      <th>noise_cancel</th>\n",
       "      <th>micro_phone</th>\n",
       "      <th>review_num</th>\n",
       "      <th>review_rate</th>\n",
       "    </tr>\n",
       "  </thead>\n",
       "  <tbody>\n",
       "    <tr>\n",
       "      <th>0</th>\n",
       "      <td>B012N7X65S</td>\n",
       "      <td>Trendwoo Runner X9 Bluetooth 4.0 Wireless Ster...</td>\n",
       "      <td>Trendwoo</td>\n",
       "      <td>Enter your model number above to make sure thi...</td>\n",
       "      <td>Features: Specifications: Model: Runner X9 Blu...</td>\n",
       "      <td>39.99</td>\n",
       "      <td>0.00</td>\n",
       "      <td>82.213617</td>\n",
       "      <td>7</td>\n",
       "      <td>2318</td>\n",
       "      <td>1</td>\n",
       "      <td>0</td>\n",
       "      <td>0</td>\n",
       "      <td>228</td>\n",
       "      <td>3.7</td>\n",
       "    </tr>\n",
       "    <tr>\n",
       "      <th>1</th>\n",
       "      <td>B016OADE1Q</td>\n",
       "      <td>Bluetooth 4.1 Headphones,LADEY Wireless Blueto...</td>\n",
       "      <td>LADEY</td>\n",
       "      <td>Bluetooth 4.1,support volume control,it also c...</td>\n",
       "      <td>Sweatproof design,best choice when you do spor...</td>\n",
       "      <td>44.29</td>\n",
       "      <td>14.26</td>\n",
       "      <td>861.825503</td>\n",
       "      <td>7</td>\n",
       "      <td>9289</td>\n",
       "      <td>1</td>\n",
       "      <td>1</td>\n",
       "      <td>0</td>\n",
       "      <td>0</td>\n",
       "      <td>0.0</td>\n",
       "    </tr>\n",
       "    <tr>\n",
       "      <th>2</th>\n",
       "      <td>B005IYDFVO</td>\n",
       "      <td>Clarity CE50 HearIt Mobile Bluetooth Neckloop</td>\n",
       "      <td>Clarity</td>\n",
       "      <td>Clarity CE50 Purchase Includes:CE50 hand-free ...</td>\n",
       "      <td>Wireless, hands-free communication for Bluetoo...</td>\n",
       "      <td>0.00</td>\n",
       "      <td>0.00</td>\n",
       "      <td>340.194277</td>\n",
       "      <td>1</td>\n",
       "      <td>10653</td>\n",
       "      <td>0</td>\n",
       "      <td>0</td>\n",
       "      <td>1</td>\n",
       "      <td>6</td>\n",
       "      <td>3.0</td>\n",
       "    </tr>\n",
       "    <tr>\n",
       "      <th>3</th>\n",
       "      <td>B017RDCZ1Y</td>\n",
       "      <td>PowerLead S200 Bluetooth 4.1 Sport Gym Running...</td>\n",
       "      <td>PowerLead</td>\n",
       "      <td>Premuim high quality CSR chip allows this head...</td>\n",
       "      <td>Product fetures: It's a high end smart sports ...</td>\n",
       "      <td>56.87</td>\n",
       "      <td>40.54</td>\n",
       "      <td>8.504857</td>\n",
       "      <td>7</td>\n",
       "      <td>8379</td>\n",
       "      <td>0</td>\n",
       "      <td>1</td>\n",
       "      <td>0</td>\n",
       "      <td>11</td>\n",
       "      <td>4.5</td>\n",
       "    </tr>\n",
       "    <tr>\n",
       "      <th>4</th>\n",
       "      <td>B01AHYVC8M</td>\n",
       "      <td>Car MP3 Player Transmissor FM sem fio Dual USB...</td>\n",
       "      <td>Love Lover</td>\n",
       "      <td>Can charge mobile phones, never worry about po...</td>\n",
       "      <td>Product description: - Can charge mobile phone...</td>\n",
       "      <td>0.00</td>\n",
       "      <td>0.00</td>\n",
       "      <td>NaN</td>\n",
       "      <td>5</td>\n",
       "      <td>8473</td>\n",
       "      <td>0</td>\n",
       "      <td>1</td>\n",
       "      <td>1</td>\n",
       "      <td>0</td>\n",
       "      <td>0.0</td>\n",
       "    </tr>\n",
       "  </tbody>\n",
       "</table>\n",
       "</div>"
      ],
      "text/plain": [
       "   product_id                                       product_name  \\\n",
       "0  B012N7X65S  Trendwoo Runner X9 Bluetooth 4.0 Wireless Ster...   \n",
       "1  B016OADE1Q  Bluetooth 4.1 Headphones,LADEY Wireless Blueto...   \n",
       "2  B005IYDFVO      Clarity CE50 HearIt Mobile Bluetooth Neckloop   \n",
       "3  B017RDCZ1Y  PowerLead S200 Bluetooth 4.1 Sport Gym Running...   \n",
       "4  B01AHYVC8M  Car MP3 Player Transmissor FM sem fio Dual USB...   \n",
       "\n",
       "  product_brand                                     product_detail  \\\n",
       "0      Trendwoo  Enter your model number above to make sure thi...   \n",
       "1         LADEY  Bluetooth 4.1,support volume control,it also c...   \n",
       "2       Clarity  Clarity CE50 Purchase Includes:CE50 hand-free ...   \n",
       "3     PowerLead  Premuim high quality CSR chip allows this head...   \n",
       "4    Love Lover  Can charge mobile phones, never worry about po...   \n",
       "\n",
       "                                 product_description  product_price  \\\n",
       "0  Features: Specifications: Model: Runner X9 Blu...          39.99   \n",
       "1  Sweatproof design,best choice when you do spor...          44.29   \n",
       "2  Wireless, hands-free communication for Bluetoo...           0.00   \n",
       "3  Product fetures: It's a high end smart sports ...          56.87   \n",
       "4  Product description: - Can charge mobile phone...           0.00   \n",
       "\n",
       "   product_sale      weight  photo_num  best_seller_rank  water_proof  \\\n",
       "0          0.00   82.213617          7              2318            1   \n",
       "1         14.26  861.825503          7              9289            1   \n",
       "2          0.00  340.194277          1             10653            0   \n",
       "3         40.54    8.504857          7              8379            0   \n",
       "4          0.00         NaN          5              8473            0   \n",
       "\n",
       "   noise_cancel  micro_phone  review_num  review_rate  \n",
       "0             0            0         228          3.7  \n",
       "1             1            0           0          0.0  \n",
       "2             0            1           6          3.0  \n",
       "3             1            0          11          4.5  \n",
       "4             1            1           0          0.0  "
      ]
     },
     "execution_count": 5,
     "metadata": {},
     "output_type": "execute_result"
    }
   ],
   "source": [
    "products.head()"
   ]
  },
  {
   "cell_type": "code",
   "execution_count": 6,
   "metadata": {
    "collapsed": false
   },
   "outputs": [
    {
     "data": {
      "text/html": [
       "<div>\n",
       "<table border=\"1\" class=\"dataframe\">\n",
       "  <thead>\n",
       "    <tr style=\"text-align: right;\">\n",
       "      <th></th>\n",
       "      <th>id</th>\n",
       "      <th>pid</th>\n",
       "      <th>author</th>\n",
       "      <th>rate</th>\n",
       "      <th>title</th>\n",
       "      <th>content</th>\n",
       "      <th>date</th>\n",
       "      <th>verified</th>\n",
       "      <th>color</th>\n",
       "      <th>vote</th>\n",
       "    </tr>\n",
       "  </thead>\n",
       "  <tbody>\n",
       "    <tr>\n",
       "      <th>0</th>\n",
       "      <td>R2FVGLARZJG07Z</td>\n",
       "      <td>B012N7X65S</td>\n",
       "      <td>Amazon Customer</td>\n",
       "      <td>1</td>\n",
       "      <td>Would not buy again</td>\n",
       "      <td>These worked great for about 2 days. Then they...</td>\n",
       "      <td>2016-4-17</td>\n",
       "      <td>1</td>\n",
       "      <td>Blue</td>\n",
       "      <td>0</td>\n",
       "    </tr>\n",
       "    <tr>\n",
       "      <th>1</th>\n",
       "      <td>R3REA8NAIKAM81</td>\n",
       "      <td>B012N7X65S</td>\n",
       "      <td>Kevin S</td>\n",
       "      <td>1</td>\n",
       "      <td>Overheated While Charging</td>\n",
       "      <td>A couple months after using only a few times, ...</td>\n",
       "      <td>2016-4-10</td>\n",
       "      <td>1</td>\n",
       "      <td>Blue</td>\n",
       "      <td>1</td>\n",
       "    </tr>\n",
       "    <tr>\n",
       "      <th>2</th>\n",
       "      <td>R3GEDQ48VESB50</td>\n",
       "      <td>B012N7X65S</td>\n",
       "      <td>romancereader243</td>\n",
       "      <td>5</td>\n",
       "      <td>Five Stars</td>\n",
       "      <td>Very easy to handle</td>\n",
       "      <td>2016-4-10</td>\n",
       "      <td>1</td>\n",
       "      <td>Blue</td>\n",
       "      <td>0</td>\n",
       "    </tr>\n",
       "    <tr>\n",
       "      <th>3</th>\n",
       "      <td>R2ZL7XB9BDB5SP</td>\n",
       "      <td>B012N7X65S</td>\n",
       "      <td>Harry Schwartz</td>\n",
       "      <td>3</td>\n",
       "      <td>good for price</td>\n",
       "      <td>For the price they are alright. They have a pi...</td>\n",
       "      <td>2016-4-9</td>\n",
       "      <td>1</td>\n",
       "      <td>Blue</td>\n",
       "      <td>0</td>\n",
       "    </tr>\n",
       "    <tr>\n",
       "      <th>4</th>\n",
       "      <td>R1PXUFQXRVS5EB</td>\n",
       "      <td>B012N7X65S</td>\n",
       "      <td>MajorTom007</td>\n",
       "      <td>1</td>\n",
       "      <td>Never buy Trendwoo.  Never Buy from TopBrandBo...</td>\n",
       "      <td>After light use only 3-4 hours a week, the hea...</td>\n",
       "      <td>2016-3-31</td>\n",
       "      <td>1</td>\n",
       "      <td>Red</td>\n",
       "      <td>0</td>\n",
       "    </tr>\n",
       "  </tbody>\n",
       "</table>\n",
       "</div>"
      ],
      "text/plain": [
       "               id         pid            author  rate  \\\n",
       "0  R2FVGLARZJG07Z  B012N7X65S   Amazon Customer     1   \n",
       "1  R3REA8NAIKAM81  B012N7X65S           Kevin S     1   \n",
       "2  R3GEDQ48VESB50  B012N7X65S  romancereader243     5   \n",
       "3  R2ZL7XB9BDB5SP  B012N7X65S    Harry Schwartz     3   \n",
       "4  R1PXUFQXRVS5EB  B012N7X65S       MajorTom007     1   \n",
       "\n",
       "                                               title  \\\n",
       "0                                Would not buy again   \n",
       "1                          Overheated While Charging   \n",
       "2                                         Five Stars   \n",
       "3                                     good for price   \n",
       "4  Never buy Trendwoo.  Never Buy from TopBrandBo...   \n",
       "\n",
       "                                             content       date  verified  \\\n",
       "0  These worked great for about 2 days. Then they...  2016-4-17         1   \n",
       "1  A couple months after using only a few times, ...  2016-4-10         1   \n",
       "2                                Very easy to handle  2016-4-10         1   \n",
       "3  For the price they are alright. They have a pi...   2016-4-9         1   \n",
       "4  After light use only 3-4 hours a week, the hea...  2016-3-31         1   \n",
       "\n",
       "  color  vote  \n",
       "0  Blue     0  \n",
       "1  Blue     1  \n",
       "2  Blue     0  \n",
       "3  Blue     0  \n",
       "4   Red     0  "
      ]
     },
     "execution_count": 6,
     "metadata": {},
     "output_type": "execute_result"
    }
   ],
   "source": [
    "reviews.head()"
   ]
  },
  {
   "cell_type": "markdown",
   "metadata": {
    "collapsed": false
   },
   "source": [
    "#Summary"
   ]
  },
  {
   "cell_type": "code",
   "execution_count": 76,
   "metadata": {
    "collapsed": false
   },
   "outputs": [],
   "source": [
    "# Change matplotlob parameter\n",
    "# import matplotlib as plt\n",
    "# plt.rcParams['font.size']=12\n",
    "# plt.rcParams['savefig.dpi'] = 120\n",
    "# plt.rcParams['figure.figsize']=(8.0,6.0)"
   ]
  },
  {
   "cell_type": "markdown",
   "metadata": {},
   "source": [
    "#### 由於有些商品沒有特價只有原價，或有些商品沒有原價只有特價，就會分別遺失 product_sale 和 product_price 的 feature，因此我們要把遺失的資料補齊。"
   ]
  },
  {
   "cell_type": "code",
   "execution_count": 67,
   "metadata": {
    "collapsed": false
   },
   "outputs": [],
   "source": [
    "def cleanPrice(row):\n",
    "    if row[\"product_price\"] * row[\"product_sale\"] == 0:\n",
    "        row[\"product_price\"], row[\"product_sale\"] = max(row[\"product_price\"],row[\"product_sale\"]), max(row[\"product_price\"],row[\"product_sale\"])\n",
    "    return row\n",
    "products = products.apply(cleanPrice, axis=1)"
   ]
  },
  {
   "cell_type": "markdown",
   "metadata": {},
   "source": [
    "#### 重新檢查資料，剛剛 product_price 或是 product_sale 只有其中一個 feature 為 0 的商品應該都已經不是 0 了。如果有這種情況的商品我們就把他去掉。"
   ]
  },
  {
   "cell_type": "code",
   "execution_count": 71,
   "metadata": {
    "collapsed": true
   },
   "outputs": [],
   "source": [
    "products = products[products[\"product_price\"] > 0]"
   ]
  },
  {
   "cell_type": "markdown",
   "metadata": {},
   "source": [
    "####於是我們便成功得到了以下參數的總數、平均值、標準差、最大最小值與中位數。\n",
    "* 商品原價 (product_price) \n",
    "* 商品售價 (product_sale) \n",
    "* 評價數量 (review_num) \n",
    "* 評價分數 (review_rate) "
   ]
  },
  {
   "cell_type": "code",
   "execution_count": 225,
   "metadata": {
    "collapsed": false
   },
   "outputs": [
    {
     "data": {
      "text/html": [
       "<div>\n",
       "<table border=\"1\" class=\"dataframe\">\n",
       "  <thead>\n",
       "    <tr style=\"text-align: right;\">\n",
       "      <th></th>\n",
       "      <th>count</th>\n",
       "      <th>mean</th>\n",
       "      <th>std</th>\n",
       "      <th>min</th>\n",
       "      <th>25%</th>\n",
       "      <th>50%</th>\n",
       "      <th>75%</th>\n",
       "      <th>max</th>\n",
       "    </tr>\n",
       "  </thead>\n",
       "  <tbody>\n",
       "    <tr>\n",
       "      <th>product_price</th>\n",
       "      <td>9381</td>\n",
       "      <td>52.506090</td>\n",
       "      <td>48.401865</td>\n",
       "      <td>0.25</td>\n",
       "      <td>19.990000</td>\n",
       "      <td>39.990000</td>\n",
       "      <td>69.990000</td>\n",
       "      <td>699.990000</td>\n",
       "    </tr>\n",
       "    <tr>\n",
       "      <th>product_sale</th>\n",
       "      <td>9381</td>\n",
       "      <td>39.826375</td>\n",
       "      <td>45.287716</td>\n",
       "      <td>0.25</td>\n",
       "      <td>15.990000</td>\n",
       "      <td>24.990000</td>\n",
       "      <td>49.560000</td>\n",
       "      <td>699.990000</td>\n",
       "    </tr>\n",
       "    <tr>\n",
       "      <th>review_num</th>\n",
       "      <td>9381</td>\n",
       "      <td>55.727428</td>\n",
       "      <td>120.648443</td>\n",
       "      <td>0.00</td>\n",
       "      <td>1.000000</td>\n",
       "      <td>10.000000</td>\n",
       "      <td>47.000000</td>\n",
       "      <td>975.000000</td>\n",
       "    </tr>\n",
       "    <tr>\n",
       "      <th>review_rate</th>\n",
       "      <td>9381</td>\n",
       "      <td>3.084415</td>\n",
       "      <td>1.651814</td>\n",
       "      <td>0.00</td>\n",
       "      <td>2.700000</td>\n",
       "      <td>3.600000</td>\n",
       "      <td>4.200000</td>\n",
       "      <td>5.000000</td>\n",
       "    </tr>\n",
       "    <tr>\n",
       "      <th>review_sumrate</th>\n",
       "      <td>9381</td>\n",
       "      <td>3.733361</td>\n",
       "      <td>8.069139</td>\n",
       "      <td>0.00</td>\n",
       "      <td>0.089722</td>\n",
       "      <td>0.690863</td>\n",
       "      <td>3.163613</td>\n",
       "      <td>73.380383</td>\n",
       "    </tr>\n",
       "  </tbody>\n",
       "</table>\n",
       "</div>"
      ],
      "text/plain": [
       "                count       mean         std   min        25%        50%  \\\n",
       "product_price    9381  52.506090   48.401865  0.25  19.990000  39.990000   \n",
       "product_sale     9381  39.826375   45.287716  0.25  15.990000  24.990000   \n",
       "review_num       9381  55.727428  120.648443  0.00   1.000000  10.000000   \n",
       "review_rate      9381   3.084415    1.651814  0.00   2.700000   3.600000   \n",
       "review_sumrate   9381   3.733361    8.069139  0.00   0.089722   0.690863   \n",
       "\n",
       "                      75%         max  \n",
       "product_price   69.990000  699.990000  \n",
       "product_sale    49.560000  699.990000  \n",
       "review_num      47.000000  975.000000  \n",
       "review_rate      4.200000    5.000000  \n",
       "review_sumrate   3.163613   73.380383  "
      ]
     },
     "execution_count": 225,
     "metadata": {},
     "output_type": "execute_result"
    }
   ],
   "source": [
    "products[\"review_sumrate\"] = products[\"review_num\"] * products[\"review_rate\"] / products[\"review_num\"].mean()\n",
    "products[[\"product_price\",\"product_sale\",\"review_num\",\"review_rate\",\"review_sumrate\"]].describe().transpose()"
   ]
  },
  {
   "cell_type": "markdown",
   "metadata": {},
   "source": [
    "###價錢：\n",
    "我們可以從以上的結果得知藍牙耳機的總數有 9381 隻，商品原價平均為 \\$52.5，商品實售價平均為 \\$39.8，折扣佔了原價的 24%。商品售價低於 $50 的藍芽耳機佔了總數的 80% 左右，意即藍芽耳機是一個低價競爭的市場。\n",
    "###評論：\n",
    "每個商品平均會有55個評論，但是平均分數並不是3.08分，因為這裏的review_rate是已經每個商品所有評論的平均分數，所以要將它與review_num相乘之後再除以評論平均數才能取得真正的平均值。計算出來的結果高達3.7分，所以如果一副藍牙耳機的平均評分小於這個分數，或許就能推測它的品質是有問題的。"
   ]
  },
  {
   "cell_type": "code",
   "execution_count": 102,
   "metadata": {
    "collapsed": false
   },
   "outputs": [
    {
     "data": {
      "text/plain": [
       "<matplotlib.axes._subplots.AxesSubplot at 0x11ab68250>"
      ]
     },
     "execution_count": 102,
     "metadata": {},
     "output_type": "execute_result"
    },
    {
     "data": {
      "image/png": "[encoded data removed]",
      "text/plain": [
       "<matplotlib.figure.Figure at 0x14655ce10>"
      ]
     },
     "metadata": {},
     "output_type": "display_data"
    }
   ],
   "source": [
    "sns.distplot(products.product_sale, kde=False, bins=20, color=\"b\")"
   ]
  },
  {
   "cell_type": "code",
   "execution_count": null,
   "metadata": {
    "collapsed": true
   },
   "outputs": [],
   "source": [
    "商品趨勢\n",
    "#分析價格、重量（要再處理outlier）、防水功能9.2%、noise cancel 27%、mic 36%"
   ]
  },
  {
   "cell_type": "code",
   "execution_count": 297,
   "metadata": {
    "collapsed": false
   },
   "outputs": [
    {
     "data": {
      "text/plain": [
       "[(1, 5)]"
      ]
     },
     "execution_count": 297,
     "metadata": {},
     "output_type": "execute_result"
    },
    {
     "data": {
      "image/png": "[encoded data removed]",
      "text/plain": [
       "<matplotlib.figure.Figure at 0x1f5a71610>"
      ]
     },
     "metadata": {},
     "output_type": "display_data"
    }
   ],
   "source": [
    "rr = sns.distplot(products.review_rate, kde=False, bins=30, color=\"b\")\n",
    "rr.set(xlim=(1,5))"
   ]
  },
  {
   "cell_type": "markdown",
   "metadata": {},
   "source": [
    "###商品敘述寫的越多，會讓商品得到比較高的評價嗎？"
   ]
  },
  {
   "cell_type": "code",
   "execution_count": null,
   "metadata": {
    "collapsed": false
   },
   "outputs": [],
   "source": [
    "products = "
   ]
  },
  {
   "cell_type": "markdown",
   "metadata": {
    "collapsed": false
   },
   "source": [
    "接下來我們來研究評論"
   ]
  },
  {
   "cell_type": "markdown",
   "metadata": {
    "collapsed": true
   },
   "source": [
    "將所有藍牙耳機的評論分數 1-5 分加總"
   ]
  },
  {
   "cell_type": "code",
   "execution_count": 239,
   "metadata": {
    "collapsed": false
   },
   "outputs": [
    {
     "data": {
      "text/plain": [
       "<matplotlib.axes._subplots.AxesSubplot at 0x13740af10>"
      ]
     },
     "execution_count": 239,
     "metadata": {},
     "output_type": "execute_result"
    },
    {
     "data": {
      "image/png": "[encoded data removed]",
      "text/plain": [
       "<matplotlib.figure.Figure at 0x1376050d0>"
      ]
     },
     "metadata": {},
     "output_type": "display_data"
    }
   ],
   "source": [
    "sns.countplot(reviews.rate, color=\"orange\")"
   ]
  },
  {
   "cell_type": "markdown",
   "metadata": {
    "collapsed": false
   },
   "source": [
    "由上圖可知超過半數的評論給了商品5星的評價，接下來則是4星和1星，只有極少數給予2星和3星。\n",
    "\n",
    "###評論與時間的關係又是如何呢？"
   ]
  },
  {
   "cell_type": "code",
   "execution_count": null,
   "metadata": {
    "collapsed": false
   },
   "outputs": [],
   "source": [
    "reviews['date'] = reviews['date'].apply(lambda x: datetime.datetime.strptime(x, \"%Y-%m-%d\"))\n",
    "ts = reviews[[\"date\",\"rate\"]]\n",
    "ts[\"year-month\"] = ts.loc[:,\"date\"].apply(lambda x: x.strftime(\"%Y-%m\"))\n",
    "ts[\"month\"] = ts.loc[:,\"date\"].apply(lambda x: x.month)\n",
    "ts[\"weekday\"] = ts.loc[:,\"date\"].apply(lambda x: x.strftime(\"%A\"))"
   ]
  },
  {
   "cell_type": "code",
   "execution_count": 228,
   "metadata": {
    "collapsed": false
   },
   "outputs": [
    {
     "data": {
      "text/plain": [
       "<matplotlib.axes._subplots.AxesSubplot at 0x1564a1210>"
      ]
     },
     "execution_count": 228,
     "metadata": {},
     "output_type": "execute_result"
    },
    {
     "data": {
      "image/png": "[encoded data removed]",
      "text/plain": [
       "<matplotlib.figure.Figure at 0x156497bd0>"
      ]
     },
     "metadata": {},
     "output_type": "display_data"
    }
   ],
   "source": [
    "ts[[\"year-month\",\"rate\"]].groupby(\"year-month\").mean().plot()"
   ]
  },
  {
   "cell_type": "markdown",
   "metadata": {},
   "source": [
    "由上圖可知2000-2004評價分數的震盪幅度很大，推測是由於藍牙耳機商品數量不多，因此評論的樣本數不夠大所造成的。近幾年的評價有越來越高的趨勢，代表販賣耳機的商家越來越能抓住消費者的胃口。"
   ]
  },
  {
   "cell_type": "code",
   "execution_count": 215,
   "metadata": {
    "collapsed": false
   },
   "outputs": [
    {
     "data": {
      "text/plain": [
       "<matplotlib.axes._subplots.AxesSubplot at 0x172ca8fd0>"
      ]
     },
     "execution_count": 215,
     "metadata": {},
     "output_type": "execute_result"
    },
    {
     "data": {
      "image/png": "[encoded data removed]",
      "text/plain": [
       "<matplotlib.figure.Figure at 0x172cb51d0>"
      ]
     },
     "metadata": {},
     "output_type": "display_data"
    }
   ],
   "source": [
    "ts[[\"month\",\"rate\"]].groupby(\"month\").mean().plot()"
   ]
  },
  {
   "cell_type": "markdown",
   "metadata": {},
   "source": [
    "由上圖可知，藍牙耳機在冬天的銷售比較好"
   ]
  },
  {
   "cell_type": "code",
   "execution_count": 216,
   "metadata": {
    "collapsed": false
   },
   "outputs": [
    {
     "data": {
      "text/plain": [
       "<matplotlib.axes._subplots.AxesSubplot at 0x1570aa450>"
      ]
     },
     "execution_count": 216,
     "metadata": {},
     "output_type": "execute_result"
    },
    {
     "data": {
      "image/png": "[encoded data removed]",
      "text/plain": [
       "<matplotlib.figure.Figure at 0x1567c9590>"
      ]
     },
     "metadata": {},
     "output_type": "display_data"
    }
   ],
   "source": [
    "ts[[\"weekday\",\"rate\"]].groupby(\"weekday\").mean().plot()"
   ]
  },
  {
   "cell_type": "markdown",
   "metadata": {},
   "source": [
    "由上圖可知，只有星期六的評論是最少的，其他都差不多"
   ]
  },
  {
   "cell_type": "markdown",
   "metadata": {},
   "source": [
    "Helpfulness"
   ]
  },
  {
   "cell_type": "code",
   "execution_count": null,
   "metadata": {
    "collapsed": false
   },
   "outputs": [],
   "source": []
  },
  {
   "cell_type": "code",
   "execution_count": 365,
   "metadata": {
    "collapsed": false
   },
   "outputs": [
    {
     "data": {
      "text/plain": [
       "[(0, 250)]"
      ]
     },
     "execution_count": 365,
     "metadata": {},
     "output_type": "execute_result"
    },
    {
     "data": {
      "image/png": "[encoded data removed]",
      "text/plain": [
       "<matplotlib.figure.Figure at 0x158d971d0>"
      ]
     },
     "metadata": {},
     "output_type": "display_data"
    }
   ],
   "source": [
    "vs = sns.distplot(reviews.groupby(\"vote\").size(), kde=False, bins=8000)\n",
    "vs.set(xlim=(0, 250))"
   ]
  },
  {
   "cell_type": "code",
   "execution_count": 290,
   "metadata": {
    "collapsed": false
   },
   "outputs": [
    {
     "data": {
      "text/plain": [
       "[(0, 1000)]"
      ]
     },
     "execution_count": 290,
     "metadata": {},
     "output_type": "execute_result"
    },
    {
     "data": {
      "image/png": "[encoded data removed]",
      "text/plain": [
       "<matplotlib.figure.Figure at 0x1f9f91410>"
      ]
     },
     "metadata": {},
     "output_type": "display_data"
    }
   ],
   "source": [
    "def countLength(content):\n",
    "    return len(str(content))\n",
    "cl = sns.distplot(reviews[\"content\"].apply(lambda x: len(str(x))), kde=False, bins=500)\n",
    "cl.set(xlim=(0, 1000))"
   ]
  },
  {
   "cell_type": "markdown",
   "metadata": {},
   "source": [
    "##相關性分析"
   ]
  },
  {
   "cell_type": "markdown",
   "metadata": {},
   "source": [
    "價錢 vs 評價"
   ]
  },
  {
   "cell_type": "code",
   "execution_count": 311,
   "metadata": {
    "collapsed": false
   },
   "outputs": [
    {
     "data": {
      "text/plain": [
       "<matplotlib.axes._subplots.AxesSubplot at 0x1fb767e90>"
      ]
     },
     "execution_count": 311,
     "metadata": {},
     "output_type": "execute_result"
    },
    {
     "data": {
      "image/png": "[encoded data removed]",
      "text/plain": [
       "<matplotlib.figure.Figure at 0x140700490>"
      ]
     },
     "metadata": {},
     "output_type": "display_data"
    }
   ],
   "source": [
    "sns.stripplot(x=\"review_rate\", y=\"product_price\", data=products[products[\"review_rate\"]>0], color=\"b\", jitter=0.1, linewidth=1)"
   ]
  },
  {
   "cell_type": "code",
   "execution_count": 310,
   "metadata": {
    "collapsed": false
   },
   "outputs": [
    {
     "data": {
      "text/plain": [
       "<matplotlib.axes._subplots.AxesSubplot at 0x15a469650>"
      ]
     },
     "execution_count": 310,
     "metadata": {},
     "output_type": "execute_result"
    },
    {
     "data": {
      "image/png": "[encoded data removed]",
      "text/plain": [
       "<matplotlib.figure.Figure at 0x16019aad0>"
      ]
     },
     "metadata": {},
     "output_type": "display_data"
    }
   ],
   "source": [
    "products[products[\"review_rate\"]>0].plot(kind='scatter', x='review_rate', y='product_price')"
   ]
  },
  {
   "cell_type": "code",
   "execution_count": 372,
   "metadata": {
    "collapsed": false
   },
   "outputs": [
    {
     "data": {
      "text/html": [
       "<div>\n",
       "<table border=\"1\" class=\"dataframe\">\n",
       "  <thead>\n",
       "    <tr style=\"text-align: right;\">\n",
       "      <th></th>\n",
       "      <th>review_rate</th>\n",
       "      <th>product_sale</th>\n",
       "    </tr>\n",
       "  </thead>\n",
       "  <tbody>\n",
       "    <tr>\n",
       "      <th>review_rate</th>\n",
       "      <td>1.000000</td>\n",
       "      <td>0.047848</td>\n",
       "    </tr>\n",
       "    <tr>\n",
       "      <th>product_sale</th>\n",
       "      <td>0.047848</td>\n",
       "      <td>1.000000</td>\n",
       "    </tr>\n",
       "  </tbody>\n",
       "</table>\n",
       "</div>"
      ],
      "text/plain": [
       "              review_rate  product_sale\n",
       "review_rate      1.000000      0.047848\n",
       "product_sale     0.047848      1.000000"
      ]
     },
     "execution_count": 372,
     "metadata": {},
     "output_type": "execute_result"
    }
   ],
   "source": [
    "products[[\"review_rate\",\"product_sale\"]].corr()"
   ]
  },
  {
   "cell_type": "code",
   "execution_count": 370,
   "metadata": {
    "collapsed": false
   },
   "outputs": [
    {
     "data": {
      "text/html": [
       "<div>\n",
       "<table border=\"1\" class=\"dataframe\">\n",
       "  <thead>\n",
       "    <tr style=\"text-align: right;\">\n",
       "      <th></th>\n",
       "      <th>review_rate</th>\n",
       "      <th>detail_length</th>\n",
       "    </tr>\n",
       "  </thead>\n",
       "  <tbody>\n",
       "    <tr>\n",
       "      <th>review_rate</th>\n",
       "      <td>1.000000</td>\n",
       "      <td>0.148529</td>\n",
       "    </tr>\n",
       "    <tr>\n",
       "      <th>detail_length</th>\n",
       "      <td>0.148529</td>\n",
       "      <td>1.000000</td>\n",
       "    </tr>\n",
       "  </tbody>\n",
       "</table>\n",
       "</div>"
      ],
      "text/plain": [
       "               review_rate  detail_length\n",
       "review_rate       1.000000       0.148529\n",
       "detail_length     0.148529       1.000000"
      ]
     },
     "execution_count": 370,
     "metadata": {},
     "output_type": "execute_result"
    }
   ],
   "source": [
    "products[\"detail_length\"] = products[\"product_detail\"].apply(lambda x: len(str(x)))\n",
    "products[[\"review_rate\",\"detail_length\"]].corr()"
   ]
  },
  {
   "cell_type": "code",
   "execution_count": 371,
   "metadata": {
    "collapsed": false
   },
   "outputs": [
    {
     "data": {
      "text/html": [
       "<div>\n",
       "<table border=\"1\" class=\"dataframe\">\n",
       "  <thead>\n",
       "    <tr style=\"text-align: right;\">\n",
       "      <th></th>\n",
       "      <th>product_price</th>\n",
       "      <th>detail_length</th>\n",
       "    </tr>\n",
       "  </thead>\n",
       "  <tbody>\n",
       "    <tr>\n",
       "      <th>product_price</th>\n",
       "      <td>1.000000</td>\n",
       "      <td>0.132516</td>\n",
       "    </tr>\n",
       "    <tr>\n",
       "      <th>detail_length</th>\n",
       "      <td>0.132516</td>\n",
       "      <td>1.000000</td>\n",
       "    </tr>\n",
       "  </tbody>\n",
       "</table>\n",
       "</div>"
      ],
      "text/plain": [
       "               product_price  detail_length\n",
       "product_price       1.000000       0.132516\n",
       "detail_length       0.132516       1.000000"
      ]
     },
     "execution_count": 371,
     "metadata": {},
     "output_type": "execute_result"
    }
   ],
   "source": [
    "products[[\"product_price\",\"detail_length\"]].corr()"
   ]
  },
  {
   "cell_type": "code",
   "execution_count": 313,
   "metadata": {
    "collapsed": true
   },
   "outputs": [],
   "source": [
    "reviews[\"content_length\"] = reviews[\"content\"].apply(lambda x: len(str(x)))\n",
    "rgpid_mean = reviews.groupby(\"product_id\").mean().reset_index()\n",
    "merget_df = pd.merge(products, rgpid_mean, on='product_id', how='inner')"
   ]
  },
  {
   "cell_type": "code",
   "execution_count": 360,
   "metadata": {
    "collapsed": false
   },
   "outputs": [
    {
     "data": {
      "text/html": [
       "<div>\n",
       "<table border=\"1\" class=\"dataframe\">\n",
       "  <thead>\n",
       "    <tr style=\"text-align: right;\">\n",
       "      <th></th>\n",
       "      <th>product_sale</th>\n",
       "      <th>content_length</th>\n",
       "    </tr>\n",
       "  </thead>\n",
       "  <tbody>\n",
       "    <tr>\n",
       "      <th>product_sale</th>\n",
       "      <td>1.000000</td>\n",
       "      <td>0.134629</td>\n",
       "    </tr>\n",
       "    <tr>\n",
       "      <th>content_length</th>\n",
       "      <td>0.134629</td>\n",
       "      <td>1.000000</td>\n",
       "    </tr>\n",
       "  </tbody>\n",
       "</table>\n",
       "</div>"
      ],
      "text/plain": [
       "                product_sale  content_length\n",
       "product_sale        1.000000        0.134629\n",
       "content_length      0.134629        1.000000"
      ]
     },
     "execution_count": 360,
     "metadata": {},
     "output_type": "execute_result"
    }
   ],
   "source": [
    "merget_df[[\"product_sale\",\"content_length\"]].corr()"
   ]
  },
  {
   "cell_type": "code",
   "execution_count": 361,
   "metadata": {
    "collapsed": false
   },
   "outputs": [
    {
     "data": {
      "text/html": [
       "<div>\n",
       "<table border=\"1\" class=\"dataframe\">\n",
       "  <thead>\n",
       "    <tr style=\"text-align: right;\">\n",
       "      <th></th>\n",
       "      <th>product_sale</th>\n",
       "      <th>vote</th>\n",
       "    </tr>\n",
       "  </thead>\n",
       "  <tbody>\n",
       "    <tr>\n",
       "      <th>product_sale</th>\n",
       "      <td>1.000000</td>\n",
       "      <td>0.156571</td>\n",
       "    </tr>\n",
       "    <tr>\n",
       "      <th>vote</th>\n",
       "      <td>0.156571</td>\n",
       "      <td>1.000000</td>\n",
       "    </tr>\n",
       "  </tbody>\n",
       "</table>\n",
       "</div>"
      ],
      "text/plain": [
       "              product_sale      vote\n",
       "product_sale      1.000000  0.156571\n",
       "vote              0.156571  1.000000"
      ]
     },
     "execution_count": 361,
     "metadata": {},
     "output_type": "execute_result"
    }
   ],
   "source": [
    "merget_df[[\"product_sale\",\"vote\"]].corr()"
   ]
  },
  {
   "cell_type": "code",
   "execution_count": null,
   "metadata": {
    "collapsed": false
   },
   "outputs": [],
   "source": [
    "authors = reviews.groupby(\"author\").agg(['mean', 'count']).reset_index()"
   ]
  },
  {
   "cell_type": "code",
   "execution_count": 392,
   "metadata": {
    "collapsed": false
   },
   "outputs": [
    {
     "data": {
      "text/html": [
       "<div>\n",
       "<table border=\"1\" class=\"dataframe\">\n",
       "  <thead>\n",
       "    <tr>\n",
       "      <th></th>\n",
       "      <th></th>\n",
       "      <th colspan=\"2\" halign=\"left\">rate</th>\n",
       "    </tr>\n",
       "    <tr>\n",
       "      <th></th>\n",
       "      <th></th>\n",
       "      <th>count</th>\n",
       "      <th>mean</th>\n",
       "    </tr>\n",
       "  </thead>\n",
       "  <tbody>\n",
       "    <tr>\n",
       "      <th rowspan=\"2\" valign=\"top\">rate</th>\n",
       "      <th>count</th>\n",
       "      <td>1.000000</td>\n",
       "      <td>-0.000391</td>\n",
       "    </tr>\n",
       "    <tr>\n",
       "      <th>mean</th>\n",
       "      <td>-0.000391</td>\n",
       "      <td>1.000000</td>\n",
       "    </tr>\n",
       "  </tbody>\n",
       "</table>\n",
       "</div>"
      ],
      "text/plain": [
       "                rate          \n",
       "               count      mean\n",
       "rate count  1.000000 -0.000391\n",
       "     mean  -0.000391  1.000000"
      ]
     },
     "execution_count": 392,
     "metadata": {},
     "output_type": "execute_result"
    }
   ],
   "source": [
    "# authors.sort([('rate','count')],  ascending=False)\n",
    "authors[authors[('rate','count')]>5][[('rate','count'),('rate','mean')]].corr()"
   ]
  },
  {
   "cell_type": "code",
   "execution_count": 396,
   "metadata": {
    "collapsed": false
   },
   "outputs": [
    {
     "data": {
      "text/html": [
       "<div>\n",
       "<table border=\"1\" class=\"dataframe\">\n",
       "  <thead>\n",
       "    <tr style=\"text-align: right;\">\n",
       "      <th></th>\n",
       "      <th>verified</th>\n",
       "      <th>rate</th>\n",
       "    </tr>\n",
       "  </thead>\n",
       "  <tbody>\n",
       "    <tr>\n",
       "      <th>verified</th>\n",
       "      <td>1.000000</td>\n",
       "      <td>-0.194611</td>\n",
       "    </tr>\n",
       "    <tr>\n",
       "      <th>rate</th>\n",
       "      <td>-0.194611</td>\n",
       "      <td>1.000000</td>\n",
       "    </tr>\n",
       "  </tbody>\n",
       "</table>\n",
       "</div>"
      ],
      "text/plain": [
       "          verified      rate\n",
       "verified  1.000000 -0.194611\n",
       "rate     -0.194611  1.000000"
      ]
     },
     "execution_count": 396,
     "metadata": {},
     "output_type": "execute_result"
    }
   ],
   "source": [
    "reviews[[\"verified\",\"rate\"]].corr()"
   ]
  },
  {
   "cell_type": "markdown",
   "metadata": {},
   "source": [
    "#Text"
   ]
  },
  {
   "cell_type": "code",
   "execution_count": 241,
   "metadata": {
    "collapsed": false
   },
   "outputs": [],
   "source": [
    "from sklearn.feature_extraction.text import CountVectorizer\n",
    "count = CountVectorizer()"
   ]
  },
  {
   "cell_type": "code",
   "execution_count": 242,
   "metadata": {
    "collapsed": false
   },
   "outputs": [],
   "source": [
    "name_np = my_data[\"product_name\"].values\n",
    "name_bag = count.fit_transform(name_np)"
   ]
  },
  {
   "cell_type": "code",
   "execution_count": 221,
   "metadata": {
    "collapsed": false
   },
   "outputs": [
    {
     "ename": "NameError",
     "evalue": "name 'count' is not defined",
     "output_type": "error",
     "traceback": [
      "\u001b[0;31m---------------------------------------------------------------------------\u001b[0m",
      "\u001b[0;31mNameError\u001b[0m                                 Traceback (most recent call last)",
      "\u001b[0;32m<ipython-input-221-cd2f88e4e0d4>\u001b[0m in \u001b[0;36m<module>\u001b[0;34m()\u001b[0m\n\u001b[0;32m----> 1\u001b[0;31m \u001b[0;32mprint\u001b[0m\u001b[0;34m(\u001b[0m\u001b[0mcount\u001b[0m\u001b[0;34m.\u001b[0m\u001b[0mvocabulary_\u001b[0m\u001b[0;34m)\u001b[0m\u001b[0;34m\u001b[0m\u001b[0m\n\u001b[0m\u001b[1;32m      2\u001b[0m \u001b[0msorted_x\u001b[0m \u001b[0;34m=\u001b[0m \u001b[0msorted\u001b[0m\u001b[0;34m(\u001b[0m\u001b[0mcount\u001b[0m\u001b[0;34m.\u001b[0m\u001b[0mvocabulary_\u001b[0m\u001b[0;34m.\u001b[0m\u001b[0mitems\u001b[0m\u001b[0;34m(\u001b[0m\u001b[0;34m)\u001b[0m\u001b[0;34m,\u001b[0m \u001b[0mkey\u001b[0m\u001b[0;34m=\u001b[0m\u001b[0moperator\u001b[0m\u001b[0;34m.\u001b[0m\u001b[0mitemgetter\u001b[0m\u001b[0;34m(\u001b[0m\u001b[0;36m1\u001b[0m\u001b[0;34m)\u001b[0m\u001b[0;34m)\u001b[0m\u001b[0;34m[\u001b[0m\u001b[0;34m:\u001b[0m\u001b[0;36m50\u001b[0m\u001b[0;34m]\u001b[0m\u001b[0;34m\u001b[0m\u001b[0m\n",
      "\u001b[0;31mNameError\u001b[0m: name 'count' is not defined"
     ]
    }
   ],
   "source": [
    "print(count.vocabulary_)\n",
    "sorted_x = sorted(count.vocabulary_.items(), key=operator.itemgetter(1))[:50]"
   ]
  },
  {
   "cell_type": "code",
   "execution_count": 251,
   "metadata": {
    "collapsed": false
   },
   "outputs": [
    {
     "ename": "NameError",
     "evalue": "name 'sys' is not defined",
     "output_type": "error",
     "traceback": [
      "\u001b[0;31m---------------------------------------------------------------------------\u001b[0m",
      "\u001b[0;31mNameError\u001b[0m                                 Traceback (most recent call last)",
      "\u001b[0;32m<ipython-input-251-f3aa4fc8ce10>\u001b[0m in \u001b[0;36m<module>\u001b[0;34m()\u001b[0m\n\u001b[0;32m----> 1\u001b[0;31m \u001b[0mt\u001b[0m\u001b[0;34m=\u001b[0m\u001b[0mre\u001b[0m\u001b[0;34m.\u001b[0m\u001b[0msplit\u001b[0m\u001b[0;34m(\u001b[0m\u001b[0;34m'\\W+'\u001b[0m\u001b[0;34m,\u001b[0m\u001b[0msys\u001b[0m\u001b[0;34m.\u001b[0m\u001b[0mstdin\u001b[0m\u001b[0;34m.\u001b[0m\u001b[0mread\u001b[0m\u001b[0;34m(\u001b[0m\u001b[0;34m)\u001b[0m\u001b[0;34m.\u001b[0m\u001b[0mlower\u001b[0m\u001b[0;34m(\u001b[0m\u001b[0;34m)\u001b[0m\u001b[0;34m)\u001b[0m\u001b[0;34m\u001b[0m\u001b[0m\n\u001b[0m\u001b[1;32m      2\u001b[0m \u001b[0mr\u001b[0m\u001b[0;34m=\u001b[0m\u001b[0msorted\u001b[0m\u001b[0;34m(\u001b[0m\u001b[0mcount\u001b[0m\u001b[0;34m.\u001b[0m\u001b[0mvocabulary_\u001b[0m \u001b[0;32mfor\u001b[0m \u001b[0mw\u001b[0m \u001b[0;32min\u001b[0m \u001b[0mset\u001b[0m\u001b[0;34m(\u001b[0m\u001b[0mt\u001b[0m\u001b[0;34m)\u001b[0m\u001b[0;32mif\u001b[0m \u001b[0mw\u001b[0m \u001b[0;32mnot\u001b[0m \u001b[0;32min\u001b[0m\u001b[0;34m'andithetoforinis'\u001b[0m\u001b[0;34m)\u001b[0m\u001b[0;34m[\u001b[0m\u001b[0;34m:\u001b[0m\u001b[0;36m22\u001b[0m\u001b[0;34m]\u001b[0m\u001b[0;34m\u001b[0m\u001b[0m\n",
      "\u001b[0;31mNameError\u001b[0m: name 'sys' is not defined"
     ]
    }
   ],
   "source": [
    "# t=re.split('\\W+',sys.stdin.read().lower())\n",
    "r=sorted(count.vocabulary_ for w in set(t)if w not in'andithetoforinis')[:22]"
   ]
  },
  {
   "cell_type": "code",
   "execution_count": 261,
   "metadata": {
    "collapsed": false
   },
   "outputs": [
    {
     "name": "stdout",
     "output_type": "stream",
     "text": [
      "[nltk_data] Downloading package stopwords to\n",
      "[nltk_data]     /Users/Feelings/nltk_data...\n",
      "[nltk_data]   Unzipping corpora/stopwords.zip.\n"
     ]
    }
   ],
   "source": [
    "import nltk\n",
    "nltk.download('stopwords')\n",
    "from nltk.corpus import stopwords\n",
    "stop = stopwords.words('english')"
   ]
  },
  {
   "cell_type": "code",
   "execution_count": 262,
   "metadata": {
    "collapsed": false
   },
   "outputs": [
    {
     "name": "stdout",
     "output_type": "stream",
     "text": [
      "===================================================================== Bluetooth\n",
      "========================================== Wireless\n",
      "======================================= U\n",
      "==================================== Headset\n",
      "========================== Stereo\n",
      "======================= Headphones\n",
      "==================== r\n",
      "==================== 4\n",
      "================= Samsung\n",
      "================ iPhone\n",
      "============== Headphone\n",
      "============= Earbuds\n",
      "============= Black\n",
      "============ 6\n",
      "============ Sports\n",
      "============ 0\n",
      "============ Microphone\n",
      "=========== Earphone\n",
      "========== Galaxy\n",
      "========== 1\n",
      "========= Ear\n",
      "========= Android\n",
      "========= Sport\n",
      "========= Mic\n",
      "========= Noise\n",
      "========= Hands\n",
      "======== 3\n",
      "======== Earphones\n",
      "======== Music\n",
      "======= 2\n",
      "======= Running\n",
      "======= Mini\n",
      "======= LG\n",
      "====== 5\n",
      "====== iPad\n",
      "====== In\n",
      "====== j\n",
      "====== Headsets\n",
      "===== free\n",
      "===== Smart\n",
      "===== Phones\n",
      "===== Universal\n",
      "===== For\n",
      "===== Sweatproof\n",
      "===== Free\n",
      "===== Note\n",
      "===== Cancelling\n",
      "===== Plus\n",
      "===== HTC\n",
      "===== Gym\n"
     ]
    }
   ],
   "source": [
    "t=re.split('\\W+',name_np.dumps())\n",
    "r=sorted((-t.count(w),w)for w in set(t)if w not in stop)\n",
    "fr = r[:50]\n",
    "for l,w in fr:print(78-len(fr[0][1]))*l/fr[0][0]*'=',w"
   ]
  },
  {
   "cell_type": "code",
   "execution_count": 265,
   "metadata": {
    "collapsed": true
   },
   "outputs": [],
   "source": [
    "#有bluetooth, wireless是一定的, headset->earbuds種類, 手機品牌(samsung, iphone最多), mic, sports, ruuning很有趣"
   ]
  },
  {
   "cell_type": "code",
   "execution_count": null,
   "metadata": {
    "collapsed": false
   },
   "outputs": [],
   "source": [
    "#description & detail text analysis"
   ]
  },
  {
   "cell_type": "code",
   "execution_count": 267,
   "metadata": {
    "collapsed": true
   },
   "outputs": [],
   "source": [
    "#brand analysis: review數量最多的 通常review number可以反映購買數量，把number*rate評比戰力?也可以適用於產品比較"
   ]
  },
  {
   "cell_type": "markdown",
   "metadata": {},
   "source": [
    "#SIMILAR PORDUCT: KNN MODEL"
   ]
  },
  {
   "cell_type": "code",
   "execution_count": 268,
   "metadata": {
    "collapsed": true
   },
   "outputs": [],
   "source": [
    "from sklearn.neighbors import NearestNeighbors"
   ]
  },
  {
   "cell_type": "code",
   "execution_count": 276,
   "metadata": {
    "collapsed": false
   },
   "outputs": [
    {
     "data": {
      "text/plain": [
       "array([[5, 4]])"
      ]
     },
     "execution_count": 276,
     "metadata": {},
     "output_type": "execute_result"
    }
   ],
   "source": [
    "X = np.array([[-1, -1], [-2, -1], [-3, -2], [1, 1], [2, 1], [3, 2]])\n",
    "nbrs = NearestNeighbors(n_neighbors=2, algorithm='ball_tree').fit(X)\n",
    "distances, indices = nbrs.kneighbors([4,4])\n",
    "indices"
   ]
  },
  {
   "cell_type": "code",
   "execution_count": null,
   "metadata": {
    "collapsed": true
   },
   "outputs": [],
   "source": [
    "from sklearn.feature_extraction.text import TfidfTransformer\n",
    "tfidf = TfidfTransformer()\n",
    "np.set_printoptions(precision=2)\n",
    "print(tfidf.fit_transform(count.fit_transform(name_np)).toarray())"
   ]
  },
  {
   "cell_type": "code",
   "execution_count": 286,
   "metadata": {
    "collapsed": false
   },
   "outputs": [
    {
     "data": {
      "text/html": [
       "<div>\n",
       "<table border=\"1\" class=\"dataframe\">\n",
       "  <thead>\n",
       "    <tr style=\"text-align: right;\">\n",
       "      <th></th>\n",
       "      <th>product_id</th>\n",
       "      <th>product_name</th>\n",
       "      <th>product_brand</th>\n",
       "      <th>product_detail</th>\n",
       "      <th>product_description</th>\n",
       "      <th>product_price</th>\n",
       "      <th>product_sale</th>\n",
       "      <th>weight</th>\n",
       "      <th>photo_num</th>\n",
       "      <th>best_seller_rank</th>\n",
       "      <th>water_proof</th>\n",
       "      <th>noise_cancel</th>\n",
       "      <th>micro_phone</th>\n",
       "      <th>review_num</th>\n",
       "      <th>review_rate</th>\n",
       "      <th>product_discount</th>\n",
       "    </tr>\n",
       "  </thead>\n",
       "  <tbody>\n",
       "    <tr>\n",
       "      <th>0</th>\n",
       "      <td>B012N7X65S</td>\n",
       "      <td>Trendwoo Runner X9 Bluetooth 4.0 Wireless Ster...</td>\n",
       "      <td>Trendwoo</td>\n",
       "      <td>Enter your model number above to make sure thi...</td>\n",
       "      <td>Features: Specifications: Model: Runner X9 Blu...</td>\n",
       "      <td>39.99</td>\n",
       "      <td>0.00</td>\n",
       "      <td>82.213617</td>\n",
       "      <td>7</td>\n",
       "      <td>2318</td>\n",
       "      <td>1</td>\n",
       "      <td>0</td>\n",
       "      <td>0</td>\n",
       "      <td>228</td>\n",
       "      <td>3.7</td>\n",
       "      <td>39.99</td>\n",
       "    </tr>\n",
       "    <tr>\n",
       "      <th>1</th>\n",
       "      <td>B016OADE1Q</td>\n",
       "      <td>Bluetooth 4.1 Headphones,LADEY Wireless Blueto...</td>\n",
       "      <td>LADEY</td>\n",
       "      <td>Bluetooth 4.1,support volume control,it also c...</td>\n",
       "      <td>Sweatproof design,best choice when you do spor...</td>\n",
       "      <td>44.29</td>\n",
       "      <td>14.26</td>\n",
       "      <td>861.825503</td>\n",
       "      <td>7</td>\n",
       "      <td>9289</td>\n",
       "      <td>1</td>\n",
       "      <td>1</td>\n",
       "      <td>0</td>\n",
       "      <td>0</td>\n",
       "      <td>0.0</td>\n",
       "      <td>30.03</td>\n",
       "    </tr>\n",
       "    <tr>\n",
       "      <th>3</th>\n",
       "      <td>B017RDCZ1Y</td>\n",
       "      <td>PowerLead S200 Bluetooth 4.1 Sport Gym Running...</td>\n",
       "      <td>PowerLead</td>\n",
       "      <td>Premuim high quality CSR chip allows this head...</td>\n",
       "      <td>Product fetures: It's a high end smart sports ...</td>\n",
       "      <td>56.87</td>\n",
       "      <td>40.54</td>\n",
       "      <td>8.504857</td>\n",
       "      <td>7</td>\n",
       "      <td>8379</td>\n",
       "      <td>0</td>\n",
       "      <td>1</td>\n",
       "      <td>0</td>\n",
       "      <td>11</td>\n",
       "      <td>4.5</td>\n",
       "      <td>16.33</td>\n",
       "    </tr>\n",
       "    <tr>\n",
       "      <th>6</th>\n",
       "      <td>B00IJG54RQ</td>\n",
       "      <td>SHOWERDOORDIRECT.COM WWBS-BU Waterproof Blueto...</td>\n",
       "      <td>SHOWER DOOR DIRECT</td>\n",
       "      <td>Enter your model number above to make sure thi...</td>\n",
       "      <td>Now you can sing in your shower and enjoy all ...</td>\n",
       "      <td>69.99</td>\n",
       "      <td>0.00</td>\n",
       "      <td>221.126280</td>\n",
       "      <td>2</td>\n",
       "      <td>3779</td>\n",
       "      <td>0</td>\n",
       "      <td>0</td>\n",
       "      <td>0</td>\n",
       "      <td>0</td>\n",
       "      <td>0.0</td>\n",
       "      <td>69.99</td>\n",
       "    </tr>\n",
       "    <tr>\n",
       "      <th>7</th>\n",
       "      <td>B00XQSQKI4</td>\n",
       "      <td>BluBeats Bluetooth Headset, High-Quality, Cris...</td>\n",
       "      <td>Klip xtreme</td>\n",
       "      <td>Mobile headset with Bluetooth wireless technol...</td>\n",
       "      <td>Klip Xtreme BluBeats mobile headset with Bluet...</td>\n",
       "      <td>34.99</td>\n",
       "      <td>0.00</td>\n",
       "      <td>9661.517481</td>\n",
       "      <td>4</td>\n",
       "      <td>5994</td>\n",
       "      <td>0</td>\n",
       "      <td>0</td>\n",
       "      <td>1</td>\n",
       "      <td>4</td>\n",
       "      <td>3.0</td>\n",
       "      <td>34.99</td>\n",
       "    </tr>\n",
       "    <tr>\n",
       "      <th>8</th>\n",
       "      <td>B01AD9XU04</td>\n",
       "      <td>OEM [2016 Version] Sport Handsfree, Stereo V8 ...</td>\n",
       "      <td>BlueRay®</td>\n",
       "      <td>Brand New and High Quality Suitable For BLU St...</td>\n",
       "      <td>Compatible with any bluetooth enabled mobile p...</td>\n",
       "      <td>39.99</td>\n",
       "      <td>24.99</td>\n",
       "      <td>45.359237</td>\n",
       "      <td>7</td>\n",
       "      <td>11819</td>\n",
       "      <td>0</td>\n",
       "      <td>0</td>\n",
       "      <td>0</td>\n",
       "      <td>0</td>\n",
       "      <td>0.0</td>\n",
       "      <td>15.00</td>\n",
       "    </tr>\n",
       "    <tr>\n",
       "      <th>9</th>\n",
       "      <td>B00XLQWHI8</td>\n",
       "      <td>BSI 3pcs Metal Clasps for Fitbit Charge Band W...</td>\n",
       "      <td>PL</td>\n",
       "      <td>BSI 3pcs Metal Clasps for Fitbit Charge Band W...</td>\n",
       "      <td>BSI 3pcs Metal Clasps for Fitbit Charge Band W...</td>\n",
       "      <td>6.02</td>\n",
       "      <td>0.00</td>\n",
       "      <td>NaN</td>\n",
       "      <td>2</td>\n",
       "      <td>11609</td>\n",
       "      <td>0</td>\n",
       "      <td>0</td>\n",
       "      <td>0</td>\n",
       "      <td>0</td>\n",
       "      <td>0.0</td>\n",
       "      <td>6.02</td>\n",
       "    </tr>\n",
       "    <tr>\n",
       "      <th>10</th>\n",
       "      <td>B00Y4M01JA</td>\n",
       "      <td>Bluetooth Headphones, TOTU Wireless Bluetooth ...</td>\n",
       "      <td>TOTU</td>\n",
       "      <td>Advanced Technology: With bluetooth 4.0 and ap...</td>\n",
       "      <td>About TOTU: TOTU use the best material and bra...</td>\n",
       "      <td>139.99</td>\n",
       "      <td>19.99</td>\n",
       "      <td>14.174762</td>\n",
       "      <td>7</td>\n",
       "      <td>21</td>\n",
       "      <td>1</td>\n",
       "      <td>0</td>\n",
       "      <td>1</td>\n",
       "      <td>905</td>\n",
       "      <td>3.3</td>\n",
       "      <td>120.00</td>\n",
       "    </tr>\n",
       "    <tr>\n",
       "      <th>11</th>\n",
       "      <td>B011Y3GU0U</td>\n",
       "      <td>Bluetooth Wireless HandFree Sports Stereo Head...</td>\n",
       "      <td>Doormoon</td>\n",
       "      <td>100% brand new!! Compatible with Advanced Blue...</td>\n",
       "      <td>Designed with precision and feature the highes...</td>\n",
       "      <td>20.80</td>\n",
       "      <td>12.00</td>\n",
       "      <td>NaN</td>\n",
       "      <td>7</td>\n",
       "      <td>13412</td>\n",
       "      <td>0</td>\n",
       "      <td>0</td>\n",
       "      <td>0</td>\n",
       "      <td>0</td>\n",
       "      <td>0.0</td>\n",
       "      <td>8.80</td>\n",
       "    </tr>\n",
       "    <tr>\n",
       "      <th>12</th>\n",
       "      <td>B00NG57HF2</td>\n",
       "      <td>Sony MDR-XB950BT/H Extra Bass Bluetooth Headse...</td>\n",
       "      <td>Sony</td>\n",
       "      <td>This product has a Bluetooth.By Bluetooth,you ...</td>\n",
       "      <td>Headphone parts Model: closed dynamic. Driver ...</td>\n",
       "      <td>169.40</td>\n",
       "      <td>0.00</td>\n",
       "      <td>680.388555</td>\n",
       "      <td>1</td>\n",
       "      <td>1290</td>\n",
       "      <td>0</td>\n",
       "      <td>0</td>\n",
       "      <td>0</td>\n",
       "      <td>21</td>\n",
       "      <td>4.9</td>\n",
       "      <td>169.40</td>\n",
       "    </tr>\n",
       "    <tr>\n",
       "      <th>13</th>\n",
       "      <td>B00Z0ME68A</td>\n",
       "      <td>Newest Smallest Wireless Invisible Bluetooth M...</td>\n",
       "      <td>EGRD</td>\n",
       "      <td>The Newest bluetooth headset with  lightweight...</td>\n",
       "      <td>Package Include: 1.One EGRD earbud 2.One instr...</td>\n",
       "      <td>45.99</td>\n",
       "      <td>0.00</td>\n",
       "      <td>28.349523</td>\n",
       "      <td>7</td>\n",
       "      <td>80</td>\n",
       "      <td>0</td>\n",
       "      <td>0</td>\n",
       "      <td>1</td>\n",
       "      <td>1</td>\n",
       "      <td>3.1</td>\n",
       "      <td>45.99</td>\n",
       "    </tr>\n",
       "    <tr>\n",
       "      <th>14</th>\n",
       "      <td>B01CS5VUEO</td>\n",
       "      <td>Uniway E5S High Definition Earbud In-ear Bluet...</td>\n",
       "      <td>Uniway</td>\n",
       "      <td>Easy upgrade from standard earphones:This earp...</td>\n",
       "      <td>Product descriptions: This headphone not only ...</td>\n",
       "      <td>19.89</td>\n",
       "      <td>0.00</td>\n",
       "      <td>8.504857</td>\n",
       "      <td>7</td>\n",
       "      <td>7694</td>\n",
       "      <td>0</td>\n",
       "      <td>1</td>\n",
       "      <td>1</td>\n",
       "      <td>0</td>\n",
       "      <td>0.0</td>\n",
       "      <td>19.89</td>\n",
       "    </tr>\n",
       "    <tr>\n",
       "      <th>15</th>\n",
       "      <td>B005FVNHBI</td>\n",
       "      <td>Jabra SPORT Bluetooth Stereo Headset - Black/Y...</td>\n",
       "      <td>Jabra</td>\n",
       "      <td>Secure &amp; Comfortable Fit During Workouts Us Mi...</td>\n",
       "      <td>Jabra 100-96600000-02 Sport Bluetooth(R) Stere...</td>\n",
       "      <td>99.99</td>\n",
       "      <td>0.00</td>\n",
       "      <td>85.048569</td>\n",
       "      <td>7</td>\n",
       "      <td>2588</td>\n",
       "      <td>0</td>\n",
       "      <td>0</td>\n",
       "      <td>1</td>\n",
       "      <td>1</td>\n",
       "      <td>2.8</td>\n",
       "      <td>99.99</td>\n",
       "    </tr>\n",
       "    <tr>\n",
       "      <th>16</th>\n",
       "      <td>B009923WIW</td>\n",
       "      <td>On-Ear Bluetooth Headphones Wireless + Wired T...</td>\n",
       "      <td>HDE</td>\n",
       "      <td>Enter your model number above to make sure thi...</td>\n",
       "      <td>Premium Design The classic, yet bold, design o...</td>\n",
       "      <td>39.99</td>\n",
       "      <td>0.00</td>\n",
       "      <td>294.835040</td>\n",
       "      <td>6</td>\n",
       "      <td>3155</td>\n",
       "      <td>0</td>\n",
       "      <td>0</td>\n",
       "      <td>1</td>\n",
       "      <td>459</td>\n",
       "      <td>3.7</td>\n",
       "      <td>39.99</td>\n",
       "    </tr>\n",
       "    <tr>\n",
       "      <th>17</th>\n",
       "      <td>B019EU13RK</td>\n",
       "      <td>Ularmo 2015 New Popular Wireless Bluetooth Ear...</td>\n",
       "      <td>Ularmo®</td>\n",
       "      <td>Build in Micphone,easy free Talk Music Time: U...</td>\n",
       "      <td>How to use: Press the power button(the BLUE pa...</td>\n",
       "      <td>10.50</td>\n",
       "      <td>0.00</td>\n",
       "      <td>NaN</td>\n",
       "      <td>7</td>\n",
       "      <td>7424</td>\n",
       "      <td>0</td>\n",
       "      <td>0</td>\n",
       "      <td>0</td>\n",
       "      <td>0</td>\n",
       "      <td>0.0</td>\n",
       "      <td>10.50</td>\n",
       "    </tr>\n",
       "    <tr>\n",
       "      <th>18</th>\n",
       "      <td>B005FVNHBI</td>\n",
       "      <td>Jabra SPORT Bluetooth Stereo Headset - Black/Y...</td>\n",
       "      <td>Jabra</td>\n",
       "      <td>Secure &amp; Comfortable Fit During Workouts Us Mi...</td>\n",
       "      <td>Jabra 100-96600000-02 Sport Bluetooth(R) Stere...</td>\n",
       "      <td>99.99</td>\n",
       "      <td>0.00</td>\n",
       "      <td>85.048569</td>\n",
       "      <td>7</td>\n",
       "      <td>2588</td>\n",
       "      <td>0</td>\n",
       "      <td>0</td>\n",
       "      <td>1</td>\n",
       "      <td>1</td>\n",
       "      <td>2.8</td>\n",
       "      <td>99.99</td>\n",
       "    </tr>\n",
       "    <tr>\n",
       "      <th>19</th>\n",
       "      <td>B019TVHVDY</td>\n",
       "      <td>Wireless Headphones, OCTOPUS Bluetooth Earbuds...</td>\n",
       "      <td>Octopus</td>\n",
       "      <td>ADVANCED TECHNOLOGY: Fast UNDER 2 HOURS chargi...</td>\n",
       "      <td>*** Powerful and Stylish *** The new 2016 mode...</td>\n",
       "      <td>69.95</td>\n",
       "      <td>18.95</td>\n",
       "      <td>68.038855</td>\n",
       "      <td>5</td>\n",
       "      <td>2383</td>\n",
       "      <td>0</td>\n",
       "      <td>1</td>\n",
       "      <td>1</td>\n",
       "      <td>28</td>\n",
       "      <td>4.5</td>\n",
       "      <td>51.00</td>\n",
       "    </tr>\n",
       "    <tr>\n",
       "      <th>21</th>\n",
       "      <td>B0080ARADC</td>\n",
       "      <td>1 pc New Medium Size Good Quality Eargel for P...</td>\n",
       "      <td>PL</td>\n",
       "      <td>Enter your model number above to make sure thi...</td>\n",
       "      <td>1 pc New Medium Size Good Quality Eargel for P...</td>\n",
       "      <td>10.99</td>\n",
       "      <td>0.00</td>\n",
       "      <td>NaN</td>\n",
       "      <td>2</td>\n",
       "      <td>5328</td>\n",
       "      <td>0</td>\n",
       "      <td>0</td>\n",
       "      <td>0</td>\n",
       "      <td>0</td>\n",
       "      <td>0.0</td>\n",
       "      <td>10.99</td>\n",
       "    </tr>\n",
       "    <tr>\n",
       "      <th>22</th>\n",
       "      <td>B00DVU9HIC</td>\n",
       "      <td>Hercules Ultra-Compact Bluetooth 2.0 Speaker -...</td>\n",
       "      <td>Hercules</td>\n",
       "      <td>Enter your model number above to make sure thi...</td>\n",
       "      <td>The Hercules WAE-BTP03 Mini Bluetooth 2.0 Spea...</td>\n",
       "      <td>79.99</td>\n",
       "      <td>0.00</td>\n",
       "      <td>816.466266</td>\n",
       "      <td>3</td>\n",
       "      <td>14013</td>\n",
       "      <td>0</td>\n",
       "      <td>0</td>\n",
       "      <td>1</td>\n",
       "      <td>0</td>\n",
       "      <td>0.0</td>\n",
       "      <td>79.99</td>\n",
       "    </tr>\n",
       "    <tr>\n",
       "      <th>23</th>\n",
       "      <td>B00O8PWW7W</td>\n",
       "      <td>Insten Bluetooth Wireless Running Gym Fitness ...</td>\n",
       "      <td>INSTEN</td>\n",
       "      <td>Enjoy wireless music and answer your call with...</td>\n",
       "      <td>Enjoy wireless music and answer your call with...</td>\n",
       "      <td>13.84</td>\n",
       "      <td>0.00</td>\n",
       "      <td>90.718474</td>\n",
       "      <td>6</td>\n",
       "      <td>5057</td>\n",
       "      <td>0</td>\n",
       "      <td>0</td>\n",
       "      <td>0</td>\n",
       "      <td>7</td>\n",
       "      <td>3.1</td>\n",
       "      <td>13.84</td>\n",
       "    </tr>\n",
       "    <tr>\n",
       "      <th>24</th>\n",
       "      <td>B006C6DZDK</td>\n",
       "      <td>Plantronics Savi W745 Earset 86507-01</td>\n",
       "      <td>Plantronics</td>\n",
       "      <td>Connection Type: Wireless Sound Mode: Mono</td>\n",
       "      <td>Plantronics Savi W745 Earset 86507-01 Headsets...</td>\n",
       "      <td>449.95</td>\n",
       "      <td>0.00</td>\n",
       "      <td>816.466266</td>\n",
       "      <td>1</td>\n",
       "      <td>4933</td>\n",
       "      <td>0</td>\n",
       "      <td>0</td>\n",
       "      <td>0</td>\n",
       "      <td>3</td>\n",
       "      <td>3.5</td>\n",
       "      <td>449.95</td>\n",
       "    </tr>\n",
       "    <tr>\n",
       "      <th>25</th>\n",
       "      <td>B0195K8714</td>\n",
       "      <td>BSI New Silver Metal Necklace With New Unique ...</td>\n",
       "      <td>PL</td>\n",
       "      <td>New Elegant Silver Metal Necklace With New Uni...</td>\n",
       "      <td>BSI New Elegant Silver Metal Necklace With New...</td>\n",
       "      <td>39.99</td>\n",
       "      <td>0.00</td>\n",
       "      <td>8.504857</td>\n",
       "      <td>3</td>\n",
       "      <td>2277</td>\n",
       "      <td>0</td>\n",
       "      <td>0</td>\n",
       "      <td>0</td>\n",
       "      <td>3</td>\n",
       "      <td>3.3</td>\n",
       "      <td>39.99</td>\n",
       "    </tr>\n",
       "    <tr>\n",
       "      <th>26</th>\n",
       "      <td>B01AAHLH6S</td>\n",
       "      <td>Bluetooth Headphones, DolTech Bluetooth Headse...</td>\n",
       "      <td>DolTech</td>\n",
       "      <td>Bluetooth Function: Compatible with Advanced B...</td>\n",
       "      <td>Description: Bluetooth Function: Compatible wi...</td>\n",
       "      <td>75.99</td>\n",
       "      <td>16.99</td>\n",
       "      <td>45.359237</td>\n",
       "      <td>7</td>\n",
       "      <td>5853</td>\n",
       "      <td>0</td>\n",
       "      <td>1</td>\n",
       "      <td>0</td>\n",
       "      <td>14</td>\n",
       "      <td>3.2</td>\n",
       "      <td>59.00</td>\n",
       "    </tr>\n",
       "    <tr>\n",
       "      <th>27</th>\n",
       "      <td>B00N43EREA</td>\n",
       "      <td>Kinivo BTH240 Limited Edition Bluetooth Stereo...</td>\n",
       "      <td>Kinivo</td>\n",
       "      <td>Compatible with Bluetooth enabled music player...</td>\n",
       "      <td>The Kinivo BTH240 is a redesign of our top sel...</td>\n",
       "      <td>54.99</td>\n",
       "      <td>29.99</td>\n",
       "      <td>181.436948</td>\n",
       "      <td>7</td>\n",
       "      <td>1772</td>\n",
       "      <td>0</td>\n",
       "      <td>0</td>\n",
       "      <td>0</td>\n",
       "      <td>56</td>\n",
       "      <td>4.1</td>\n",
       "      <td>25.00</td>\n",
       "    </tr>\n",
       "    <tr>\n",
       "      <th>28</th>\n",
       "      <td>B00ZLOSVH4</td>\n",
       "      <td>Bluetooth Headset, Wires That Work® T0782 Univ...</td>\n",
       "      <td>Wires That Work</td>\n",
       "      <td>FUTURE PROOF: Noise-cancelling microphone redu...</td>\n",
       "      <td>Noise-cancelling microphone reduces background...</td>\n",
       "      <td>36.99</td>\n",
       "      <td>0.00</td>\n",
       "      <td>68.038855</td>\n",
       "      <td>5</td>\n",
       "      <td>5960</td>\n",
       "      <td>0</td>\n",
       "      <td>1</td>\n",
       "      <td>1</td>\n",
       "      <td>23</td>\n",
       "      <td>3.7</td>\n",
       "      <td>36.99</td>\n",
       "    </tr>\n",
       "    <tr>\n",
       "      <th>29</th>\n",
       "      <td>B0181S7Y6A</td>\n",
       "      <td>Fetta Universal Wireless Bluetooth Headset Ste...</td>\n",
       "      <td>Fetta</td>\n",
       "      <td>Bluetooth version 4.0 built with well-known CS...</td>\n",
       "      <td>Features Automatically Play/Pause music on inc...</td>\n",
       "      <td>12.99</td>\n",
       "      <td>0.00</td>\n",
       "      <td>45.359237</td>\n",
       "      <td>7</td>\n",
       "      <td>519</td>\n",
       "      <td>0</td>\n",
       "      <td>0</td>\n",
       "      <td>0</td>\n",
       "      <td>229</td>\n",
       "      <td>3.8</td>\n",
       "      <td>12.99</td>\n",
       "    </tr>\n",
       "    <tr>\n",
       "      <th>30</th>\n",
       "      <td>B00LN1GEFK</td>\n",
       "      <td>Granvela Imbson A802 Foldable Headphone Headse...</td>\n",
       "      <td>Granvela</td>\n",
       "      <td>18 Hours of Continuous Playback time, 3 Minute...</td>\n",
       "      <td>Specifications: Standard charge time:Approx.2 ...</td>\n",
       "      <td>49.90</td>\n",
       "      <td>14.29</td>\n",
       "      <td>141.747615</td>\n",
       "      <td>6</td>\n",
       "      <td>7017</td>\n",
       "      <td>0</td>\n",
       "      <td>0</td>\n",
       "      <td>0</td>\n",
       "      <td>30</td>\n",
       "      <td>4.0</td>\n",
       "      <td>35.61</td>\n",
       "    </tr>\n",
       "    <tr>\n",
       "      <th>31</th>\n",
       "      <td>B012NOVH70</td>\n",
       "      <td>Enegg Universal Smallest Wireless BLuetooth In...</td>\n",
       "      <td>Enegg</td>\n",
       "      <td>The Newest bluetooth headset with lightweight ...</td>\n",
       "      <td>Handsfree call and listen Music, Freely switch...</td>\n",
       "      <td>39.99</td>\n",
       "      <td>0.00</td>\n",
       "      <td>22.679618</td>\n",
       "      <td>7</td>\n",
       "      <td>7848</td>\n",
       "      <td>0</td>\n",
       "      <td>0</td>\n",
       "      <td>1</td>\n",
       "      <td>16</td>\n",
       "      <td>2.6</td>\n",
       "      <td>39.99</td>\n",
       "    </tr>\n",
       "    <tr>\n",
       "      <th>32</th>\n",
       "      <td>B01C3NFGGO</td>\n",
       "      <td>Bluetooth Headphone Winsbotech Bluetooth 4.0 W...</td>\n",
       "      <td>winsbotech</td>\n",
       "      <td>NEW BLUETOOTH TECHNOLOGY --- Bluetooth 4.0 + E...</td>\n",
       "      <td>Key Feature: 1.Advanced Bluetooth 4.0 technolo...</td>\n",
       "      <td>59.99</td>\n",
       "      <td>16.99</td>\n",
       "      <td>NaN</td>\n",
       "      <td>7</td>\n",
       "      <td>12962</td>\n",
       "      <td>0</td>\n",
       "      <td>1</td>\n",
       "      <td>1</td>\n",
       "      <td>2</td>\n",
       "      <td>4.0</td>\n",
       "      <td>43.00</td>\n",
       "    </tr>\n",
       "    <tr>\n",
       "      <th>33</th>\n",
       "      <td>B00T3NEDI0</td>\n",
       "      <td>BSI Set 1 Pink and 1 Teal Replacement Bands &amp; ...</td>\n",
       "      <td>PL</td>\n",
       "      <td>BSI Set 1 Pink and 1 Teal Replacement Bands &amp; ...</td>\n",
       "      <td>BSI Set 1 Pink and 1 Teal Replacement Bands &amp; ...</td>\n",
       "      <td>24.99</td>\n",
       "      <td>0.00</td>\n",
       "      <td>NaN</td>\n",
       "      <td>1</td>\n",
       "      <td>14284</td>\n",
       "      <td>0</td>\n",
       "      <td>0</td>\n",
       "      <td>0</td>\n",
       "      <td>0</td>\n",
       "      <td>0.0</td>\n",
       "      <td>24.99</td>\n",
       "    </tr>\n",
       "    <tr>\n",
       "      <th>...</th>\n",
       "      <td>...</td>\n",
       "      <td>...</td>\n",
       "      <td>...</td>\n",
       "      <td>...</td>\n",
       "      <td>...</td>\n",
       "      <td>...</td>\n",
       "      <td>...</td>\n",
       "      <td>...</td>\n",
       "      <td>...</td>\n",
       "      <td>...</td>\n",
       "      <td>...</td>\n",
       "      <td>...</td>\n",
       "      <td>...</td>\n",
       "      <td>...</td>\n",
       "      <td>...</td>\n",
       "      <td>...</td>\n",
       "    </tr>\n",
       "    <tr>\n",
       "      <th>10593</th>\n",
       "      <td>B016WCI1R8</td>\n",
       "      <td>Bluetooth Earbuds, Bluetooth Headphones, Dolte...</td>\n",
       "      <td>DolTech</td>\n",
       "      <td>HIGH-FIDELITY - Provide High-fidelity stereo m...</td>\n",
       "      <td>DolTech 2015 Newest Premium Music Mini Sports ...</td>\n",
       "      <td>88.99</td>\n",
       "      <td>15.99</td>\n",
       "      <td>39.689332</td>\n",
       "      <td>5</td>\n",
       "      <td>8773</td>\n",
       "      <td>1</td>\n",
       "      <td>1</td>\n",
       "      <td>0</td>\n",
       "      <td>4</td>\n",
       "      <td>3.6</td>\n",
       "      <td>73.00</td>\n",
       "    </tr>\n",
       "    <tr>\n",
       "      <th>10594</th>\n",
       "      <td>B01AJL171K</td>\n",
       "      <td>Bluetooth Earphones,DLAND Wireless Mic Noise C...</td>\n",
       "      <td>DLAND</td>\n",
       "      <td>Elegant appearance and Multi-function:answer/e...</td>\n",
       "      <td>Specifications: compatible with most Bluetooth...</td>\n",
       "      <td>18.99</td>\n",
       "      <td>0.00</td>\n",
       "      <td>8.504857</td>\n",
       "      <td>7</td>\n",
       "      <td>13</td>\n",
       "      <td>0</td>\n",
       "      <td>1</td>\n",
       "      <td>1</td>\n",
       "      <td>37</td>\n",
       "      <td>4.7</td>\n",
       "      <td>18.99</td>\n",
       "    </tr>\n",
       "    <tr>\n",
       "      <th>10595</th>\n",
       "      <td>B01A6TJV0E</td>\n",
       "      <td>Bluetooth Headset, Lookatool® Mini Ultra-small...</td>\n",
       "      <td>Lookatool</td>\n",
       "      <td>Taiwan and the bluetooth master control chip. ...</td>\n",
       "      <td>Spescification: Bluetooth version:V4.0 + EDR B...</td>\n",
       "      <td>5.74</td>\n",
       "      <td>0.00</td>\n",
       "      <td>14.174762</td>\n",
       "      <td>5</td>\n",
       "      <td>652</td>\n",
       "      <td>0</td>\n",
       "      <td>0</td>\n",
       "      <td>0</td>\n",
       "      <td>7</td>\n",
       "      <td>4.7</td>\n",
       "      <td>5.74</td>\n",
       "    </tr>\n",
       "    <tr>\n",
       "      <th>10597</th>\n",
       "      <td>B019WBJ78S</td>\n",
       "      <td>Twinbuys Each B3505 3.5mm Wireless Bluetooth S...</td>\n",
       "      <td>Twinbuys</td>\n",
       "      <td>Wireless bluetooth headset compatible with blu...</td>\n",
       "      <td>Overview This B3505 wireless bluetooth stereo ...</td>\n",
       "      <td>35.99</td>\n",
       "      <td>0.00</td>\n",
       "      <td>218.291328</td>\n",
       "      <td>7</td>\n",
       "      <td>11734</td>\n",
       "      <td>0</td>\n",
       "      <td>1</td>\n",
       "      <td>0</td>\n",
       "      <td>0</td>\n",
       "      <td>0.0</td>\n",
       "      <td>35.99</td>\n",
       "    </tr>\n",
       "    <tr>\n",
       "      <th>10598</th>\n",
       "      <td>B015OJ0JN4</td>\n",
       "      <td>RQN Outdoor Bluetooth Hat Wireless Bluetooth H...</td>\n",
       "      <td>RQN</td>\n",
       "      <td>1. You can keep warm and speakerphone, enjoy t...</td>\n",
       "      <td>Technology Spec:Size:One size fits most Blueto...</td>\n",
       "      <td>99.00</td>\n",
       "      <td>0.00</td>\n",
       "      <td>90.718474</td>\n",
       "      <td>3</td>\n",
       "      <td>7561</td>\n",
       "      <td>0</td>\n",
       "      <td>0</td>\n",
       "      <td>0</td>\n",
       "      <td>19</td>\n",
       "      <td>4.1</td>\n",
       "      <td>99.00</td>\n",
       "    </tr>\n",
       "    <tr>\n",
       "      <th>10599</th>\n",
       "      <td>B00LZRFB10</td>\n",
       "      <td>JIAFENG Bluetooth Wireless Headphone Bluetooth...</td>\n",
       "      <td>JiaFeng</td>\n",
       "      <td>Support LINE-IN mode and multi-media playing W...</td>\n",
       "      <td>The wireless headset support LINE-IN mode and ...</td>\n",
       "      <td>55.99</td>\n",
       "      <td>0.00</td>\n",
       "      <td>317.514659</td>\n",
       "      <td>3</td>\n",
       "      <td>9819</td>\n",
       "      <td>0</td>\n",
       "      <td>0</td>\n",
       "      <td>1</td>\n",
       "      <td>3</td>\n",
       "      <td>3.3</td>\n",
       "      <td>55.99</td>\n",
       "    </tr>\n",
       "    <tr>\n",
       "      <th>10600</th>\n",
       "      <td>B014R5TFVS</td>\n",
       "      <td>AngLink Mini Wireless Bluetooth 4.1 Stereo Hea...</td>\n",
       "      <td>anglink</td>\n",
       "      <td>Compact portable design: the mini light-weight...</td>\n",
       "      <td>Product Description Hear it all-music, calls a...</td>\n",
       "      <td>19.99</td>\n",
       "      <td>13.99</td>\n",
       "      <td>8.504857</td>\n",
       "      <td>7</td>\n",
       "      <td>3551</td>\n",
       "      <td>0</td>\n",
       "      <td>1</td>\n",
       "      <td>1</td>\n",
       "      <td>79</td>\n",
       "      <td>3.8</td>\n",
       "      <td>6.00</td>\n",
       "    </tr>\n",
       "    <tr>\n",
       "      <th>10601</th>\n",
       "      <td>B00Q2JKF94</td>\n",
       "      <td>Sunvito HBS-740 Wireless Bluetooth 4.0 Music S...</td>\n",
       "      <td>Sunvito</td>\n",
       "      <td>Brand new and high quality. Support Bluetooth ...</td>\n",
       "      <td>Specifications: -Length of data cable: 77cm -F...</td>\n",
       "      <td>75.96</td>\n",
       "      <td>13.89</td>\n",
       "      <td>8.504857</td>\n",
       "      <td>6</td>\n",
       "      <td>3771</td>\n",
       "      <td>0</td>\n",
       "      <td>0</td>\n",
       "      <td>0</td>\n",
       "      <td>38</td>\n",
       "      <td>3.5</td>\n",
       "      <td>62.07</td>\n",
       "    </tr>\n",
       "    <tr>\n",
       "      <th>10602</th>\n",
       "      <td>B00QIIYI6U</td>\n",
       "      <td>MiNi Bluetooth Wireless In-Ear Headphones Head...</td>\n",
       "      <td>Generic</td>\n",
       "      <td>Enter your model number above to make sure thi...</td>\n",
       "      <td>Resistant to scratches, dust and spills, Keep ...</td>\n",
       "      <td>8.96</td>\n",
       "      <td>0.00</td>\n",
       "      <td>28.349523</td>\n",
       "      <td>5</td>\n",
       "      <td>10446</td>\n",
       "      <td>0</td>\n",
       "      <td>0</td>\n",
       "      <td>0</td>\n",
       "      <td>2</td>\n",
       "      <td>1.0</td>\n",
       "      <td>8.96</td>\n",
       "    </tr>\n",
       "    <tr>\n",
       "      <th>10604</th>\n",
       "      <td>B012D1M0TC</td>\n",
       "      <td>Marsboy Bluetooth V4.0 Headphones Wireless Swi...</td>\n",
       "      <td>Marsboy</td>\n",
       "      <td>Enter your model number above to make sure thi...</td>\n",
       "      <td>Marsboy New Version Bluetooth 4.0 Headphones T...</td>\n",
       "      <td>39.99</td>\n",
       "      <td>0.00</td>\n",
       "      <td>99.223331</td>\n",
       "      <td>7</td>\n",
       "      <td>4946</td>\n",
       "      <td>0</td>\n",
       "      <td>0</td>\n",
       "      <td>0</td>\n",
       "      <td>403</td>\n",
       "      <td>3.5</td>\n",
       "      <td>39.99</td>\n",
       "    </tr>\n",
       "    <tr>\n",
       "      <th>10605</th>\n",
       "      <td>B01ABVLU9C</td>\n",
       "      <td>Keweier Mini Bluetooth Wireless Headphones wit...</td>\n",
       "      <td>KWE</td>\n",
       "      <td>Sweat-proof, durable design, Onscreen Battery ...</td>\n",
       "      <td>NaN</td>\n",
       "      <td>18.88</td>\n",
       "      <td>0.00</td>\n",
       "      <td>45.359237</td>\n",
       "      <td>4</td>\n",
       "      <td>1263</td>\n",
       "      <td>0</td>\n",
       "      <td>1</td>\n",
       "      <td>0</td>\n",
       "      <td>0</td>\n",
       "      <td>0.0</td>\n",
       "      <td>18.88</td>\n",
       "    </tr>\n",
       "    <tr>\n",
       "      <th>10606</th>\n",
       "      <td>B019ROX9K2</td>\n",
       "      <td>AUGLAMOUR Original R8 HIFI Music Headphone Sup...</td>\n",
       "      <td>AUGLAMOUR</td>\n",
       "      <td>Enter your model number above to make sure thi...</td>\n",
       "      <td>Features: Ergonomics cavity design: R8 offers ...</td>\n",
       "      <td>35.83</td>\n",
       "      <td>0.00</td>\n",
       "      <td>277.825326</td>\n",
       "      <td>7</td>\n",
       "      <td>10523</td>\n",
       "      <td>0</td>\n",
       "      <td>0</td>\n",
       "      <td>0</td>\n",
       "      <td>0</td>\n",
       "      <td>0.0</td>\n",
       "      <td>35.83</td>\n",
       "    </tr>\n",
       "    <tr>\n",
       "      <th>10607</th>\n",
       "      <td>B016HICONE</td>\n",
       "      <td>Top-Longer Wireless Bluetooth V4.0 Bluetooth H...</td>\n",
       "      <td>Top-Longer</td>\n",
       "      <td>Compatible with Apple and Android smart phones...</td>\n",
       "      <td>Product Description - Compatible with most cel...</td>\n",
       "      <td>46.00</td>\n",
       "      <td>24.99</td>\n",
       "      <td>8.504857</td>\n",
       "      <td>3</td>\n",
       "      <td>12068</td>\n",
       "      <td>0</td>\n",
       "      <td>0</td>\n",
       "      <td>1</td>\n",
       "      <td>7</td>\n",
       "      <td>4.5</td>\n",
       "      <td>21.01</td>\n",
       "    </tr>\n",
       "    <tr>\n",
       "      <th>10608</th>\n",
       "      <td>B011ID4VDO</td>\n",
       "      <td>Kasstino Bluetooth Mini Lightweight Wireless S...</td>\n",
       "      <td>Kasstino</td>\n",
       "      <td>Bluetooth V4.0 Portable lightweight and sweatp...</td>\n",
       "      <td>Technical specification: Bluetooth Specificati...</td>\n",
       "      <td>8.91</td>\n",
       "      <td>0.00</td>\n",
       "      <td>8.504857</td>\n",
       "      <td>7</td>\n",
       "      <td>2621</td>\n",
       "      <td>1</td>\n",
       "      <td>1</td>\n",
       "      <td>1</td>\n",
       "      <td>4</td>\n",
       "      <td>4.0</td>\n",
       "      <td>8.91</td>\n",
       "    </tr>\n",
       "    <tr>\n",
       "      <th>10609</th>\n",
       "      <td>B00OOFMHL2</td>\n",
       "      <td>Masentek H26 Fashion Wireless V3.0+EDR Bluetoo...</td>\n",
       "      <td>Cyber-Bay</td>\n",
       "      <td>It is wireless headset. In the Box: headset, e...</td>\n",
       "      <td>This is a mono headset with bluetooth wireless...</td>\n",
       "      <td>29.99</td>\n",
       "      <td>0.00</td>\n",
       "      <td>22.679618</td>\n",
       "      <td>3</td>\n",
       "      <td>4502</td>\n",
       "      <td>0</td>\n",
       "      <td>1</td>\n",
       "      <td>0</td>\n",
       "      <td>38</td>\n",
       "      <td>3.7</td>\n",
       "      <td>29.99</td>\n",
       "    </tr>\n",
       "    <tr>\n",
       "      <th>10610</th>\n",
       "      <td>B019OOIN60</td>\n",
       "      <td>Selectec Wireless 4.0 Bluetooth Headset Headph...</td>\n",
       "      <td>Selectec</td>\n",
       "      <td>Bluetooth version: 4.0+aptx Pair two phones wi...</td>\n",
       "      <td>Features: Hand free listening Listen to music,...</td>\n",
       "      <td>29.99</td>\n",
       "      <td>0.00</td>\n",
       "      <td>NaN</td>\n",
       "      <td>5</td>\n",
       "      <td>10066</td>\n",
       "      <td>0</td>\n",
       "      <td>0</td>\n",
       "      <td>0</td>\n",
       "      <td>0</td>\n",
       "      <td>0.0</td>\n",
       "      <td>29.99</td>\n",
       "    </tr>\n",
       "    <tr>\n",
       "      <th>10611</th>\n",
       "      <td>B013DAQOJ4</td>\n",
       "      <td>Rymemo 2016 Newest Universal Wireless Bluetoot...</td>\n",
       "      <td>Rymemo</td>\n",
       "      <td>BLUETOOTH FUNCTION:100% brand new!! Compatible...</td>\n",
       "      <td>Description Bluetooth Function: Compatible wit...</td>\n",
       "      <td>79.99</td>\n",
       "      <td>14.88</td>\n",
       "      <td>68.038855</td>\n",
       "      <td>6</td>\n",
       "      <td>928</td>\n",
       "      <td>0</td>\n",
       "      <td>0</td>\n",
       "      <td>0</td>\n",
       "      <td>45</td>\n",
       "      <td>3.4</td>\n",
       "      <td>65.11</td>\n",
       "    </tr>\n",
       "    <tr>\n",
       "      <th>10613</th>\n",
       "      <td>B00ZCOJDDO</td>\n",
       "      <td>N Logitech H800 Wireless Bluetooth Headset for...</td>\n",
       "      <td>Halothailand</td>\n",
       "      <td>Enter your model number above to make sure thi...</td>\n",
       "      <td>Features Compatible Easily connect to and swit...</td>\n",
       "      <td>104.35</td>\n",
       "      <td>0.00</td>\n",
       "      <td>NaN</td>\n",
       "      <td>2</td>\n",
       "      <td>12773</td>\n",
       "      <td>0</td>\n",
       "      <td>0</td>\n",
       "      <td>1</td>\n",
       "      <td>0</td>\n",
       "      <td>0.0</td>\n",
       "      <td>104.35</td>\n",
       "    </tr>\n",
       "    <tr>\n",
       "      <th>10614</th>\n",
       "      <td>B00LN1FA5U</td>\n",
       "      <td>Granvela imbson A802 Foldable Headphone Headse...</td>\n",
       "      <td>Granvela</td>\n",
       "      <td>18 Hours of Continuous Playback time, 3 Minute...</td>\n",
       "      <td>Specifications: Standard charge time:Approx.2 ...</td>\n",
       "      <td>49.90</td>\n",
       "      <td>14.29</td>\n",
       "      <td>141.747615</td>\n",
       "      <td>6</td>\n",
       "      <td>6348</td>\n",
       "      <td>0</td>\n",
       "      <td>0</td>\n",
       "      <td>0</td>\n",
       "      <td>30</td>\n",
       "      <td>4.0</td>\n",
       "      <td>35.61</td>\n",
       "    </tr>\n",
       "    <tr>\n",
       "      <th>10615</th>\n",
       "      <td>B00HAV75GE</td>\n",
       "      <td>KOKKIA MarathonS Sports Buds : Tiny aptX Ver 4...</td>\n",
       "      <td>KOKKIA</td>\n",
       "      <td>Tiny MarathonS aptX V4.X Bluetooth Stereo Head...</td>\n",
       "      <td>MarathonS aptX hi-fidelity stereo music Blueto...</td>\n",
       "      <td>29.99</td>\n",
       "      <td>0.00</td>\n",
       "      <td>8.504857</td>\n",
       "      <td>7</td>\n",
       "      <td>6221</td>\n",
       "      <td>0</td>\n",
       "      <td>1</td>\n",
       "      <td>1</td>\n",
       "      <td>35</td>\n",
       "      <td>3.5</td>\n",
       "      <td>29.99</td>\n",
       "    </tr>\n",
       "    <tr>\n",
       "      <th>10616</th>\n",
       "      <td>B015J59F5Q</td>\n",
       "      <td>Mydeal Bluetooth Beanie Hat Adult Unisex Trend...</td>\n",
       "      <td>MyDeal Products</td>\n",
       "      <td>Style and Tech Combine: 100% Soft Acrylic,doub...</td>\n",
       "      <td>Mydeal pays more attention to Innovation and Q...</td>\n",
       "      <td>49.99</td>\n",
       "      <td>26.99</td>\n",
       "      <td>107.728188</td>\n",
       "      <td>7</td>\n",
       "      <td>0</td>\n",
       "      <td>0</td>\n",
       "      <td>0</td>\n",
       "      <td>1</td>\n",
       "      <td>96</td>\n",
       "      <td>4.1</td>\n",
       "      <td>23.00</td>\n",
       "    </tr>\n",
       "    <tr>\n",
       "      <th>10617</th>\n",
       "      <td>B01CNM9RJC</td>\n",
       "      <td>ZenNutt Hands Free Wireless Bluetooth Headband...</td>\n",
       "      <td>ZenNutt</td>\n",
       "      <td>Provides wireless freedom to you,which is a fa...</td>\n",
       "      <td>Specifications: Bluetooth Version: V3.0+EDR Fr...</td>\n",
       "      <td>16.98</td>\n",
       "      <td>12.45</td>\n",
       "      <td>NaN</td>\n",
       "      <td>7</td>\n",
       "      <td>5317</td>\n",
       "      <td>1</td>\n",
       "      <td>0</td>\n",
       "      <td>0</td>\n",
       "      <td>10</td>\n",
       "      <td>4.1</td>\n",
       "      <td>4.53</td>\n",
       "    </tr>\n",
       "    <tr>\n",
       "      <th>10618</th>\n",
       "      <td>B019DDNRC2</td>\n",
       "      <td>Bluetooth 4.0+APTX Headphones -- GRDE® Sweat-p...</td>\n",
       "      <td>GRDE®</td>\n",
       "      <td>Retractable Earbuds : Easy to adjust the lengt...</td>\n",
       "      <td>Let you enjoy the leisure life more comfortabl...</td>\n",
       "      <td>29.99</td>\n",
       "      <td>0.00</td>\n",
       "      <td>68.038855</td>\n",
       "      <td>6</td>\n",
       "      <td>1759</td>\n",
       "      <td>0</td>\n",
       "      <td>0</td>\n",
       "      <td>1</td>\n",
       "      <td>70</td>\n",
       "      <td>3.0</td>\n",
       "      <td>29.99</td>\n",
       "    </tr>\n",
       "    <tr>\n",
       "      <th>10620</th>\n",
       "      <td>B01A0NBPYG</td>\n",
       "      <td>Towallmark(TM) New Wireless Bluetooth Earphone...</td>\n",
       "      <td>towallmark</td>\n",
       "      <td>How to use: Press the power button(the BLUE pa...</td>\n",
       "      <td>Feature: 100% brand new and high quality Outst...</td>\n",
       "      <td>8.94</td>\n",
       "      <td>0.00</td>\n",
       "      <td>31.184475</td>\n",
       "      <td>1</td>\n",
       "      <td>7311</td>\n",
       "      <td>0</td>\n",
       "      <td>0</td>\n",
       "      <td>0</td>\n",
       "      <td>0</td>\n",
       "      <td>0.0</td>\n",
       "      <td>8.94</td>\n",
       "    </tr>\n",
       "    <tr>\n",
       "      <th>10622</th>\n",
       "      <td>B00NQG2WC4</td>\n",
       "      <td>Samsung HM1350 Wireless Hands Free Bluetooth H...</td>\n",
       "      <td>Samsung</td>\n",
       "      <td>Simple Pairing technology automatically pairin...</td>\n",
       "      <td>The Samsung HM1350 mono Bluetooth headset offe...</td>\n",
       "      <td>29.99</td>\n",
       "      <td>0.00</td>\n",
       "      <td>8.504857</td>\n",
       "      <td>5</td>\n",
       "      <td>4698</td>\n",
       "      <td>0</td>\n",
       "      <td>0</td>\n",
       "      <td>1</td>\n",
       "      <td>7</td>\n",
       "      <td>3.6</td>\n",
       "      <td>29.99</td>\n",
       "    </tr>\n",
       "    <tr>\n",
       "      <th>10623</th>\n",
       "      <td>B017ERD7IS</td>\n",
       "      <td>Universal Bluetooth Headphones Wireless Hands-...</td>\n",
       "      <td>Duto</td>\n",
       "      <td>Stereo bluetooth version 4.0/ A2DP profile, pr...</td>\n",
       "      <td>Specification Standby time/Talk time: Up to 50...</td>\n",
       "      <td>49.99</td>\n",
       "      <td>0.00</td>\n",
       "      <td>68.038855</td>\n",
       "      <td>5</td>\n",
       "      <td>501</td>\n",
       "      <td>0</td>\n",
       "      <td>1</td>\n",
       "      <td>0</td>\n",
       "      <td>53</td>\n",
       "      <td>4.4</td>\n",
       "      <td>49.99</td>\n",
       "    </tr>\n",
       "    <tr>\n",
       "      <th>10624</th>\n",
       "      <td>B017K3NLEG</td>\n",
       "      <td>Moudio M100 Wireless Stereo Bluetooth Smart He...</td>\n",
       "      <td>Moudio</td>\n",
       "      <td>Bluetooth 4.0 chips hardware configuration ens...</td>\n",
       "      <td>Moudio M100 Sports Bluetooth Headphone: Feel t...</td>\n",
       "      <td>99.99</td>\n",
       "      <td>34.99</td>\n",
       "      <td>68.038855</td>\n",
       "      <td>7</td>\n",
       "      <td>1987</td>\n",
       "      <td>0</td>\n",
       "      <td>0</td>\n",
       "      <td>0</td>\n",
       "      <td>194</td>\n",
       "      <td>4.3</td>\n",
       "      <td>65.00</td>\n",
       "    </tr>\n",
       "    <tr>\n",
       "      <th>10625</th>\n",
       "      <td>B0169SNKCQ</td>\n",
       "      <td>NoiseHush Bluetooth Headset for Apple &amp; Other ...</td>\n",
       "      <td>NoiseHush</td>\n",
       "      <td>A Trusted American Brand. Don't be misheard: a...</td>\n",
       "      <td>The Noise Hush N720M Bluetooth Headset sets a ...</td>\n",
       "      <td>59.99</td>\n",
       "      <td>0.00</td>\n",
       "      <td>28.349523</td>\n",
       "      <td>3</td>\n",
       "      <td>3684</td>\n",
       "      <td>0</td>\n",
       "      <td>1</td>\n",
       "      <td>1</td>\n",
       "      <td>9</td>\n",
       "      <td>3.8</td>\n",
       "      <td>59.99</td>\n",
       "    </tr>\n",
       "    <tr>\n",
       "      <th>10626</th>\n",
       "      <td>B015HGREUK</td>\n",
       "      <td>Beyda NEW Bluetooth headsets Bluetooth Headpho...</td>\n",
       "      <td>Beyda</td>\n",
       "      <td>Hi-Fi quality surrounding stereo music, comfor...</td>\n",
       "      <td>Beyda BT-003B1 is a sleek comfort Bluetooth he...</td>\n",
       "      <td>19.99</td>\n",
       "      <td>18.99</td>\n",
       "      <td>22.679618</td>\n",
       "      <td>6</td>\n",
       "      <td>2624</td>\n",
       "      <td>1</td>\n",
       "      <td>1</td>\n",
       "      <td>0</td>\n",
       "      <td>17</td>\n",
       "      <td>4.2</td>\n",
       "      <td>1.00</td>\n",
       "    </tr>\n",
       "    <tr>\n",
       "      <th>10627</th>\n",
       "      <td>B00OGO6TV0</td>\n",
       "      <td>Ipanda® Jamz Behind the Neck Bluetooth Stereo ...</td>\n",
       "      <td>iPanda Electronics</td>\n",
       "      <td>NaN</td>\n",
       "      <td>Being constantly on-the-go means that your han...</td>\n",
       "      <td>29.99</td>\n",
       "      <td>0.00</td>\n",
       "      <td>22.679618</td>\n",
       "      <td>1</td>\n",
       "      <td>6332</td>\n",
       "      <td>0</td>\n",
       "      <td>0</td>\n",
       "      <td>1</td>\n",
       "      <td>4</td>\n",
       "      <td>2.0</td>\n",
       "      <td>29.99</td>\n",
       "    </tr>\n",
       "  </tbody>\n",
       "</table>\n",
       "<p>9339 rows × 16 columns</p>\n",
       "</div>"
      ],
      "text/plain": [
       "       product_id                                       product_name  \\\n",
       "0      B012N7X65S  Trendwoo Runner X9 Bluetooth 4.0 Wireless Ster...   \n",
       "1      B016OADE1Q  Bluetooth 4.1 Headphones,LADEY Wireless Blueto...   \n",
       "3      B017RDCZ1Y  PowerLead S200 Bluetooth 4.1 Sport Gym Running...   \n",
       "6      B00IJG54RQ  SHOWERDOORDIRECT.COM WWBS-BU Waterproof Blueto...   \n",
       "7      B00XQSQKI4  BluBeats Bluetooth Headset, High-Quality, Cris...   \n",
       "8      B01AD9XU04  OEM [2016 Version] Sport Handsfree, Stereo V8 ...   \n",
       "9      B00XLQWHI8  BSI 3pcs Metal Clasps for Fitbit Charge Band W...   \n",
       "10     B00Y4M01JA  Bluetooth Headphones, TOTU Wireless Bluetooth ...   \n",
       "11     B011Y3GU0U  Bluetooth Wireless HandFree Sports Stereo Head...   \n",
       "12     B00NG57HF2  Sony MDR-XB950BT/H Extra Bass Bluetooth Headse...   \n",
       "13     B00Z0ME68A  Newest Smallest Wireless Invisible Bluetooth M...   \n",
       "14     B01CS5VUEO  Uniway E5S High Definition Earbud In-ear Bluet...   \n",
       "15     B005FVNHBI  Jabra SPORT Bluetooth Stereo Headset - Black/Y...   \n",
       "16     B009923WIW  On-Ear Bluetooth Headphones Wireless + Wired T...   \n",
       "17     B019EU13RK  Ularmo 2015 New Popular Wireless Bluetooth Ear...   \n",
       "18     B005FVNHBI  Jabra SPORT Bluetooth Stereo Headset - Black/Y...   \n",
       "19     B019TVHVDY  Wireless Headphones, OCTOPUS Bluetooth Earbuds...   \n",
       "21     B0080ARADC  1 pc New Medium Size Good Quality Eargel for P...   \n",
       "22     B00DVU9HIC  Hercules Ultra-Compact Bluetooth 2.0 Speaker -...   \n",
       "23     B00O8PWW7W  Insten Bluetooth Wireless Running Gym Fitness ...   \n",
       "24     B006C6DZDK              Plantronics Savi W745 Earset 86507-01   \n",
       "25     B0195K8714  BSI New Silver Metal Necklace With New Unique ...   \n",
       "26     B01AAHLH6S  Bluetooth Headphones, DolTech Bluetooth Headse...   \n",
       "27     B00N43EREA  Kinivo BTH240 Limited Edition Bluetooth Stereo...   \n",
       "28     B00ZLOSVH4  Bluetooth Headset, Wires That Work® T0782 Univ...   \n",
       "29     B0181S7Y6A  Fetta Universal Wireless Bluetooth Headset Ste...   \n",
       "30     B00LN1GEFK  Granvela Imbson A802 Foldable Headphone Headse...   \n",
       "31     B012NOVH70  Enegg Universal Smallest Wireless BLuetooth In...   \n",
       "32     B01C3NFGGO  Bluetooth Headphone Winsbotech Bluetooth 4.0 W...   \n",
       "33     B00T3NEDI0  BSI Set 1 Pink and 1 Teal Replacement Bands & ...   \n",
       "...           ...                                                ...   \n",
       "10593  B016WCI1R8  Bluetooth Earbuds, Bluetooth Headphones, Dolte...   \n",
       "10594  B01AJL171K  Bluetooth Earphones,DLAND Wireless Mic Noise C...   \n",
       "10595  B01A6TJV0E  Bluetooth Headset, Lookatool® Mini Ultra-small...   \n",
       "10597  B019WBJ78S  Twinbuys Each B3505 3.5mm Wireless Bluetooth S...   \n",
       "10598  B015OJ0JN4  RQN Outdoor Bluetooth Hat Wireless Bluetooth H...   \n",
       "10599  B00LZRFB10  JIAFENG Bluetooth Wireless Headphone Bluetooth...   \n",
       "10600  B014R5TFVS  AngLink Mini Wireless Bluetooth 4.1 Stereo Hea...   \n",
       "10601  B00Q2JKF94  Sunvito HBS-740 Wireless Bluetooth 4.0 Music S...   \n",
       "10602  B00QIIYI6U  MiNi Bluetooth Wireless In-Ear Headphones Head...   \n",
       "10604  B012D1M0TC  Marsboy Bluetooth V4.0 Headphones Wireless Swi...   \n",
       "10605  B01ABVLU9C  Keweier Mini Bluetooth Wireless Headphones wit...   \n",
       "10606  B019ROX9K2  AUGLAMOUR Original R8 HIFI Music Headphone Sup...   \n",
       "10607  B016HICONE  Top-Longer Wireless Bluetooth V4.0 Bluetooth H...   \n",
       "10608  B011ID4VDO  Kasstino Bluetooth Mini Lightweight Wireless S...   \n",
       "10609  B00OOFMHL2  Masentek H26 Fashion Wireless V3.0+EDR Bluetoo...   \n",
       "10610  B019OOIN60  Selectec Wireless 4.0 Bluetooth Headset Headph...   \n",
       "10611  B013DAQOJ4  Rymemo 2016 Newest Universal Wireless Bluetoot...   \n",
       "10613  B00ZCOJDDO  N Logitech H800 Wireless Bluetooth Headset for...   \n",
       "10614  B00LN1FA5U  Granvela imbson A802 Foldable Headphone Headse...   \n",
       "10615  B00HAV75GE  KOKKIA MarathonS Sports Buds : Tiny aptX Ver 4...   \n",
       "10616  B015J59F5Q  Mydeal Bluetooth Beanie Hat Adult Unisex Trend...   \n",
       "10617  B01CNM9RJC  ZenNutt Hands Free Wireless Bluetooth Headband...   \n",
       "10618  B019DDNRC2  Bluetooth 4.0+APTX Headphones -- GRDE® Sweat-p...   \n",
       "10620  B01A0NBPYG  Towallmark(TM) New Wireless Bluetooth Earphone...   \n",
       "10622  B00NQG2WC4  Samsung HM1350 Wireless Hands Free Bluetooth H...   \n",
       "10623  B017ERD7IS  Universal Bluetooth Headphones Wireless Hands-...   \n",
       "10624  B017K3NLEG  Moudio M100 Wireless Stereo Bluetooth Smart He...   \n",
       "10625  B0169SNKCQ  NoiseHush Bluetooth Headset for Apple & Other ...   \n",
       "10626  B015HGREUK  Beyda NEW Bluetooth headsets Bluetooth Headpho...   \n",
       "10627  B00OGO6TV0  Ipanda® Jamz Behind the Neck Bluetooth Stereo ...   \n",
       "\n",
       "            product_brand                                     product_detail  \\\n",
       "0                Trendwoo  Enter your model number above to make sure thi...   \n",
       "1                   LADEY  Bluetooth 4.1,support volume control,it also c...   \n",
       "3               PowerLead  Premuim high quality CSR chip allows this head...   \n",
       "6      SHOWER DOOR DIRECT  Enter your model number above to make sure thi...   \n",
       "7             Klip xtreme  Mobile headset with Bluetooth wireless technol...   \n",
       "8                BlueRay®  Brand New and High Quality Suitable For BLU St...   \n",
       "9                      PL  BSI 3pcs Metal Clasps for Fitbit Charge Band W...   \n",
       "10                   TOTU  Advanced Technology: With bluetooth 4.0 and ap...   \n",
       "11               Doormoon  100% brand new!! Compatible with Advanced Blue...   \n",
       "12                   Sony  This product has a Bluetooth.By Bluetooth,you ...   \n",
       "13                   EGRD  The Newest bluetooth headset with  lightweight...   \n",
       "14                 Uniway  Easy upgrade from standard earphones:This earp...   \n",
       "15                  Jabra  Secure & Comfortable Fit During Workouts Us Mi...   \n",
       "16                    HDE  Enter your model number above to make sure thi...   \n",
       "17                Ularmo®  Build in Micphone,easy free Talk Music Time: U...   \n",
       "18                  Jabra  Secure & Comfortable Fit During Workouts Us Mi...   \n",
       "19                Octopus  ADVANCED TECHNOLOGY: Fast UNDER 2 HOURS chargi...   \n",
       "21                     PL  Enter your model number above to make sure thi...   \n",
       "22               Hercules  Enter your model number above to make sure thi...   \n",
       "23                 INSTEN  Enjoy wireless music and answer your call with...   \n",
       "24            Plantronics         Connection Type: Wireless Sound Mode: Mono   \n",
       "25                     PL  New Elegant Silver Metal Necklace With New Uni...   \n",
       "26                DolTech  Bluetooth Function: Compatible with Advanced B...   \n",
       "27                 Kinivo  Compatible with Bluetooth enabled music player...   \n",
       "28        Wires That Work  FUTURE PROOF: Noise-cancelling microphone redu...   \n",
       "29                  Fetta  Bluetooth version 4.0 built with well-known CS...   \n",
       "30               Granvela  18 Hours of Continuous Playback time, 3 Minute...   \n",
       "31                  Enegg  The Newest bluetooth headset with lightweight ...   \n",
       "32             winsbotech  NEW BLUETOOTH TECHNOLOGY --- Bluetooth 4.0 + E...   \n",
       "33                     PL  BSI Set 1 Pink and 1 Teal Replacement Bands & ...   \n",
       "...                   ...                                                ...   \n",
       "10593             DolTech  HIGH-FIDELITY - Provide High-fidelity stereo m...   \n",
       "10594               DLAND  Elegant appearance and Multi-function:answer/e...   \n",
       "10595           Lookatool  Taiwan and the bluetooth master control chip. ...   \n",
       "10597            Twinbuys  Wireless bluetooth headset compatible with blu...   \n",
       "10598                 RQN  1. You can keep warm and speakerphone, enjoy t...   \n",
       "10599             JiaFeng  Support LINE-IN mode and multi-media playing W...   \n",
       "10600             anglink  Compact portable design: the mini light-weight...   \n",
       "10601             Sunvito  Brand new and high quality. Support Bluetooth ...   \n",
       "10602             Generic  Enter your model number above to make sure thi...   \n",
       "10604             Marsboy  Enter your model number above to make sure thi...   \n",
       "10605                 KWE  Sweat-proof, durable design, Onscreen Battery ...   \n",
       "10606           AUGLAMOUR  Enter your model number above to make sure thi...   \n",
       "10607          Top-Longer  Compatible with Apple and Android smart phones...   \n",
       "10608            Kasstino  Bluetooth V4.0 Portable lightweight and sweatp...   \n",
       "10609           Cyber-Bay  It is wireless headset. In the Box: headset, e...   \n",
       "10610            Selectec  Bluetooth version: 4.0+aptx Pair two phones wi...   \n",
       "10611              Rymemo  BLUETOOTH FUNCTION:100% brand new!! Compatible...   \n",
       "10613        Halothailand  Enter your model number above to make sure thi...   \n",
       "10614            Granvela  18 Hours of Continuous Playback time, 3 Minute...   \n",
       "10615              KOKKIA  Tiny MarathonS aptX V4.X Bluetooth Stereo Head...   \n",
       "10616     MyDeal Products  Style and Tech Combine: 100% Soft Acrylic,doub...   \n",
       "10617             ZenNutt  Provides wireless freedom to you,which is a fa...   \n",
       "10618               GRDE®  Retractable Earbuds : Easy to adjust the lengt...   \n",
       "10620          towallmark  How to use: Press the power button(the BLUE pa...   \n",
       "10622             Samsung  Simple Pairing technology automatically pairin...   \n",
       "10623                Duto  Stereo bluetooth version 4.0/ A2DP profile, pr...   \n",
       "10624              Moudio  Bluetooth 4.0 chips hardware configuration ens...   \n",
       "10625           NoiseHush  A Trusted American Brand. Don't be misheard: a...   \n",
       "10626               Beyda  Hi-Fi quality surrounding stereo music, comfor...   \n",
       "10627  iPanda Electronics                                                NaN   \n",
       "\n",
       "                                     product_description  product_price  \\\n",
       "0      Features: Specifications: Model: Runner X9 Blu...          39.99   \n",
       "1      Sweatproof design,best choice when you do spor...          44.29   \n",
       "3      Product fetures: It's a high end smart sports ...          56.87   \n",
       "6      Now you can sing in your shower and enjoy all ...          69.99   \n",
       "7      Klip Xtreme BluBeats mobile headset with Bluet...          34.99   \n",
       "8      Compatible with any bluetooth enabled mobile p...          39.99   \n",
       "9      BSI 3pcs Metal Clasps for Fitbit Charge Band W...           6.02   \n",
       "10     About TOTU: TOTU use the best material and bra...         139.99   \n",
       "11     Designed with precision and feature the highes...          20.80   \n",
       "12     Headphone parts Model: closed dynamic. Driver ...         169.40   \n",
       "13     Package Include: 1.One EGRD earbud 2.One instr...          45.99   \n",
       "14     Product descriptions: This headphone not only ...          19.89   \n",
       "15     Jabra 100-96600000-02 Sport Bluetooth(R) Stere...          99.99   \n",
       "16     Premium Design The classic, yet bold, design o...          39.99   \n",
       "17     How to use: Press the power button(the BLUE pa...          10.50   \n",
       "18     Jabra 100-96600000-02 Sport Bluetooth(R) Stere...          99.99   \n",
       "19     *** Powerful and Stylish *** The new 2016 mode...          69.95   \n",
       "21     1 pc New Medium Size Good Quality Eargel for P...          10.99   \n",
       "22     The Hercules WAE-BTP03 Mini Bluetooth 2.0 Spea...          79.99   \n",
       "23     Enjoy wireless music and answer your call with...          13.84   \n",
       "24     Plantronics Savi W745 Earset 86507-01 Headsets...         449.95   \n",
       "25     BSI New Elegant Silver Metal Necklace With New...          39.99   \n",
       "26     Description: Bluetooth Function: Compatible wi...          75.99   \n",
       "27     The Kinivo BTH240 is a redesign of our top sel...          54.99   \n",
       "28     Noise-cancelling microphone reduces background...          36.99   \n",
       "29     Features Automatically Play/Pause music on inc...          12.99   \n",
       "30     Specifications: Standard charge time:Approx.2 ...          49.90   \n",
       "31     Handsfree call and listen Music, Freely switch...          39.99   \n",
       "32     Key Feature: 1.Advanced Bluetooth 4.0 technolo...          59.99   \n",
       "33     BSI Set 1 Pink and 1 Teal Replacement Bands & ...          24.99   \n",
       "...                                                  ...            ...   \n",
       "10593  DolTech 2015 Newest Premium Music Mini Sports ...          88.99   \n",
       "10594  Specifications: compatible with most Bluetooth...          18.99   \n",
       "10595  Spescification: Bluetooth version:V4.0 + EDR B...           5.74   \n",
       "10597  Overview This B3505 wireless bluetooth stereo ...          35.99   \n",
       "10598  Technology Spec:Size:One size fits most Blueto...          99.00   \n",
       "10599  The wireless headset support LINE-IN mode and ...          55.99   \n",
       "10600  Product Description Hear it all-music, calls a...          19.99   \n",
       "10601  Specifications: -Length of data cable: 77cm -F...          75.96   \n",
       "10602  Resistant to scratches, dust and spills, Keep ...           8.96   \n",
       "10604  Marsboy New Version Bluetooth 4.0 Headphones T...          39.99   \n",
       "10605                                                NaN          18.88   \n",
       "10606  Features: Ergonomics cavity design: R8 offers ...          35.83   \n",
       "10607  Product Description - Compatible with most cel...          46.00   \n",
       "10608  Technical specification: Bluetooth Specificati...           8.91   \n",
       "10609  This is a mono headset with bluetooth wireless...          29.99   \n",
       "10610  Features: Hand free listening Listen to music,...          29.99   \n",
       "10611  Description Bluetooth Function: Compatible wit...          79.99   \n",
       "10613  Features Compatible Easily connect to and swit...         104.35   \n",
       "10614  Specifications: Standard charge time:Approx.2 ...          49.90   \n",
       "10615  MarathonS aptX hi-fidelity stereo music Blueto...          29.99   \n",
       "10616  Mydeal pays more attention to Innovation and Q...          49.99   \n",
       "10617  Specifications: Bluetooth Version: V3.0+EDR Fr...          16.98   \n",
       "10618  Let you enjoy the leisure life more comfortabl...          29.99   \n",
       "10620  Feature: 100% brand new and high quality Outst...           8.94   \n",
       "10622  The Samsung HM1350 mono Bluetooth headset offe...          29.99   \n",
       "10623  Specification Standby time/Talk time: Up to 50...          49.99   \n",
       "10624  Moudio M100 Sports Bluetooth Headphone: Feel t...          99.99   \n",
       "10625  The Noise Hush N720M Bluetooth Headset sets a ...          59.99   \n",
       "10626  Beyda BT-003B1 is a sleek comfort Bluetooth he...          19.99   \n",
       "10627  Being constantly on-the-go means that your han...          29.99   \n",
       "\n",
       "       product_sale       weight  photo_num  best_seller_rank  water_proof  \\\n",
       "0              0.00    82.213617          7              2318            1   \n",
       "1             14.26   861.825503          7              9289            1   \n",
       "3             40.54     8.504857          7              8379            0   \n",
       "6              0.00   221.126280          2              3779            0   \n",
       "7              0.00  9661.517481          4              5994            0   \n",
       "8             24.99    45.359237          7             11819            0   \n",
       "9              0.00          NaN          2             11609            0   \n",
       "10            19.99    14.174762          7                21            1   \n",
       "11            12.00          NaN          7             13412            0   \n",
       "12             0.00   680.388555          1              1290            0   \n",
       "13             0.00    28.349523          7                80            0   \n",
       "14             0.00     8.504857          7              7694            0   \n",
       "15             0.00    85.048569          7              2588            0   \n",
       "16             0.00   294.835040          6              3155            0   \n",
       "17             0.00          NaN          7              7424            0   \n",
       "18             0.00    85.048569          7              2588            0   \n",
       "19            18.95    68.038855          5              2383            0   \n",
       "21             0.00          NaN          2              5328            0   \n",
       "22             0.00   816.466266          3             14013            0   \n",
       "23             0.00    90.718474          6              5057            0   \n",
       "24             0.00   816.466266          1              4933            0   \n",
       "25             0.00     8.504857          3              2277            0   \n",
       "26            16.99    45.359237          7              5853            0   \n",
       "27            29.99   181.436948          7              1772            0   \n",
       "28             0.00    68.038855          5              5960            0   \n",
       "29             0.00    45.359237          7               519            0   \n",
       "30            14.29   141.747615          6              7017            0   \n",
       "31             0.00    22.679618          7              7848            0   \n",
       "32            16.99          NaN          7             12962            0   \n",
       "33             0.00          NaN          1             14284            0   \n",
       "...             ...          ...        ...               ...          ...   \n",
       "10593         15.99    39.689332          5              8773            1   \n",
       "10594          0.00     8.504857          7                13            0   \n",
       "10595          0.00    14.174762          5               652            0   \n",
       "10597          0.00   218.291328          7             11734            0   \n",
       "10598          0.00    90.718474          3              7561            0   \n",
       "10599          0.00   317.514659          3              9819            0   \n",
       "10600         13.99     8.504857          7              3551            0   \n",
       "10601         13.89     8.504857          6              3771            0   \n",
       "10602          0.00    28.349523          5             10446            0   \n",
       "10604          0.00    99.223331          7              4946            0   \n",
       "10605          0.00    45.359237          4              1263            0   \n",
       "10606          0.00   277.825326          7             10523            0   \n",
       "10607         24.99     8.504857          3             12068            0   \n",
       "10608          0.00     8.504857          7              2621            1   \n",
       "10609          0.00    22.679618          3              4502            0   \n",
       "10610          0.00          NaN          5             10066            0   \n",
       "10611         14.88    68.038855          6               928            0   \n",
       "10613          0.00          NaN          2             12773            0   \n",
       "10614         14.29   141.747615          6              6348            0   \n",
       "10615          0.00     8.504857          7              6221            0   \n",
       "10616         26.99   107.728188          7                 0            0   \n",
       "10617         12.45          NaN          7              5317            1   \n",
       "10618          0.00    68.038855          6              1759            0   \n",
       "10620          0.00    31.184475          1              7311            0   \n",
       "10622          0.00     8.504857          5              4698            0   \n",
       "10623          0.00    68.038855          5               501            0   \n",
       "10624         34.99    68.038855          7              1987            0   \n",
       "10625          0.00    28.349523          3              3684            0   \n",
       "10626         18.99    22.679618          6              2624            1   \n",
       "10627          0.00    22.679618          1              6332            0   \n",
       "\n",
       "       noise_cancel  micro_phone  review_num  review_rate  product_discount  \n",
       "0                 0            0         228          3.7             39.99  \n",
       "1                 1            0           0          0.0             30.03  \n",
       "3                 1            0          11          4.5             16.33  \n",
       "6                 0            0           0          0.0             69.99  \n",
       "7                 0            1           4          3.0             34.99  \n",
       "8                 0            0           0          0.0             15.00  \n",
       "9                 0            0           0          0.0              6.02  \n",
       "10                0            1         905          3.3            120.00  \n",
       "11                0            0           0          0.0              8.80  \n",
       "12                0            0          21          4.9            169.40  \n",
       "13                0            1           1          3.1             45.99  \n",
       "14                1            1           0          0.0             19.89  \n",
       "15                0            1           1          2.8             99.99  \n",
       "16                0            1         459          3.7             39.99  \n",
       "17                0            0           0          0.0             10.50  \n",
       "18                0            1           1          2.8             99.99  \n",
       "19                1            1          28          4.5             51.00  \n",
       "21                0            0           0          0.0             10.99  \n",
       "22                0            1           0          0.0             79.99  \n",
       "23                0            0           7          3.1             13.84  \n",
       "24                0            0           3          3.5            449.95  \n",
       "25                0            0           3          3.3             39.99  \n",
       "26                1            0          14          3.2             59.00  \n",
       "27                0            0          56          4.1             25.00  \n",
       "28                1            1          23          3.7             36.99  \n",
       "29                0            0         229          3.8             12.99  \n",
       "30                0            0          30          4.0             35.61  \n",
       "31                0            1          16          2.6             39.99  \n",
       "32                1            1           2          4.0             43.00  \n",
       "33                0            0           0          0.0             24.99  \n",
       "...             ...          ...         ...          ...               ...  \n",
       "10593             1            0           4          3.6             73.00  \n",
       "10594             1            1          37          4.7             18.99  \n",
       "10595             0            0           7          4.7              5.74  \n",
       "10597             1            0           0          0.0             35.99  \n",
       "10598             0            0          19          4.1             99.00  \n",
       "10599             0            1           3          3.3             55.99  \n",
       "10600             1            1          79          3.8              6.00  \n",
       "10601             0            0          38          3.5             62.07  \n",
       "10602             0            0           2          1.0              8.96  \n",
       "10604             0            0         403          3.5             39.99  \n",
       "10605             1            0           0          0.0             18.88  \n",
       "10606             0            0           0          0.0             35.83  \n",
       "10607             0            1           7          4.5             21.01  \n",
       "10608             1            1           4          4.0              8.91  \n",
       "10609             1            0          38          3.7             29.99  \n",
       "10610             0            0           0          0.0             29.99  \n",
       "10611             0            0          45          3.4             65.11  \n",
       "10613             0            1           0          0.0            104.35  \n",
       "10614             0            0          30          4.0             35.61  \n",
       "10615             1            1          35          3.5             29.99  \n",
       "10616             0            1          96          4.1             23.00  \n",
       "10617             0            0          10          4.1              4.53  \n",
       "10618             0            1          70          3.0             29.99  \n",
       "10620             0            0           0          0.0              8.94  \n",
       "10622             0            1           7          3.6             29.99  \n",
       "10623             1            0          53          4.4             49.99  \n",
       "10624             0            0         194          4.3             65.00  \n",
       "10625             1            1           9          3.8             59.99  \n",
       "10626             1            0          17          4.2              1.00  \n",
       "10627             0            1           4          2.0             29.99  \n",
       "\n",
       "[9339 rows x 16 columns]"
      ]
     },
     "execution_count": 286,
     "metadata": {},
     "output_type": "execute_result"
    }
   ],
   "source": [
    "my_data"
   ]
  },
  {
   "cell_type": "code",
   "execution_count": 14,
   "metadata": {
    "collapsed": false
   },
   "outputs": [
    {
     "name": "stderr",
     "output_type": "stream",
     "text": [
      "A newer version of GraphLab Create (v1.8.5) is available! Your current version is v1.8.4.\n",
      "\n",
      "You can use pip to upgrade the graphlab-create package. For more information see https://dato.com/products/create/upgrade.\n",
      "2016-04-15 16:42:14,112 [INFO] graphlab.cython.cy_server, 176: GraphLab Create v1.8.4 started. Logging: /tmp/graphlab_server_1460709732.log\n"
     ]
    },
    {
     "data": {
      "text/html": [
       "<pre>Finished parsing file /Users/Feelings/Programming/amazon-review/crawler/pd_result.csv</pre>"
      ],
      "text/plain": [
       "Finished parsing file /Users/Feelings/Programming/amazon-review/crawler/pd_result.csv"
      ]
     },
     "metadata": {},
     "output_type": "display_data"
    },
    {
     "data": {
      "text/html": [
       "<pre>Parsing completed. Parsed 100 lines in 0.221503 secs.</pre>"
      ],
      "text/plain": [
       "Parsing completed. Parsed 100 lines in 0.221503 secs."
      ]
     },
     "metadata": {},
     "output_type": "display_data"
    },
    {
     "name": "stdout",
     "output_type": "stream",
     "text": [
      "This non-commercial license of GraphLab Create is assigned to b99705016@ntu.edu.tw and will expire on March 02, 2017. For commercial licensing options, visit https://dato.com/buy/.\n",
      "------------------------------------------------------"
     ]
    },
    {
     "data": {
      "text/html": [
       "<pre>Finished parsing file /Users/Feelings/Programming/amazon-review/crawler/pd_result.csv</pre>"
      ],
      "text/plain": [
       "Finished parsing file /Users/Feelings/Programming/amazon-review/crawler/pd_result.csv"
      ]
     },
     "metadata": {},
     "output_type": "display_data"
    },
    {
     "data": {
      "text/html": [
       "<pre>Parsing completed. Parsed 9381 lines in 0.386209 secs.</pre>"
      ],
      "text/plain": [
       "Parsing completed. Parsed 9381 lines in 0.386209 secs."
      ]
     },
     "metadata": {},
     "output_type": "display_data"
    },
    {
     "name": "stdout",
     "output_type": "stream",
     "text": [
      "\n",
      "Inferred types from first line of file as \n",
      "column_type_hints=[int,str,str,str,str,str,float,float,float,int,int,int,int,int,int,float,float]\n",
      "If parsing fails due to incorrect types, you can correct\n",
      "the inferred type list above and pass it to read_csv in\n",
      "the column_type_hints argument\n",
      "------------------------------------------------------\n"
     ]
    }
   ],
   "source": [
    "#graphlab\n",
    "import graphlab\n",
    "gf = graphlab.SFrame('pd_result.csv')"
   ]
  },
  {
   "cell_type": "code",
   "execution_count": 15,
   "metadata": {
    "collapsed": false
   },
   "outputs": [],
   "source": [
    "gf['detail_tfidf'] = graphlab.text_analytics.tf_idf(gf['product_detail'])\n",
    "gf['description_tfidf'] = graphlab.text_analytics.tf_idf(gf['product_description'])"
   ]
  },
  {
   "cell_type": "code",
   "execution_count": 17,
   "metadata": {
    "collapsed": false
   },
   "outputs": [
    {
     "data": {
      "text/html": [
       "<pre>Starting brute force nearest neighbors model training.</pre>"
      ],
      "text/plain": [
       "Starting brute force nearest neighbors model training."
      ]
     },
     "metadata": {},
     "output_type": "display_data"
    },
    {
     "name": "stdout",
     "output_type": "stream",
     "text": [
      "Defaulting to brute force instead of ball tree because there are multiple distance components.\n"
     ]
    }
   ],
   "source": [
    "knn_model = graphlab.nearest_neighbors.create(gf, features=['detail_tfidf','description_tfidf'], label='product_id')"
   ]
  },
  {
   "cell_type": "code",
   "execution_count": 18,
   "metadata": {
    "collapsed": false
   },
   "outputs": [
    {
     "data": {
      "text/html": [
       "<pre>Starting pairwise querying.</pre>"
      ],
      "text/plain": [
       "Starting pairwise querying."
      ]
     },
     "metadata": {},
     "output_type": "display_data"
    },
    {
     "data": {
      "text/html": [
       "<pre>+--------------+---------+-------------+--------------+</pre>"
      ],
      "text/plain": [
       "+--------------+---------+-------------+--------------+"
      ]
     },
     "metadata": {},
     "output_type": "display_data"
    },
    {
     "data": {
      "text/html": [
       "<pre>| Query points | # Pairs | % Complete. | Elapsed Time |</pre>"
      ],
      "text/plain": [
       "| Query points | # Pairs | % Complete. | Elapsed Time |"
      ]
     },
     "metadata": {},
     "output_type": "display_data"
    },
    {
     "data": {
      "text/html": [
       "<pre>+--------------+---------+-------------+--------------+</pre>"
      ],
      "text/plain": [
       "+--------------+---------+-------------+--------------+"
      ]
     },
     "metadata": {},
     "output_type": "display_data"
    },
    {
     "data": {
      "text/html": [
       "<pre>| 0            | 1       | 0.0106598   | 16.482ms     |</pre>"
      ],
      "text/plain": [
       "| 0            | 1       | 0.0106598   | 16.482ms     |"
      ]
     },
     "metadata": {},
     "output_type": "display_data"
    },
    {
     "data": {
      "text/html": [
       "<pre>| Done         |         | 100         | 70.992ms     |</pre>"
      ],
      "text/plain": [
       "| Done         |         | 100         | 70.992ms     |"
      ]
     },
     "metadata": {},
     "output_type": "display_data"
    },
    {
     "data": {
      "text/html": [
       "<pre>+--------------+---------+-------------+--------------+</pre>"
      ],
      "text/plain": [
       "+--------------+---------+-------------+--------------+"
      ]
     },
     "metadata": {},
     "output_type": "display_data"
    },
    {
     "data": {
      "text/html": [
       "<div style=\"max-height:1000px;max-width:1500px;overflow:auto;\"><table frame=\"box\" rules=\"cols\">\n",
       "    <tr>\n",
       "        <th style=\"padding-left: 1em; padding-right: 1em; text-align: center\">query_label</th>\n",
       "        <th style=\"padding-left: 1em; padding-right: 1em; text-align: center\">reference_label</th>\n",
       "        <th style=\"padding-left: 1em; padding-right: 1em; text-align: center\">distance</th>\n",
       "        <th style=\"padding-left: 1em; padding-right: 1em; text-align: center\">rank</th>\n",
       "    </tr>\n",
       "    <tr>\n",
       "        <td style=\"padding-left: 1em; padding-right: 1em; text-align: center; vertical-align: top\">0</td>\n",
       "        <td style=\"padding-left: 1em; padding-right: 1em; text-align: center; vertical-align: top\">B012N7X65S</td>\n",
       "        <td style=\"padding-left: 1em; padding-right: 1em; text-align: center; vertical-align: top\">0.0</td>\n",
       "        <td style=\"padding-left: 1em; padding-right: 1em; text-align: center; vertical-align: top\">1</td>\n",
       "    </tr>\n",
       "    <tr>\n",
       "        <td style=\"padding-left: 1em; padding-right: 1em; text-align: center; vertical-align: top\">0</td>\n",
       "        <td style=\"padding-left: 1em; padding-right: 1em; text-align: center; vertical-align: top\">B012N7WVW2</td>\n",
       "        <td style=\"padding-left: 1em; padding-right: 1em; text-align: center; vertical-align: top\">0.0</td>\n",
       "        <td style=\"padding-left: 1em; padding-right: 1em; text-align: center; vertical-align: top\">2</td>\n",
       "    </tr>\n",
       "    <tr>\n",
       "        <td style=\"padding-left: 1em; padding-right: 1em; text-align: center; vertical-align: top\">0</td>\n",
       "        <td style=\"padding-left: 1em; padding-right: 1em; text-align: center; vertical-align: top\">B015W1SY1I</td>\n",
       "        <td style=\"padding-left: 1em; padding-right: 1em; text-align: center; vertical-align: top\">1.23811107416</td>\n",
       "        <td style=\"padding-left: 1em; padding-right: 1em; text-align: center; vertical-align: top\">3</td>\n",
       "    </tr>\n",
       "    <tr>\n",
       "        <td style=\"padding-left: 1em; padding-right: 1em; text-align: center; vertical-align: top\">0</td>\n",
       "        <td style=\"padding-left: 1em; padding-right: 1em; text-align: center; vertical-align: top\">B015W1SWRE</td>\n",
       "        <td style=\"padding-left: 1em; padding-right: 1em; text-align: center; vertical-align: top\">1.23811107416</td>\n",
       "        <td style=\"padding-left: 1em; padding-right: 1em; text-align: center; vertical-align: top\">4</td>\n",
       "    </tr>\n",
       "    <tr>\n",
       "        <td style=\"padding-left: 1em; padding-right: 1em; text-align: center; vertical-align: top\">0</td>\n",
       "        <td style=\"padding-left: 1em; padding-right: 1em; text-align: center; vertical-align: top\">B015W1SVH0</td>\n",
       "        <td style=\"padding-left: 1em; padding-right: 1em; text-align: center; vertical-align: top\">1.23811107416</td>\n",
       "        <td style=\"padding-left: 1em; padding-right: 1em; text-align: center; vertical-align: top\">5</td>\n",
       "    </tr>\n",
       "</table>\n",
       "[5 rows x 4 columns]<br/>\n",
       "</div>"
      ],
      "text/plain": [
       "Columns:\n",
       "\tquery_label\tint\n",
       "\treference_label\tstr\n",
       "\tdistance\tfloat\n",
       "\trank\tint\n",
       "\n",
       "Rows: 5\n",
       "\n",
       "Data:\n",
       "+-------------+-----------------+---------------+------+\n",
       "| query_label | reference_label |    distance   | rank |\n",
       "+-------------+-----------------+---------------+------+\n",
       "|      0      |    B012N7X65S   |      0.0      |  1   |\n",
       "|      0      |    B012N7WVW2   |      0.0      |  2   |\n",
       "|      0      |    B015W1SY1I   | 1.23811107416 |  3   |\n",
       "|      0      |    B015W1SWRE   | 1.23811107416 |  4   |\n",
       "|      0      |    B015W1SVH0   | 1.23811107416 |  5   |\n",
       "+-------------+-----------------+---------------+------+\n",
       "[5 rows x 4 columns]"
      ]
     },
     "execution_count": 18,
     "metadata": {},
     "output_type": "execute_result"
    }
   ],
   "source": [
    "knn_model.query(gf[gf['product_id']=='B012N7X65S'])"
   ]
  },
  {
   "cell_type": "code",
   "execution_count": 21,
   "metadata": {
    "collapsed": false
   },
   "outputs": [
    {
     "data": {
      "text/html": [
       "<pre>Starting brute force nearest neighbors model training.</pre>"
      ],
      "text/plain": [
       "Starting brute force nearest neighbors model training."
      ]
     },
     "metadata": {},
     "output_type": "display_data"
    },
    {
     "name": "stdout",
     "output_type": "stream",
     "text": [
      "Defaulting to brute force instead of ball tree because there are multiple distance components.\n"
     ]
    }
   ],
   "source": [
    "knn_mixed_model = graphlab.nearest_neighbors.create(gf, features=['detail_tfidf','description_tfidf','water_proof','noise_cancel','micro_phone'], label='product_id')"
   ]
  },
  {
   "cell_type": "code",
   "execution_count": 20,
   "metadata": {
    "collapsed": false
   },
   "outputs": [
    {
     "data": {
      "text/html": [
       "<pre>Starting pairwise querying.</pre>"
      ],
      "text/plain": [
       "Starting pairwise querying."
      ]
     },
     "metadata": {},
     "output_type": "display_data"
    },
    {
     "data": {
      "text/html": [
       "<pre>+--------------+---------+-------------+--------------+</pre>"
      ],
      "text/plain": [
       "+--------------+---------+-------------+--------------+"
      ]
     },
     "metadata": {},
     "output_type": "display_data"
    },
    {
     "data": {
      "text/html": [
       "<pre>| Query points | # Pairs | % Complete. | Elapsed Time |</pre>"
      ],
      "text/plain": [
       "| Query points | # Pairs | % Complete. | Elapsed Time |"
      ]
     },
     "metadata": {},
     "output_type": "display_data"
    },
    {
     "data": {
      "text/html": [
       "<pre>+--------------+---------+-------------+--------------+</pre>"
      ],
      "text/plain": [
       "+--------------+---------+-------------+--------------+"
      ]
     },
     "metadata": {},
     "output_type": "display_data"
    },
    {
     "data": {
      "text/html": [
       "<pre>| 0            | 1       | 0.0106598   | 23.708ms     |</pre>"
      ],
      "text/plain": [
       "| 0            | 1       | 0.0106598   | 23.708ms     |"
      ]
     },
     "metadata": {},
     "output_type": "display_data"
    },
    {
     "data": {
      "text/html": [
       "<pre>| Done         |         | 100         | 84.273ms     |</pre>"
      ],
      "text/plain": [
       "| Done         |         | 100         | 84.273ms     |"
      ]
     },
     "metadata": {},
     "output_type": "display_data"
    },
    {
     "data": {
      "text/html": [
       "<pre>+--------------+---------+-------------+--------------+</pre>"
      ],
      "text/plain": [
       "+--------------+---------+-------------+--------------+"
      ]
     },
     "metadata": {},
     "output_type": "display_data"
    },
    {
     "data": {
      "text/html": [
       "<div style=\"max-height:1000px;max-width:1500px;overflow:auto;\"><table frame=\"box\" rules=\"cols\">\n",
       "    <tr>\n",
       "        <th style=\"padding-left: 1em; padding-right: 1em; text-align: center\">query_label</th>\n",
       "        <th style=\"padding-left: 1em; padding-right: 1em; text-align: center\">reference_label</th>\n",
       "        <th style=\"padding-left: 1em; padding-right: 1em; text-align: center\">distance</th>\n",
       "        <th style=\"padding-left: 1em; padding-right: 1em; text-align: center\">rank</th>\n",
       "    </tr>\n",
       "    <tr>\n",
       "        <td style=\"padding-left: 1em; padding-right: 1em; text-align: center; vertical-align: top\">0</td>\n",
       "        <td style=\"padding-left: 1em; padding-right: 1em; text-align: center; vertical-align: top\">B012N7X65S</td>\n",
       "        <td style=\"padding-left: 1em; padding-right: 1em; text-align: center; vertical-align: top\">0.0</td>\n",
       "        <td style=\"padding-left: 1em; padding-right: 1em; text-align: center; vertical-align: top\">1</td>\n",
       "    </tr>\n",
       "    <tr>\n",
       "        <td style=\"padding-left: 1em; padding-right: 1em; text-align: center; vertical-align: top\">0</td>\n",
       "        <td style=\"padding-left: 1em; padding-right: 1em; text-align: center; vertical-align: top\">B012N7WVW2</td>\n",
       "        <td style=\"padding-left: 1em; padding-right: 1em; text-align: center; vertical-align: top\">0.0</td>\n",
       "        <td style=\"padding-left: 1em; padding-right: 1em; text-align: center; vertical-align: top\">2</td>\n",
       "    </tr>\n",
       "    <tr>\n",
       "        <td style=\"padding-left: 1em; padding-right: 1em; text-align: center; vertical-align: top\">0</td>\n",
       "        <td style=\"padding-left: 1em; padding-right: 1em; text-align: center; vertical-align: top\">B015W1SY1I</td>\n",
       "        <td style=\"padding-left: 1em; padding-right: 1em; text-align: center; vertical-align: top\">1.23811107416</td>\n",
       "        <td style=\"padding-left: 1em; padding-right: 1em; text-align: center; vertical-align: top\">3</td>\n",
       "    </tr>\n",
       "    <tr>\n",
       "        <td style=\"padding-left: 1em; padding-right: 1em; text-align: center; vertical-align: top\">0</td>\n",
       "        <td style=\"padding-left: 1em; padding-right: 1em; text-align: center; vertical-align: top\">B015W1SWRE</td>\n",
       "        <td style=\"padding-left: 1em; padding-right: 1em; text-align: center; vertical-align: top\">1.23811107416</td>\n",
       "        <td style=\"padding-left: 1em; padding-right: 1em; text-align: center; vertical-align: top\">4</td>\n",
       "    </tr>\n",
       "    <tr>\n",
       "        <td style=\"padding-left: 1em; padding-right: 1em; text-align: center; vertical-align: top\">0</td>\n",
       "        <td style=\"padding-left: 1em; padding-right: 1em; text-align: center; vertical-align: top\">B015W1SVH0</td>\n",
       "        <td style=\"padding-left: 1em; padding-right: 1em; text-align: center; vertical-align: top\">1.23811107416</td>\n",
       "        <td style=\"padding-left: 1em; padding-right: 1em; text-align: center; vertical-align: top\">5</td>\n",
       "    </tr>\n",
       "</table>\n",
       "[5 rows x 4 columns]<br/>\n",
       "</div>"
      ],
      "text/plain": [
       "Columns:\n",
       "\tquery_label\tint\n",
       "\treference_label\tstr\n",
       "\tdistance\tfloat\n",
       "\trank\tint\n",
       "\n",
       "Rows: 5\n",
       "\n",
       "Data:\n",
       "+-------------+-----------------+---------------+------+\n",
       "| query_label | reference_label |    distance   | rank |\n",
       "+-------------+-----------------+---------------+------+\n",
       "|      0      |    B012N7X65S   |      0.0      |  1   |\n",
       "|      0      |    B012N7WVW2   |      0.0      |  2   |\n",
       "|      0      |    B015W1SY1I   | 1.23811107416 |  3   |\n",
       "|      0      |    B015W1SWRE   | 1.23811107416 |  4   |\n",
       "|      0      |    B015W1SVH0   | 1.23811107416 |  5   |\n",
       "+-------------+-----------------+---------------+------+\n",
       "[5 rows x 4 columns]"
      ]
     },
     "execution_count": 20,
     "metadata": {},
     "output_type": "execute_result"
    }
   ],
   "source": [
    "knn_mixed_model.query(gf[gf['product_id']=='B012N7X65S'])"
   ]
  },
  {
   "cell_type": "code",
   "execution_count": 26,
   "metadata": {
    "collapsed": true
   },
   "outputs": [],
   "source": [
    "#add price feature"
   ]
  },
  {
   "cell_type": "code",
   "execution_count": 25,
   "metadata": {
    "collapsed": true
   },
   "outputs": [],
   "source": [
    "#normalization\n",
    "gf[\"normalized_sale\"] = gf[\"product_sale\"] - gf[\"product_sale\"].min() / gf[\"product_sale\"].max() - gf[\"product_sale\"].min()"
   ]
  },
  {
   "cell_type": "code",
   "execution_count": 23,
   "metadata": {
    "collapsed": false
   },
   "outputs": [
    {
     "data": {
      "text/html": [
       "<pre>Starting brute force nearest neighbors model training.</pre>"
      ],
      "text/plain": [
       "Starting brute force nearest neighbors model training."
      ]
     },
     "metadata": {},
     "output_type": "display_data"
    },
    {
     "name": "stdout",
     "output_type": "stream",
     "text": [
      "Defaulting to brute force instead of ball tree because there are multiple distance components.\n"
     ]
    }
   ],
   "source": [
    "knn_mixed_model = graphlab.nearest_neighbors.create(gf, features=['detail_tfidf','description_tfidf','water_proof','noise_cancel','micro_phone','normalized_sale'], label='product_id')"
   ]
  },
  {
   "cell_type": "code",
   "execution_count": 24,
   "metadata": {
    "collapsed": false
   },
   "outputs": [
    {
     "data": {
      "text/html": [
       "<pre>Starting pairwise querying.</pre>"
      ],
      "text/plain": [
       "Starting pairwise querying."
      ]
     },
     "metadata": {},
     "output_type": "display_data"
    },
    {
     "data": {
      "text/html": [
       "<pre>+--------------+---------+-------------+--------------+</pre>"
      ],
      "text/plain": [
       "+--------------+---------+-------------+--------------+"
      ]
     },
     "metadata": {},
     "output_type": "display_data"
    },
    {
     "data": {
      "text/html": [
       "<pre>| Query points | # Pairs | % Complete. | Elapsed Time |</pre>"
      ],
      "text/plain": [
       "| Query points | # Pairs | % Complete. | Elapsed Time |"
      ]
     },
     "metadata": {},
     "output_type": "display_data"
    },
    {
     "data": {
      "text/html": [
       "<pre>+--------------+---------+-------------+--------------+</pre>"
      ],
      "text/plain": [
       "+--------------+---------+-------------+--------------+"
      ]
     },
     "metadata": {},
     "output_type": "display_data"
    },
    {
     "data": {
      "text/html": [
       "<pre>| 0            | 1       | 0.0106598   | 25.151ms     |</pre>"
      ],
      "text/plain": [
       "| 0            | 1       | 0.0106598   | 25.151ms     |"
      ]
     },
     "metadata": {},
     "output_type": "display_data"
    },
    {
     "data": {
      "text/html": [
       "<pre>| Done         |         | 100         | 97.112ms     |</pre>"
      ],
      "text/plain": [
       "| Done         |         | 100         | 97.112ms     |"
      ]
     },
     "metadata": {},
     "output_type": "display_data"
    },
    {
     "data": {
      "text/html": [
       "<pre>+--------------+---------+-------------+--------------+</pre>"
      ],
      "text/plain": [
       "+--------------+---------+-------------+--------------+"
      ]
     },
     "metadata": {},
     "output_type": "display_data"
    },
    {
     "data": {
      "text/html": [
       "<div style=\"max-height:1000px;max-width:1500px;overflow:auto;\"><table frame=\"box\" rules=\"cols\">\n",
       "    <tr>\n",
       "        <th style=\"padding-left: 1em; padding-right: 1em; text-align: center\">query_label</th>\n",
       "        <th style=\"padding-left: 1em; padding-right: 1em; text-align: center\">reference_label</th>\n",
       "        <th style=\"padding-left: 1em; padding-right: 1em; text-align: center\">distance</th>\n",
       "        <th style=\"padding-left: 1em; padding-right: 1em; text-align: center\">rank</th>\n",
       "    </tr>\n",
       "    <tr>\n",
       "        <td style=\"padding-left: 1em; padding-right: 1em; text-align: center; vertical-align: top\">0</td>\n",
       "        <td style=\"padding-left: 1em; padding-right: 1em; text-align: center; vertical-align: top\">B012N7X65S</td>\n",
       "        <td style=\"padding-left: 1em; padding-right: 1em; text-align: center; vertical-align: top\">0.0</td>\n",
       "        <td style=\"padding-left: 1em; padding-right: 1em; text-align: center; vertical-align: top\">1</td>\n",
       "    </tr>\n",
       "    <tr>\n",
       "        <td style=\"padding-left: 1em; padding-right: 1em; text-align: center; vertical-align: top\">0</td>\n",
       "        <td style=\"padding-left: 1em; padding-right: 1em; text-align: center; vertical-align: top\">B012N7WVW2</td>\n",
       "        <td style=\"padding-left: 1em; padding-right: 1em; text-align: center; vertical-align: top\">0.0</td>\n",
       "        <td style=\"padding-left: 1em; padding-right: 1em; text-align: center; vertical-align: top\">2</td>\n",
       "    </tr>\n",
       "    <tr>\n",
       "        <td style=\"padding-left: 1em; padding-right: 1em; text-align: center; vertical-align: top\">0</td>\n",
       "        <td style=\"padding-left: 1em; padding-right: 1em; text-align: center; vertical-align: top\">B00VLMUSPS</td>\n",
       "        <td style=\"padding-left: 1em; padding-right: 1em; text-align: center; vertical-align: top\">1.72049637479</td>\n",
       "        <td style=\"padding-left: 1em; padding-right: 1em; text-align: center; vertical-align: top\">3</td>\n",
       "    </tr>\n",
       "    <tr>\n",
       "        <td style=\"padding-left: 1em; padding-right: 1em; text-align: center; vertical-align: top\">0</td>\n",
       "        <td style=\"padding-left: 1em; padding-right: 1em; text-align: center; vertical-align: top\">B015E1OUOQ</td>\n",
       "        <td style=\"padding-left: 1em; padding-right: 1em; text-align: center; vertical-align: top\">1.77570876684</td>\n",
       "        <td style=\"padding-left: 1em; padding-right: 1em; text-align: center; vertical-align: top\">4</td>\n",
       "    </tr>\n",
       "    <tr>\n",
       "        <td style=\"padding-left: 1em; padding-right: 1em; text-align: center; vertical-align: top\">0</td>\n",
       "        <td style=\"padding-left: 1em; padding-right: 1em; text-align: center; vertical-align: top\">B015E1OLH2</td>\n",
       "        <td style=\"padding-left: 1em; padding-right: 1em; text-align: center; vertical-align: top\">1.77570876684</td>\n",
       "        <td style=\"padding-left: 1em; padding-right: 1em; text-align: center; vertical-align: top\">5</td>\n",
       "    </tr>\n",
       "</table>\n",
       "[5 rows x 4 columns]<br/>\n",
       "</div>"
      ],
      "text/plain": [
       "Columns:\n",
       "\tquery_label\tint\n",
       "\treference_label\tstr\n",
       "\tdistance\tfloat\n",
       "\trank\tint\n",
       "\n",
       "Rows: 5\n",
       "\n",
       "Data:\n",
       "+-------------+-----------------+---------------+------+\n",
       "| query_label | reference_label |    distance   | rank |\n",
       "+-------------+-----------------+---------------+------+\n",
       "|      0      |    B012N7X65S   |      0.0      |  1   |\n",
       "|      0      |    B012N7WVW2   |      0.0      |  2   |\n",
       "|      0      |    B00VLMUSPS   | 1.72049637479 |  3   |\n",
       "|      0      |    B015E1OUOQ   | 1.77570876684 |  4   |\n",
       "|      0      |    B015E1OLH2   | 1.77570876684 |  5   |\n",
       "+-------------+-----------------+---------------+------+\n",
       "[5 rows x 4 columns]"
      ]
     },
     "execution_count": 24,
     "metadata": {},
     "output_type": "execute_result"
    }
   ],
   "source": [
    "knn_mixed_model.query(gf[gf['product_id']=='B012N7X65S'])"
   ]
  },
  {
   "cell_type": "code",
   "execution_count": 82,
   "metadata": {
    "collapsed": false
   },
   "outputs": [],
   "source": [
    "tb = {}\n",
    "tb[\"brand\"] = my_data[\"product_brand\"]\n",
    "tb[\"price\"] = my_data[\"product_price\"]\n",
    "tb[\"sale\"] = my_data[\"product_sale\"]\n",
    "tb[\"review_number\"] = my_data[\"review_num\"]\n",
    "tb[\"review_rate\"] = my_data[\"review_rate\"]"
   ]
  },
  {
   "cell_type": "code",
   "execution_count": 102,
   "metadata": {
    "collapsed": false
   },
   "outputs": [],
   "source": [
    "def replaceSale(row):\n",
    "    if row[\"sale\"] == 0.0:\n",
    "        row[\"sale\"] = row[\"price\"]\n",
    "    return row"
   ]
  },
  {
   "cell_type": "code",
   "execution_count": null,
   "metadata": {
    "collapsed": false
   },
   "outputs": [],
   "source": [
    "tb = pd.DataFrame(tb)\n",
    "tb = tb.apply(replaceSale, axis=1)"
   ]
  },
  {
   "cell_type": "code",
   "execution_count": 86,
   "metadata": {
    "collapsed": false
   },
   "outputs": [],
   "source": [
    "tb[\"discount\"] = tb[\"price\"] - tb[\"sale\"]\n",
    "tb_csv = pd.DataFrame(tb).to_csv(\"tb.csv\")"
   ]
  },
  {
   "cell_type": "code",
   "execution_count": 67,
   "metadata": {
    "collapsed": true
   },
   "outputs": [],
   "source": [
    "#for review parsing"
   ]
  },
  {
   "cell_type": "code",
   "execution_count": 30,
   "metadata": {
    "collapsed": false
   },
   "outputs": [
    {
     "data": {
      "text/plain": [
       "9381"
      ]
     },
     "execution_count": 30,
     "metadata": {},
     "output_type": "execute_result"
    }
   ],
   "source": [
    "len(my_data[\"review_num\"])"
   ]
  },
  {
   "cell_type": "code",
   "execution_count": 64,
   "metadata": {
    "collapsed": false
   },
   "outputs": [],
   "source": [
    "import math\n",
    "my_data = pd.read_csv('new_result.csv', sep=',')\n",
    "review_page = pd.DataFrame()\n",
    "review_page[\"id\"] = my_data[\"product_id\"]\n",
    "review_page[\"page\"] = my_data[\"review_num\"].apply(lambda x: int(math.ceil(float(x)/50)))"
   ]
  },
  {
   "cell_type": "code",
   "execution_count": 65,
   "metadata": {
    "collapsed": false
   },
   "outputs": [
    {
     "data": {
      "text/html": [
       "<div>\n",
       "<table border=\"1\" class=\"dataframe\">\n",
       "  <thead>\n",
       "    <tr style=\"text-align: right;\">\n",
       "      <th></th>\n",
       "      <th>id</th>\n",
       "      <th>page</th>\n",
       "    </tr>\n",
       "  </thead>\n",
       "  <tbody>\n",
       "    <tr>\n",
       "      <th>0</th>\n",
       "      <td>B012N7X65S</td>\n",
       "      <td>5</td>\n",
       "    </tr>\n",
       "    <tr>\n",
       "      <th>1</th>\n",
       "      <td>B016OADE1Q</td>\n",
       "      <td>0</td>\n",
       "    </tr>\n",
       "    <tr>\n",
       "      <th>2</th>\n",
       "      <td>B005IYDFVO</td>\n",
       "      <td>1</td>\n",
       "    </tr>\n",
       "    <tr>\n",
       "      <th>3</th>\n",
       "      <td>B017RDCZ1Y</td>\n",
       "      <td>1</td>\n",
       "    </tr>\n",
       "    <tr>\n",
       "      <th>4</th>\n",
       "      <td>B01AHYVC8M</td>\n",
       "      <td>0</td>\n",
       "    </tr>\n",
       "    <tr>\n",
       "      <th>5</th>\n",
       "      <td>B0012YZQ9I</td>\n",
       "      <td>1</td>\n",
       "    </tr>\n",
       "    <tr>\n",
       "      <th>6</th>\n",
       "      <td>B00IJG54RQ</td>\n",
       "      <td>0</td>\n",
       "    </tr>\n",
       "    <tr>\n",
       "      <th>7</th>\n",
       "      <td>B00XQSQKI4</td>\n",
       "      <td>1</td>\n",
       "    </tr>\n",
       "    <tr>\n",
       "      <th>8</th>\n",
       "      <td>B01AD9XU04</td>\n",
       "      <td>0</td>\n",
       "    </tr>\n",
       "    <tr>\n",
       "      <th>9</th>\n",
       "      <td>B00XLQWHI8</td>\n",
       "      <td>0</td>\n",
       "    </tr>\n",
       "    <tr>\n",
       "      <th>10</th>\n",
       "      <td>B00Y4M01JA</td>\n",
       "      <td>19</td>\n",
       "    </tr>\n",
       "    <tr>\n",
       "      <th>11</th>\n",
       "      <td>B011Y3GU0U</td>\n",
       "      <td>0</td>\n",
       "    </tr>\n",
       "    <tr>\n",
       "      <th>12</th>\n",
       "      <td>B00NG57HF2</td>\n",
       "      <td>1</td>\n",
       "    </tr>\n",
       "    <tr>\n",
       "      <th>13</th>\n",
       "      <td>B00Z0ME68A</td>\n",
       "      <td>1</td>\n",
       "    </tr>\n",
       "    <tr>\n",
       "      <th>14</th>\n",
       "      <td>B01CS5VUEO</td>\n",
       "      <td>0</td>\n",
       "    </tr>\n",
       "    <tr>\n",
       "      <th>15</th>\n",
       "      <td>B005FVNHBI</td>\n",
       "      <td>1</td>\n",
       "    </tr>\n",
       "    <tr>\n",
       "      <th>16</th>\n",
       "      <td>B009923WIW</td>\n",
       "      <td>10</td>\n",
       "    </tr>\n",
       "    <tr>\n",
       "      <th>17</th>\n",
       "      <td>B019EU13RK</td>\n",
       "      <td>0</td>\n",
       "    </tr>\n",
       "    <tr>\n",
       "      <th>19</th>\n",
       "      <td>B019TVHVDY</td>\n",
       "      <td>1</td>\n",
       "    </tr>\n",
       "    <tr>\n",
       "      <th>20</th>\n",
       "      <td>B01AHQRH0M</td>\n",
       "      <td>0</td>\n",
       "    </tr>\n",
       "    <tr>\n",
       "      <th>21</th>\n",
       "      <td>B0080ARADC</td>\n",
       "      <td>0</td>\n",
       "    </tr>\n",
       "    <tr>\n",
       "      <th>22</th>\n",
       "      <td>B00DVU9HIC</td>\n",
       "      <td>0</td>\n",
       "    </tr>\n",
       "    <tr>\n",
       "      <th>23</th>\n",
       "      <td>B00O8PWW7W</td>\n",
       "      <td>1</td>\n",
       "    </tr>\n",
       "    <tr>\n",
       "      <th>24</th>\n",
       "      <td>B006C6DZDK</td>\n",
       "      <td>1</td>\n",
       "    </tr>\n",
       "    <tr>\n",
       "      <th>25</th>\n",
       "      <td>B0195K8714</td>\n",
       "      <td>1</td>\n",
       "    </tr>\n",
       "    <tr>\n",
       "      <th>26</th>\n",
       "      <td>B01AAHLH6S</td>\n",
       "      <td>1</td>\n",
       "    </tr>\n",
       "    <tr>\n",
       "      <th>27</th>\n",
       "      <td>B00N43EREA</td>\n",
       "      <td>2</td>\n",
       "    </tr>\n",
       "    <tr>\n",
       "      <th>28</th>\n",
       "      <td>B00ZLOSVH4</td>\n",
       "      <td>1</td>\n",
       "    </tr>\n",
       "    <tr>\n",
       "      <th>29</th>\n",
       "      <td>B0181S7Y6A</td>\n",
       "      <td>5</td>\n",
       "    </tr>\n",
       "    <tr>\n",
       "      <th>30</th>\n",
       "      <td>B00LN1GEFK</td>\n",
       "      <td>1</td>\n",
       "    </tr>\n",
       "    <tr>\n",
       "      <th>...</th>\n",
       "      <td>...</td>\n",
       "      <td>...</td>\n",
       "    </tr>\n",
       "    <tr>\n",
       "      <th>10598</th>\n",
       "      <td>B015OJ0JN4</td>\n",
       "      <td>1</td>\n",
       "    </tr>\n",
       "    <tr>\n",
       "      <th>10599</th>\n",
       "      <td>B00LZRFB10</td>\n",
       "      <td>1</td>\n",
       "    </tr>\n",
       "    <tr>\n",
       "      <th>10600</th>\n",
       "      <td>B014R5TFVS</td>\n",
       "      <td>2</td>\n",
       "    </tr>\n",
       "    <tr>\n",
       "      <th>10601</th>\n",
       "      <td>B00Q2JKF94</td>\n",
       "      <td>1</td>\n",
       "    </tr>\n",
       "    <tr>\n",
       "      <th>10602</th>\n",
       "      <td>B00QIIYI6U</td>\n",
       "      <td>1</td>\n",
       "    </tr>\n",
       "    <tr>\n",
       "      <th>10603</th>\n",
       "      <td>B01AAR1SGM</td>\n",
       "      <td>0</td>\n",
       "    </tr>\n",
       "    <tr>\n",
       "      <th>10604</th>\n",
       "      <td>B012D1M0TC</td>\n",
       "      <td>9</td>\n",
       "    </tr>\n",
       "    <tr>\n",
       "      <th>10605</th>\n",
       "      <td>B01ABVLU9C</td>\n",
       "      <td>0</td>\n",
       "    </tr>\n",
       "    <tr>\n",
       "      <th>10606</th>\n",
       "      <td>B019ROX9K2</td>\n",
       "      <td>0</td>\n",
       "    </tr>\n",
       "    <tr>\n",
       "      <th>10607</th>\n",
       "      <td>B016HICONE</td>\n",
       "      <td>1</td>\n",
       "    </tr>\n",
       "    <tr>\n",
       "      <th>10608</th>\n",
       "      <td>B011ID4VDO</td>\n",
       "      <td>1</td>\n",
       "    </tr>\n",
       "    <tr>\n",
       "      <th>10609</th>\n",
       "      <td>B00OOFMHL2</td>\n",
       "      <td>1</td>\n",
       "    </tr>\n",
       "    <tr>\n",
       "      <th>10610</th>\n",
       "      <td>B019OOIN60</td>\n",
       "      <td>0</td>\n",
       "    </tr>\n",
       "    <tr>\n",
       "      <th>10611</th>\n",
       "      <td>B013DAQOJ4</td>\n",
       "      <td>1</td>\n",
       "    </tr>\n",
       "    <tr>\n",
       "      <th>10612</th>\n",
       "      <td>B00HBW4FLK</td>\n",
       "      <td>1</td>\n",
       "    </tr>\n",
       "    <tr>\n",
       "      <th>10613</th>\n",
       "      <td>B00ZCOJDDO</td>\n",
       "      <td>0</td>\n",
       "    </tr>\n",
       "    <tr>\n",
       "      <th>10614</th>\n",
       "      <td>B00LN1FA5U</td>\n",
       "      <td>1</td>\n",
       "    </tr>\n",
       "    <tr>\n",
       "      <th>10615</th>\n",
       "      <td>B00HAV75GE</td>\n",
       "      <td>1</td>\n",
       "    </tr>\n",
       "    <tr>\n",
       "      <th>10616</th>\n",
       "      <td>B015J59F5Q</td>\n",
       "      <td>2</td>\n",
       "    </tr>\n",
       "    <tr>\n",
       "      <th>10617</th>\n",
       "      <td>B01CNM9RJC</td>\n",
       "      <td>1</td>\n",
       "    </tr>\n",
       "    <tr>\n",
       "      <th>10618</th>\n",
       "      <td>B019DDNRC2</td>\n",
       "      <td>2</td>\n",
       "    </tr>\n",
       "    <tr>\n",
       "      <th>10619</th>\n",
       "      <td>B017OLCEHE</td>\n",
       "      <td>1</td>\n",
       "    </tr>\n",
       "    <tr>\n",
       "      <th>10620</th>\n",
       "      <td>B01A0NBPYG</td>\n",
       "      <td>0</td>\n",
       "    </tr>\n",
       "    <tr>\n",
       "      <th>10621</th>\n",
       "      <td>B00AX5LE3E</td>\n",
       "      <td>1</td>\n",
       "    </tr>\n",
       "    <tr>\n",
       "      <th>10622</th>\n",
       "      <td>B00NQG2WC4</td>\n",
       "      <td>1</td>\n",
       "    </tr>\n",
       "    <tr>\n",
       "      <th>10623</th>\n",
       "      <td>B017ERD7IS</td>\n",
       "      <td>2</td>\n",
       "    </tr>\n",
       "    <tr>\n",
       "      <th>10624</th>\n",
       "      <td>B017K3NLEG</td>\n",
       "      <td>4</td>\n",
       "    </tr>\n",
       "    <tr>\n",
       "      <th>10625</th>\n",
       "      <td>B0169SNKCQ</td>\n",
       "      <td>1</td>\n",
       "    </tr>\n",
       "    <tr>\n",
       "      <th>10626</th>\n",
       "      <td>B015HGREUK</td>\n",
       "      <td>1</td>\n",
       "    </tr>\n",
       "    <tr>\n",
       "      <th>10627</th>\n",
       "      <td>B00OGO6TV0</td>\n",
       "      <td>1</td>\n",
       "    </tr>\n",
       "  </tbody>\n",
       "</table>\n",
       "<p>9649 rows × 2 columns</p>\n",
       "</div>"
      ],
      "text/plain": [
       "               id  page\n",
       "0      B012N7X65S     5\n",
       "1      B016OADE1Q     0\n",
       "2      B005IYDFVO     1\n",
       "3      B017RDCZ1Y     1\n",
       "4      B01AHYVC8M     0\n",
       "5      B0012YZQ9I     1\n",
       "6      B00IJG54RQ     0\n",
       "7      B00XQSQKI4     1\n",
       "8      B01AD9XU04     0\n",
       "9      B00XLQWHI8     0\n",
       "10     B00Y4M01JA    19\n",
       "11     B011Y3GU0U     0\n",
       "12     B00NG57HF2     1\n",
       "13     B00Z0ME68A     1\n",
       "14     B01CS5VUEO     0\n",
       "15     B005FVNHBI     1\n",
       "16     B009923WIW    10\n",
       "17     B019EU13RK     0\n",
       "19     B019TVHVDY     1\n",
       "20     B01AHQRH0M     0\n",
       "21     B0080ARADC     0\n",
       "22     B00DVU9HIC     0\n",
       "23     B00O8PWW7W     1\n",
       "24     B006C6DZDK     1\n",
       "25     B0195K8714     1\n",
       "26     B01AAHLH6S     1\n",
       "27     B00N43EREA     2\n",
       "28     B00ZLOSVH4     1\n",
       "29     B0181S7Y6A     5\n",
       "30     B00LN1GEFK     1\n",
       "...           ...   ...\n",
       "10598  B015OJ0JN4     1\n",
       "10599  B00LZRFB10     1\n",
       "10600  B014R5TFVS     2\n",
       "10601  B00Q2JKF94     1\n",
       "10602  B00QIIYI6U     1\n",
       "10603  B01AAR1SGM     0\n",
       "10604  B012D1M0TC     9\n",
       "10605  B01ABVLU9C     0\n",
       "10606  B019ROX9K2     0\n",
       "10607  B016HICONE     1\n",
       "10608  B011ID4VDO     1\n",
       "10609  B00OOFMHL2     1\n",
       "10610  B019OOIN60     0\n",
       "10611  B013DAQOJ4     1\n",
       "10612  B00HBW4FLK     1\n",
       "10613  B00ZCOJDDO     0\n",
       "10614  B00LN1FA5U     1\n",
       "10615  B00HAV75GE     1\n",
       "10616  B015J59F5Q     2\n",
       "10617  B01CNM9RJC     1\n",
       "10618  B019DDNRC2     2\n",
       "10619  B017OLCEHE     1\n",
       "10620  B01A0NBPYG     0\n",
       "10621  B00AX5LE3E     1\n",
       "10622  B00NQG2WC4     1\n",
       "10623  B017ERD7IS     2\n",
       "10624  B017K3NLEG     4\n",
       "10625  B0169SNKCQ     1\n",
       "10626  B015HGREUK     1\n",
       "10627  B00OGO6TV0     1\n",
       "\n",
       "[9649 rows x 2 columns]"
      ]
     },
     "execution_count": 65,
     "metadata": {},
     "output_type": "execute_result"
    }
   ],
   "source": [
    "review_page.drop_duplicates(subset=\"id\")"
   ]
  },
  {
   "cell_type": "code",
   "execution_count": 66,
   "metadata": {
    "collapsed": false
   },
   "outputs": [],
   "source": [
    "review_page.to_csv(path_or_buf =\"ipd_with_page.csv\", index_label=False, index =False, header =False)"
   ]
  },
  {
   "cell_type": "code",
   "execution_count": null,
   "metadata": {
    "collapsed": false
   },
   "outputs": [],
   "source": []
  },
  {
   "cell_type": "code",
   "execution_count": 97,
   "metadata": {
    "collapsed": false
   },
   "outputs": [],
   "source": []
  },
  {
   "cell_type": "code",
   "execution_count": 113,
   "metadata": {
    "collapsed": false
   },
   "outputs": [],
   "source": []
  },
  {
   "cell_type": "code",
   "execution_count": 101,
   "metadata": {
    "collapsed": true
   },
   "outputs": [],
   "source": []
  },
  {
   "cell_type": "code",
   "execution_count": null,
   "metadata": {
    "collapsed": true
   },
   "outputs": [],
   "source": []
  }
 ],
 "metadata": {
  "kernelspec": {
   "display_name": "Python 2",
   "language": "python",
   "name": "python2"
  },
  "language_info": {
   "codemirror_mode": {
    "name": "ipython",
    "version": 2
   },
   "file_extension": ".py",
   "mimetype": "text/x-python",
   "name": "python",
   "nbconvert_exporter": "python",
   "pygments_lexer": "ipython2",
   "version": "2.7.11"
  }
 },
 "nbformat": 4,
 "nbformat_minor": 0
}
