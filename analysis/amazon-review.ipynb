{
 "cells": [
  {
   "cell_type": "code",
   "execution_count": 7,
   "metadata": {
    "collapsed": false
   },
   "outputs": [],
   "source": [
    "%matplotlib inline\n",
    "import re\n",
    "import numpy as np\n",
    "import matplotlib.pyplot as plt\n",
    "import pandas as pd\n",
    "import seaborn as sns\n",
    "import datetime"
   ]
  },
  {
   "cell_type": "code",
   "execution_count": 8,
   "metadata": {
    "collapsed": true
   },
   "outputs": [],
   "source": [
    "products = pd.read_csv('new_result.csv', sep=',')\n",
    "reviews = pd.read_csv(\"reviews.csv\")"
   ]
  },
  {
   "cell_type": "code",
   "execution_count": 5,
   "metadata": {
    "collapsed": false
   },
   "outputs": [
    {
     "data": {
      "text/html": [
       "<div>\n",
       "<table border=\"1\" class=\"dataframe\">\n",
       "  <thead>\n",
       "    <tr style=\"text-align: right;\">\n",
       "      <th></th>\n",
       "      <th>product_id</th>\n",
       "      <th>product_name</th>\n",
       "      <th>product_brand</th>\n",
       "      <th>product_detail</th>\n",
       "      <th>product_description</th>\n",
       "      <th>product_price</th>\n",
       "      <th>product_sale</th>\n",
       "      <th>weight</th>\n",
       "      <th>photo_num</th>\n",
       "      <th>best_seller_rank</th>\n",
       "      <th>water_proof</th>\n",
       "      <th>noise_cancel</th>\n",
       "      <th>micro_phone</th>\n",
       "      <th>review_num</th>\n",
       "      <th>review_rate</th>\n",
       "    </tr>\n",
       "  </thead>\n",
       "  <tbody>\n",
       "    <tr>\n",
       "      <th>0</th>\n",
       "      <td>B012N7X65S</td>\n",
       "      <td>Trendwoo Runner X9 Bluetooth 4.0 Wireless Ster...</td>\n",
       "      <td>Trendwoo</td>\n",
       "      <td>Enter your model number above to make sure thi...</td>\n",
       "      <td>Features: Specifications: Model: Runner X9 Blu...</td>\n",
       "      <td>39.99</td>\n",
       "      <td>0.00</td>\n",
       "      <td>82.213617</td>\n",
       "      <td>7</td>\n",
       "      <td>2318</td>\n",
       "      <td>1</td>\n",
       "      <td>0</td>\n",
       "      <td>0</td>\n",
       "      <td>228</td>\n",
       "      <td>3.7</td>\n",
       "    </tr>\n",
       "    <tr>\n",
       "      <th>1</th>\n",
       "      <td>B016OADE1Q</td>\n",
       "      <td>Bluetooth 4.1 Headphones,LADEY Wireless Blueto...</td>\n",
       "      <td>LADEY</td>\n",
       "      <td>Bluetooth 4.1,support volume control,it also c...</td>\n",
       "      <td>Sweatproof design,best choice when you do spor...</td>\n",
       "      <td>44.29</td>\n",
       "      <td>14.26</td>\n",
       "      <td>861.825503</td>\n",
       "      <td>7</td>\n",
       "      <td>9289</td>\n",
       "      <td>1</td>\n",
       "      <td>1</td>\n",
       "      <td>0</td>\n",
       "      <td>0</td>\n",
       "      <td>0.0</td>\n",
       "    </tr>\n",
       "    <tr>\n",
       "      <th>2</th>\n",
       "      <td>B005IYDFVO</td>\n",
       "      <td>Clarity CE50 HearIt Mobile Bluetooth Neckloop</td>\n",
       "      <td>Clarity</td>\n",
       "      <td>Clarity CE50 Purchase Includes:CE50 hand-free ...</td>\n",
       "      <td>Wireless, hands-free communication for Bluetoo...</td>\n",
       "      <td>0.00</td>\n",
       "      <td>0.00</td>\n",
       "      <td>340.194277</td>\n",
       "      <td>1</td>\n",
       "      <td>10653</td>\n",
       "      <td>0</td>\n",
       "      <td>0</td>\n",
       "      <td>1</td>\n",
       "      <td>6</td>\n",
       "      <td>3.0</td>\n",
       "    </tr>\n",
       "    <tr>\n",
       "      <th>3</th>\n",
       "      <td>B017RDCZ1Y</td>\n",
       "      <td>PowerLead S200 Bluetooth 4.1 Sport Gym Running...</td>\n",
       "      <td>PowerLead</td>\n",
       "      <td>Premuim high quality CSR chip allows this head...</td>\n",
       "      <td>Product fetures: It's a high end smart sports ...</td>\n",
       "      <td>56.87</td>\n",
       "      <td>40.54</td>\n",
       "      <td>8.504857</td>\n",
       "      <td>7</td>\n",
       "      <td>8379</td>\n",
       "      <td>0</td>\n",
       "      <td>1</td>\n",
       "      <td>0</td>\n",
       "      <td>11</td>\n",
       "      <td>4.5</td>\n",
       "    </tr>\n",
       "    <tr>\n",
       "      <th>4</th>\n",
       "      <td>B01AHYVC8M</td>\n",
       "      <td>Car MP3 Player Transmissor FM sem fio Dual USB...</td>\n",
       "      <td>Love Lover</td>\n",
       "      <td>Can charge mobile phones, never worry about po...</td>\n",
       "      <td>Product description: - Can charge mobile phone...</td>\n",
       "      <td>0.00</td>\n",
       "      <td>0.00</td>\n",
       "      <td>NaN</td>\n",
       "      <td>5</td>\n",
       "      <td>8473</td>\n",
       "      <td>0</td>\n",
       "      <td>1</td>\n",
       "      <td>1</td>\n",
       "      <td>0</td>\n",
       "      <td>0.0</td>\n",
       "    </tr>\n",
       "  </tbody>\n",
       "</table>\n",
       "</div>"
      ],
      "text/plain": [
       "   product_id                                       product_name  \\\n",
       "0  B012N7X65S  Trendwoo Runner X9 Bluetooth 4.0 Wireless Ster...   \n",
       "1  B016OADE1Q  Bluetooth 4.1 Headphones,LADEY Wireless Blueto...   \n",
       "2  B005IYDFVO      Clarity CE50 HearIt Mobile Bluetooth Neckloop   \n",
       "3  B017RDCZ1Y  PowerLead S200 Bluetooth 4.1 Sport Gym Running...   \n",
       "4  B01AHYVC8M  Car MP3 Player Transmissor FM sem fio Dual USB...   \n",
       "\n",
       "  product_brand                                     product_detail  \\\n",
       "0      Trendwoo  Enter your model number above to make sure thi...   \n",
       "1         LADEY  Bluetooth 4.1,support volume control,it also c...   \n",
       "2       Clarity  Clarity CE50 Purchase Includes:CE50 hand-free ...   \n",
       "3     PowerLead  Premuim high quality CSR chip allows this head...   \n",
       "4    Love Lover  Can charge mobile phones, never worry about po...   \n",
       "\n",
       "                                 product_description  product_price  \\\n",
       "0  Features: Specifications: Model: Runner X9 Blu...          39.99   \n",
       "1  Sweatproof design,best choice when you do spor...          44.29   \n",
       "2  Wireless, hands-free communication for Bluetoo...           0.00   \n",
       "3  Product fetures: It's a high end smart sports ...          56.87   \n",
       "4  Product description: - Can charge mobile phone...           0.00   \n",
       "\n",
       "   product_sale      weight  photo_num  best_seller_rank  water_proof  \\\n",
       "0          0.00   82.213617          7              2318            1   \n",
       "1         14.26  861.825503          7              9289            1   \n",
       "2          0.00  340.194277          1             10653            0   \n",
       "3         40.54    8.504857          7              8379            0   \n",
       "4          0.00         NaN          5              8473            0   \n",
       "\n",
       "   noise_cancel  micro_phone  review_num  review_rate  \n",
       "0             0            0         228          3.7  \n",
       "1             1            0           0          0.0  \n",
       "2             0            1           6          3.0  \n",
       "3             1            0          11          4.5  \n",
       "4             1            1           0          0.0  "
      ]
     },
     "execution_count": 5,
     "metadata": {},
     "output_type": "execute_result"
    }
   ],
   "source": [
    "products.head()"
   ]
  },
  {
   "cell_type": "code",
   "execution_count": 6,
   "metadata": {
    "collapsed": false
   },
   "outputs": [
    {
     "data": {
      "text/html": [
       "<div>\n",
       "<table border=\"1\" class=\"dataframe\">\n",
       "  <thead>\n",
       "    <tr style=\"text-align: right;\">\n",
       "      <th></th>\n",
       "      <th>id</th>\n",
       "      <th>pid</th>\n",
       "      <th>author</th>\n",
       "      <th>rate</th>\n",
       "      <th>title</th>\n",
       "      <th>content</th>\n",
       "      <th>date</th>\n",
       "      <th>verified</th>\n",
       "      <th>color</th>\n",
       "      <th>vote</th>\n",
       "    </tr>\n",
       "  </thead>\n",
       "  <tbody>\n",
       "    <tr>\n",
       "      <th>0</th>\n",
       "      <td>R2FVGLARZJG07Z</td>\n",
       "      <td>B012N7X65S</td>\n",
       "      <td>Amazon Customer</td>\n",
       "      <td>1</td>\n",
       "      <td>Would not buy again</td>\n",
       "      <td>These worked great for about 2 days. Then they...</td>\n",
       "      <td>2016-4-17</td>\n",
       "      <td>1</td>\n",
       "      <td>Blue</td>\n",
       "      <td>0</td>\n",
       "    </tr>\n",
       "    <tr>\n",
       "      <th>1</th>\n",
       "      <td>R3REA8NAIKAM81</td>\n",
       "      <td>B012N7X65S</td>\n",
       "      <td>Kevin S</td>\n",
       "      <td>1</td>\n",
       "      <td>Overheated While Charging</td>\n",
       "      <td>A couple months after using only a few times, ...</td>\n",
       "      <td>2016-4-10</td>\n",
       "      <td>1</td>\n",
       "      <td>Blue</td>\n",
       "      <td>1</td>\n",
       "    </tr>\n",
       "    <tr>\n",
       "      <th>2</th>\n",
       "      <td>R3GEDQ48VESB50</td>\n",
       "      <td>B012N7X65S</td>\n",
       "      <td>romancereader243</td>\n",
       "      <td>5</td>\n",
       "      <td>Five Stars</td>\n",
       "      <td>Very easy to handle</td>\n",
       "      <td>2016-4-10</td>\n",
       "      <td>1</td>\n",
       "      <td>Blue</td>\n",
       "      <td>0</td>\n",
       "    </tr>\n",
       "    <tr>\n",
       "      <th>3</th>\n",
       "      <td>R2ZL7XB9BDB5SP</td>\n",
       "      <td>B012N7X65S</td>\n",
       "      <td>Harry Schwartz</td>\n",
       "      <td>3</td>\n",
       "      <td>good for price</td>\n",
       "      <td>For the price they are alright. They have a pi...</td>\n",
       "      <td>2016-4-9</td>\n",
       "      <td>1</td>\n",
       "      <td>Blue</td>\n",
       "      <td>0</td>\n",
       "    </tr>\n",
       "    <tr>\n",
       "      <th>4</th>\n",
       "      <td>R1PXUFQXRVS5EB</td>\n",
       "      <td>B012N7X65S</td>\n",
       "      <td>MajorTom007</td>\n",
       "      <td>1</td>\n",
       "      <td>Never buy Trendwoo.  Never Buy from TopBrandBo...</td>\n",
       "      <td>After light use only 3-4 hours a week, the hea...</td>\n",
       "      <td>2016-3-31</td>\n",
       "      <td>1</td>\n",
       "      <td>Red</td>\n",
       "      <td>0</td>\n",
       "    </tr>\n",
       "  </tbody>\n",
       "</table>\n",
       "</div>"
      ],
      "text/plain": [
       "               id         pid            author  rate  \\\n",
       "0  R2FVGLARZJG07Z  B012N7X65S   Amazon Customer     1   \n",
       "1  R3REA8NAIKAM81  B012N7X65S           Kevin S     1   \n",
       "2  R3GEDQ48VESB50  B012N7X65S  romancereader243     5   \n",
       "3  R2ZL7XB9BDB5SP  B012N7X65S    Harry Schwartz     3   \n",
       "4  R1PXUFQXRVS5EB  B012N7X65S       MajorTom007     1   \n",
       "\n",
       "                                               title  \\\n",
       "0                                Would not buy again   \n",
       "1                          Overheated While Charging   \n",
       "2                                         Five Stars   \n",
       "3                                     good for price   \n",
       "4  Never buy Trendwoo.  Never Buy from TopBrandBo...   \n",
       "\n",
       "                                             content       date  verified  \\\n",
       "0  These worked great for about 2 days. Then they...  2016-4-17         1   \n",
       "1  A couple months after using only a few times, ...  2016-4-10         1   \n",
       "2                                Very easy to handle  2016-4-10         1   \n",
       "3  For the price they are alright. They have a pi...   2016-4-9         1   \n",
       "4  After light use only 3-4 hours a week, the hea...  2016-3-31         1   \n",
       "\n",
       "  color  vote  \n",
       "0  Blue     0  \n",
       "1  Blue     1  \n",
       "2  Blue     0  \n",
       "3  Blue     0  \n",
       "4   Red     0  "
      ]
     },
     "execution_count": 6,
     "metadata": {},
     "output_type": "execute_result"
    }
   ],
   "source": [
    "reviews.head()"
   ]
  },
  {
   "cell_type": "markdown",
   "metadata": {
    "collapsed": false
   },
   "source": [
    "#Summary"
   ]
  },
  {
   "cell_type": "code",
   "execution_count": 76,
   "metadata": {
    "collapsed": false
   },
   "outputs": [],
   "source": [
    "# Change matplotlob parameter\n",
    "# import matplotlib as plt\n",
    "# plt.rcParams['font.size']=12\n",
    "# plt.rcParams['savefig.dpi'] = 120\n",
    "# plt.rcParams['figure.figsize']=(8.0,6.0)"
   ]
  },
  {
   "cell_type": "markdown",
   "metadata": {},
   "source": [
    "#### 由於有些商品沒有特價只有原價，或有些商品沒有原價只有特價，就會分別遺失 product_sale 和 product_price 的 feature，因此我們要把遺失的資料補齊。"
   ]
  },
  {
   "cell_type": "code",
   "execution_count": 67,
   "metadata": {
    "collapsed": false
   },
   "outputs": [],
   "source": [
    "def cleanPrice(row):\n",
    "    if row[\"product_price\"] * row[\"product_sale\"] == 0:\n",
    "        row[\"product_price\"], row[\"product_sale\"] = max(row[\"product_price\"],row[\"product_sale\"]), max(row[\"product_price\"],row[\"product_sale\"])\n",
    "    return row\n",
    "products = products.apply(cleanPrice, axis=1)"
   ]
  },
  {
   "cell_type": "markdown",
   "metadata": {},
   "source": [
    "#### 重新檢查資料，剛剛 product_price 或是 product_sale 只有其中一個 feature 為 0 的商品應該都已經不是 0 了。如果有這種情況的商品我們就把他去掉。"
   ]
  },
  {
   "cell_type": "code",
   "execution_count": 71,
   "metadata": {
    "collapsed": true
   },
   "outputs": [],
   "source": [
    "products = products[products[\"product_price\"] > 0]"
   ]
  },
  {
   "cell_type": "markdown",
   "metadata": {},
   "source": [
    "####於是我們便成功得到了以下參數的總數、平均值、標準差、最大最小值與中位數。\n",
    "* 商品原價 (product_price) \n",
    "* 商品售價 (product_sale) \n",
    "* 評價數量 (review_num) \n",
    "* 評價分數 (review_rate) "
   ]
  },
  {
   "cell_type": "code",
   "execution_count": 73,
   "metadata": {
    "collapsed": false
   },
   "outputs": [
    {
     "data": {
      "text/html": [
       "<div>\n",
       "<table border=\"1\" class=\"dataframe\">\n",
       "  <thead>\n",
       "    <tr style=\"text-align: right;\">\n",
       "      <th></th>\n",
       "      <th>count</th>\n",
       "      <th>mean</th>\n",
       "      <th>std</th>\n",
       "      <th>min</th>\n",
       "      <th>25%</th>\n",
       "      <th>50%</th>\n",
       "      <th>75%</th>\n",
       "      <th>max</th>\n",
       "    </tr>\n",
       "  </thead>\n",
       "  <tbody>\n",
       "    <tr>\n",
       "      <th>product_price</th>\n",
       "      <td>9381</td>\n",
       "      <td>52.506090</td>\n",
       "      <td>48.401865</td>\n",
       "      <td>0.25</td>\n",
       "      <td>19.99</td>\n",
       "      <td>39.99</td>\n",
       "      <td>69.99</td>\n",
       "      <td>699.99</td>\n",
       "    </tr>\n",
       "    <tr>\n",
       "      <th>product_sale</th>\n",
       "      <td>9381</td>\n",
       "      <td>39.826375</td>\n",
       "      <td>45.287716</td>\n",
       "      <td>0.25</td>\n",
       "      <td>15.99</td>\n",
       "      <td>24.99</td>\n",
       "      <td>49.56</td>\n",
       "      <td>699.99</td>\n",
       "    </tr>\n",
       "    <tr>\n",
       "      <th>review_num</th>\n",
       "      <td>9381</td>\n",
       "      <td>55.727428</td>\n",
       "      <td>120.648443</td>\n",
       "      <td>0.00</td>\n",
       "      <td>1.00</td>\n",
       "      <td>10.00</td>\n",
       "      <td>47.00</td>\n",
       "      <td>975.00</td>\n",
       "    </tr>\n",
       "    <tr>\n",
       "      <th>review_rate</th>\n",
       "      <td>9381</td>\n",
       "      <td>3.084415</td>\n",
       "      <td>1.651814</td>\n",
       "      <td>0.00</td>\n",
       "      <td>2.70</td>\n",
       "      <td>3.60</td>\n",
       "      <td>4.20</td>\n",
       "      <td>5.00</td>\n",
       "    </tr>\n",
       "  </tbody>\n",
       "</table>\n",
       "</div>"
      ],
      "text/plain": [
       "               count       mean         std   min    25%    50%    75%     max\n",
       "product_price   9381  52.506090   48.401865  0.25  19.99  39.99  69.99  699.99\n",
       "product_sale    9381  39.826375   45.287716  0.25  15.99  24.99  49.56  699.99\n",
       "review_num      9381  55.727428  120.648443  0.00   1.00  10.00  47.00  975.00\n",
       "review_rate     9381   3.084415    1.651814  0.00   2.70   3.60   4.20    5.00"
      ]
     },
     "execution_count": 73,
     "metadata": {},
     "output_type": "execute_result"
    }
   ],
   "source": [
    "products[[\"product_price\",\"product_sale\",\"review_num\",\"review_rate\"]].describe().transpose()"
   ]
  },
  {
   "cell_type": "markdown",
   "metadata": {},
   "source": [
    "###價錢：\n",
    "我們可以從以上的結果得知藍牙耳機的總數有 9381 隻，商品原價平均為 \\$52.5，商品實售價平均為 \\$39.8，折扣佔了原價的 24%。商品售價低於 $50 的藍芽耳機佔了總數的 80% 左右，意即藍芽耳機是一個低價競爭的市場。\n",
    "###評論：\n",
    "每個商品平均會有55個評論，平均分數為 3.08分，和 Amazon 提供的評價分數的區間 1-5 的中位數 3 是差不多的。而中位數落在3.6則代表這是一個左偏的圖形，代表有很多商品是缺乏評論的。"
   ]
  },
  {
   "cell_type": "code",
   "execution_count": 102,
   "metadata": {
    "collapsed": false
   },
   "outputs": [
    {
     "data": {
      "text/plain": [
       "<matplotlib.axes._subplots.AxesSubplot at 0x11ab68250>"
      ]
     },
     "execution_count": 102,
     "metadata": {},
     "output_type": "execute_result"
    },
    {
     "data": {
      "image/png": "[encoded data removed]",
      "text/plain": [
       "<matplotlib.figure.Figure at 0x14655ce10>"
      ]
     },
     "metadata": {},
     "output_type": "display_data"
    }
   ],
   "source": [
    "sns.distplot(products.product_sale, kde=False, bins=20, color=\"b\")"
   ]
  },
  {
   "cell_type": "code",
   "execution_count": null,
   "metadata": {
    "collapsed": true
   },
   "outputs": [],
   "source": [
    "商品趨勢\n",
    "#分析價格、重量（要再處理outlier）、防水功能9.2%、noise cancel 27%、mic 36%"
   ]
  },
  {
   "cell_type": "markdown",
   "metadata": {},
   "source": [
    "###商品敘述寫的越多，會讓商品得到比較高的評價嗎？"
   ]
  },
  {
   "cell_type": "code",
   "execution_count": null,
   "metadata": {
    "collapsed": false
   },
   "outputs": [],
   "source": [
    "products = "
   ]
  },
  {
   "cell_type": "markdown",
   "metadata": {
    "collapsed": false
   },
   "source": [
    "接下來我們來研究評論"
   ]
  },
  {
   "cell_type": "markdown",
   "metadata": {
    "collapsed": true
   },
   "source": [
    "將所有藍牙耳機的評論"
   ]
  },
  {
   "cell_type": "code",
   "execution_count": 101,
   "metadata": {
    "collapsed": false
   },
   "outputs": [
    {
     "data": {
      "text/plain": [
       "<matplotlib.axes._subplots.AxesSubplot at 0x143c54210>"
      ]
     },
     "execution_count": 101,
     "metadata": {},
     "output_type": "execute_result"
    },
    {
     "data": {
      "image/png": "[encoded data removed]",
      "text/plain": [
       "<matplotlib.figure.Figure at 0x14655ced0>"
      ]
     },
     "metadata": {},
     "output_type": "display_data"
    }
   ],
   "source": [
    "# sns.distplot(reviews.rate.astype(int), kde=False, bins=[1,2,3,4,5])\n",
    "sns.countplot(reviews.rate, color=\"g\")"
   ]
  },
  {
   "cell_type": "code",
   "execution_count": null,
   "metadata": {
    "collapsed": false
   },
   "outputs": [],
   "source": []
  },
  {
   "cell_type": "code",
   "execution_count": null,
   "metadata": {
    "collapsed": false
   },
   "outputs": [],
   "source": []
  },
  {
   "cell_type": "code",
   "execution_count": 196,
   "metadata": {
    "collapsed": false
   },
   "outputs": [
    {
     "data": {
      "text/plain": [
       "<matplotlib.axes._subplots.AxesSubplot at 0x14ed81990>"
      ]
     },
     "execution_count": 196,
     "metadata": {},
     "output_type": "execute_result"
    },
    {
     "data": {
      "image/png": "[encoded data removed]",
      "text/plain": [
       "<matplotlib.figure.Figure at 0x14e571fd0>"
      ]
     },
     "metadata": {},
     "output_type": "display_data"
    }
   ],
   "source": [
    "\n",
    "reviews['date'] = reviews['date'].apply(lambda x: datetime.datetime.strptime(x, \"%Y-%m-%d\"))\n",
    "ts = reviews[[\"date\",\"rate\"]]\n",
    "ts[\"year-month\"] = ts[\"date\"].apply(lambda x: x.strftime(\"%Y-%m\"))\n",
    "ts[\"month\"] = ts[\"date\"].apply(lambda x: x.month)\n",
    "ts[\"weekday\"] = ts[\"date\"].apply(lambda x: x.strftime(\"%A\"))\n",
    "ts.groupby(\"year-month\").mean().plot()"
   ]
  },
  {
   "cell_type": "code",
   "execution_count": null,
   "metadata": {
    "collapsed": false
   },
   "outputs": [],
   "source": []
  },
  {
   "cell_type": "code",
   "execution_count": null,
   "metadata": {
    "collapsed": false
   },
   "outputs": [],
   "source": []
  },
  {
   "cell_type": "code",
   "execution_count": 194,
   "metadata": {
    "collapsed": false
   },
   "outputs": [
    {
     "data": {
      "text/plain": [
       "<matplotlib.axes._subplots.AxesSubplot at 0x1377bc350>"
      ]
     },
     "execution_count": 194,
     "metadata": {},
     "output_type": "execute_result"
    },
    {
     "data": {
      "image/png": "[encoded data removed]",
      "text/plain": [
       "<matplotlib.figure.Figure at 0x1377c6890>"
      ]
     },
     "metadata": {},
     "output_type": "display_data"
    }
   ],
   "source": []
  },
  {
   "cell_type": "markdown",
   "metadata": {},
   "source": [
    "#Text"
   ]
  },
  {
   "cell_type": "code",
   "execution_count": 241,
   "metadata": {
    "collapsed": false
   },
   "outputs": [],
   "source": [
    "from sklearn.feature_extraction.text import CountVectorizer\n",
    "count = CountVectorizer()"
   ]
  },
  {
   "cell_type": "code",
   "execution_count": 242,
   "metadata": {
    "collapsed": false
   },
   "outputs": [],
   "source": [
    "name_np = my_data[\"product_name\"].values\n",
    "name_bag = count.fit_transform(name_np)"
   ]
  },
  {
   "cell_type": "code",
   "execution_count": 245,
   "metadata": {
    "collapsed": false
   },
   "outputs": [
    {
     "name": "stdout",
     "output_type": "stream",
     "text": [
      "{u'versatile': 6561, u'dynamic': 2308, u'yellow': 6935, u'four': 2798, u'ek360': 2443, u'6pc': 544, u'hanging': 3165, u'ansion': 1012, u'captain': 1711, u'optical': 4761, u'toosell': 6319, u'xts': 6916, u'bg920bbebus': 1319, u'swan': 6142, u'neckland': 4609, u'kingstar': 3844, u'be011': 1265, u'fz72': 2852, u'up2': 6475, u'hats': 3178, u'up1': 6474, u'swivel': 6156, u'lumix': 4120, u'7975g': 612, u'deli': 2141, u'activation': 863, u'jesiyatm': 3725, u'dell': 2145, u'p253': 4817, u'55mm': 449, u'hdtv': 3226, u'qsoon': 5176, u'sleek': 5780, u'handfree': 3154, u'voip': 6628, u'blueaction': 1408, u'clovers': 1847, u'nfl': 4642, u'wooden': 6814, u'sjyn0234': 5754, u'xpressway': 6900, u'solution': 5870, u'convenience': 1940, u'enhance': 2494, u'gadgetbrat': 2888, u'h004b': 3047, u'force': 2790, u'noisehush': 4667, u'limiter': 4031, u'soundbuds': 5893, u'japanese': 3707, u'pulse': 5130, u'millet': 4372, u'270': 239, u'elegant': 2452, u'second': 5592, u't500': 6177, u'277': 241, u'aux': 1155, u'eson': 2545, u'10w': 69, u'even': 2561, u'3b3c': 316, u'ufcit': 6434, u'superwatch': 6109, u'thunder': 6283, u'napoer': 4588, u'fingers': 2715, u'lights': 4021, u'pionior': 4964, u'meizu': 4305, u'sykik': 6158, u'new': 4626, u'net': 4618, u'colortooth': 1878, u'ever': 2562, u'mee': 4298, u'helmets': 3273, u'y88': 6921, u'usb2': 6496, u'usb3': 6497, u'never': 4625, u'is901': 3659, u'here': 3278, u'i9300': 3465, u'melodi': 4307, u'109': 64, u'q11': 5151, u'q10': 5150, u'dreo': 2259, u'dorm': 2243, u'earhook12': 2350, u'motorolla': 4469, u'101': 51, u'106': 59, u'104': 57, u'105': 58, u'kids': 3831, u'kiwitat\\xe1': 3853, u'004': 6, u'aluratek': 954, u'dinotwin': 2198, u'jamz': 3705, u'credit': 1996, u'236q': 216, u'talk2': 6198, u't989': 6182, u'military': 4370, u'suitable': 6073, u'dre': 2255, u'cancellation': 1698, u'rebel': 5253, u'9i': 798, u'golden': 2981, u'mksd': 4397, u'mobility': 4414, u's30f': 5456, u'h2310': 3078, u'exercise': 2593, u'2xlb': 263, u'2xlc': 264, u'stero': 6016, u'txt': 6414, u'handlebar': 3156, u'ofeely': 4728, u'9w': 799, u'headband': 3230, u'dna': 2219, u'splashproof': 5945, u'army': 1077, u'e1': 2311, u'lightweit': 4026, u'84693': 667, u'h901': 3137, u'h900': 3136, u'sikadeer': 5723, u'vol': 6629, u'music': 4531, u'e3': 2319, u'passport': 4877, u'340': 292, u'type': 6415, u'1000': 45, u'soulbay': 5885, u'3mr6002': 329, u'btmh': 1594, u'soundsoull': 5910, u'advance': 888, u'pomer': 5034, u'203382': 182, u'warp': 6675, u'glass': 2951, u'ivation': 3680, u'earclips': 2343, u'03e6': 22, u'thinkpad': 6270, u'91': 734, u'90': 721, u'kgk': 3824, u'hold': 3361, u'95': 753, u's300': 5451, u'addon': 878, u'pivoting': 4969, u'duto': 2294, u'rights': 5347, u'gpad': 3000, u'blade': 1387, u'ronkoen': 5379, u'etterfly': 2558, u'ikkegol': 3516, u'oled': 4741, u'eyemask': 2622, u'microlab': 4345, u'k272': 3781, u'k901': 3790, u'august': 1143, u'greenyourlife': 3016, u'skhxdd': 5761, u'updated': 6480, u'46mm': 371, u'titanium': 6299, u'i9600': 3467, u'andorid': 988, u'ppqt22418za': 5062, u'5ive': 459, u'3lue': 325, u'skullcandy': 5768, u'win8': 6766, u'quickpair': 5187, u'hs300': 3397, u'travel': 6361, u'showerdoordirect': 5695, u'machine': 4189, u'ideapro': 3483, u'hot': 3375, u'playback': 4990, u'answer': 1013, u'cheetah': 1789, u'centura': 1759, u'bonsai': 1459, u'gaming': 2900, u'fishidea': 2724, u'nkomax': 4655, u'joyiqi': 3755, u'misfit': 4389, u'gloriest': 2961, u'xgody': 6875, u'promotion': 5097, u'types': 6416, u'purchase': 5135, u'1287': 97, u'hotpink': 3377, u'eargel': 2347, u'hm7000': 3353, u'earpeice': 2360, u'barnes': 1241, u'685': 530, u'tsong': 6392, u'516': 421, u'681': 529, u'680': 528, u'wind': 6768, u'wine': 6775, u'origin': 4776, u'samsungs5': 5515, u'samsungs6': 5516, u'eb20a': 2392, u'androids': 994, u'h106b': 3060, u'eyewear': 2624, u'handphone': 3158, u'620': 491, u'uldum': 6440, u'keyboard': 3820, u'dect': 2127, u'fidelity': 2698, u'winstion': 6782, u'flexgrip': 2754, u'before': 1284, u'hydroaudio': 3433, u'gt08': 3035, u'fit': 2726, u'personal': 4913, u'fix': 2740, u'minix': 4383, u'lumia': 4118, u'better': 1310, u'kenwood': 3817, u'starrybay': 5993, u'sportclips': 5953, u'storange': 6031, u'f300bt': 2640, u'hidden': 3294, u'uniway': 6468, u'z221': 6972, u'slate': 5778, u'8gb': 712, u'latop': 3944, u'caterpillar': 1734, u'therapy': 6263, u'pgtmcxdalu': 4920, u'eb200': 2390, u'gp2000': 2997, u'eb203': 2391, u'sb552': 5547, u'silver': 5726, u'sb550': 5546, u'p402': 4820, u'c230': 1657, u'shoelace': 5685, u'ugetde': 6437, u'fhd': 2694, u'acoustic': 856, u'sliver': 5793, u'side': 5713, u'smartspeed': 5814, u'luck': 4111, u'ad2p': 871, u'mdn': 4278, u'series': 5628, u'vangoddy': 6537, u'blinder': 1395, u'spider': 5941, u'24k': 227, u'390': 310, u'395': 313, u'pchero': 4890, u'mdr': 4279, u'nabi': 4581, u'398': 314, u'xp': 6892, u'rt': 5406, u'rw': 5427, u'rp': 5401, u'noics': 4665, u'pintaik': 4963, u'gradient': 3003, u'2300': 208, u'sms': 5830, u'dsp': 2272, u'rd': 5245, u'at7': 1111, u'noice': 4664, u'isimple': 3662, u'adapt': 872, u'rb': 5242, u'reader': 5247, u'rm': 5362, u'rn': 5364, u'ri': 5338, u'h200': 3074, u'best_express': 1301, u'sensory': 5622, u'note2': 4684, u'240': 220, u'hoodie': 3367, u'242': 222, u'uniden': 6457, u'knit': 3859, u'mediabug': 4293, u'beaniet': 1270, u'r1': 5199, u'r2': 5204, u'230s': 209, u'globalstore': 2958, u'r8': 5211, u'hm1950': 3338, u'btx40': 1602, u'silicon': 5724, u'att': 1123, u'mu12c': 4511, u'iso': 3665, u'joggers': 3745, u'atp': 1120, u'doers': 2227, u'loud': 4090, u'senwow': 5624, u'martketing': 4237, u'imeshbean': 3532, u'06s': 29, u'features': 2681, u'grade': 3002, u'goggle': 2976, u'vafru': 6529, u'walkers': 6664, u'hook': 3368, u'spinning': 5942, u'iwotou': 3692, u'knight': 3858, u'pulsar': 5129, u'f\\xfcr': 2853, u'ais01f': 921, u'v12786': 6509, u'170': 134, u'aurvana': 1147, u'service': 5629, u'ailihen': 911, u'10m': 66, u'girls': 2947, u'twisted': 6412, u'boating': 1450, u'neckback': 4603, u'master': 4242, u'novpeak': 4693, u'outad': 4794, u'listen': 4047, u'066': 28, u'cushions': 2045, u'gym': 3042, u'sacoolpro': 5499, u'lavender': 3948, u'w720': 6657, u'nx40': 4711, u'noodle': 4673, u'febe': 2683, u'h345': 3088, u'canvas': 1704, u'customizabile': 2048, u'wonfast': 6812, u'stocking': 6022, u'distance': 2210, u'riverange': 5356, u'lenovo': 3982, u'princeton': 5080, u'eachbid': 2332, u'tree': 6369, u'me572c': 4287, u's740t': 5484, u'shower': 5694, u'endure': 2487, u's740c': 5483, u'winder': 6769, u'mini': 4375, u'runner': 5420, u'modern': 4421, u'spectrum': 5936, u'iwireless': 3688, u'hasbt200x': 3176, u'seen': 5597, u'mint': 4385, u'earloop': 2353, u'tf810': 6256, u'metallic': 4322, u'fitting': 2738, u'shinefuture': 5675, u'absorbed': 837, u'sinopro': 5741, u'sleeper': 5783, u'skidproof': 5763, u'8841': 699, u'soundfreaq': 5897, u'davidson': 2109, u'aone': 1028, u'inshang': 3589, u'gamming': 2901, u'asin': 1100, u'108582': 63, u'venstone': 6553, u'92300000': 737, u'savvy': 5534, u'lowpricenice': 4097, u'mouth': 4477, u'macbook': 4187, u'es': 2539, u'broadcast': 1516, u'phiaton': 4927, u'clearance': 1831, u'dob': 2221, u'f04081': 2634, u'alarm': 930, u'rotary': 5387, u'kkmoon': 3854, u'tech': 6227, u'mini4': 4376, u'teck': 6233, u'sunbeam': 6080, u'lgv400w': 4001, u'8xt': 720, u'ecsem': 2415, u'minimalistic': 4381, u'm165': 4155, u'padded': 4847, u'hm3000': 3339, u'maverick': 4257, u'lyrica': 4135, u'quad': 5178, u'priv': 5083, u'gogroove': 2978, u'693': 533, u'690': 531, u'flowers': 2765, u'695': 536, u'zte': 7030, u'holder': 3362, u'excercise': 2581, u'dbest': 2115, u'mens': 4315, u's5000': 5468, u'unleashed': 6469, u'g08': 2856, u'rich': 5340, u'6splus': 548, u'v81': 6526, u'g01': 2854, u'g02': 2855, u'wearing': 6694, u'plate': 4986, u'warmers': 6674, u'761': 576, u'colorful': 1875, u'swaetproof': 6139, u'stop': 6028, u'pocket': 5014, u'flodable': 2761, u'watermelon': 6680, u'cushion': 2044, u'8530': 671, u'cardo': 1719, u'ibaste': 3473, u'dymanic': 2306, u'tips': 6297, u'baw': 1261, u'bar': 1240, u'sie2': 5715, u'mobifren': 4408, u'patch': 4878, u'bag': 1221, u'neckband': 4604, u'architecture': 1059, u'release': 5290, u'chunlin': 1805, u'setup': 5632, u'ears': 2369, u'lxyus': 4130, u'playstation': 4996, u'bae025': 1219, u'reference': 5277, u'hx200': 3427, u'timfany': 6292, u'sensitivity': 5620, u'pads': 4850, u'skully': 5770, u'hero': 3280, u'sb560': 5549, u'skulls': 5769, u'best': 1300, u'sb564': 5550, u'02': 17, u'03': 21, u'00': 0, u'01': 12, u'06': 27, u'x10mini': 6848, u'easycall': 2386, u'05': 24, u'9640g': 769, u'08': 30, u'09': 33, u'0mm': 40, u'conductive': 1918, u'ire': 3651, u'65219': 511, u'pemotech': 4904, u'men': 4313, u'extend': 2607, u'nature': 4594, u'kunai': 3880, u'savegoodbuy': 5530, u'obd2': 4719, u'380': 306, u'fetta': 2691, u'df630': 2177, u'385': 308, u'anglink': 1000, u'carbon': 1716, u's98': 5494, u'roller': 5377, u'patented': 4880, u'a610': 814, u'accident': 851, u'0v': 42, u'resistant': 5312, u'adapter': 873, u'cup': 2039, u'6771': 525, u'vtech': 6646, u'1019cf': 53, u'levitating': 3993, u'ultralast': 6445, u'wep570': 6725, u'logic': 4067, u'fivanus': 2739, u'h740': 3126, u'miracast': 4387, u'bhm5100kwkg': 1343, u'h560': 3104, u'950s': 755, u'snakeskin': 5835, u'gikbay': 2942, u'cobble': 1859, u'earwear': 2376, u'2nd': 256, u'active': 864, u'leexgroup': 3971, u'ang': 996, u'amam': 957, u'4pairs': 392, u'103': 55, u'pregnancy': 5068, u'250': 229, u'abco': 830, u'100': 44, u'255': 233, u'skygenius': 5774, u'cardboard': 1718, u'basiq': 1248, u'complimentary': 1909, u'union': 6460, u'seashell': 5588, u'n700m': 4561, u'bte02': 1574, u'three': 6273, u'tiny': 6293, u'csr8645': 2034, u'basic': 1247, u'numatech': 4703, u'lovely': 4093, u'sbn25': 5566, u'idol': 3489, u'dots': 2245, u'bt200': 1538, u'life': 4006, u'mushroom': 4529, u'buyit': 1642, u'onyx': 4753, u'25g': 235, u'oumers': 4788, u'ls620': 4100, u'165': 126, u'msm8974ac': 4503, u'bh692': 1334, u'bh693': 1335, u'iphone6s': 3634, u'0076': 8, u'topee': 6322, u'balance': 1228, u'armband': 1074, u'anchor': 982, u'e2400': 2318, u'deive': 2139, u'shamu': 5652, u'iq': 3648, u'ip': 3616, u'is': 3658, u'ir': 3649, u'it': 3671, u'iw': 3685, u'iv': 3678, u'ii': 3512, u'player': 4991, u'h17': 3068, u'im': 3525, u'd700': 2082, u'beyerdynamic': 1313, u'ie': 3491, u'id': 3481, u'dhl': 2181, u'comtop': 1913, u'format': 2794, u'sbh80': 5563, u'voyager': 6638, u'evolve': 2569, u'p6s': 4826, u'ergonomical': 2536, u'i3': 3449, u'kit': 3849, u'supper': 6112, u'rokit': 5376, u'lumia920': 4119, u'tune': 6396, u'kid': 3830, u'eceen': 2403, u'tk3230k': 6302, u'andoer': 987, u'808': 633, u'welcomeuni': 6703, u'803': 627, u'k920': 3791, u'oneplus': 4748, u'33': 288, u'804': 628, u'k702': 3786, u'earpeices': 2361, u'jusp': 3771, u'phaiser': 4924, u'yea': 6930, u'sporting': 5954, u'rotated': 5388, u'bandwidth': 1235, u'amzdeal': 975, u'human': 3414, u'yes': 6937, u'yet': 6938, u'400ft': 342, u'selenechen': 5600, u'trond': 6379, u'ham': 3150, u'equipment': 2527, u'ease': 2379, u'royal': 5398, u'ideal': 3482, u'pl990': 4978, u'animation': 1001, u'easy': 2384, u'savi': 5532, u'wirelessly': 6789, u'hat': 3177, u'radgadgetlabs': 5219, u't360': 6174, u'dt860': 2275, u'lyyd': 4138, u'thermometer': 6264, u'rowkin': 5396, u'airsspu': 920, u'shadow': 5648, u'unique': 6461, u'fz150': 2847, u'desire': 2160, u'g35': 2864, u'airhead': 917, u'airband': 913, u'hbs860': 3211, u'9951': 789, u'nude': 4702, u'shaped': 5654, u's100': 5436, u'arrivals': 1083, u'remind': 5294, u'rnd': 5365, u'riginal': 5348, u'hbc100': 3184, u'201': 169, u'right': 5346, u'old': 4739, u'p49': 4822, u'deal': 2119, u'as500': 1092, u'wlcg': 6801, u'hapurs': 3170, u'tenswall': 6249, u'202': 178, u'888013185': 704, u'8520': 670, u'1080': 61, u'000337': 1, u'ravetouch': 5239, u'fov': 2799, u'saika': 5504, u'au1200': 1126, u'for': 2789, u'bth360s': 1586, u'notification': 4690, u'fox': 2800, u'creative': 1995, u'idock': 3488, u'tracker': 6341, u'bullfight': 1622, u'feihaosj': 2686, u'price': 5077, u'burg': 1628, u'bold': 1453, u'b3300': 1198, u'bae033': 1220, u'smarttalk': 5815, u'dx80': 2304, u'bolt': 1454, u'maufacturer': 4255, u'super': 6101, u'epb03': 2521, u'innuendo': 3584, u'sweatpoof': 6145, u'tusita': 6405, u'bem8bk': 1293, u'semsemd': 5609, u'automatically': 1153, u'zum': 7033, u'mbl': 4273, u'n9600': 4577, u'hm1700': 3334, u'_express': 800, u'anbes': 979, u'runto': 5426, u'selfie': 5603, u'mate7': 4249, u'1320': 108, u's80': 5488, u'locator': 4062, u'sos': 5883, u'hbm235': 3190, u'buwico': 1640, u'wrap': 6831, u'reducing': 5274, u'imountek': 3535, u'pulseaudiotm': 5131, u'bossblue': 1472, u'fabric': 2652, u'malcom': 4217, u'amazingly': 960, u'support': 6114, u'gift': 2939, u'tame': 6203, u'authorized': 1150, u'9971': 790, u'kp270': 3872, u'sundely': 6082, u'happy': 3167, u'irulu': 3657, u'offer': 4730, u'bkhc': 1368, u'kawachi': 3805, u'idoo': 3490, u'228': 205, u'24hr': 226, u'220': 204, u'epple': 2524, u'uf9': 6432, u'm9': 4178, u'inside': 3590, u'devices': 2175, u'dante': 2098, u'pesp': 4915, u'devicei': 2174, u'sapphire': 5526, u'lookatool': 4077, u'palm': 4860, u'cosmos': 1971, u'150': 114, u'khz': 3826, u'155': 119, u'sticks': 6019, u'classic': 1827, u'covert': 1981, u'u3d870': 6419, u'airmate': 918, u'mrzproline': 4492, u'sticky': 6020, u'gshine': 3030, u'leyic': 3995, u'epochair': 2523, u'fashioned': 2665, u'ship': 5677, u'ericsson': 2537, u'4000mah': 341, u'vista': 6607, u'inateck': 3542, u'deker': 2140, u'b8': 1207, u'alerts': 933, u'excel': 2578, u'zewik': 7004, u'republic': 5310, u'pls330': 5005, u'digital': 2193, u'anker': 1002, u'excrise': 2590, u'hideer': 3295, u'szhunter': 6167, u'models': 4420, u'i9100': 3462, u'headphones_white': 3243, u'p9983': 4835, u'sf500': 5636, u'p9981': 4833, u'7945': 601, u'journey': 3752, u'7940': 596, u'7941': 597, u'15g': 120, u'nx20': 4710, u'windscreen': 6773, u'jitterbug': 3735, u'billion': 1355, u'equipments': 2528, u'soundbar': 5890, u'goodqbuy': 2989, u'earbubs': 2338, u'4you': 399, u'warm': 6672, u'time': 6289, u'push': 5144, u'250v': 231, u'ceoamzus': 1761, u'adult': 885, u'shop': 5688, u'h2100': 3076, u'buddies': 1606, u'seastar': 5590, u'gowe': 2995, u'excellent': 2579, u'activated': 862, u'em510': 2466, u'b0008': 1182, u'skate': 5757, u'a980': 825, u'skiing': 5765, u'lyrix': 4136, u'shot': 5692, u'ilepo': 3519, u'aptx': 1047, u'7932': 595, u'3d2y': 320, u'fitactive': 2728, u's305': 5454, u'ver': 6558, u'asunflower': 1108, u'8861': 701, u's302': 5452, u'xlink': 6888, u'8868': 702, u'526g': 432, u'amaze': 958, u'surgetm': 6126, u'810': 636, u'811': 638, u'i80': 3460, u'814': 642, u'815': 643, u'816': 644, u'me': 4285, u'smartphone': 5812, u'0mp': 41, u'string': 6047, u'clixie': 1840, u'sweatproofnoise': 6148, u'2xsc': 266, u'images': 3528, u'innovation': 3580, u's390g': 5460, u'choice': 1797, u'mf': 4327, u'stays': 6005, u'rechargable': 5260, u'exact': 2574, u'1700': 135, u'tear': 6223, u'unify': 6458, u'cheapest': 1785, u'picun': 4951, u'hookswitch': 3370, u'bikers': 1353, u'item': 3674, u'g920a': 2883, u'thinkcase': 6268, u'teal': 6221, u'team': 6222, u'sbh170': 5554, u'shoe': 5683, u's1n4c393': 5446, u'droid': 2265, u'309': 275, u'mi': 4336, u'hotsees': 3378, u'koododo': 3870, u'sign': 5719, u'winomo': 6780, u'm260mv': 4165, u'btrec': 1597, u'headset': 3250, u'movies': 4482, u'encrusted': 2483, u's111': 5439, u'300': 268, u'health': 3256, u'melo': 4306, u's12': 5441, u'international': 3604, u'i527': 3452, u'boost': 1466, u'peleustech': 4903, u'woxun': 6828, u'8040': 629, u'i747': 3458, u'transportation': 6358, u'clerk': 1834, u'mr': 4490, u'305': 272, u'weatherathome': 6696, u'paragon': 4865, u'xtreme': 6915, u'benson': 1295, u'soundczr': 5895, u's150b': 5443, u'pinkle': 4961, u'breathing': 1504, u'hbh': 3187, u'iriscan': 3653, u'g2x': 2862, u'8830': 698, u'youngfly': 6953, u'1byone': 152, u's150w': 5444, u'easygo': 2387, u'nylon': 4713, u'hbs': 3205, u'adjustable': 882, u'love': 4092, u'br': 1486, u'88285': 697, u'88284': 696, u'88283': 695, u'ipm': 3636, u'ips': 3640, u'modus': 4425, u'hypergear': 3435, u'blck': 1394, u'ipx': 3641, u'white_sliver': 6748, u'monaural': 4432, u'cabrio': 1670, u't139': 6171, u'ayo': 1177, u'mrice': 4491, u'working': 6821, u'a125': 804, u'connector': 1927, u'vigour': 6591, u'wood': 6813, u'droiee': 2266, u'aries': 1068, u'thru': 6279, u'sharing': 5657, u'stalion': 5983, u'af16': 897, u'mesh': 4319, u'oregon': 4772, u'visual': 6608, u'darkgrey': 2102, u'olive': 4742, u'petrel': 4916, u'logos': 4071, u'crs8645': 2005, u'valued': 6534, u'acusbkk': 869, u'nootproducts': 4676, u'soul': 5884, u'ult': 6441, u'wallet': 6668, u'flk': 2759, u'printing': 5082, u'auvio': 1154, u'fla': 2742, u'making': 4216, u'600mah': 477, u'arrive': 1084, u'vfree': 6568, u'cosonic': 1972, u'pswbt7bl': 5123, u'kamii': 3796, u'audiophile': 1138, u'wh500': 6735, u'wkae': 6800, u'sample': 5512, u'238': 217, u'sjsw': 5752, u'r28': 5205, u'235': 215, u'balaclava': 1227, u'230': 207, u'g630': 2879, u'232': 211, u'233': 213, u'pink': 4959, u's9': 5490, u's8': 5487, u'monitoring': 4436, u'winter': 6783, u'in': 3541, u's3': 5450, u's2': 5448, u's1': 5434, u'get': 2934, u's7': 5479, u's6': 5476, u's5': 5466, u's4': 5461, u'bh503': 1333, u'fpv': 2807, u'icrown': 3480, u'pure': 5136, u'a170': 806, u'maestro': 4193, u's6edge': 5478, u'guarantee': 3036, u'headsetfor': 3251, u'designer': 2158, u'fibonic': 2697, u'explorer': 2603, u'grom': 3021, u'max': 4258, u'blasting': 1391, u'm260va': 4166, u'accessory': 848, u'mac': 4186, u'snr': 5848, u'designed': 2157, u'mag': 4194, u'coulax': 1975, u'such': 6066, u'data': 2108, u'harmon': 3175, u'supersonic': 6106, u'surfing': 6125, u'natural': 4591, u'waist': 6662, u'ssl': 5973, u'sp': 5917, u'sw': 6137, u'sv': 6132, u'lacerta': 3911, u'st': 5975, u'sk': 5756, u'switch': 6153, u'truck': 6383, u'sm': 5798, u'sl': 5776, u'sc': 5569, u'avrcp': 1164, u'sf': 5635, u'se': 5583, u'sd': 5580, u'qh2': 5172, u'cute': 2049, u'zmax': 7016, u'shoes': 5686, u'distributors': 2213, u'cechya': 1746, u'feature': 2679, u'desig': 2154, u'5078': 410, u'dynabass': 2307, u'd725': 2083, u'itechor': 3673, u'shoei': 5684, u'avid': 1162, u'kasonic': 3803, u'disconnect': 2202, u'thumb': 6280, u'lingsfire': 4034, u'amazing': 959, u'muset': 4528, u'attraction': 1125, u'4g': 385, u'soundpeats': 5904, u'82x': 653, u'vocalyst': 6626, u'oversize': 4806, u'930': 741, u's3020': 5453, u'935': 746, u'5380': 441, u'eh101': 2436, u'salaxy': 5508, u'skech': 5760, u'stabilizers': 5979, u'smarter': 5809, u'brainwavz': 1493, u'eh102': 2437, u'84479': 666, u'9700': 773, u'ecoopro': 2411, u'runners': 5421, u'matched': 4245, u'freye': 2819, u'aukey': 1144, u'charging': 1780, u'sidon': 5714, u'829': 652, u'rock': 5368, u'x10': 6847, u'x11': 6849, u'reverb': 5325, u'826': 651, u'820': 647, u'822': 649, u'turtle': 6404, u'square': 5971, u'lycra': 4131, u'lepfun': 3988, u'cs540_hl10': 2020, u'fingertips': 2716, u'2120mah': 200, u'edgeplus': 2418, u'canada': 1690, u'iluv': 3524, u'gamers': 2898, u'3rd': 332, u'790': 583, u'blu': 1401, u'blt': 1399, u'soundlogic': 5902, u'ankovo': 1003, u'coby': 1861, u'bezel': 1317, u'poco': 5015, u'boundless': 1476, u'hca': 3216, u'blk': 1397, u'internet': 3605, u'heqiao': 3275, u'bla': 1370, u'canal': 1691, u'halfdirect': 3148, u'monster': 4441, u'c520': 1662, u'foxtek': 2801, u'1133': 82, u'material': 4251, u'dt880': 2276, u'2x5w': 262, u'f5mc': 2647, u'bumps': 1625, u'vinyl': 6598, u'autodyne': 1152, u'mimi': 4373, u'goxi': 2996, u'sentey': 5623, u'403048': 346, u'hbs800': 3210, u'training': 6345, u'basse': 1251, u'sbh80wh': 5565, u'language': 3927, u'standby': 5988, u'3010': 269, u'headphones': 3240, u'925': 738, u't8877': 6180, u'massive': 4241, u'i535': 3453, u'earpads': 2359, u'tesson': 6251, u'dealpeak': 2121, u'blubeats': 1402, u'one': 4747, u'soundz': 5913, u'voth': 6635, u'hz720': 3441, u'carry': 1722, u'jtd': 3766, u'potted': 5050, u'custom': 2046, u'open': 4756, u'cootree': 1961, u'stuffer': 6057, u'city': 1816, u'little': 4054, u'hp315gy': 3386, u'proxelle': 5112, u'1x': 163, u'duracell': 2288, u'broadcom': 1518, u'a125s': 805, u'1a': 150, u'citi': 1815, u'weego': 6698, u'smsung': 5831, u'm155': 4154, u'siberia': 5712, u'moisture': 4427, u'ovleng': 4808, u'fuelband': 2833, u'victec': 6580, u'ls885': 4105, u'meme': 4310, u'cellairis': 1749, u'memo': 4311, u'azm04': 1180, u'artifact': 1088, u'padding': 4848, u'tayogo': 6215, u'90mah': 732, u'hotncold': 3376, u'ceramics': 1763, u'11': 73, u'10': 43, u'13': 103, u'l40': 3895, u'15': 113, u'14': 109, u'17': 133, u'16': 121, u'19': 146, u'18': 138, u'future': 2844, u'glossy': 2963, u'venture': 6555, u'noontec': 4675, u'sophia': 5881, u'tracfone': 6339, u'sak': 5506, u'3905': 311, u'esonstyle': 2546, u'20w': 196, u'diopter': 2199, u'dash': 2105, u'say': 5538, u'hbm255': 3191, u'h710': 3121, u'speakers': 5933, u'danlai': 2097, u'h715': 3122, u'sminiker': 5823, u'fashionable': 2663, u'answering': 1015, u'frosted': 2826, u'note': 4682, u'duotone': 2284, u'moveplus': 4480, u'fm28b': 2773, u'performance': 4910, u'inmic': 3577, u's30853': 5455, u'switching': 6155, u'channel': 1774, u'ultimate': 6442, u'butterfly': 1636, u'200': 165, u'printer': 5081, u'205': 191, u'anleng': 1004, u'syllable': 6159, u'208': 194, u'g18': 2860, u'bte50': 1576, u'nolan': 4671, u'ioplay': 3614, u'sunglass': 6083, u'bte56': 1577, u'tpcromeer': 6335, u'g15': 2859, u'surprising': 6127, u'boys': 1480, u'7444ip': 569, u'bicyclist': 1348, u'fitacctive': 2727, u'drive': 2261, u'svance': 6136, u'sades': 5500, u'g10': 2857, u'csr8635': 2033, u'versiontech': 6563, u'apekx': 1033, u'rating': 5237, u'cobra': 1860, u'hm180': 3335, u'b41': 1204, u'cherry': 1790, u'show': 5693, u'8mm': 715, u'000mah': 2, u'mocreo': 4417, u'merit': 4318, u'bright': 1509, u'hm1100': 3328, u'roker': 5375, u'ls675': 4103, u'd530': 2078, u'as1125': 1091, u'slot': 5795, u'2520': 232, u'quesonictm': 5184, u'conduction': 1917, u'behind': 1285, u'stand': 5984, u'black': 1371, u'ecouteur': 2412, u'awareness': 1166, u'hippo': 3309, u'beatles': 1276, u'em229': 2465, u'dockfree': 2223, u'p90': 4832, u'sb340': 5545, u'between': 1311, u'bluetoothheadset': 1431, u'irainy': 3650, u'a70': 816, u'7962': 605, u'em227': 2463, u'7960': 603, u'7961': 604, u'suoper': 6100, u'7965': 607, u'neckerchief': 4607, u'gen': 2924, u'ijam': 3514, u'prime': 5078, u'sensor': 5621, u'soundbot': 5892, u'hinges': 3307, u'storm2': 6034, u'928': 739, u'929': 740, u'xmax': 6891, u'920': 736, u'kinglake': 3842, u'oenbopo': 4726, u'axseries': 1175, u'xmas': 6890, u'vision': 6604, u'eliteflip': 2460, u'lyft': 4133, u'wiko': 6758, u'j5': 3697, u'j7': 3698, u'j1': 3695, u'j3': 3696, u'atill': 1115, u'afendo': 898, u'seal': 5586, u'wideband': 6753, u'pisces': 4966, u'qbe710': 5165, u'wonder': 6810, u'refresher': 5280, u'830': 654, u'windshield': 6774, u'hhrp402kx': 3292, u'camping': 1688, u'835': 661, u'ornament': 4778, u'digicare': 2190, u'dormitory': 2244, u'pump': 5132, u'60pa': 485, u'streaming': 6041, u'infinim': 3570, u'hs3303we': 3398, u'reading': 5248, u'innoo': 3579, u'affordable': 899, u'r960': 5214, u'vertical': 6565, u'screen': 5579, u'hk100': 3314, u'jr': 3764, u'chacha': 1768, u'jo': 3742, u'spare': 5926, u'magna': 4202, u'luen': 4113, u'em228': 2464, u'tonesoul': 6312, u'digiland': 2191, u'survival': 6130, u'many': 4225, u'materail': 4250, u'888s': 706, u'lenses': 3984, u'hd91': 3223, u'dbpower': 2116, u'taotronics': 6208, u'moreteam': 4447, u'r9030': 5213, u'holders': 3363, u'85db': 673, u'550mm': 448, u'hbm800': 3204, u'7931': 594, u'siii': 5722, u'jk': 3737, u'innovations': 3581, u'audiology': 1135, u'b220': 1191, u'stereophonic': 6013, u'anti': 1020, u'cancel': 1694, u'boas': 1448, u'yooyo': 6948, u'boat': 1449, u'hd7': 3221, u'780': 581, u'womens': 6809, u'stretch': 6044, u'baofeng': 1239, u'hbm760': 3202, u'urgebasics': 6488, u'mark': 4230, u'89605n': 709, u'bhm1900npacsta': 1342, u'combined': 1884, u'reflective': 5278, u'reflex': 5279, u'bt50': 1560, u'enable': 2477, u'breett': 1505, u'lyx': 4137, u'detachable': 2168, u'laptops': 3934, u'photos': 4942, u'brh10': 1507, u'rugby': 5411, u'wep475': 6722, u'those': 6272, u'jiale': 3731, u'folding': 2781, u'haweel': 3182, u'runnig': 5422, u'zippered': 7013, u'bluetooh': 1424, u'hdx': 3227, u'cbhv2': 1736, u'bluetoot': 1426, u'plufy': 5007, u'1452': 112, u'coco': 1862, u'duowo': 2285, u'spotlight': 5959, u'binaural': 1357, u'aluminium': 952, u'fantime': 2660, u'wp8': 6830, u'ecoastal': 2408, u'daway': 2110, u'blah': 1388, u'a777': 818, u'accessorybasics': 849, u't110': 6170, u'ambient': 962, u'lightingfox': 4018, u'tec': 6225, u'technology': 6232, u'ivy': 3684, u'btec018': 1579, u'bags': 1223, u'different': 2189, u'sonixx': 5876, u'doctor': 2226, u'h0783': 3054, u'g530': 2872, u'h0784': 3055, u'surveillance': 6129, u'pad': 4846, u'lovers': 4095, u'd410': 2075, u'workout': 6822, u'grv': 3025, u'wires': 6791, u'3913': 312, u'bluetooht': 1425, u'running': 5423, u'wired': 6786, u'extender': 2610, u'canbor': 1693, u'climbing': 1835, u'booster': 1467, u'tracking': 6342, u'fitclip': 2733, u'okcsc': 4736, u'u940': 6422, u'macro': 4190, u'hx1': 3424, u'inzhirui': 3612, u'soundproof': 5907, u'wep700': 6727, u'earpad': 2358, u'dimension': 2196, u'ultralight': 6446, u'216': 202, u'summer': 6075, u'sv12': 6134, u'215': 201, u'210': 198, u'211': 199, u'money': 4433, u'h520': 3100, u'ksc32i': 3878, u'h525': 3101, u'807blue': 631, u'sb556': 5548, u'lghbm': 4000, u'earloomz': 2352, u'500mah': 404, u'cancer': 1701, u'b17': 1187, u'vl50': 6621, u'1300hrs': 106, u'z9i': 6985, u'smarthpone': 5810, u'cla7': 1818, u'soundbeats': 5891, u'r6100': 5210, u'pill': 4954, u'grip': 3019, u'filemate': 2703, u'win7': 6765, u'around': 1079, u'dland': 2217, u'nmotion': 4656, u'bt808l': 1570, u'notepro': 4689, u'income': 3552, u'zephyr': 7002, u'up24': 6476, u'dark': 2099, u'n7100': 4562, u'traffic': 6344, u'moc': 4416, u'world': 6825, u'ls665': 4102, u'chyu': 1806, u'soundpal': 5903, u'r130': 5201, u'r159red': 5202, u'axion': 1174, u'masentek': 4238, u'lightning': 4020, u'shutter': 5709, u'pom': 5033, u'nose': 4679, u'ximico': 6881, u'stationary': 6001, u'galaxay': 2890, u'65': 507, u'nx11': 4709, u'decoy': 2126, u'ixir': 3693, u'titan': 6298, u'ascend': 1097, u'tvs': 6407, u'mki9200': 4396, u'shadowbox': 5649, u'7975': 611, u'7971': 610, u'7970': 609, u'x3s': 6854, u'station7': 6000, u'wristband': 6835, u'lotfancy': 4089, u'pbt91': 4887, u'tube': 6394, u'carabineer': 1714, u'vivitar': 6615, u'aedilys': 895, u'nook': 4674, u'newisland': 4632, u'totu': 6329, u'5ri6': 464, u'cx04': 2058, u'francois': 2809, u'910': 735, u'cx03': 2057, u'rocki': 5371, u'scientific': 5574, u'power': 5053, u'actionpie': 861, u'fitness': 2735, u'ha0079': 3145, u'371': 301, u'throwback': 6278, u'cellet': 1751, u'aduro': 887, u'manufacturer': 4224, u'acc': 844, u'stone': 6024, u'626s': 497, u'ace': 853, u'package': 4838, u'industry': 3566, u'favorite': 2672, u'practical': 5064, u'hirich': 3310, u'bone': 1457, u'mixed': 4393, u'hm999': 3357, u'shb9150': 5668, u'1transmitter': 162, u'headsets': 3252, u'image': 3527, u'hk110': 3315, u'25065re1': 230, u'strip': 6048, u'vafee': 6528, u'hd8': 3222, u'pivos': 4968, u'wildfire': 6761, u'h08': 3056, u'her': 3276, u'magicbuds': 4197, u'h01': 3049, u'h07': 3053, u'hm1900': 3337, u'h05': 3052, u'compliant': 1908, u'structure': 6054, u'magneto': 4208, u'bacron': 1218, u'witt': 6799, u'gyms': 3043, u'yy7': 6966, u'complete': 1907, u'adjustment': 883, u'white3': 6745, u'509': 413, u'microphonestereo': 4352, u'remix': 5296, u'tripod': 6376, u'24h': 225, u'apie': 1036, u'agl': 903, u'talkabout': 6199, u'technologies': 6231, u'xirp8668': 6885, u'with': 6796, u'idefender': 3487, u'amplify': 971, u'volume': 6631, u'floureon': 2762, u'bluenin': 1419, u'bt28': 1551, u'roadwarrior': 5367, u'ragu': 5223, u'qshell': 5175, u'findway': 2711, u'ac': 841, u'ae': 890, u'zhda': 7005, u'48g': 378, u'accents': 845, u'm261vp': 4167, u'an': 977, u'ap': 1030, u'as': 1090, u'38mm': 309, u'at': 1110, u'xbabt75': 6864, u'av': 1156, u'lifetime': 4010, u'cables': 1669, u'film': 2706, u'cream': 1993, u'duopro': 2282, u'yoga': 6947, u'fflat5': 2693, u'2003': 168, u'drivers': 2263, u'23139': 210, u'hybrid': 3431, u'emarket': 2467, u'enclosure': 2480, u'12': 87, u'mh770': 4333, u'motorcyclists': 4465, u'4pcs': 394, u'gel': 2919, u'arobo': 1078, u'vertex': 6564, u'gifts': 2940, u'a3': 808, u'a5': 812, u'a7': 815, u'a6': 813, u'a9': 822, u'a8': 819, u'sequent': 5626, u'480': 375, u'l65': 3899, u'bmr': 1444, u'remote': 5297, u'mask': 4240, u'gearonic': 2913, u'zagg': 6986, u'prtable': 5113, u'micphone': 4340, u'ot6005': 4783, u'original': 4777, u'prorun': 5101, u'77043': 578, u'sch': 5572, u'wrmt': 6840, u'mx100': 4543, u'ceramic': 1762, u'commute': 1899, u'higher': 3298, u'isport': 3670, u'streo': 6043, u'mnd': 4407, u'children': 1792, u'us991': 6492, u'us990': 6491, u'immi': 3534, u'andrea': 990, u'e5s': 2323, u'vikings': 6594, u'tv': 6406, u'tt': 6393, u'tair': 6194, u'ts': 6390, u'h730': 3125, u'ns560': 4697, u'sml': 5824, u'award': 1165, u'tk': 6301, u'th': 6258, u'l39h': 3894, u'wep200': 6708, u'enjoying': 2499, u'tb': 6216, u'norm': 4677, u'sound': 5888, u'headpho': 3237, u'premium': 5069, u'wep750': 6728, u'l710': 3902, u'618': 490, u'iphax': 3626, u'fall': 2657, u'winning': 6779, u'baidi': 1224, u'bte70': 1578, u'splitter': 5946, u'csr8610': 2031, u'cable': 1668, u't9': 6181, u't7': 6179, u't5': 6176, u't2': 6172, u't3': 6173, u'duraforce': 2289, u't1': 6169, u'large': 3935, u'sand': 5518, u'adjust': 881, u'hyt': 3437, u'small': 5800, u'earbuds': 2340, u'hotshot': 3379, u'cancellaction': 1697, u'digiom': 2192, u'liansing': 4003, u'portable': 5043, u'195': 148, u'b26': 1196, u'plaid': 4979, u'outwork': 4801, u'sync': 6162, u'6755i': 522, u'knitted': 3861, u'zero': 7003, u'3xsc': 337, u's700': 5480, u'xcsource': 6870, u'phonestand': 4935, u'r120': 5200, u'sennheiser': 5615, u'plncs520': 5002, u'woopower': 6817, u'microphon': 4347, u'clock': 1842, u'colorless': 1876, u'burgundy': 1629, u'headest': 3233, u'abs': 836, u'phpmp39': 4943, u'bluboon': 1403, u'tribute': 6375, u'apply': 1042, u'plush': 5011, u'movement': 4479, u'full': 2834, u'earwave': 2375, u'1100': 75, u'elemart': 2455, u'replaceable': 5305, u'apphome': 1038, u'hours': 3382, u'beacon': 1267, u'operating': 4758, u'coolsell': 1958, u'7902': 584, u'iaeb44r': 3469, u'7905': 585, u'7906': 586, u'902': 726, u'245': 224, u'900': 722, u'sbh50white': 5557, u'906': 730, u'razr': 5241, u'experience': 2602, u'note1': 4683, u'zibaar': 7007, u'upd610': 6478, u'pick': 4946, u'7550': 574, u'9550': 757, u'flylion': 2769, u'eartips': 2374, u'via': 6572, u'243': 223, u'adidas': 880, u'transit': 6352, u'note4': 4686, u'beihont': 1287, u'indoors': 3564, u'esra': 2547, u'rocketfish': 5369, u'bt160': 1536, u'select': 5598, u'48hour': 379, u'855': 672, u's560': 5475, u'850': 669, u'ridding': 5342, u'two': 6413, u'pearl': 4897, u'splash': 5944, u'doolike': 2239, u'jive': 3736, u'resonator': 5315, u'188a01': 145, u'rf925r': 5331, u'more': 4446, u'teen': 6236, u'ds200': 2270, u'diamond': 2187, u'door': 2240, u'sunnypeak': 6092, u'n700': 4560, u'gdealer': 2911, u'remxd': 5302, u'galaxys6': 2893, u'facleta': 2655, u'controlling': 1937, u'kingfansion': 3841, u'cntrl': 1854, u'bth010': 1581, u'beatit': 1275, u'sizing': 5751, u'as600ig': 1094, u'fleece': 2750, u'hour': 3381, u'h10': 3058, u'h12': 3063, u'codfe': 1865, u'h15': 3065, u'h16': 3067, u'8900': 708, u'tunestream': 6399, u'smartcheater': 5806, u'shuoge': 5708, u'11867': 84, u'male': 4218, u'9641g': 770, u'beautiful': 1280, u'imperial': 3536, u'shark': 5658, u'sie2i': 5716, u'illustra': 3523, u'happyi': 3169, u'8pcs': 716, u'cltvbt': 1852, u'54inch': 445, u'pro': 5085, u'buid': 1610, u'iwatch': 3687, u's150': 5442, u'b250xt': 1194, u'sense': 5617, u'buil': 1611, u'sharp': 5659, u'solchat': 5864, u'k350': 3782, u'xpr7350': 6896, u'huge': 3410, u'siren': 5744, u'08018': 31, u'csj': 2027, u'blueant': 1409, u'comfort': 1887, u'enlarge': 2500, u'everyday': 2565, u'glowing': 2967, u'1693': 128, u'csp': 2028, u'csr': 2029, u'upto': 6484, u'plant': 4981, u'pilotdarss': 4956, u'pure2': 5138, u'hx550': 3429, u'connectivity': 1925, u'xr100': 6901, u'youngway': 6954, u'coolcat': 1952, u'coming': 1890, u'hz770': 3443, u'g8': 2881, u'authentic': 1149, u'response': 5316, u'bt8010': 1567, u'hfp': 3286, u'6753i': 521, u'seco': 5591, u'dragon': 2252, u'broadcasting': 1517, u'redwhite': 5276, u'pleasure': 5000, u'm180': 4156, u'playing': 4993, u'hm5100': 3348, u'1300': 105, u'cellular': 1756, u'radios': 5222, u'bestfy': 1305, u'9810': 782, u'itd': 3672, u'peppy': 4907, u'ljersa': 4057, u'stylus': 6061, u'radar': 5218, u'soundworks': 5912, u'brio': 1513, u'same': 5511, u'brim': 1512, u'insten': 3593, u'pinhen': 4958, u'turbine': 6400, u'490': 381, u'492': 382, u'24': 219, u'25': 228, u'27': 238, u'20': 164, u'21': 197, u'22': 203, u'23': 206, u'pcs': 4891, u'l70': 3900, u'28': 242, u'supvin': 6123, u'yellow1': 6936, u'eaglewood': 2335, u'hbc150': 3185, u'geepro': 2917, u'pcb': 4889, u'jitterbuds': 3734, u'travelling': 6363, u'earhooks': 2351, u'smakn': 5799, u'pu': 5128, u'good': 2987, u'durosonic': 2291, u'gadget': 2887, u'muisc': 4515, u'hussar': 3419, u'8330': 658, u'pegasus': 4901, u'uhq': 6438, u'se09': 5584, u'fbi': 2673, u'maxbo': 4260, u'mystery': 4549, u'easily': 2382, u'ps4007bt': 5118, u'pak': 4859, u'9900': 787, u'2s': 260, u'h721': 3124, u'h720': 3123, u'2x': 261, u'featured': 2680, u'2d': 249, u'micro': 4342, u'2g': 251, u'2a': 246, u'eva': 2560, u'33ft': 291, u'found': 2796, u'shocking': 5680, u'out': 4793, u'hz8': 3444, u'call': 1674, u'clamp': 1820, u'mental': 4316, u'xt1058': 6913, u'xt1056': 6912, u'house': 3383, u'fish': 2723, u'xt1055': 6911, u'reduce': 5273, u'beret': 1297, u'xt1050': 6910, u'h19': 3071, u'honeybox': 3365, u'ubegood': 6423, u'bluez': 1439, u'connect': 1921, u'eineo': 2441, u'ripple': 5353, u'thunderbolt': 6284, u'mumo': 4527, u'q9a': 5164, u'calorie': 1678, u'hm6450': 3351, u'clarity': 1822, u'sh01': 5643, u'trooper': 6382, u'd18b': 2070, u'buytra': 1643, u'treadmilling': 6365, u'3600mah': 298, u'bibox': 1345, u'salute': 5510, u'huijukon': 3413, u'motorokr': 4467, u'topepop': 6323, u'sbw': 5567, u'huaham': 3407, u'soondar': 5880, u'subwoofer': 6065, u'b30': 1197, u'bombshell': 1456, u'ocyclone': 4724, u'runphones': 5424, u'labor': 3909, u'blue1': 1406, u'companion': 1902, u'hermes': 3279, u'h8008': 3130, u'arkon': 1071, u'definition': 2135, u'pairs': 4858, u'black1': 1373, u'lecoolife': 3965, u'black2': 1375, u'computers': 1912, u'kplge': 3873, u'h501': 3098, u'h500': 3097, u'malloom': 4219, u'jelly': 3723, u'h505': 3099, u'perman': 4911, u'el01bt': 2445, u'shb9100rd': 5667, u'8310': 656, u'exercising': 2595, u'g925a': 2884, u'wilder': 6760, u'40mw': 350, u'10304': 56, u'number': 4704, u'valentine': 6530, u'bluebuds': 1412, u'40mm': 349, u's9hd': 5495, u'600': 474, u'7912': 589, u'7911': 588, u'cups': 2040, u'mah': 4212, u'sbh20': 5555, u'pspo': 5122, u'samung': 5517, u'975': 776, u'heads': 3249, u'sonyericsson': 5878, u'jet': 3726, u'tate': 6212, u'swipe': 6152, u'recheargable': 5263, u'paint': 4853, u'180': 139, u'zealot': 6992, u'excelvan': 2580, u'185': 143, u'unopen': 6471, u'mynetdeals': 4547, u'phonetics': 4936, u'ma861': 4184, u'h700': 3120, u'joylink': 3756, u'bh100': 1325, u'bt112': 1533, u'wirelss': 6790, u'sacool': 5498, u'vivofit': 6617, u'ebt922': 2397, u'polarized': 5021, u'aac': 826, u'860': 674, u'df7': 2178, u'vocal': 6625, u'collaboration': 1870, u'2020': 179, u'sa907': 5497, u'jmen': 3740, u'traveling': 6362, u'bhm': 1341, u'canceling': 1696, u'ages': 902, u'polarisnoise': 5020, u'c301': 1659, u'dashblu': 2106, u'70385': 558, u'mu12': 4510, u'showers': 5696, u'definiation': 2134, u'bhs': 1344, u'091004': 35, u'cft': 1766, u'9330': 745, u'r9000': 5212, u'h28': 3083, u'dancing': 2095, u'erm28': 2538, u'self': 5602, u'h26': 3080, u'pinkie': 4960, u'ma850g': 4183, u'silvery': 5729, u'also': 950, u'k1': 3777, u'internal': 3603, u'k7': 3785, u'build': 1612, u'ipx8': 3647, u'ipx7': 3646, u'ipx6': 3645, u'ipx5': 3644, u'ipx4': 3643, u'ipx3': 3642, u'vinus': 6597, u'shareme': 5656, u'play': 4989, u'18650': 144, u'12mb': 99, u'most': 4451, u'connecting': 1923, u'charm': 1781, u'99xx': 796, u'2e': 250, u'bh1': 1323, u'bh3': 1329, u'zivigo': 7014, u'model': 4419, u'3050': 273, u'q3': 5155, u'kasstino': 3804, u'cover': 1979, u'16mm': 130, u'ks': 3877, u'mipow': 4386, u'16mp': 131, u'kv': 3881, u'asus': 1109, u'ky': 3885, u'kx': 3883, u'microsoft': 4356, u'lg260': 3998, u'itouch': 3676, u'3p': 330, u'golf': 2983, u'gold': 2979, u'bm50': 1443, u'biru': 1361, u'i717': 3457, u'akonier': 927, u'outdoor': 4795, u'genround': 2929, u'defender': 2133, u'wuloo': 6843, u'fine': 2712, u'networks': 4622, u'q5': 5159, u'm55': 4172, u'chimes': 1795, u'indicator': 3560, u'keychain': 3821, u'm50': 4171, u'morul': 4449, u'capacitive': 1709, u'writer': 6837, u'airsoft': 919, u'micprophone': 4341, u'wrape': 6832, u'removable': 5298, u'plextone': 5001, u'marathons': 4226, u'poles': 5025, u'w100': 6650, u'allmb0313k6': 939, u'eearbuds': 2425, u'touchscreen': 6331, u'm04s': 4142, u'express': 2604, u'sunny': 6091, u'f04071': 2633, u'akedre': 925, u'breast': 1502, u'chat': 1782, u'a724': 817, u'rymemo': 5428, u'annvii': 1009, u'crs': 2004, u'sleeve': 5786, u'caseco': 1727, u'bestgoods': 1306, u'remove': 5300, u'proclaim': 5091, u'luxsure': 4127, u'common': 1895, u'b3509': 1201, u'protable': 5103, u'armature': 1073, u'endeavor': 2485, u'5370ip': 440, u'ularmo': 6439, u'headphonewith': 3245, u'set': 5630, u'6plus': 546, u'enabled': 2478, u'311': 279, u'310': 278, u'potent': 5049, u'earwings': 2377, u'touch': 6330, u'toons': 6317, u'individual': 3562, u'sea': 5585, u'polish': 5026, u'abcgoodefg': 829, u'196150': 149, u'8320': 657, u'analog': 978, u'darkiron': 2103, u'wep250': 6710, u'hdmi': 3224, u'p2030': 4816, u'movie': 4481, u'c8': 1666, u'1headphone': 154, u'burner': 1630, u'rejecting': 5285, u'pickup': 4947, u'smallest': 5801, u'lighting': 4017, u'champagne': 1769, u'thrive': 6275, u'available': 1158, u'4gs': 388, u'yamay': 6925, u'sodee': 5856, u'sv21': 6135, u'soulbuddy': 5886, u'polytree': 5032, u'4gb': 386, u'mie2i': 4363, u'tristar': 6377, u'lightness': 4019, u'flagbona': 2745, u'lafeina': 3916, u'last': 3940, u'4051': 348, u'kandie': 3797, u'hint': 3308, u'pdp': 4894, u'connection': 1924, u'suede': 6069, u'swageu': 6140, u'joypad': 3757, u'frist': 2822, u'lanyard': 3931, u'woowi': 6818, u'majesty': 4213, u'bell': 1290, u'simple': 5733, u'lapond': 3932, u'speedlite': 5938, u'leon': 3986, u'simply': 5735, u'upgrades': 6483, u'slivergray': 5794, u'belt': 1292, u'platinum': 4988, u'ewonder': 2570, u'doace': 2220, u'30mm': 277, u'130388': 107, u'mikey': 4368, u'z1': 6968, u'voxoa': 6637, u'mightyhand': 4364, u'msh04': 4500, u'inear': 3567, u'extreme': 2617, u'17333': 136, u'qy7': 5196, u'wirelessheadphone': 6788, u'jomaxzon': 3749, u'7925': 592, u'champion': 1770, u'7920': 590, u'7921': 591, u'fire': 2719, u'7929': 593, u'hedset': 3269, u'transpyre': 6359, u'compatable': 1903, u'exquisite': 2605, u'spracht': 5963, u'replaces': 5308, u'960': 760, u'soba': 5853, u'solid': 5867, u'straight': 6035, u'm8008pink': 4177, u'invisable': 3610, u'receive': 5255, u'h631': 3110, u'kodas': 3867, u'fun': 2837, u'allmet': 940, u'exclusivley': 2589, u'mota': 4454, u'30': 267, u'century': 1760, u'7hrs': 616, u'xb60ex': 6862, u'xiao': 6877, u'moto': 4458, u'decoration': 2125, u'd900': 2090, u'vox': 6636, u'04': 23, u'jb3': 3717, u'jb2': 3716, u'i20': 3448, u's501': 5469, u'870': 684, u'deisgn': 2138, u'ama': 956, u'kokkia': 3868, u'mby525': 4274, u'products': 5092, u'awow': 1171, u'day': 2111, u'09e11': 37, u'strips': 6051, u'knitting': 3862, u'snail': 5833, u'keys': 3823, u'c310': 1660, u'leopard': 3987, u'shb4000wt': 5662, u'alert': 932, u'viewing': 6587, u'snoy': 5847, u'stripe': 6049, u'marsee': 4236, u'genuine': 2931, u'woofer': 6815, u'interphone': 3606, u'focal': 2777, u'bradychan': 1489, u'as600ob': 1095, u'azpow': 1181, u's50i': 5470, u'ilive': 3521, u'amps': 972, u'iv835': 3679, u'jbl': 3719, u'jbj': 3718, u'gn9330': 2972, u'm07s': 4146, u'eyeglasses': 2621, u'bh99': 1340, u'fast': 2667, u'h918bt': 3139, u'quadband': 5179, u'ls660': 4101, u'shape': 5653, u'hercules': 3277, u'ze551kl': 6991, u'deveices': 2172, u'using': 6502, u'3041': 271, u'talk': 6197, u'sh03d': 5644, u'wearable': 6692, u'r159ygtm': 5203, u'elation': 2447, u'i545': 3454, u'bestfire': 1304, u'marque2': 4233, u'source': 5914, u'suicen': 6071, u'ourdevice': 4790, u'calisto': 1673, u'input': 3585, u'easter': 2383, u'earloops': 2354, u'zenco': 6998, u'siri': 5745, u'smartwatches': 5817, u'emergency': 2471, u'hz750': 3442, u'big': 1350, u'couple': 1977, u'7xsc': 621, u'matters': 4254, u'karnotech': 3801, u'11673': 83, u'biz': 1365, u'apt': 1046, u'moniko': 4434, u'niceeshop': 4646, u'bit': 1363, u's07': 5432, u'complysport': 1910, u'puxing': 5146, u'g360phaaspr': 2866, u'6751i': 520, u'semi': 5608, u'marquee': 4234, u'alltel': 944, u'bh902': 1338, u'glove': 2964, u'rider': 5343, u'communications': 1897, u'41596': 353, u'patrick': 4881, u'stylish': 6059, u'iphone4': 3629, u'spevert': 5939, u'agptek': 904, u'google': 2990, u'often': 4734, u's1s': 5447, u'spring': 5965, u'bagis': 1222, u'back': 1212, u'bounce': 1474, u'b4': 1203, u'b5': 1205, u'strongest': 6053, u'ultrasoft': 6448, u'abh102': 833, u'b1': 1184, u'ornaments': 4779, u'mirror': 4388, u'monoprice': 4440, u'sprint': 5966, u'8130': 641, u'moonet': 4443, u'leesentec': 3970, u'aud23030': 1128, u'aud23031': 1129, u'ns400': 4695, u'cidoss': 1809, u'eshop': 2543, u'jewelry': 3728, u'scala': 5570, u'bassone': 1252, u'novelty': 4692, u'integration': 3597, u'gateway': 2905, u'pen': 4905, u'xpr7000': 6895, u'ellipsis': 2461, u'epic': 2522, u'novacell': 4691, u'larm': 3937, u'blackberry': 1376, u'inserting': 3588, u'be': 1264, u'bf': 1318, u'ufo': 6435, u'bl': 1369, u'bm': 1442, u'302': 270, u's10': 5435, u'bh': 1320, u'lightweght': 4023, u'306': 274, u'bk': 1367, u'bt': 1530, u'bu': 1603, u'bw': 1645, u'bq': 1484, u'oem': 4725, u'100hrs': 48, u'by': 1651, u'sub': 6062, u'anything': 1023, u'yobi': 6946, u'preset': 5071, u'pollution': 5028, u'repair': 5304, u'highsound': 3299, u'into': 3607, u'wirless': 6793, u'hnads': 3358, u'coil': 1868, u'bt8040': 1569, u'blackwire': 1385, u'6757cti': 523, u'rilakkuma': 5349, u'pyle': 5147, u'u5': 6420, u'777s': 580, u'headpset': 3248, u'u2': 6418, u'ci3': 1808, u'azm02': 1179, u'mkt': 4398, u'suit': 6072, u'201010': 171, u'audiojabz': 1133, u'3600': 297, u'inches': 3545, u'lint': 4040, u'nexas': 4636, u'sienoc': 5718, u'vivaz': 6612, u'link': 4036, u'bluefit': 1415, u'atom': 1118, u'h913bt': 3138, u'subsidiary': 6064, u'line': 4033, u'acbbbli': 843, u'ns5': 4696, u'okeyn': 4737, u'bicycle': 1346, u'rejection': 5286, u'kiwitat': 3852, u'pro100': 5087, u'uv': 6505, u'up': 6473, u'us': 6490, u'cis': 1812, u'paired': 4856, u'mk5': 4395, u'customers': 2047, u'l720': 3903, u'sunglasse': 6084, u'lentenda': 3985, u'ue': 6429, u'ug': 6436, u'jumbl': 3767, u'groove': 3022, u'medical': 4294, u'uc': 6426, u'insignia': 3591, u'iworks': 3691, u'h300': 3086, u'metal': 4320, u'9450': 750, u'lye': 4132, u'engineering': 2491, u'esynic': 2549, u'vansky': 6540, u'7hr': 615, u'bt350': 1555, u'prevail': 5076, u'playme': 4994, u'omaker': 4744, u'wiretrax': 6792, u'485g': 377, u'950': 754, u'hm1300': 3330, u'ms395': 4496, u'956': 759, u'zoephones': 7018, u'n750': 4563, u'codec': 1864, u'hm666': 3352, u'400mah': 343, u'consummate': 1931, u'saxhorn': 5537, u'b18': 1188, u'lg8610bths': 3999, u'bt135': 1535, u'geekercity': 2916, u'sunglassespc': 6086, u'purple11': 5143, u'moudio': 4471, u'lucid': 4110, u'bsports': 1529, u'luxurious': 4128, u'lens': 3983, u'sx1': 6157, u'sportbuds': 5950, u'10pcs': 68, u'suppression': 6119, u'wicking': 6751, u'rar213hg': 5231, u'ife3': 3503, u'ife1': 3501, u'fighter': 2701, u'ife5': 3504, u'toogoo': 6314, u'intcrown': 3595, u'x70': 6858, u'xs400': 6906, u'2000': 166, u'hresy': 3393, u'ags': 905, u'hello': 3271, u'apx6000': 1049, u'code': 1863, u'partial': 4871, u'sf600': 5637, u'joyshare': 3759, u'scratch': 5577, u'amplifier': 970, u'cobalt': 1858, u'venstar': 6552, u'625': 495, u'kyocera': 3886, u'9670': 772, u'snowmobile': 5846, u'brightside': 1510, u'amplified': 969, u'carrier': 1721, u'backlight': 1215, u'viyao': 6618, u'4560p': 369, u'iclooly': 3477, u'lte2': 4109, u'sena': 5610, u'young': 6952, u'send': 5612, u'tomtop': 6309, u'zeefo': 6995, u'blaze': 1393, u'ls770': 4104, u'4xsc': 398, u'jiafeng': 3729, u'acusmtk': 870, u'wofala': 6805, u'bury': 1633, u'audifonos': 1130, u'dj': 2216, u'rhyme': 5336, u'moul': 4472, u'larkoo': 3936, u'sunwee': 6098, u'iep414': 3497, u'hm3200': 3341, u'entire': 2504, u'magic': 4196, u'evo': 2567, u'transmission': 6353, u'twinbuys': 6410, u'4inloveme': 390, u'zmbx01slvgry': 7017, u'ancstudio': 983, u'r301': 5206, u'202320': 180, u'aiaiai': 909, u'optics': 4762, u'solutions': 5871, u'595': 456, u'btunes': 1599, u'waloo': 6669, u'urbuds': 6487, u'ueb': 6430, u'video': 6585, u'wheat': 6736, u'croc': 2000, u'victor': 6581, u'phablet': 4922, u'9720': 775, u'maxtronic': 4264, u'bth220': 1583, u'blackerry': 1379, u'multimedia': 4523, u'm33': 4169, u'emerson': 2472, u'access': 846, u'huawei': 3408, u'3m': 326, u'manufactured': 4223, u'3c': 317, u'bluehresy': 1417, u'3g': 322, u'bird': 1359, u'funtion': 2842, u'3d': 319, u'body': 1451, u'iahb64': 3470, u'led': 3966, u'leg': 3973, u'lumsing': 4121, u'aispeed': 922, u'501': 406, u'packing': 4843, u'l27': 3888, u'others': 4786, u'sing': 5738, u'e220': 2317, u'8120': 640, u'bt250v': 1550, u'great': 3012, u'38': 305, u'sleepband': 5782, u'loopgel': 4080, u'technical': 6228, u'32': 281, u'aud23028': 1127, u'technolog': 6230, u'sunorm': 6093, u'hx520': 3428, u'cta': 2036, u'pp511a': 5060, u'skin': 5766, u'neutab': 4623, u'makes': 4215, u'honor': 3366, u'coper': 1962, u's09': 5433, u'blackblack': 1377, u's02': 5429, u's03': 5430, u's04': 5431, u'330': 289, u'private': 5084, u'd80': 2085, u'sgh': 5641, u'pillion': 4955, u's898t': 5489, u'crimson': 1998, u'1receiver': 159, u'tools': 6316, u'sunvito': 6097, u'lime': 4029, u'talbet': 6196, u'zip': 7011, u'bekhic': 1289, u'next': 4638, u'camcorder': 1681, u'zik': 7009, u'charcoal': 1775, u'leme': 3977, u'90mw': 733, u'sg1': 5640, u'fatshark': 2669, u'uupower': 6504, u'carrying': 1723, u'32gb': 287, u'kidwavz': 3832, u'shu2000': 5706, u'baby': 1211, u'bt4010': 1557, u'iii': 3513, u'buuren': 1639, u'box2': 1479, u'mabox': 4185, u'clearsounds': 1833, u'bluetune': 1437, u'portability': 5042, u'this': 6271, u'coolstream': 1959, u's550': 5474, u'rubberized': 5409, u'tag': 6193, u'fitactrunswt': 2731, u'thin': 6267, u'faceplates': 2654, u'industrial': 3565, u'sinst': 5742, u'3pcs': 331, u'slid': 5788, u'streamed': 6040, u'slip': 5792, u'lock': 4063, u'zinger': 7010, u'slim': 5791, u'ettg': 2559, u'pieces': 4953, u'high': 3297, u'hign': 3302, u'earmuff': 2355, u'quikcell': 5190, u'violet': 6599, u'expandable': 2599, u'native': 4589, u'curving': 2043, u'docking': 2224, u'p511a': 4823, u'9030black': 728, u'earhook': 2349, u'flashlight': 2748, u'5rtp': 465, u'lamp': 3918, u'pair': 4855, u'isound': 3668, u'intelligent': 3599, u'cherrylee': 1791, u'class1': 1826, u'profile': 5094, u'sbh70': 5561, u'savfy': 5531, u'kaki': 3794, u'wristwatch': 6836, u'hight': 3300, u'y530': 6918, u'leekooluu': 3968, u'notebook': 4688, u'w518a': 6655, u'tonsee': 6313, u'fits': 2736, u'communicator': 1898, u'bndl': 1446, u'winsbotech': 6781, u'siv': 5746, u'besteker': 1302, u'bsport': 1528, u'200203': 167, u'bulit': 1618, u'nancy': 4586, u'alloy': 942, u'tactical': 6191, u'mustache': 4538, u'antelope': 1018, u'six': 5747, u'bt125': 1534, u'mute': 4539, u'rechangeble': 5259, u'move': 4478, u'i9500': 3466, u'report': 5309, u'motorcycle': 4464, u's520': 5471, u'mengo': 4314, u'g3twin': 2868, u'bat1060': 1255, u'mz014': 4552, u'neodymium': 4615, u'psp01': 5120, u'perfect': 4908, u'lg': 3997, u'le': 3956, u'lb': 3952, u'lc': 3954, u'ln': 4059, u'9982': 792, u'tse': 6391, u'garadise': 2903, u'li': 4002, u'decal': 2123, u'tecknet': 6234, u'degrees': 2137, u'ls': 4099, u'lp': 4098, u'headphoens': 3238, u'2015': 175, u'2014': 174, u'2016': 177, u'weide': 6699, u'2013': 173, u'designs': 2159, u'jktf': 3738, u'etree': 2556, u'hurrican': 3417, u'toshiba': 6327, u'dock': 2222, u'cutting': 2051, u'snake': 5834, u'phonecall': 4932, u'rotation': 5390, u'cage': 1671, u'transparent': 6356, u'b570': 1206, u'thrill': 6274, u'bette': 1309, u'1000mah': 46, u'merge': 4317, u'iphnoe': 3627, u'l3': 3889, u'zeiss': 6996, u'tracer': 6338, u'l8': 3904, u'glasses': 2952, u'dreow': 2260, u'sunmy': 6089, u'gn9350': 2973, u'dreaming': 2258, u'sportsman': 5956, u'tbmax': 6217, u'books': 1462, u't0782': 6168, u'bpr40': 1483, u'freeglide': 2813, u'n98': 4579, u'cwp': 2055, u'n96': 4576, u'n97': 4578, u'ufashion': 6433, u'ehs36': 2440, u'mate': 4247, u'waav': 6660, u'cwa': 2054, u'electronics': 2451, u'6739i': 519, u'red': 5269, u'rhidon': 5334, u'ep510bl': 2510, u'585': 455, u'beiste': 1288, u'hk210': 3319, u'zorow': 7025, u'rf970r': 5332, u'multicolor': 4518, u'tr\\xfcsound': 6389, u'tempo': 6245, u'probuds': 5089, u'blueparrott': 1420, u'h6080': 3107, u'answerer': 1014, u'earcandy': 2341, u'tactx': 6192, u'm28': 4168, u'bowman': 1477, u'm24': 4163, u'm25': 4164, u'm20': 4160, u'm22': 4161, u'mini503': 4377, u'chilly': 1794, u'length': 3981, u'wrist': 6834, u'retail': 5318, u'sawake': 5535, u'bluephonic': 1421, u'32ft': 286, u'uclear': 6428, u'iwalk': 3686, u'450': 364, u'451': 368, u't41': 6175, u'touring': 6333, u'dolce': 2232, u'actionfly': 860, u'white02': 6744, u'leica': 3975, u'kinds': 3837, u'flyweight': 2771, u'8110': 639, u'6921': 532, u'krzr': 3876, u'soundance': 5889, u'w445': 6653, u'start': 5995, u'wep500': 6724, u'system': 6164, u'rezound': 5330, u'lumen': 4117, u'jingle': 3732, u's9i': 5496, u'boundle': 1475, u'nitro': 4652, u'adaptor': 875, u'excercises': 2582, u'k89': 3788, u'co2crea': 1855, u'elite': 2459, u'bearsfire': 1272, u'steel': 6008, u'bodyguard': 1452, u'kagu': 3792, u'juntong': 3770, u'breathable': 1503, u'heasdset': 3263, u'6p': 543, u'lover': 4094, u'earstabilizer': 2371, u'ipax': 3625, u'miix2': 4367, u'ishot': 3661, u'musicell': 4533, u'comfortable': 1888, u'magixx': 4201, u'gentle': 2930, u'ep79': 2518, u'hbs500': 3206, u'receptionist': 5258, u'backbeatfit': 1214, u'compactible': 1901, u'digitial': 2194, u'handsets': 3161, u'clearly': 1832, u'bonusis': 1461, u'foneso': 2784, u'7pcs': 617, u'mil': 4369, u'awei': 1168, u'4000': 340, u'barsone': 1242, u'mic': 4337, u'yunt': 6962, u'mix': 4391, u'320': 282, u'321': 283, u'ativ': 1116, u'meeting': 4299, u'328': 285, u'accuracy': 852, u'worldwide': 6826, u'z2a': 6973, u'motorcom': 4463, u'3trk': 334, u'oraco': 4769, u'dacom': 2091, u'miikey': 4365, u'logitech': 4069, u'device': 2173, u'medal': 4290, u'viso': 6605, u'elinka': 2458, u'sensitivety': 5619, u'face': 2653, u'xirp8660': 6884, u'audiopure': 1139, u'bterif': 1580, u'jadaol': 3703, u'silvergray': 5728, u'thicken': 6266, u'sbh60': 5560, u'csr4': 2030, u'9470': 752, u'supported': 6115, u'ae2i': 892, u'rotating': 5389, u'sunglassess': 6087, u'ae2w': 893, u'phtronics': 4944, u'rouge': 5392, u'portfolio': 5044, u'xpr6580': 6894, u'bh320': 1332, u'uokoo': 6472, u'pause': 4884, u'blackzebra': 1386, u'duo34ac': 2281, u'floveme': 2763, u'jar': 3708, u'controls': 1938, u'buttons': 1638, u'jam': 3704, u'intsun': 3609, u'riding': 5344, u'remaxt': 5293, u'bt804': 1568, u'crashproof': 1990, u'spa941': 5922, u'spa942': 5923, u'beat': 1273, u'syst': 6163, u'photography': 4941, u'elecguru': 2448, u'lucky': 4112, u'first': 2721, u's530': 5472, u'bean': 1268, u'yureka': 6964, u'meter': 4323, u'l5': 3897, u'i70': 3456, u'sunnice': 6090, u'r970': 5215, u'w200': 6652, u'fixer': 2741, u'gbh': 2908, u'clips': 1839, u'aec': 894, u'360': 296, u'amdroid': 963, u'h2555bt': 3079, u'miniest': 4378, u'bluedio': 1414, u'stations': 6002, u'vmx': 6622, u'bts': 1598, u'frame': 2808, u'btd': 1572, u'9650': 771, u'bta': 1571, u'enhanced': 2495, u'skateboarding': 5758, u'bastex': 1254, u'9300': 742, u'uc300': 6427, u'packed': 4842, u'innovator': 3583, u'walking': 6666, u'wire': 6785, u'destiny': 2167, u'darkblue': 2100, u'pattern': 4883, u'dz09': 2309, u'fremo': 2818, u's760': 5485, u'9780': 778, u'dx650': 2302, u'galaxy': 2892, u'piston': 4967, u'8961': 710, u'a3pro': 811, u'bt4': 1556, u'qt4': 5177, u'bt1': 1532, u'cs361': 2013, u'xirp8608': 6883, u'rebelite': 5254, u'lava': 3946, u'interchangeable': 3600, u'2pk': 259, u'boss': 1471, u'optional': 4765, u'ex09i': 2572, u'extendable': 2608, u'drum': 2268, u'handstands': 3163, u'equal': 2526, u'pspgo': 5121, u'coocheer': 1949, u'etc': 2551, u'hx110': 3426, u'etg': 2554, u'eyeshade': 2623, u'ete': 2552, u'mie1': 4361, u'swallow': 6141, u'mie2': 4362, u'voberry': 6624, u'lemonbest': 3980, u'h790': 3128, u'vent': 6554, u'clamshell': 1821, u'hk202': 3318, u'hk200': 3316, u'cl': 1817, u'cc': 1739, u'cb': 1735, u'ca': 1667, u'570': 451, u'576': 452, u'ce': 1745, u'cd': 1742, u'bth240': 1584, u'cx': 2056, u'cs': 2010, u'cq': 1986, u'ematic': 2468, u'g610': 2877, u'convertible': 1945, u'ct': 2035, u'audiojets': 1134, u'midland': 4359, u'powered': 5055, u'bluetooth3': 1428, u'bluetooth4': 1429, u'smh5': 5820, u'sumsang': 6076, u'h931bt': 3143, u'magnetized': 4207, u'netbook': 4620, u'wy': 6845, u'aquamarine': 1052, u'feather': 2678, u'bludio': 1404, u'concentio': 1916, u'baiyuyi': 1226, u'8100': 637, u'alisable': 937, u'z796c': 6980, u'koar': 3865, u'460': 370, u'1200': 89, u'rk200': 5359, u'syn1976a': 6161, u'am116': 955, u'deep': 2130, u'c3': 1658, u'bulb': 1615, u'c1': 1653, u'general': 2925, u'bule': 1616, u'land': 3923, u'sonance': 5872, u'upcalisto': 6477, u'laser': 3938, u'plain': 4980, u'huifen': 3412, u'cbp': 1737, u'shrmia': 5705, u'2010': 170, u'suport': 6110, u'smokescreen': 5826, u'ultra': 6443, u'cvc': 2052, u'archie': 1058, u'anear': 995, u'file': 2702, u'vh': 6569, u'2mm': 255, u'doogee': 2238, u'vr': 6641, u'avantree': 1160, u'xl39h': 6887, u'g430': 2870, u'eztwo': 2625, u'hz700': 3440, u'vhliteairbt1': 6571, u'h800': 3129, u'9069': 731, u'wep210': 6709, u'mobilephones': 4410, u'finiti': 2718, u'android': 993, u'fill': 2705, u'phi': 4926, u'ball': 1231, u'smarphones': 5803, u'micronano': 4346, u'52981': 433, u'ios': 3615, u'coffe': 1866, u'hbm560': 3197, u'v1': 6507, u'v2': 6513, u'n500': 4557, u'v4': 6517, u'v5': 6521, u'v6': 6522, u'infinite': 3571, u'v9': 6527, u'sumsung': 6078, u'expand': 2598, u'sportstyle': 5957, u'joyplus': 3758, u'off': 4729, u'antenna': 1019, u'h1000': 3059, u'mm03i': 4404, u'colour': 1879, u'4010': 345, u'startsjsw': 5997, u'command': 1891, u'oops': 4755, u'351': 295, u'350': 293, u'audio': 1131, u'drawing': 2254, u'wep310': 6715, u'latest': 3943, u'f450': 2643, u'h680': 3113, u'h681': 3114, u'newest': 4631, u'excise': 2584, u'btd5': 1573, u'steelseries': 6010, u'aometech': 1027, u'd201': 2072, u'headneck': 3236, u'5380ip': 442, u'efoshm': 2431, u't600': 6178, u'clipper': 1837, u'rubber': 5408, u'shopriez': 5689, u'absorption': 839, u'kaysion': 3808, u'microsd': 4354, u'parihy': 4867, u'add': 876, u'wep': 6704, u'lopoo': 4083, u'wet': 6730, u'gms': 2968, u'280': 243, u'advanced': 889, u'persimmon': 4912, u'match': 4244, u'raven': 5238, u'gn120': 2970, u'increased': 3554, u'allytech': 945, u'h350': 3089, u'sbh54': 5559, u'sbh50': 5556, u'xe5': 6873, u'haul': 3179, u'dryer': 2269, u'xe3': 6872, u'earstabilizers': 2372, u'insert': 3587, u'mhl': 4334, u'motorola': 4468, u'crisp': 1999, u'1rose': 160, u'i037936': 3447, u'hv800': 3421, u'b102': 1186, u'b101': 1185, u'extremely': 2619, u'spn5185': 5947, u'units': 6463, u'mhz': 4335, u'cls': 1848, u'hm100': 3325, u'soft': 5858, u'brightview': 1511, u'bh790': 1336, u'hm360': 3345, u'ecrew': 2414, u'203750': 189, u'importer520': 3538, u'transport': 6357, u'l6': 3898, u'xb950bt': 6863, u'0a': 38, u'literally': 4051, u'dealgadgets': 2120, u'hurricane': 3418, u'ikross': 3518, u'esf': 2542, u'breakout': 1501, u'9460': 751, u'economical': 2410, u'evermarket': 2563, u'2070': 193, u'e9lp': 2330, u'r550': 5209, u'noise': 4666, u'maven': 4256, u'dolirox': 2233, u'mx66': 4545, u'9315': 744, u'cordless': 1968, u'9640': 768, u'kocaso': 3866, u'noisy': 4668, u'2pack': 257, u'a1': 802, u'lifestyle': 4008, u'socket': 5854, u'newsunshine': 4635, u'tray': 6364, u'ribbed': 5339, u'xs900': 6908, u'angeles': 998, u'chrome': 1803, u'dimmable': 2197, u'arteck': 1086, u'480g': 376, u'l9': 3906, u'powerpoint': 5059, u'flower': 2764, u'swimming': 6151, u'vizio': 6619, u'childrens': 1793, u'functional': 2839, u'yuhan': 6960, u'975se': 777, u'brands': 1497, u'luna': 4122, u'esteem': 2548, u'female': 2687, u'kmashi': 3856, u'i9700': 3468, u'3215': 284, u'sw0802': 6138, u'bentoben': 1296, u'elastic': 2446, u'stainless': 5982, u'housing': 3384, u'pairing': 4857, u'spots': 5960, u'c603': 1664, u'easeetop': 2380, u'frustration': 2827, u'maze': 4268, u'lanmu': 3929, u'rca': 5243, u'function': 2838, u'ivory': 3682, u'buy': 1641, u'xperia': 6893, u'chatting': 1783, u'phevos': 4925, u'560': 450, u'2in1': 252, u'brand': 1495, u'superbass': 6103, u'extended': 2609, u'writwatch': 6838, u'm07': 4145, u'm04': 4141, u'm05': 4143, u'xbox360': 6868, u'convergence': 1942, u'delivers': 2143, u'703': 557, u'btnn101': 1595, u'm08': 4147, u'g600': 2876, u'count': 1976, u'ourkens': 4791, u'levin': 3992, u'official': 4733, u'smooth': 5828, u'n9100': 4571, u'ms515': 4497, u'3mp': 327, u'covers': 1980, u'g930': 2885, u'andota': 989, u'distribution': 2212, u'goodgo': 2988, u'skating': 5759, u'irish': 3654, u'pin': 4957, u'whisper': 6742, u'retina': 5321, u'livebass': 4056, u'50days': 414, u'wieless': 6755, u'ink': 3573, u'fitbit': 2732, u'iphone456s': 3630, u'6941': 534, u'keweier': 3818, u'm70': 4174, u'6945': 535, u'inc': 3543, u'woozik': 6819, u'b380': 1202, u'48': 374, u'49': 380, u'momoday': 4431, u'44': 362, u'45': 363, u'fonus': 2785, u'ls990': 4106, u'virtual': 6603, u'41': 351, u'simptech': 5736, u'hpm': 3389, u'iskil': 3663, u'ebooks': 2396, u'minikit': 4379, u'arrela': 1081, u'111665': 80, u'510usb': 418, u'quartz': 5181, u'kingcoo': 3839, u'earplug': 2367, u'ekind': 2444, u'bundle': 1626, u'proslogan': 5102, u'7965g': 608, u'henoda': 3274, u'ghost': 2937, u'deluxe': 2147, u'growstar': 3023, u'ecaude200bt': 2401, u'resolution': 5313, u'choices': 1798, u'openstage': 4757, u'6200018': 493, u'4s': 395, u'cpu': 1985, u'bt2046': 1544, u'470': 372, u'bt2045': 1543, u'ip65': 3618, u'pupil': 5134, u'smarphone': 5802, u'475': 373, u'168': 127, u'4d': 384, u'4a': 383, u'limited': 4030, u'shensee': 5671, u'moxo': 4484, u'mulberriii': 4516, u'b825': 1208, u'magnetic': 4206, u'hm1350': 3331, u'unico': 6455, u'extenders': 2611, u'catch': 1733, u'as990': 1096, u'sleep': 5781, u'bh217': 1327, u'eraphones': 2533, u'n95': 4574, u'av1200': 1157, u'hbm570': 3198, u'gaoye': 2902, u'jiake': 3730, u'replacements': 5307, u'clasps': 1824, u'sdigital': 5582, u'lz20': 4139, u'sweatproo': 6146, u'8hr': 713, u'bike': 1352, u'souldio': 5887, u'easyacc': 2385, u's50': 5467, u'arkey': 1070, u'wep301': 6712, u'wep300': 6711, u'wep303': 6714, u'wep302': 6713, u'juysport': 3772, u'risk': 5355, u'h695': 3118, u'h691': 3117, u'h690': 3116, u'helmet': 3272, u'eardbuds': 2345, u'every': 2564, u'jack': 3702, u'concelling': 1915, u'month': 4442, u'02730j5': 19, u'rk400': 5361, u'school': 5573, u'wep180': 6706, u'parrot': 4868, u'supports': 6117, u'30ft': 276, u'venue': 6556, u'amtake': 973, u'z10': 6969, u'integrated': 3596, u'hfhicall': 3284, u'1crystal': 153, u'shockproof': 5681, u'joggerz': 3746, u'venus': 6557, u'290': 245, u'enjoy': 2498, u'ablegrid': 834, u'bh307': 1331, u'bh300': 1330, u'bth410': 1587, u'h343': 3087, u'phones': 4934, u'8300': 655, u'direct': 2200, u'galax': 2889, u'symaxio': 6160, u'nail': 4583, u'n7502': 4564, u'zonoki': 7021, u'acode': 855, u'xbass': 6865, u'panda': 4862, u'shining': 5676, u'blue': 1405, u'thriyve': 6276, u'duos': 2283, u'580': 454, u'kartice': 3802, u'cs540': 2019, u'specification': 5935, u'selectec': 5599, u'liberty': 4004, u'above': 835, u'nubia': 4700, u'6ft': 539, u'dashboard': 2107, u'liquorice': 4045, u'musicmate': 4536, u'simultaneously': 5737, u'wwbs': 6844, u'spa962': 5924, u'vinabty': 6595, u'protection': 5105, u'studio': 6056, u'smokin': 5827, u'wfs': 6732, u'headwrap': 3255, u'aphse': 1035, u'snn5923a': 5840, u'2040': 190, u'sky300': 5772, u'earpods': 2368, u'envoy': 2506, u'8x': 719, u'mantis': 4222, u'12129': 93, u'jogging': 3747, u'vomach': 6632, u'smoke': 5825, u'walkie': 6665, u'akg': 926, u'60mah': 484, u'diameter': 2186, u'solememo': 5866, u'vp1': 6639, u'secure': 5594, u'ep510gr': 2511, u'brv': 1524, u'rechargerable': 5262, u'geckone': 2914, u'dairle': 2093, u'bro': 1515, u'n861': 4568, u'801': 625, u'9630': 767, u'docooler': 2225, u'blue2go': 1407, u'preeminent': 5067, u'to': 6307, u'gloss': 2962, u'wideland': 6754, u'm4': 4170, u'm7': 4173, u'tm': 6306, u'm1': 4148, u'm2': 4159, u'sexy': 5634, u'bundled': 1627, u'wisetiger': 6794, u'lightahead': 4015, u'applicable': 1041, u'awep570mbecsta': 1169, u'reign': 5283, u'tf': 6252, u'506041': 409, u'smile': 5822, u'750': 570, u'pouch': 5051, u'gba01': 2906, u'md': 4276, u'9930': 788, u'ma': 4182, u'75071': 572, u'mm': 4402, u'ml': 4399, u'work': 6820, u'eclipse': 2406, u'mh': 4332, u'erd': 2534, u'era': 2530, u'ms': 4493, u'langsdom': 3926, u'201504817': 176, u'16gb': 129, u'veggieg': 6547, u'pedometer': 4900, u'unilateral': 6459, u'dolphin': 2234, u'hk220': 3320, u'550': 447, u'zthy': 7031, u'dew': 2176, u'view': 6586, u'moonmini': 4444, u'keep': 3814, u'dgp6150': 2179, u'7962g': 606, u'bh970': 1339, u'microhpone': 4344, u'end': 2484, u'recovery': 5266, u'conversation': 1943, u'provide': 5110, u'verify': 6559, u'song': 5873, u'naturalsound': 4593, u'3763b': 303, u'lantoo': 3930, u'magone': 4210, u'm790': 4175, u'beach': 1266, u'bh21': 1326, u'bh23': 1328, u'millenia': 4371, u'fever': 2692, u'description': 2152, u'lab': 3908, u'bello': 1291, u'greenten': 3015, u'law': 3949, u'sunyou': 6099, u'tenqa': 6248, u'nobreak': 4661, u'7434ip': 568, u'spout': 5961, u'harley': 3173, u'xpression': 6899, u'green': 3013, u'jungle': 3769, u'earphoens': 2362, u'fan': 2659, u'make': 4214, u'arova': 1080, u'luetooth': 4114, u'office': 4732, u'polaroid': 5022, u'over': 4802, u'choose': 1799, u'london': 4073, u'innovative': 3582, u'japan': 3706, u'vita': 6610, u'exchange': 2583, u'pbt88rd': 4886, u'cll': 1841, u'v400': 6519, u'f500': 2645, u'cybertech': 2064, u'egrd': 2433, u'tramo': 6346, u'sjyn0234b': 5755, u'405': 347, u'bt2050': 1545, u'401': 344, u'origem': 4775, u'bt5010': 1563, u'victor1': 6582, u'inl3d': 3574, u'sankuwen': 5521, u'coffee': 1867, u's900': 5491, u'exclusives': 2588, u'safe': 5501, u'hbm730': 3200, u'break': 1500, u'band': 1233, u'banc': 1232, u'vh310': 6570, u'xt830c_sold': 6914, u'niutop': 4653, u'n525': 4558, u'bank': 1236, u'knited': 3860, u'hamswan': 3152, u'anmount': 1005, u's11': 5438, u'hd1080p': 3220, u'sanyo': 5525, u'motosmart': 4470, u'rockr': 5372, u'lz30': 4140, u'scosche': 5576, u'l35': 3891, u's40': 5462, u's41': 5463, u's42': 5464, u'each': 2331, u'cashmere': 1729, u'370': 299, u'weksi': 6702, u'375': 302, u'britelink': 1514, u'lasting': 3941, u'i9': 3461, u'neckloop': 4610, u'first2savvv': 2722, u'i8': 3459, u'braiding': 1492, u'f920': 2651, u'dongle': 2236, u'metropcs': 4326, u'lifter': 4011, u'logo': 4070, u'cdma': 1744, u'reminding': 5295, u'driving': 2264, u'ijoy': 3515, u'cameras': 1684, u'weighted': 6701, u'mobilespec': 4413, u'wgr': 6733, u'stoga': 6023, u'newly': 4633, u'p311': 4819, u'seleven': 5601, u'dt55': 2273, u'smh10d': 5818, u'bt300': 1552, u'gblue': 2909, u'free': 2810, u'standard': 5986, u'smh10r': 5819, u'tipexchange': 6296, u'ms345': 4495, u'certified': 1764, u'201030': 172, u'450mah': 366, u'vibez': 6574, u'comfy': 1889, u'days': 2112, u'maxell': 4261, u'bt4051': 1559, u'bt4050': 1558, u'a340': 809, u'app': 1037, u'aizbo': 924, u'organize': 4774, u'400': 339, u'eeekit': 2427, u'engive': 2492, u'hp420gy': 3387, u'rank': 5228, u'hearing': 3260, u'hans': 3166, u'senhai': 5614, u'mobille': 4415, u'insulation': 3594, u'l702bt': 3901, u'thick': 6265, u'tangle': 6206, u'electronic': 2450, u'500v': 405, u'2050': 192, u'rated': 5236, u'v40': 6518, u'top': 6321, u'leadtry': 3960, u'vibrate': 6576, u'h375': 3091, u'7985': 613, u'h371': 3090, u'8220': 650, u'listenning': 4049, u'urban': 6485, u'ci142': 1807, u'11978': 86, u'balck': 1230, u'enhancing': 2497, u'quattro': 5182, u'tool': 6315, u'651': 510, u'avaya': 1161, u'viotek': 6600, u'freisprechanlage': 2817, u'9620': 765, u'brushed': 1523, u'i4s': 3451, u'perfectly': 4909, u'5mp': 461, u'801wireless': 626, u'zenmil': 7000, u'hike': 3303, u'magift1': 4200, u'mydeal': 4546, u'iron': 3655, u'inteligent': 3598, u'5mm': 460, u'3mr600': 328, u'sp100': 5919, u'fashion': 2662, u'qy9': 5198, u'qy8': 5197, u'808white': 635, u'qy5': 5195, u'portraits': 5046, u'wahable': 6661, u'torque': 6326, u'earset': 2370, u'talking': 6201, u'shell': 5669, u'm190mv': 4157, u'ocean': 4720, u'neckbeats': 4606, u'tonbux': 6310, u'gear': 2912, u'latency': 3942, u'maxx': 4267, u'10hd': 65, u'realm': 5251, u'1616': 125, u'convenient': 1941, u'snow': 5841, u'3csmart': 318, u'ladey': 3913, u'soundlink': 5901, u'auglamour': 1142, u'luxury': 4129, u'compatiblity': 1906, u'transmit': 6354, u'extravert': 2616, u'snowflake': 5845, u'xb30ex': 6861, u'lb1': 3953, u'lexin': 3994, u'featuring': 2682, u'g620': 2878, u'nut': 4705, u'hk250': 3321, u'ebook': 2395, u'glod': 2959, u'dial': 2183, u'lasido': 3939, u'rumble': 5414, u'abc': 828, u'bsi': 1527, u'exercises': 2594, u'corded': 1967, u'winkeyes': 6778, u'8851': 700, u'bsb': 1525, u'glow': 2966, u'mixr': 4394, u'max8': 4259, u'800': 623, u'alcatel': 931, u'matone': 4252, u'jersa': 3724, u'yanx': 6927, u'earcups': 2344, u'bracket': 1488, u'motoblur': 4460, u'cheerwing': 1788, u'communication': 1896, u'left': 3972, u'lightscastle': 4022, u'6961': 537, u'desktops': 2166, u'inspire': 3592, u'mostop': 4453, u'random': 5226, u'me170cx': 4286, u'alpatronix': 947, u'neckbands': 4605, u'infrared': 3572, u'727908212877': 564, u'musicphone': 4537, u'colors': 1877, u'radio': 5221, u'stoon': 6027, u'd8': 2084, u'd2': 2071, u'd1': 2067, u'bt500v': 1562, u'crossfit': 2003, u'guidance': 3038, u'prompts': 5099, u'hrs': 3394, u'ocx': 4723, u'540': 444, u'cs530': 2018, u'jokeret': 3748, u'towallmark': 6334, u'smrtphone': 5829, u'announce': 1008, u'ocr': 4721, u'rectangle': 5267, u'rotibox': 5391, u'ipad': 3621, u'favolcano': 2671, u'dt990': 2277, u'sannysis': 5522, u'dh': 2180, u'di': 2182, u'ardor': 1062, u'db': 2113, u'dc': 2117, u'amazon': 961, u'coolker': 1955, u'dx': 2301, u'dv': 2296, u'dw': 2299, u'onboard': 4746, u'dr': 2251, u'9983': 793, u'dp': 2248, u'9981': 791, u'runs': 5425, u'emf': 2473, u'magnatic': 4203, u'racing': 5217, u'wep470': 6721, u'kwitata': 3882, u'hbm770': 3203, u'mobilepro': 4411, u'earwrap': 2378, u'410': 352, u'eberry': 2394, u'2400v16p': 221, u'tritton': 6378, u'adapters': 874, u'peach': 4896, u'dx70': 2303, u'optimus': 4763, u'binarual': 1356, u'keypad': 3822, u'keedox': 3813, u'actionfit': 859, u'hbm': 3188, u'module': 4424, u'detection': 2170, u'sufum': 6070, u'5000': 402, u'w1': 6649, u'roybens': 5400, u'bestpriceam': 1307, u'away': 1167, u's79': 5486, u'finger': 2714, u'd50': 2077, u'enlighten': 2501, u'6775ip': 527, u'shields': 5673, u'moible': 4426, u'discovery': 2206, u'120385': 91, u'120386': 92, u'multicolour': 4519, u'crv6': 2006, u'blaster': 1390, u'86180': 678, u'wm': 6802, u'packaged': 4839, u'wh': 6734, u'gp2100': 2998, u'eb300': 2393, u'wt': 6842, u'wear': 6691, u'wp': 6829, u'bose': 1470, u'photive': 4938, u'packages': 4840, u'tf600t': 6254, u'hs820': 3400, u'gomax': 2986, u'hbs900accasv': 3212, u'protect': 5104, u'outlandoor': 4798, u'm06': 4144, u'903': 727, u'ipanda': 3624, u'showpin': 5697, u'players': 4992, u'layered': 3951, u'games': 2899, u'gamer': 2897, u'qubix': 5183, u'receiver': 5256, u'jello': 3722, u'com': 1881, u'5w': 469, u'ygdz': 6939, u'tone': 6311, u'g5308': 2873, u'shq4300': 5703, u'bessky': 1299, u'ifox': 3505, u'kared': 3800, u'5r': 463, u'j05': 3694, u'rapoo': 5230, u'speak': 5927, u'conference': 1919, u'bathroom': 1257, u'exalt': 2575, u'igadgitz': 3507, u'legend': 3974, u'43038': 359, u'plantronic': 4982, u'2ipad': 253, u'refurbished': 5281, u'masione': 4239, u'flexible': 2755, u'mssv': 4505, u'hopcentury': 3371, u'relaxing': 5289, u'blisstime': 1396, u'16pcs': 132, u'yurbuds': 6963, u'excite': 2585, u'smartwatch': 5816, u'enterprises': 2502, u'earpieces': 2366, u'901': 724, u'g530h': 2874, u'bh03': 1322, u'immersive': 3533, u'visys': 6609, u'h685': 3115, u'azeca': 1178, u'youmoon': 6951, u'airgoo': 916, u'86305': 679, u'wfb': 6731, u'ladematten': 3912, u'v268': 6514, u'air': 912, u'iamer': 3471, u'sandistore': 5519, u'2560x1440': 234, u'aid': 910, u'voice': 6627, u'807black': 630, u'hbm550': 3196, u'prd262b': 5065, u'motoactiv': 4459, u'conv': 1939, u'9611': 764, u'sticker': 6018, u'accessories': 847, u'quietcomfort': 5189, u'brake': 1494, u'exterior': 2613, u'sf888': 5638, u'blackstreak': 1383, u'kissmart': 3848, u'bt513': 1564, u'ip780': 3620, u'alien': 934, u'nike': 4648, u'patent': 4879, u'smartphones': 5813, u'mqy9': 4489, u'plated': 4987, u'sheltered': 5670, u'x8': 6859, u'lithium': 4053, u'a0302': 801, u'wheel': 6737, u'independent': 3558, u'hp910': 3388, u'86507': 682, u'kedsum': 3811, u'hang': 3164, u'z3v': 6976, u'rain': 5224, u'hand': 3153, u'tronfy': 6380, u'hs250': 3396, u'moost': 4445, u'heaphones': 3258, u'dealstock': 2122, u'gbtiger': 2910, u'm919': 4180, u'bt80': 1566, u's738c': 5482, u'1608': 124, u'dylan': 2305, u'linksys': 4039, u'h811': 3133, u'h810': 3132, u'1601': 123, u'1600': 122, u'sunsbell': 6095, u'b251': 1195, u'b250': 1193, u'e960': 2328, u'coomax': 1960, u'btkbdsil': 1592, u'hearts': 3262, u'the': 6261, u'musical': 4532, u'andiord': 986, u'nocobot': 4663, u'indigi': 3561, u'toque': 6324, u'athletic': 1114, u'photo': 4939, u'laptop': 3933, u'1500mah': 116, u'exell': 2592, u'globalbox': 2957, u'd802': 2086, u'goggles': 2977, u'n9130': 4572, u'egeek': 2432, u'playtime': 4997, u'cs70': 2024, u'transformer': 6351, u'sogko': 5860, u'vibration': 6578, u'megafeis': 4302, u'amemo': 964, u'5v': 468, u'5s': 466, u'hecheng': 3267, u'passive': 4876, u'huntgold': 3415, u'antec': 1017, u'aktiv': 928, u'board': 1447, u'iansean': 3472, u'37978': 304, u'bh02': 1321, u'shp32': 5700, u'5g': 458, u'plasma': 4984, u'5c': 457, u'yhs32': 6940, u'turquoise': 6403, u'l80': 3905, u'intercom': 3601, u'8635': 680, u'08a': 32, u'caps': 1710, u'mw600wh': 4541, u'lcd': 3955, u'snap': 5836, u'arai': 1055, u'burnt': 1631, u'tellyphones': 6242, u'stargazer': 5991, u'58': 453, u'overfly': 4804, u'jyp': 3776, u'55': 446, u'54': 443, u'velodyne': 6550, u'51': 415, u'50': 400, u'xbox': 6867, u'535': 437, u'bpr': 1482, u'530': 434, u'security': 5595, u'soar': 5852, u'cs520': 2017, u'doosl': 2242, u'firefly': 2720, u'allreli': 943, u'shb4000': 5661, u'zoom': 7022, u'sponge': 5948, u'meters': 4324, u'lf': 3996, u'arestech': 1064, u'52': 423, u'oittm': 4735, u'orchid': 4771, u'socks': 5855, u'dualshock': 2279, u'purple': 5142, u's6e': 5477, u'hm3700': 3346, u'ice': 3475, u'ykl': 6944, u'everything': 2566, u'4ghz': 387, u'w745': 6658, u'420': 355, u'e71': 2326, u'beating': 1274, u'christmas': 1802, u'bt2070': 1546, u'cord': 1966, u'core': 1969, u's920': 5492, u'khaki': 3825, u'hbm520': 3194, u'posh': 5048, u'tour': 6332, u'teknmotion': 6238, u'night': 4647, u'ptt': 5126, u'discount': 2204, u'hsp': 3403, u'iegeek': 3496, u'eye': 2620, u'sfq': 5639, u'dalmatian': 2094, u'plug': 5008, u'xt': 6909, u'hard': 3171, u'cowboy': 1982, u'obd': 4718, u'surround': 6128, u'plus': 5009, u'continous': 1932, u'horizon': 3373, u'pkmantmmagnetic': 4974, u'concellation': 1914, u'octopus': 4722, u'treble': 6368, u'revjams': 5328, u'wep170': 6705, u'51902': 422, u'rockfish': 5370, u'experia': 2601, u'balanced': 1229, u'hs810': 3399, u'hx100': 3425, u'h1100': 3061, u'fuchsia': 2831, u'transform': 6349, u'intone': 3608, u'virgin': 6602, u'hm1200': 3329, u'xcare': 6869, u'wav': 6682, u'head': 3228, u'medium': 4297, u'cellphone': 1753, u'creational': 1994, u'polyester': 5030, u'vitality': 6611, u'bluettek': 1435, u'ferlen': 2690, u'solar': 5863, u'z30': 6975, u'true': 6385, u'backbeat': 1213, u'univeral': 6464, u'vbt2050': 6545, u'mtr': 4508, u'z958': 6983, u'maximum': 4262, u'luxmo': 4126, u'hbs730': 3207, u'crystal': 2007, u'lumace': 4116, u'braven': 1499, u'epark': 2520, u'mtg': 4506, u'camara': 1679, u'960s': 763, u'960r': 762, u'flat': 2749, u'escape': 2541, u'tria': 6374, u'braudel': 1498, u'deskmatetm': 2163, u'urpower': 6489, u'check': 1787, u'hami': 3151, u'cdbt9001': 1743, u'180s': 142, u'no': 4657, u'na': 4580, u'nb': 4597, u'riwbox': 5358, u'tip': 6295, u'reality': 5250, u'nx': 4708, u'retailpackage': 5320, u'tunephonik': 6397, u'y550': 6919, u'h390': 3093, u'picture': 4949, u'9350': 747, u'nuance': 4699, u'hm3500': 3344, u'phoenix': 4930, u'escala': 2540, u'kingear': 3840, u'9608': 761, u'football': 2788, u'update': 6479, u'bicyclestore': 1347, u'emission': 2474, u'jaxx': 3712, u'aftershokz': 901, u'audiohm': 1132, u'diamonds': 2188, u'bt500': 1561, u'okra': 4738, u'84000': 665, u's450': 5465, u'hm6000': 3350, u'bullet': 1621, u'teashop': 6224, u'telescopic': 6240, u'teefan': 6235, u'hytera': 3438, u'reception': 5257, u'bt185': 1537, u'plu': 5006, u'n1': 4553, u'n2': 4555, u'backward': 1217, u'precedent': 5066, u'aastra': 827, u'stick': 6017, u'senbowe': 5611, u'kicker': 3828, u'coach': 1856, u'flac': 2743, u'dadoudou': 2092, u'global': 2956, u'focus': 2778, u'switches': 6154, u'fitclips': 2734, u'nk850': 4654, u'runing': 5419, u'slouchy': 5797, u'mictech': 4358, u'zone': 7019, u'jogger': 3744, u'jvr': 3774, u'ecandy': 2400, u'flash': 2747, u'11911': 85, u'charge': 1776, u'pls': 5004, u'mdrzx750bn': 4281, u'rhythm': 5337, u'jvc': 3773, u'brown': 1522, u'protective': 5106, u'mdrzx770bt': 4283, u'8hrs': 714, u'wcdma': 6688, u'3aa': 315, u'boombox': 1464, u'fashional': 2664, u'htshop': 3406, u'cisno': 1814, u'cyan': 2061, u'roving': 5395, u'mdrzx770bn': 4282, u'mn910': 4406, u'etrybest': 2557, u'shp20': 5699, u'bh10': 1324, u'level': 3990, u'lamyik': 3919, u'gun': 3040, u'standards': 5987, u'rosewill': 5384, u'kits': 3850, u'quick': 5185, u'lever': 3991, u'sodial': 5857, u'md827ll': 4277, u'besign': 1298, u'revolution': 5329, u'htc': 3405, u'trend': 6371, u'8600': 675, u'99b': 795, u'xibk': 6879, u'discover': 2205, u'inland': 3575, u'thinker': 6269, u'cellpal': 1752, u'gp300': 2999, u'port': 5041, u'yang': 6926, u'solemate': 5865, u'feat': 2677, u'lithinm': 4052, u'525': 430, u'526': 431, u'520': 424, u'01abh001': 14, u'01abh002': 15, u'1015': 52, u'pobon': 5013, u'650e': 509, u'supporting': 6116, u'12280731': 94, u'envy': 2507, u'water': 6679, u'ae2': 891, u'baseball': 1245, u'grandbeing': 3006, u'c200': 1656, u'broadcore': 1519, u'wayer': 6685, u'xikezan': 6880, u'teacher': 6219, u'change': 1772, u'11003': 76, u'renue': 5303, u'mx200': 4544, u'incoming': 3553, u'6000': 475, u'11004': 77, u'healthy': 3257, u'neo': 4614, u'bx200': 1649, u'gigaset': 2941, u'gomadic': 2985, u'resonance': 5314, u'hbm750': 3201, u'stereos': 6014, u'ibepro': 3474, u'430': 358, u'buit': 1614, u'scorpion': 5575, u'ddlbiz': 2118, u'hiking': 3304, u'extra': 2615, u'habor': 3146, u'tryace': 6388, u'snowboard': 5843, u'h15h270': 3066, u'1st': 161, u'atrix': 1122, u'e980': 2329, u'v710': 6524, u'absorbent': 838, u'stereoscopic': 6015, u'sporty': 5958, u'vivii': 6614, u'exquisitestyle': 2606, u'continuous': 1933, u'f7': 2650, u'ezzsport': 2626, u'sports': 5955, u'5se': 467, u'live': 4055, u'micoach': 4339, u'sleeping': 5784, u'iphone': 3628, u'msi': 4501, u'efanr': 2428, u'microfiber': 4343, u'minnesota': 4384, u'today': 6308, u'5xsc': 472, u'yinenn': 6943, u'riot': 5352, u'peices': 4902, u'wep350': 6716, u'velvet': 6551, u'cases': 1728, u'victsing': 6583, u'sb210': 5540, u'3gb': 323, u'ideatab': 3485, u'sportcap': 5951, u'car': 1713, u'cap': 1705, u'beteran': 1308, u'cat': 1732, u'dialer': 2184, u'can': 1689, u'umbo': 6450, u'sounddock': 5896, u'utra': 6503, u'coral': 1965, u'unconditional': 6453, u'streak': 6038, u'heart': 3261, u'dedicated': 2128, u'earphone': 2363, u'd650': 2081, u'stream': 6039, u'maxwest': 4266, u'chip': 1796, u'nemo': 4613, u'mgc990': 4330, u'speakders': 5928, u'450s': 367, u'spa': 5920, u'hm1600': 3332, u'annbully': 1006, u'kenmax': 3816, u'hm3100': 3340, u'gh2': 2935, u'gh3': 2936, u'melodise': 4308, u'cls1450cb': 1850, u'actual': 868, u'headeset': 3232, u'6773ip': 526, u'stripes': 6050, u'zx770dc': 7035, u'4th': 396, u'kaisi': 3793, u'bear': 1271, u'lohi': 4072, u'curing': 2041, u'compatibility': 1904, u'lifting': 4012, u'backpacking': 1216, u'iklips': 3517, u'micropromo': 4353, u'liquid': 4043, u'2080': 195, u'pswbt7pn': 5124, u'ghz': 2938, u'zonman': 7020, u'h385': 3092, u'exclusive': 2586, u'butefo': 1635, u'goomart': 2991, u'midnight': 4360, u'9360': 748, u'ended': 2486, u'tablets': 6189, u'cold': 1869, u'braid': 1490, u'blutooth': 1441, u'foldable': 2780, u'duplex': 2286, u'er159': 2529, u'bnc80': 1445, u'spa922': 5921, u'window': 6770, u'offers': 4731, u'h930bt': 3142, u'lossless': 4087, u'grv1479': 3027, u'hm888': 3355, u'hm889': 3356, u'earclip': 2342, u'non': 4672, u'xs700': 6907, u'rorytory': 5380, u'noa': 4658, u'sol': 5862, u'brigadier': 1508, u'momo': 4430, u'not': 4681, u'now': 4694, u'awolf': 1170, u'jx10': 3775, u'magift': 4199, u'hbm230': 3189, u'hbc200': 3186, u'costech': 1973, u'drop': 2267, u'05e6': 26, u'tera': 6250, u'jomo': 3750, u'bluepulse': 1422, u'85': 668, u'em': 2462, u'mould': 4473, u'eo': 2508, u'dt770': 2274, u'eh': 2435, u'ek': 2442, u'mixcder': 4392, u'biensound': 1349, u'torch': 6325, u'coofone': 1950, u'2bluetooth': 247, u'ec': 2399, u'rockzilla': 5373, u'tw700': 6408, u'ex': 2571, u'year': 6932, u'et': 2550, u'deepblue': 2131, u'h2000': 3075, u'eq': 2525, u'ep': 2509, u'd820': 2087, u'nameblue': 4585, u'100m': 50, u'multifunctional': 4522, u'hm3350': 3343, u'space': 5925, u'onex': 4750, u'factory': 2656, u'mc780': 4275, u'acatim': 842, u'612': 488, u'bullseyes': 1623, u'83545': 664, u'83544': 663, u'abusun': 840, u'qd': 5171, u's380c': 5459, u'eagle': 2334, u'mg900': 4329, u'roverbeats': 5394, u'cart': 1724, u'qi': 5173, u'oasis': 4717, u'k10': 3778, u'e8': 2327, u'cellaller': 1750, u'901s': 725, u'e5': 2322, u'e4': 2321, u'e7': 2325, u'e6': 2324, u'marine': 4229, u'joystar': 3761, u'card': 1717, u'e2': 2315, u'hittime': 3312, u'batterries': 1259, u'10mb': 67, u'motion': 4457, u'tassles': 6211, u'1009': 47, u'vcall': 6546, u'510': 416, u'513': 420, u'512': 419, u'discontinued': 2203, u'nuclearav': 4701, u'cs545': 2022, u'archos': 1060, u'621': 494, u'xi': 6876, u'626': 496, u'xl': 6886, u'628': 498, u'xd': 6871, u'5xlb': 471, u'xx': 6917, u'simplified': 5734, u'ironman': 3656, u'xs': 6902, u'ring': 5350, u'f1': 2635, u'zap': 6987, u'size': 5748, u'archean': 1056, u'muasic': 4512, u'11014': 78, u'11015': 79, u'yin': 6942, u'fm': 2772, u'i337': 3450, u'8610': 676, u'taotreetm': 6207, u'bt2010': 1539, u'white': 6743, u'cooling': 1954, u'bt2015': 1540, u'kiitag': 3833, u'way': 6684, u'hub': 3409, u'that': 6260, u'season': 5589, u'wep480': 6723, u'copo': 1963, u'alan': 929, u'released': 5291, u'pnk': 5012, u'x9': 6860, u'shq4300lf': 5704, u'quirky': 5191, u'x2': 6852, u'v700': 6523, u'x1': 6846, u'x6': 6856, u'than': 6259, u'x5': 6855, u'wide': 6752, u'television': 6241, u'rugged': 5412, u'd01': 2066, u'edition': 2419, u'audsom': 1141, u'magnesium': 4204, u'cards': 1720, u'marauder': 4227, u'sublime': 6063, u'p20': 4815, u'and': 984, u'mdras600bt': 4280, u'angel': 997, u'anc': 980, u'zelher': 6997, u'medca': 4291, u'reduction': 5275, u'h550': 3102, u'ant': 1016, u'27333': 240, u'straighttalk': 6036, u'any': 1021, u'h62': 3108, u'ml10': 4400, u'h555': 3103, u'ideas': 3484, u'boriyuan': 1469, u'nakamichi': 4584, u'h033b': 3051, u'vproof': 6640, u'blayz': 1392, u'wcg': 6689, u'online': 4751, u'riversong': 5357, u'csbrother': 2026, u'lorida': 4084, u'anc7': 981, u'all': 938, u'multiple': 4524, u'sn01': 5832, u'un127': 6451, u'aqure': 1054, u'lavalier': 3947, u'inline': 3576, u'hm1610': 3333, u'governmen': 2994, u'icom': 3478, u'3300': 290, u'icon': 3479, u'wireless': 6787, u'z970': 6984, u'hbs750': 3208, u'a380': 810, u'magotan': 4211, u'tooth': 6320, u'freetalk': 2816, u'sexinn': 5633, u'sunset': 6096, u'cortex': 1970, u'rumix': 5415, u'professional': 5093, u'h620': 3109, u'ah07': 907, u'h445': 3095, u'freego': 2814, u'gn2100': 2971, u'h443': 3094, u'cheat': 1786, u'speakeasy': 5929, u'cheap': 1784, u'2xsb': 265, u'v12909': 6510, u'gkgk': 2950, u'painlessly': 4852, u'pivots': 4970, u'upgrade': 6481, u'traning': 6347, u'x7': 6857, u'only': 4752, u'zennutt': 7001, u'm8': 4176, u'nc': 4599, u'argyle': 1065, u'desel': 2153, u'pumpkin': 5133, u'u5plus': 6421, u'bluetrek': 1434, u'9370': 749, u'iwoo': 3689, u'jazz': 3714, u'ssp': 5974, u'bluettoth': 1436, u'windproof': 6772, u'qy11': 5194, u'qy10': 5193, u'moxie': 4483, u'reveal': 5324, u'aluminum': 953, u'leather': 3964, u'7days': 614, u'jeecoo': 3721, u'h130p': 3064, u'h81': 3131, u'through': 6277, u'm100i': 4150, u'microphones': 4351, u'rms': 5363, u'picnic': 4948, u'atomicx': 1119, u'burst': 1632, u'lns': 4061, u'sprot': 5967, u'b200': 1189, u'doltech': 2235, u'asleep': 1102, u'vivo': 6616, u'tengreen': 6247, u'sport': 5949, u'beboncool': 1282, u'exam': 2576, u'loudspeaker': 4091, u'yeesite': 6934, u'alienware': 935, u'ways': 6686, u'review': 5326, u'colours': 1880, u'cbth1': 1738, u'landline': 3924, u'btm165bk': 1593, u'annong': 1007, u'kxprl262b': 3884, u'import': 3537, u'y6': 6920, u'decorate': 2124, u'arrival': 1082, u'naturalrays': 4592, u'2pcs': 258, u'incrediible': 3557, u'lofter': 4066, u'hunting': 3416, u'guitar': 3039, u'502030': 407, u'w110': 6651, u'p402a': 4821, u'9000': 723, u'comb': 1882, u'bthp03': 1590, u'siamesed': 5711, u'superstar': 6107, u'responsive': 5317, u'peyou': 4917, u'mono': 4438, u'quiet': 5188, u'convertion': 1946, u'aura': 1145, u'k390': 3783, u'807white': 632, u'fitactrunsre': 2730, u'comes': 1886, u'heatset': 3265, u'filtering': 2707, u'83372': 660, u'color': 1873, u'jeans': 3720, u'pop': 5037, u'satisfaction': 5528, u'61': 486, u'pole': 5023, u'63': 499, u'64': 502, u'handheld': 3155, u'66': 513, u'pod': 5016, u'mbh6p': 4272, u'runaway': 5418, u'save': 5529, u'cycling': 2065, u'btr200': 1596, u'porsche': 5040, u'rhinestones': 5335, u'710': 561, u'headback': 3229, u'508': 411, u'st157': 5976, u'trendwoo': 6372, u'503': 408, u'500': 401, u'slashproof': 5777, u'630': 500, u'hbm330': 3193, u'635': 501, u'6g': 540, u'v28': 6515, u'tiger': 6287, u'6s': 547, u'1mm': 155, u'external': 2614, u'6v': 549, u'piple': 4965, u'6x': 550, u'skiers': 5764, u'spirit': 5943, u'case': 1726, u'pl602030': 4977, u'cs5111': 2015, u'polend': 5024, u'musicjogger': 4535, u'mount': 4474, u'qwerty': 5192, u'c1060': 1654, u'shockwave': 5682, u'zopid': 7023, u'gemini': 2921, u'ausdom': 1148, u'f04021': 2630, u'hbs901': 3213, u'polymer': 5031, u'79413': 598, u'yummqua': 6961, u'telephone': 6239, u'multifunction': 4521, u'couples': 1978, u'hx600': 3430, u'converts': 1947, u'kameleon': 3795, u'floating': 2760, u'pure3': 5139, u'd15': 2068, u'pure1': 5137, u'protm': 5109, u'pure5': 5141, u'pure4': 5140, u'media': 4292, u'locking': 4064, u'supra': 6120, u'toslink': 6328, u'lite': 4050, u'medis': 4295, u'88863': 705, u'crazyfire': 1991, u'status': 6003, u'noble': 4660, u'finish': 2717, u'usberg': 6498, u'see': 5596, u'ni': 4643, u'easytalk': 2388, u'phonelabs': 4933, u'arctic': 1061, u'foam': 2776, u'driver': 2262, u'sportclip': 5952, u'x3': 6853, u'plantronics': 4983, u'persons': 4914, u'delicate': 2142, u'applauz': 1039, u'changing': 1773, u'functionality': 2840, u'cartoon': 1725, u'boonie': 1465, u'eartip': 2373, u'950xl': 756, u'theater': 6262, u'modes': 4422, u'charger': 1779, u'casio': 1730, u'breeze': 1506, u'allow': 941, u'hearall': 3259, u'joystick': 3762, u'ccf': 1741, u'interface': 3602, u'sb270': 5544, u'charged': 1778, u'taxi': 6214, u'vs986': 6643, u'vs985': 6642, u'd850': 2088, u'noizy': 4669, u'noah': 4659, u'powerbank': 5054, u'when': 6738, u'armour': 1076, u'neon': 4617, u'p8lite': 4830, u'ms330': 4494, u'hbs760': 3209, u'ps2': 5115, u'ps3': 5116, u'elegiant': 2453, u'speed': 5937, u'ps4': 5117, u'itrendz': 3677, u'cm': 1853, u'olym': 4743, u'rose': 5381, u'hk201': 3317, u'6640': 515, u'iphones': 3635, u'desktop': 2165, u'bltwo': 1400, u'tio': 6294, u'4x': 397, u'letv': 3989, u'earband': 2337, u'ecbuddy': 2402, u'denim': 2149, u'momentum': 4429, u'real': 5249, u'rasta': 5234, u'gemix': 2922, u'read': 5246, u'kinivo': 3846, u'amy': 974, u'qc15': 5168, u'listening': 4048, u'tie': 6286, u'amp': 967, u'psp': 5119, u'lady': 3915, u'headpiece': 3247, u'rear': 5252, u'95500000': 758, u'h634': 3111, u'roadking': 5366, u'empf\\xe4nger': 2475, u'iphone6': 3633, u'nt': 4698, u'gjt': 2949, u'iphone5': 3631, u'bracelet': 1487, u'6000mah': 476, u'9700a': 774, u'patrics': 4882, u'glassess': 2953, u'2393': 218, u'natual': 4590, u'kull': 3879, u'output': 4799, u'wbl': 6687, u'h032b': 3050, u'collapsible': 1871, u'cisco': 1813, u'pp511a1b': 5061, u'clt3500': 1851, u'ln272': 4060, u'shb9100': 5666, u'duration': 2290, u'verykool': 6567, u'cp': 1984, u'unlocked': 6470, u'bluevibe': 1438, u'buddha': 1605, u'provides': 5111, u'o7': 4716, u'recorder': 5265, u'fz200': 2848, u'o2': 4715, u'o1': 4714, u'n65': 4559, u'assembly': 1104, u'business': 1634, u'87098': 687, u'203479': 183, u'talon': 6202, u'87092': 686, u'p9982': 4834, u'artic': 1087, u'b210': 1190, u'lemfo': 3978, u'2m': 254, u'keeda': 3812, u'xencen': 6874, u'microphoneheadphones': 4350, u'motorbike': 4462, u'plastic': 4985, u'on': 4745, u'052030': 25, u'dreaminex': 2257, u'p8max': 4831, u'of': 4727, u'craft': 1988, u'ports': 5047, u'soundid': 5900, u'hhbuy': 3289, u'ox': 4810, u'ou': 4787, u'os': 4780, u'or': 4768, u'ladies': 3914, u'cambridge': 1680, u'7942': 599, u'6pcs': 545, u'm90': 4179, u'quickcell': 5186, u'operator': 4760, u'jetech': 3727, u'bthp11': 1591, u'5pack': 462, u'v8': 6525, u'your': 6955, u'buds': 1607, u'detox': 2171, u'ehs': 2439, u'fz45': 2849, u'unisex': 6462, u'budz': 1608, u'imbson': 3530, u'handles': 3157, u'gopro': 2992, u'n850': 4567, u'los': 4086, u'stealth': 6007, u'low': 4096, u'stars': 5994, u'energy': 2489, u'logico': 4068, u'cc0390': 1740, u'7040t': 559, u'2clear': 248, u'cesert': 1765, u'handsfree': 3162, u'755': 573, u'regard': 5282, u'hopday': 3372, u'metalic': 4321, u'recoil': 5264, u'a802': 820, u'echtpower': 2405, u'm9b': 4181, u'hottest': 3380, u'longer': 4075, u'6630': 514, u'5340': 436, u'1020': 54, u'embedded': 2469, u'sawolol': 5536, u'sunction': 6081, u'kmfeel': 3857, u'hm5800': 3349, u'202652': 181, u'7800mah': 582, u'monopod': 4439, u'601': 479, u'basstyle': 1253, u'602': 480, u'fsl': 2828, u'608': 483, u'1202': 90, u'hfhiringblt': 3285, u'7942g': 600, u'enact': 2479, u'acer': 854, u'operation': 4759, u'dp4800': 2249, u'dp4801': 2250, u'cs5121': 2016, u'ah05': 906, u'heather': 3264, u'bt2035': 1541, u'e30': 2320, u'nc13': 4600, u'storage': 6030, u'roseo': 5382, u'igx': 3511, u'fooly': 2786, u'valid': 6533, u'f04031': 2631, u'igo': 3510, u'fleshcolor': 2752, u'you': 6950, u'h9503': 3144, u'polar': 5019, u'separate': 5625, u'h17txt': 3070, u'plnh171': 5003, u'trekz': 6370, u'includes': 3549, u'univesal': 6467, u'track': 6340, u'shareconn': 5655, u'included': 3548, u'pool': 5036, u'bulk': 1620, u'calls': 1677, u'luxebell': 4125, u'mostfeel': 4452, u'wifi': 6756, u'curve': 2042, u'9800': 780, u'lightweigh': 4024, u'ls991': 4107, u'aoer': 1026, u'anroid': 1010, u'c150': 1655, u'multitfunction': 4526, u'ptm': 5125, u'sb220': 5541, u'seals': 5587, u'mp4': 4486, u'disc': 2201, u'folio': 2782, u'mp3': 4485, u'selna': 5607, u'ptx': 5127, u'meditation': 4296, u'disk': 2207, u'earmuffs': 2356, u'griffin': 3018, u'sbh80bk': 5564, u'lining': 4035, u'removal': 5299, u'maxtomars': 4263, u's960': 5493, u'safety': 5502, u'wma': 6803, u'c4': 1661, u'1080p': 62, u'kbtel': 3809, u'vs990': 6644, u'activities': 865, u'woman': 6807, u'1pl': 158, u'egyptian': 2434, u'very': 6566, u'1pc': 156, u'bluebits': 1410, u'multi': 4517, u'fat': 2668, u'aiyze': 923, u'selfies': 5604, u'liger': 4013, u'rogue': 5374, u'ultraviolet': 6449, u'headgear': 3234, u'sony': 5877, u'liquipel': 4044, u'gespch06': 2932, u'delivery': 2144, u'rox': 5397, u'atpx': 1121, u'soundpro': 5906, u'mtk6572': 4507, u'wep600': 6726, u'highway': 3301, u'shq3300lf': 5702, u'lisa': 4046, u'h600': 3105, u'hallomall': 3149, u'locomotive': 4065, u'w770b': 6659, u'stardrift': 5990, u'outstanding': 4800, u'bluetooths': 1432, u'hifi': 3296, u'ds6671': 2271, u'maxwave': 4265, u'6757i': 524, u'cs2111': 2012, u'clairty': 1819, u'rate': 5235, u'design': 2156, u'desigm': 2155, u'nba': 4598, u'redial': 5272, u'casual': 1731, u'bomber': 1455, u'darkness': 2104, u'nano': 4587, u'sun': 6079, u'n35': 4556, u'arion': 1069, u'extreme2': 2618, u'version': 6562, u'0200': 18, u'bte268': 1575, u'neelam': 4611, u'sq8': 5969, u'kzr': 3887, u'rg920bbedww': 5333, u'wrls': 6839, u'street2': 6042, u'loose': 4082, u'bengoo': 1294, u'beyution513': 1316, u'tracks': 6343, u'relaxation': 5288, u'mactrem': 4191, u'strong': 6052, u'fulllight': 2836, u'matching': 4246, u'colored': 1874, u'h6020': 3106, u'sokos': 5861, u'n9511': 4575, u'binmer': 1358, u'koncen': 3869, u'amount': 966, u'optionz': 4767, u'6071': 482, u'options': 4766, u'sweatproof': 6147, u'smartomni': 5811, u'shuffle': 5707, u'wearables': 6693, u'family': 2658, u'valworld': 6535, u'ztdm': 7029, u'layer': 3950, u'gioteck': 2945, u'put': 5145, u'chunky': 1804, u'snug': 5849, u'a960bl': 824, u'h860': 3134, u'senders': 5613, u'700w': 555, u'818': 645, u'mb': 4269, u'trueblue': 6386, u'takes': 6195, u'qcy': 5170, u'royalblue': 5399, u'glaxy': 2954, u'almost': 946, u'zoro': 7024, u'diskin': 2208, u'branded': 1496, u'showtop': 5698, u'turbo': 6401, u'divoom': 2214, u'smi438bt': 5821, u'flap': 2746, u'flag': 2744, u'basaball': 1243, u'hivetech': 3313, u'stabilizing': 5980, u'7000': 554, u'suction': 6068, u'mounted': 4475, u'qc2': 5169, u'muze': 4540, u'zebora': 6993, u'duty': 2295, u'glodeals': 2960, u'nine': 4649, u'parasom': 4866, u'740': 567, u'hhr': 3290, u'f2': 2638, u'f3': 2639, u'f4': 2642, u'f5': 2644, u'f6': 2648, u'powerjolt': 5057, u'83356': 659, u'magenta': 4195, u'earpiece': 2365, u'universalvibration': 6466, u'hm1800': 3336, u'goal': 2975, u'hbm530': 3195, u'chops': 1800, u'flytiger': 2770, u'american': 965, u'drahtlos': 2253, u'reject': 5284, u'headbands': 3231, u'net10': 4619, u'ilifesound': 3520, u'snapshot': 5838, u'r352p': 5208, u'primed4u': 5079, u'ft': 2830, u'sd55': 5581, u'vbass': 6543, u'whirl': 6741, u'fx': 2845, u'610': 487, u'hbm310': 3192, u'1275': 96, u'615': 489, u'fd': 2674, u'fi': 2695, u'gosund': 2993, u'01e11': 16, u'fn': 2774, u'fo': 2775, u'w710': 6656, u'hbs960': 3215, u'short': 5691, u'cs90174': 2025, u'ep610': 2514, u'nvwa': 4706, u'yikuer': 6941, u'anytime': 1024, u'croise': 2001, u'f04001': 2628, u'shade': 5647, u'crafts': 1989, u'banks': 1237, u'8647': 681, u'dream': 2256, u'kimmar': 3834, u'r322nzwaxar': 5207, u'copper': 1964, u'slouch': 5796, u'mokingtop': 4428, u'y9': 6922, u'camkey': 1685, u'magicshield': 4198, u'hedphones': 3268, u'thumping': 6281, u'kinetic': 3838, u'oldshark': 4740, u'2852041': 244, u'style': 6058, u'kardon': 3799, u'overhead': 4805, u'stylo': 6060, u'sale': 5509, u'mitel': 4390, u'systems': 6165, u'teens': 6237, u'speaker': 5930, u'cool': 1951, u'rumor': 5416, u'phone': 4931, u'sb250': 5543, u'zjchao': 7015, u'sucking': 6067, u'ye': 6929, u'clippers': 1838, u'yy': 6965, u'6xsb': 551, u'sanoxy': 5523, u'party': 4874, u'foot': 2787, u'h009b': 3048, u'ys': 6958, u'yu': 6959, u'bigger': 1351, u'st16': 5977, u'stopper': 6029, u'eearphone': 2426, u'viivria': 6593, u'87506': 689, u'ml20': 4401, u'capability': 1707, u'hero4': 3281, u'beyution': 1315, u'mouse': 4476, u'lifestyles': 4009, u'heavy': 3266, u'weight': 6700, u'cellphones': 1754, u'generation': 2926, u'jaws': 3711, u'secret': 5593, u'myvoice': 4551, u'600mm': 478, u'happycoco': 3168, u'loops': 4081, u'beyond': 1314, u'braided': 1491, u'eeabuds': 2424, u'magnet': 4205, u'7910': 587, u'4pc': 393, u'jabbes': 3699, u'wolverine': 6806, u'buletooth': 1617, u'fountain': 2797, u'rostra': 5385, u'msic': 4502, u'joway': 3753, u'steelmaster': 6009, u'diy': 2215, u'hdset': 3225, u'l90': 3907, u'fiber': 2696, u'bass': 1250, u'airflow': 915, u'50006535': 403, u'darkbule': 2101, u'52401': 426, u'labs': 3910, u'base': 1244, u'basn': 1249, u'asj': 1101, u'ash': 1098, u'speakerphones': 5932, u'improved': 3540, u'attachable': 1124, u'ze500kg': 6990, u'ion': 3613, u'mb810': 4270, u'round': 5393, u'vsport': 6645, u'tiktech': 6288, u'stretchable': 6045, u'circuit': 1811, u'snowboarding': 5844, u'blush': 1440, u'mininal': 4382, u'ife2': 3502, u'knots': 3864, u'student': 6055, u'encoding': 2481, u'203676': 188, u'203675': 187, u'revive': 5327, u'feet': 2684, u'dust': 2292, u'bitzonic': 1364, u'imc': 3531, u'slickblue': 5787, u'teaeshop': 6220, u'ipad1': 3622, u'510s': 417, u'blanc': 1389, u'vxi': 6648, u'temperature': 6243, u'suppout': 6118, u'blossom': 1398, u'leading': 3958, u'shooting': 5687, u'ba\\xfcer': 1262, u'hm7100': 3354, u'station': 5999, u'storm': 6033, u'toopoot': 6318, u'store': 6032, u'gps': 3001, u'selling': 5606, u'option': 4764, u'deskphone': 2164, u'alphacomm': 949, u'60': 473, u'trapper': 6360, u'bt3010': 1554, u'treasures': 6366, u'aliph': 936, u'h927bt': 3141, u'ipads': 3623, u'b235': 1192, u'gbeatztm': 2907, u'center': 1758, u'std': 6006, u'soyan': 5916, u'double': 2246, u'geega': 2915, u'grey': 3017, u'h922bt': 3140, u'cuff': 2037, u'mobiles': 4412, u'technocel': 6229, u'outdoors': 4796, u's530mini': 5473, u'kindle': 3836, u'audiomx': 1136, u'cleaner': 1828, u'headwear': 3253, u'cs10': 2011, u'888': 703, u'5x': 470, u'ultral': 6444, u'7v': 619, u'js6': 3765, u'7s': 618, u'g900v': 2882, u'apx4000': 1048, u'wilson': 6763, u'adesso': 879, u'lil': 4028, u'lin': 4032, u'3ds': 321, u'camouflage': 1687, u'padfone': 4849, u'mx': 4542, u'finding': 2710, u'7500': 571, u'donop': 2237, u'87090': 685, u'superex': 6104, u'headphone': 3239, u'777': 579, u'770': 577, u'bands': 1234, u'coolko': 1956, u'cvc6': 2053, u'sets': 5631, u'huhd': 3411, u'chargeable': 1777, u'yoyorule': 6957, u'72': 562, u'70': 552, u'm190va': 4158, u'alpha': 948, u'prestige': 5073, u'approved': 1044, u'convoy': 1948, u'mach': 4188, u'anyother': 1022, u'5360': 438, u'phad': 4923, u'mobile': 4409, u'clear': 1830, u'calling': 1676, u'softphones': 5859, u'forerunner': 2792, u'part': 4870, u'arhp200bf': 1066, u'8350i': 662, u'rechargeable': 5261, u'minimal': 4380, u'rte': 5407, u'solidpin': 5868, u'hpw01': 3390, u'6b6c': 538, u'iep414blk': 3498, u'beatzer': 1279, u'665': 516, u'q350': 5157, u'd208': 2073, u'elevin': 2457, u'winbook': 6767, u'g360': 2865, u'v480': 6520, u'supertooth': 6108, u'ep605': 2513, u'e11': 2313, u'e10': 2312, u'e13': 2314, u'flesh': 2751, u'grandcow': 3007, u'microusb': 4357, u'pretty': 5074, u'mfi': 4328, u'delton': 2146, u'circle': 1810, u'f04011': 2629, u'521': 425, u'stone3': 6026, u'stone2': 6025, u'v1x': 6512, u'executive': 2591, u'megoodo': 4303, u'longest': 4076, u'66i': 517, u'ifoxtek': 3506, u'workouts': 6823, u'him': 3306, u'lamicall': 3917, u'gold_white': 2980, u'joogger': 3751, u'ym8': 6945, u'doinshop': 2231, u'ie2': 3493, u'gloves': 2965, u'oxi': 4811, u'partron': 4872, u'nexgadget': 4637, u'fishing': 2725, u'sb240': 5542, u'art': 1085, u'motorala': 4461, u'hodling': 3360, u'danibos': 2096, u'culture': 2038, u'miirhythm': 4366, u'portrait': 5045, u'arm': 1072, u'm220va': 4162, u'harman': 3174, u'headphones_q800purple': 3242, u'atolla': 1117, u'klub': 3855, u'various': 6541, u'jinto': 3733, u'hbm585': 3199, u'supower': 6111, u'audiosharp': 1140, u'w508': 6654, u'smartech': 5807, u'smarteck': 5808, u'cancelling': 1699, u'f520': 2646, u'silicone': 5725, u'headwearing': 3254, u'gamecom': 2895, u'e200r': 2316, u'spray': 5964, u'rapid': 5229, u'z930': 6982, u'invisible': 3611, u'n780': 4565, u'zipper': 7012, u'inertia': 3569, u'bronze': 1520, u'both': 1473, u'prescription': 5070, u'adp': 884, u'mega': 4300, u'zhizhu': 7006, u'sensitive': 5618, u'roman': 5378, u'archeer': 1057, u'buzz': 1644, u'orfei': 4773, u'protector': 5107, u'86890': 683, u'battery': 1260, u'sweet': 6149, u'black11': 1374, u'fener': 2689, u'9310': 743, u'bt300wh': 1553, u'kawaii': 3806, u'ps': 5114, u'shb7000': 5664, u'enhancements': 2496, u'duo': 2280, u'deployment': 2150, u'unicorntech': 6456, u'bpg': 1481, u'sv11d': 6133, u'imarku': 3529, u'a2dp': 807, u'grde': 3011, u'pg': 4918, u'pd': 4892, u'pk': 4971, u'ph': 4921, u'pl': 4975, u'box': 1478, u'flight': 2757, u'packs': 4844, u'bt560': 1565, u'203664': 186, u'rosered': 5383, u'imac': 3526, u'ruggedized': 5413, u'ourspop': 4792, u'dialing': 2185, u'p2': 4814, u'k2': 3779, u'gabbagoods': 2886, u'p6': 4824, u'p7': 4827, u'shoretel': 5690, u'p8': 4828, u'pace': 4836, u'while': 6740, u'smart': 5804, u'pearls': 4898, u'iep414org': 3499, u'jarv': 3709, u'biking': 1354, u'btx20': 1601, u'loop': 4078, u'pack': 4837, u'sonic': 5874, u'jpc': 3763, u'vibrating': 6577, u'shamrock': 5650, u'sgin': 5642, u'alta': 951, u'skype': 5775, u'ecp100': 2413, u'plus5s': 5010, u'd18': 2069, u'pantech': 4864, u'panasonic': 4861, u'birugear': 1362, u'mdrzx770dc': 4284, u'shirt': 5679, u'rosy': 5386, u'cancelltion': 1700, u'shackle': 5646, u'newear': 4629, u'grand': 3005, u'etopxizu': 2555, u'dustproof': 2293, u'eh25': 2438, u'dime': 2195, u'bonus': 1460, u'usen': 6501, u'3gs': 324, u'csr8615': 2032, u'k200': 3780, u'003': 5, u'002': 4, u'001': 3, u'007': 7, u'cleaning': 1829, u'ivso': 3683, u'009': 11, u'008': 10, u'vnetphone': 6623, u'built': 1613, u'mytouch': 4550, u'435': 360, u'siemens': 5717, u'hm3300': 3342, u'without': 6798, u'ueb37a': 6431, u'edge': 2417, u'gsi': 3031, u'magnifier': 4209, u'140mah': 110, u'gsm': 3032, u'sourcingbay': 5915, u'headphoneslightweight': 3244, u'ergonomic': 2535, u'emerge': 2470, u'760': 575, u'desk': 2162, u'birthday': 1360, u'marque': 4232, u'shzons': 5710, u'fitactrunsbk': 2729, u'coolplay': 1957, u'a850': 821, u'useful': 6500, u'h22': 3077, u'pashion': 4875, u'87680': 690, u'tables': 6187, u'gamepad': 2896, u'tablet': 6188, u'1079': 60, u'walson': 6670, u'havit': 3181, u'guaranteed': 3037, u'5370': 439, u'exclusively': 2587, u's370': 5458, u'soundgate': 5898, u'armin': 1075, u'hgm': 3288, u'xs300': 6905, u'12pcs': 100, u'newstyle': 4634, u'bsh4000': 1526, u'finder': 2709, u'k6': 3784, u'mbh20': 4271, u'avier': 1163, u'marco': 4228, u'titanops': 6300, u'doorbell': 2241, u'671': 518, u'3800': 307, u'game': 2894, u'nc60': 4601, u'wingz': 6777, u'abdtech': 831, u'wings': 6776, u'zde658': 6989, u'like': 4027, u'ponds': 5035, u'k8': 3787, u'keku': 3815, u'e09': 2310, u'signal': 5720, u'k9': 3789, u'nipple': 4651, u'inclued': 3551, u'vibrant': 6575, u'popular': 5039, u'f04061': 2632, u'eea': 2423, u'owkey': 4809, u'hm100p': 3327, u'serene': 5627, u'lipo': 4041, u'9850': 784, u'wep850': 6729, u'economic': 2409, u'trendy': 6373, u'lifelike': 4007, u'loop6ix': 4079, u'blacks530': 1382, u'electric': 2449, u'polsen': 5029, u'wanderlust': 6671, u'heeadset': 3270, u'proht': 5095, u'seller': 5605, u'pbh': 4885, u'hairband': 3147, u'pounding': 5052, u'1520': 118, u'retro': 5323, u'm1100': 4152, u'trxplus': 6387, u'n8252': 4566, u'lelec': 3976, u'run': 5417, u'ayl': 1176, u'jazza': 3715, u'processing': 5090, u'hm1000': 3326, u'rug': 5410, u'fome': 2783, u'step': 6011, u'raspberry': 5233, u'7945g': 602, u'vivid': 6613, u'shine': 5674, u'works': 6824, u'sharper': 5660, u'10xsc': 72, u'standalone': 5985, u'iglove': 3509, u'g386t': 2867, u'turnraise': 6402, u'plaza': 4998, u'pro2': 5088, u'pro1': 5086, u'range': 5227, u'jabra': 3701, u'lux3': 4124, u'naztech': 4596, u'leegoo': 3967, u'replacement': 5306, u'wep450': 6719, u'vktech': 6620, u'soundcheque': 5894, u'stitched': 6021, u'soundgenie': 5899, u'mindkoo': 4374, u'within': 6797, u'l306': 3890, u'h270': 3082, u'v150': 6511, u'ozasm': 4812, u'retractable': 5322, u'gilumza': 2943, u'lippik': 4042, u'mm03': 4403, u'we129': 6690, u'sunglasses': 6085, u'wep185': 6707, u'h670': 3112, u'creaker': 1992, u'msn': 4504, u'staroc': 5992, u'1pcs': 157, u'mpow': 4487, u'long': 4074, u'capacitance': 1708, u'hisense': 3311, u's160': 5445, u'llx0463': 4058, u'popbt': 5038, u'leadzm': 3961, u'files': 2704, u'wnc': 6804, u'memory': 4312, u'thzy': 6285, u'inepo': 3568, u'cloth': 1844, u'newer': 4630, u'aqm': 1050, u'black02': 1372, u'cls1450c': 1849, u'q20': 5153, u'prev': 5075, u'fdd': 2675, u'skull': 5767, u'apricot': 1045, u'sounds': 5908, u'caller': 1675, u'fdl': 2676, u'frieq': 2821, u'007plus': 9, u'windows': 6771, u'easgear': 2381, u'ip119': 3617, u'prompt': 5098, u'p614': 4825, u'similar': 5731, u'hm4000': 3347, u'uber': 6424, u'adults': 886, u'112': 81, u'doesn': 2229, u'203657': 185, u'moretek': 4448, u'motorkr': 4466, u'ideausa': 3486, u'd415': 2076, u'cotton': 1974, u'heydo': 3283, u'rainbow': 5225, u'lemon': 3979, u'nad': 4582, u'kr': 3874, u'peace': 4895, u'h2o': 3084, u'v3': 6516, u'gry': 3028, u'52424': 427, u'freestyle': 2815, u'52426': 428, u's730g': 5481, u'uneed': 6454, u'libtrail': 4005, u'grn': 3020, u'nica': 4644, u'nice': 4645, u'ismartech': 3664, u'fenda': 2688, u'xiaomi': 6878, u'powerlead': 5058, u'ather': 1113, u'afterglow': 900, u'tundra': 6395, u'earphones': 2364, u'multifuctional': 4520, u'independently': 3559, u'risio': 5354, u'fluorescence': 2766, u'vice': 6579, u'dvd': 2297, u'navy': 4595, u'required': 5311, u'consoles': 1930, u'itgut': 3675, u'i9200': 3463, u'depth': 2151, u'blackcombo': 1378, u'audioperformance': 1137, u'tapit': 6210, u'aelec': 896, u'dvr': 2298, u'asmart': 1103, u'gt': 3034, u'gs': 3029, u'connectland': 1926, u'joysounds': 3760, u'sunlord': 6088, u'hooks': 3369, u'tweeter': 6409, u'edl': 2420, u'denali': 2148, u'edr': 2421, u'bt002': 1531, u'hyper': 3434, u'goldworld': 2982, u'go': 2974, u'gn': 2969, u'avant': 1159, u'gj': 2948, u'exersice': 2596, u'compact': 1900, u'neewer': 4612, u's200': 5449, u'bx1': 1648, u'note3': 4685, u'aria': 1067, u'note5': 4687, u'speakerphone': 5931, u'yaarna': 6923, u'suits': 6074, u'languages': 3928, u'shack': 5645, u'does': 2228, u'stable': 5981, u'include': 3547, u'v10': 6508, u'g7': 2880, u'g6': 2875, u'g5': 2871, u'g4': 2869, u'g3': 2863, u'g2': 2861, u'kcc': 3810, u'09012': 34, u'eargels': 2348, u'kitty': 3851, u'z1s': 6970, u'wave': 6683, u'640xl': 504, u'white_gold': 6746, u'cs55': 2023, u'hd03': 3218, u'h1135': 3062, u'christams': 1801, u'elelink': 2454, u'actpe': 867, u'modulator': 4423, u'soundsoul': 5909, u'button': 1637, u'bxt': 1650, u'gsung': 3033, u'esi': 2544, u'ampbox': 968, u'configurations': 1920, u'baiklov': 1225, u'galaxry': 2891, u'leadrise': 3959, u'lightest': 4016, u'sensation': 5616, u'jump': 3768, u'fold': 2779, u'muffs': 4514, u'zy': 7036, u'zv': 7034, u'zp': 7026, u'melody': 4309, u'zr': 7027, u'zs': 7028, u'yealink': 6931, u'hardcover': 3172, u'plays': 4995, u'poka': 5018, u'med': 4289, u'hbs950': 3214, u'ep620': 2515, u'valet': 6532, u'cell': 1748, u'tabpro': 6190, u'sumsonic': 6077, u'pkman': 4973, u'connects': 1928, u'ycc': 6928, u'ax610': 1172, u'degree': 2136, u'susenstone': 6131, u'commercial': 1894, u'brooch': 1521, u'isounds': 3669, u'z9': 6981, u'z4': 6977, u'z5': 6978, u'z7': 6979, u'dohonest': 2230, u'z2': 6971, u'z3': 6974, u'metro': 4325, u'bh800': 1337, u'distressed': 2211, u'host': 3374, u'vego': 6548, u'641': 505, u'640': 503, u'645': 506, u'yaesu': 6924, u'hexagon': 3282, u'foreet': 2791, u'apple': 1040, u'spy': 5968, u'win': 6764, u'srocker': 5972, u'manage': 4221, u'wii': 6757, u'volt': 6630, u'apc': 1031, u'redi': 5271, u'singing': 5739, u'apg': 1034, u'cloud': 1845, u'ape': 1032, u'use': 6499, u'from': 2824, u'usb': 6495, u'usa': 6493, u'latptop': 3945, u'frog': 2823, u'deego': 2129, u'nexus': 4639, u'bthl': 1589, u'camera': 1683, u'f01': 2627, u'vehicle': 6549, u'wep460': 6720, u'panel': 4863, u'180hrs': 141, u'hydro': 3432, u'qbh510': 5166, u'red1': 5270, u'osten': 4781, u'iris': 3652, u'hs850': 3401, u'detail': 2169, u'musician': 4534, u'tangerine': 6205, u'krystl': 3875, u'improve': 3539, u'sunrise': 6094, u'parrott': 4869, u'ultralong': 6447, u'rabbit': 5216, u'kinstore': 3847, u'iec': 3495, u'starter': 5996, u'women': 6808, u'snapfon': 5837, u'atech': 1112, u'bth8': 1588, u'banpa': 1238, u'bth3': 1585, u'bth1': 1582, u'salar': 5507, u'anywhere': 1025, u'stabilizer': 5978, u'newbull': 4627, u'fz48': 2850, u'meiego': 4304, u'proof': 5100, u'control': 1934, u'newcare': 4628, u'xlive': 6889, u'tap': 6209, u'samson': 5513, u'links': 4038, u'auriculares': 1146, u'asha': 1099, u'43eb300btb': 361, u'sb735': 5553, u'sb730': 5552, u'wonderful': 6811, u'tan': 6204, u'made': 4192, u'koss': 3871, u'muchbuy': 4513, u'b\\xf6hm': 1652, u'vbt185z': 6544, u'guru': 3041, u'vibe': 6573, u'waterproof': 6681, u'jabees': 3700, u'9790': 779, u'sankit': 5520, u'sii': 5721, u'sjyn0182a': 5753, u'sim': 5730, u'sweat': 6143, u'vankey': 6538, u'6mm': 542, u'rays': 5240, u'mysoftcover': 4548, u'3700': 300, u'nocise': 4662, u'treblab': 6367, u'light': 4014, u'dw8': 2300, u'b99': 1210, u'freecall': 2811, u'6hrs': 541, u'savor': 5533, u'fasion': 2666, u'necklace': 4608, u'bq618': 1485, u'6030': 481, u'mate2': 4248, u'bathing': 1256, u'02a': 20, u'unbreakable': 6452, u'jnb': 3741, u'130': 104, u'including': 3550, u'9hd': 797, u'bumblebee': 1624, u'hoco': 3359, u'hhrp402a': 3291, u'epa30': 2519, u'superior': 6105, u'valersy': 6531, u'outer': 4797, u'23229p': 212, u'fitta': 2737, u'orange': 4770, u'ep510pk': 2512, u'flex': 2753, u'loroc': 4085, u'vigo': 6589, u'auto': 1151, u'nokia': 4670, u'pins': 4962, u'hyperps': 3436, u'gels': 2920, u'p15': 4813, u'andriod': 991, u'hands': 3159, u'front': 2825, u'xpr7550': 6897, u'microphonefor': 4349, u'vority': 6633, u'transmitter': 6355, u'nfc': 4641, u'sbh70bk': 5562, u'wosports': 6827, u'ie1': 3492, u'slide': 5789, u'weather': 6695, u'mode': 4418, u'blacktop': 1384, u'h001b': 3044, u'chandral': 1771, u'carabiner': 1715, u'6200017': 492, u'illuminate': 3522, u'709': 560, u'inputs': 3586, u'700': 553, u'701': 556, u'related': 5287, u'bluetooth': 1427, u'88': 691, u'amztek': 976, u'82': 646, u'our': 4789, u'80': 622, u'hd10': 3219, u'soaiy': 5851, u'special': 5934, u'mat': 4243, u'phonova': 4937, u'entertainment': 2503, u'cellularvilla': 1757, u'8800': 692, u'easytle': 2389, u'remax': 5292, u'eco': 2407, u'ipod': 3637, u'activity': 866, u'8g': 711, u'8200': 648, u'strap': 6037, u'bt2080': 1547, u'ect': 2416, u'pendant': 4906, u'sneer': 5839, u'8s': 717, u'8v': 718, u'b3505': 1200, u'abestbox': 832, u'kawiyiiiss': 3807, u'fpg372': 2803, u'fpg371': 2802, u'fpg377': 2805, u'fpg376': 2804, u'safty': 5503, u'nxet': 4712, u'pacuwi': 4845, u'timer': 6290, u'times': 6291, u'stride': 6046, u'earond': 2357, u'lte': 4108, u'lancer': 3921, u'lancet': 3922, u'4500': 365, u'tpu': 6336, u'vtin': 6647, u'm120': 4153, u'b97s': 1209, u'kingmax': 3843, u'powerful': 5056, u'echo': 2404, u'bonnet': 1458, u'd610a': 2079, u'sbxdio': 5568, u'headphones_blue': 3241, u'headhpones': 3235, u'quality': 5180, u'86179': 677, u'uv400': 6506, u'10x': 70, u'soundwhiz': 5911, u'durable': 2287, u'white_pink': 6747, u'soundpie': 5905, u'1500': 115, u'655': 512, u'650': 508, u'1505': 117, u'wrapped': 6833, u'rch': 5244, u'man': 4220, u'yygift': 6967, u'kingyou': 3845, u'd610i': 2080, u'emtec': 2476, u'commandone': 1892, u'mechsoft': 4288, u'slider': 5790, u'315': 280, u'fineblue': 2713, u'h26s': 3081, u'megadream': 4301, u'nosie': 4680, u'neck': 4602, u'canelling': 1703, u'photograph': 4940, u'sansung': 5524, u'overear': 4803, u'beb': 1281, u'isolation': 3667, u'ex34': 2573, u'bee': 1283, u'richen': 5341, u'f10': 2636, u'f11': 2637, u'encore': 2482, u'are': 1063, u'exhibit': 2597, u'hausbel': 3180, u'clip': 1836, u'bluefox': 1416, u'h780': 3127, u'tg7745s': 6257, u'hx': 3423, u'sp0226br': 5918, u'pk701': 4972, u'l36i': 3893, u'l36h': 3892, u'tabl': 6185, u'faux': 2670, u'12614': 95, u'ieazy': 3494, u'microphone': 4348, u'angle': 999, u'g11': 2858, u'scree': 5578, u'which': 6739, u'so': 5850, u'visor': 6606, u'bluebud': 1411, u'tronic': 6381, u'combat': 1883, u'greenelec': 3014, u'eletronic': 2456, u'sweatband': 6144, u'ubtt360bk': 6425, u'sinvitron': 5743, u'kickstand': 3829, u'wht': 6750, u'connected': 1922, u'smartbb': 5805, u'sb': 5539, u'01839': 13, u'class': 1825, u'clasp': 1823, u'lanbailan': 3920, u'stereo': 6012, u'nezarco': 4640, u'4in1': 389, u'landscaping': 3925, u'jaybird': 3713, u'hv900': 3422, u'astonishing': 1106, u'b00xtrxuhg': 1183, u'microsdhc': 4355, u'pecham': 4899, u'gesture': 2933, u'flux': 2768, u'mmuss': 4405, u'igearpro': 3508, u'cellphoone': 1755, u'l41c': 3896, u'please': 4999, u'q3i': 5158, u'indoor': 3563, u'clover': 1846, u'watch': 6678, u'h19txt': 3072, u'shb7000wt': 5665, u'gefee': 2918, u'12v': 101, u'12w': 102, u'42mm': 356, u'shield': 5672, u'q1': 5149, u'multipoint': 4525, u'7x6': 620, u'q2': 5152, u'based': 1246, u'q7': 5160, u'iselector': 3660, u'q9': 5163, u'q8': 5161, u'1abt': 151, u'bug': 1609, u'removeable': 5301, u'bud': 1604, u'combo': 1885, u'fuel': 2832, u'h002b': 3045, u'piano': 4945, u'vigor': 6590, u'andance': 985, u'earbud': 2339, u'aquos': 1053, u'990': 786, u'acousticsheep': 857, u'999': 794, u'sonyxer': 5879, u'120': 88, u'mgr': 4331, u'q30': 5156, u'canary': 1692, u'i605': 3455, u'years': 6933, u'tf600': 6253, u'tl7610': 6304, u'tl7611': 6305, u'gray': 3010, u'evolution': 2568, u'qr': 5174, u'weatherproof': 6697, u'phixneon': 4929, u'pictured': 4950, u'wish': 6795, u'tunes': 6398, u'silvercell': 5727, u'oontz': 4754, u'zigo': 7008, u'i9220': 3464, u'solo': 5869, u'lync': 4134, u'gemtune': 2923, u'aonsen': 1029, u'flip': 2758, u'ivolks': 3681, u'hz850': 3446, u'n900v': 4570, u'computer': 1911, u'd851': 2089, u'shamrocks': 5651, u'87300': 688, u'sb67138': 5551, u'washable': 6677, u'marsboy': 4235, u'lux': 4123, u'fantronics': 2661, u'superb': 6102, u'genius': 2928, u'state': 5998, u'viper': 6601, u'closed': 1843, u'luk': 4115, u'mu11cv': 4509, u'granvela': 3008, u'earfin': 2346, u'c729': 1665, u'093801': 36, u'joy': 3754, u'p2i': 4818, u'efficiency': 2430, u'ms631': 4498, u'n9000': 4569, u'key': 3819, u'jog': 3743, u'swift': 6150, u'monitor': 4435, u'commands': 1893, u'xinglan': 6882, u'grv0791': 3026, u'blackorange': 1380, u'aqua': 1051, u'hikingwith': 3305, u'pg920ibugus': 4919, u'grain': 3004, u'8811': 693, u'tenergy': 6246, u'10xlb': 71, u'erahd': 2531, u'eraphone': 2532, u'wall': 6667, u'pl008': 4976, u'233621': 214, u'supreme': 6122, u'environments': 2505, u'walk': 6663, u'packaging': 4841, u'bt2090': 1548, u'cxc': 2059, u'glcon': 2955, u'table': 6186, u'cxl': 2060, u'enegg': 2488, u'gruve': 3024, u'satechi': 5527, u'onetouch': 4749, u'bj89': 1366, u'ep640': 2516, u'fsmart': 2829, u'polka': 5027, u'fpg381': 2806, u'730': 565, u'tf701t': 6255, u'735': 566, u'bbz': 1263, u'bluecell': 1413, u'n136': 4554, u'enforcer': 2490, u'handset': 3160, u'isolating': 3666, u'a106': 803, u'controlled': 1935, u'verizon': 6560, u'painted': 4854, u'sleepphones': 5785, u'otg': 4784, u'overture': 4807, u'controller': 1936, u'bluetoth': 1433, u'c540': 1663, u'maroon': 4231, u'eachine': 2333, u'9860': 785, u'garmin': 2904, u'winwin': 6784, u'bwh4': 1646, u'sbh52black': 5558, u'defairy': 2132, u'blackred': 1381, u'bwh9': 1647, u'fifine': 2700, u'will': 6762, u'808blue': 634, u'wild': 6759, u'1800': 140, u'17watts': 137, u'supply': 6113, u'ot4200': 4782, u'taupe': 6213, u'xpress': 6898, u'bulitin': 1619, u'skyblue': 5773, u'fullblam': 2835, u'coating': 1857, u'surface': 6124, u'hl10': 3323, u'cutelook': 2050, u'dual': 2278, u'lightweight': 4025, u'accfun': 850, u'capture': 1712, u'wep400': 6717, u'rif6': 5345, u'pqpp511svc': 5063, u'pae001': 4851, u'generic': 2927, u'vintage': 6596, u'radiation': 5220, u'cross': 2002, u'tr': 6337, u'retailing': 5319, u'parts': 4873, u'cyberdelic': 2063, u'northwest': 4678, u'inch': 3544, u'transformative': 6350, u'viiler': 6592, u'incl': 3546, u'88909': 707, u'f60': 2649, u'rk300': 5360, u'fur': 2843, u'slave': 5779, u'promo': 5096, u'wsound': 6841, u'qbh530': 5167, u'effect': 2429, u'mpulse': 4488, u'fierce': 2699, u'0ghz': 39, u'forestfish': 2793, u'collar': 1872, u'single': 5740, u'cfzc': 1767, u'3x': 336, u'golzer': 2984, u'h171n': 3069, u'pda': 4893, u'jlgtech': 3739, u'english': 2493, u'vastar': 6542, u'gimpo': 2944, u'fz62': 2851, u'shb5800': 5663, u'spherical': 5940, u'upgraded': 6482, u'camel': 1682, u'42': 354, u'tct': 6218, u'bestelec': 1303, u'sainsonic': 5505, u'43': 357, u'batteries': 1258, u'26w': 237, u'40': 338, u'1900': 147, u'snowboar': 5842, u'tecbt': 6226, u'xs2': 6904, u'xs1': 6903, u'console': 1929, u'iep414red': 3500, u'vida': 6584, u'point': 5017, u'sky': 5771, u'capabilities': 1706, u'hsf': 3402, u'xbird': 6866, u'usage': 6494, u'ski': 5762, u'd333': 2074, u'kick': 3827, u'iphone5s': 3632, u'knob': 3863, u'ebus': 2398, u'sonim': 5875, u'sytle': 6166, u'wool': 6816, u'260': 236, u'ipouch': 3639, u'press': 5072, u'yosoo': 6949, u'leeno': 3969, u'tl7600': 6303, u'zenfone': 6999, u'kinden': 3835, u'lost': 4088, u'sizes': 5750, u'candy': 1702, u'sized': 5749, u'vortex': 6634, u'link2cell': 4037, u'flexion': 2756, u'andrioid': 992, u'f3q': 2641, u'52475': 429, u'3s': 333, u'4mm': 391, u'exceed': 2577, u'airbt': 914, u'riorand': 5351, u'x1s': 6851, u'981': 781, u'urbanears': 6486, u'985': 783, u'tempered': 6244, u'warmer': 6673, u'110': 74, u'trucker': 6384, u'home': 3364, u'matrix2': 4253, u'mother': 4456, u'bt250': 1549, u'ah2': 908, u'leaf': 3962, u'lead': 3957, u'q800': 5162, u'508s': 412, u'yoyamo': 6956, u'desire816': 2161, u'203621': 184, u'leap': 3963, u'cradle': 1987, u'bluesim': 1423, u'btx1': 1600, u'camo': 1686, u't999': 6183, u'a920bl': 823, u'shq3300': 5701, u'tzumi': 6417, u'h003b': 3046, u'expansion': 2600, u'q2p': 5154, u'anself': 1011, u'as500sm': 1093, u'fluorescent': 2767, u'cs540a': 2021, u'm10b': 4151, u'x13': 6850, u'feets': 2685, u'extension': 2612, u'3500': 294, u'freedom': 2812, u'b350': 1199, u'hz800': 3445, u'whitelabel': 6749, u'shipping': 5678, u'compatible': 1905, u's10hd': 5437, u'cancelation': 1695, u'3w': 335, u'beige': 1286, u'rarz': 5232, u'recvr': 5268, u'warranty': 6676, u'artiste': 1089, u'h9': 3135, u'db00100': 2114, u'motarola': 4455, u'h2': 3073, u'h3': 3085, u'n920v': 4573, u'h1': 3057, u'bluetoothfixer': 1430, u'h7': 3119, u'h5': 3096, u'mushrooms': 4530, u'5330': 435, u's330': 5457, u'scanner': 5571, u'headphons': 3246, u'cs50': 2014, u'van': 6536, u'additional': 877, u'pc': 4888, u'transfer': 6348, u'msh03': 4499, u'protectors': 5108, u'beanie': 1269, u'8820': 694, u'inner': 3578, u'iwork': 3690, u'pyrus': 5148, u'hz': 3439, u'philips': 4928, u'cricket': 1997, u'hr': 3392, u'hs': 3395, u'hp': 3385, u'hq': 3391, u'hv': 3420, u'ht': 3404, u'forward': 2795, u'astro': 1107, u'neutral': 4624, u'hi': 3293, u'hl': 3322, u'hm': 3324, u'hb': 3183, u'ear': 2336, u'hg': 3287, u'hd': 3217, u'bluelark': 1418, u'supraplus': 6121, u'dmc': 2218, u'converter': 1944, u'tab': 6184, u'sorker': 5882, u's113bt': 5440, u'simle': 5732, u'iclever': 3476, u'graphite': 3009, u'720': 563, u'piece': 4952, u'caka': 1672, u'display': 2209, u'etekcity': 2553, u'zebra': 6994, u'rq7': 5403, u'm100': 4149, u'rq5': 5402, u'universal': 6465, u'axgio': 1173, u'vans': 6539, u'rq8': 5404, u'twist': 6411, u'vigica': 6588, u'beats': 1277, u'fz100': 2846, u'ep710': 2517, u'crystals': 2008, u'beatz': 1278, u'ipods': 3638, u'girl': 2946, u'800s': 624, u'mice': 4338, u'cyanics': 2062, u'functions': 2841, u'905bt': 729, u'appple': 1043, u'incredible': 3555, u'nwbt10n': 4707, u'assorted': 1105, u'boot': 1468, u'sqdeal': 5970, u'kans': 3798, u'finco': 2708, u'edup': 2422, u'other': 4785, u'9620l': 766, u'boom': 1463, u'talkie': 6200, u'acrylic': 858, u'incredibly': 3556, u'neojdx': 4616, u'monitors': 4437, u'1291': 98, u'star': 5989, u'bt2040': 1542, u'ip66': 3619, u'cooligg': 1953, u'stay': 6004, u'celecity': 1747, u'spouts': 5962, u'netcom': 4621, u'nintendo': 4650, u'rqn': 5405, u'p870': 4829, u'zaxsound': 6988, u'friends': 2820, u'wep410': 6718, u'ztstore': 7032, u'doubleplay': 2247, u'crystalspek': 2009, u'100i': 49, u'samsung': 5514, u'14192': 111, u'thunbird': 6282, u'coys': 1983, u'moshi': 4450, u'beyda': 1312, u'jawbone': 3710}\n"
     ]
    },
    {
     "ename": "NameError",
     "evalue": "name 'operator' is not defined",
     "output_type": "error",
     "traceback": [
      "\u001b[0;31m---------------------------------------------------------------------------\u001b[0m",
      "\u001b[0;31mNameError\u001b[0m                                 Traceback (most recent call last)",
      "\u001b[0;32m<ipython-input-245-ce135bcd465d>\u001b[0m in \u001b[0;36m<module>\u001b[0;34m()\u001b[0m\n\u001b[1;32m      1\u001b[0m \u001b[0;32mprint\u001b[0m\u001b[0;34m(\u001b[0m\u001b[0mcount\u001b[0m\u001b[0;34m.\u001b[0m\u001b[0mvocabulary_\u001b[0m\u001b[0;34m)\u001b[0m\u001b[0;34m\u001b[0m\u001b[0m\n\u001b[0;32m----> 2\u001b[0;31m \u001b[0msorted_x\u001b[0m \u001b[0;34m=\u001b[0m \u001b[0msorted\u001b[0m\u001b[0;34m(\u001b[0m\u001b[0mcount\u001b[0m\u001b[0;34m.\u001b[0m\u001b[0mvocabulary_\u001b[0m\u001b[0;34m.\u001b[0m\u001b[0mitems\u001b[0m\u001b[0;34m(\u001b[0m\u001b[0;34m)\u001b[0m\u001b[0;34m,\u001b[0m \u001b[0mkey\u001b[0m\u001b[0;34m=\u001b[0m\u001b[0moperator\u001b[0m\u001b[0;34m.\u001b[0m\u001b[0mitemgetter\u001b[0m\u001b[0;34m(\u001b[0m\u001b[0;36m1\u001b[0m\u001b[0;34m)\u001b[0m\u001b[0;34m)\u001b[0m\u001b[0;34m\u001b[0m\u001b[0m\n\u001b[0m",
      "\u001b[0;31mNameError\u001b[0m: name 'operator' is not defined"
     ]
    }
   ],
   "source": [
    "print(count.vocabulary_)\n",
    "sorted_x = sorted(count.vocabulary_.items(), key=operator.itemgetter(1))"
   ]
  },
  {
   "cell_type": "code",
   "execution_count": 251,
   "metadata": {
    "collapsed": false
   },
   "outputs": [
    {
     "ename": "NameError",
     "evalue": "name 'sys' is not defined",
     "output_type": "error",
     "traceback": [
      "\u001b[0;31m---------------------------------------------------------------------------\u001b[0m",
      "\u001b[0;31mNameError\u001b[0m                                 Traceback (most recent call last)",
      "\u001b[0;32m<ipython-input-251-f3aa4fc8ce10>\u001b[0m in \u001b[0;36m<module>\u001b[0;34m()\u001b[0m\n\u001b[0;32m----> 1\u001b[0;31m \u001b[0mt\u001b[0m\u001b[0;34m=\u001b[0m\u001b[0mre\u001b[0m\u001b[0;34m.\u001b[0m\u001b[0msplit\u001b[0m\u001b[0;34m(\u001b[0m\u001b[0;34m'\\W+'\u001b[0m\u001b[0;34m,\u001b[0m\u001b[0msys\u001b[0m\u001b[0;34m.\u001b[0m\u001b[0mstdin\u001b[0m\u001b[0;34m.\u001b[0m\u001b[0mread\u001b[0m\u001b[0;34m(\u001b[0m\u001b[0;34m)\u001b[0m\u001b[0;34m.\u001b[0m\u001b[0mlower\u001b[0m\u001b[0;34m(\u001b[0m\u001b[0;34m)\u001b[0m\u001b[0;34m)\u001b[0m\u001b[0;34m\u001b[0m\u001b[0m\n\u001b[0m\u001b[1;32m      2\u001b[0m \u001b[0mr\u001b[0m\u001b[0;34m=\u001b[0m\u001b[0msorted\u001b[0m\u001b[0;34m(\u001b[0m\u001b[0mcount\u001b[0m\u001b[0;34m.\u001b[0m\u001b[0mvocabulary_\u001b[0m \u001b[0;32mfor\u001b[0m \u001b[0mw\u001b[0m \u001b[0;32min\u001b[0m \u001b[0mset\u001b[0m\u001b[0;34m(\u001b[0m\u001b[0mt\u001b[0m\u001b[0;34m)\u001b[0m\u001b[0;32mif\u001b[0m \u001b[0mw\u001b[0m \u001b[0;32mnot\u001b[0m \u001b[0;32min\u001b[0m\u001b[0;34m'andithetoforinis'\u001b[0m\u001b[0;34m)\u001b[0m\u001b[0;34m[\u001b[0m\u001b[0;34m:\u001b[0m\u001b[0;36m22\u001b[0m\u001b[0;34m]\u001b[0m\u001b[0;34m\u001b[0m\u001b[0m\n",
      "\u001b[0;31mNameError\u001b[0m: name 'sys' is not defined"
     ]
    }
   ],
   "source": [
    "# t=re.split('\\W+',sys.stdin.read().lower())\n",
    "r=sorted(count.vocabulary_ for w in set(t)if w not in'andithetoforinis')[:22]"
   ]
  },
  {
   "cell_type": "code",
   "execution_count": 261,
   "metadata": {
    "collapsed": false
   },
   "outputs": [
    {
     "name": "stdout",
     "output_type": "stream",
     "text": [
      "[nltk_data] Downloading package stopwords to\n",
      "[nltk_data]     /Users/Feelings/nltk_data...\n",
      "[nltk_data]   Unzipping corpora/stopwords.zip.\n"
     ]
    }
   ],
   "source": [
    "import nltk\n",
    "nltk.download('stopwords')\n",
    "from nltk.corpus import stopwords\n",
    "stop = stopwords.words('english')"
   ]
  },
  {
   "cell_type": "code",
   "execution_count": 262,
   "metadata": {
    "collapsed": false
   },
   "outputs": [
    {
     "name": "stdout",
     "output_type": "stream",
     "text": [
      "===================================================================== Bluetooth\n",
      "========================================== Wireless\n",
      "======================================= U\n",
      "==================================== Headset\n",
      "========================== Stereo\n",
      "======================= Headphones\n",
      "==================== r\n",
      "==================== 4\n",
      "================= Samsung\n",
      "================ iPhone\n",
      "============== Headphone\n",
      "============= Earbuds\n",
      "============= Black\n",
      "============ 6\n",
      "============ Sports\n",
      "============ 0\n",
      "============ Microphone\n",
      "=========== Earphone\n",
      "========== Galaxy\n",
      "========== 1\n",
      "========= Ear\n",
      "========= Android\n",
      "========= Sport\n",
      "========= Mic\n",
      "========= Noise\n",
      "========= Hands\n",
      "======== 3\n",
      "======== Earphones\n",
      "======== Music\n",
      "======= 2\n",
      "======= Running\n",
      "======= Mini\n",
      "======= LG\n",
      "====== 5\n",
      "====== iPad\n",
      "====== In\n",
      "====== j\n",
      "====== Headsets\n",
      "===== free\n",
      "===== Smart\n",
      "===== Phones\n",
      "===== Universal\n",
      "===== For\n",
      "===== Sweatproof\n",
      "===== Free\n",
      "===== Note\n",
      "===== Cancelling\n",
      "===== Plus\n",
      "===== HTC\n",
      "===== Gym\n"
     ]
    }
   ],
   "source": [
    "t=re.split('\\W+',name_np.dumps())\n",
    "r=sorted((-t.count(w),w)for w in set(t)if w not in stop)\n",
    "fr = r[:50]\n",
    "for l,w in fr:print(78-len(fr[0][1]))*l/fr[0][0]*'=',w"
   ]
  },
  {
   "cell_type": "code",
   "execution_count": 265,
   "metadata": {
    "collapsed": true
   },
   "outputs": [],
   "source": [
    "#有bluetooth, wireless是一定的, headset->earbuds種類, 手機品牌(samsung, iphone最多), mic, sports, ruuning很有趣"
   ]
  },
  {
   "cell_type": "code",
   "execution_count": null,
   "metadata": {
    "collapsed": false
   },
   "outputs": [],
   "source": [
    "#description & detail text analysis"
   ]
  },
  {
   "cell_type": "code",
   "execution_count": 267,
   "metadata": {
    "collapsed": true
   },
   "outputs": [],
   "source": [
    "#brand analysis: review數量最多的 通常review number可以反映購買數量，把number*rate評比戰力?也可以適用於產品比較"
   ]
  },
  {
   "cell_type": "markdown",
   "metadata": {},
   "source": [
    "#SIMILAR PORDUCT: KNN MODEL"
   ]
  },
  {
   "cell_type": "code",
   "execution_count": 268,
   "metadata": {
    "collapsed": true
   },
   "outputs": [],
   "source": [
    "from sklearn.neighbors import NearestNeighbors"
   ]
  },
  {
   "cell_type": "code",
   "execution_count": 276,
   "metadata": {
    "collapsed": false
   },
   "outputs": [
    {
     "data": {
      "text/plain": [
       "array([[5, 4]])"
      ]
     },
     "execution_count": 276,
     "metadata": {},
     "output_type": "execute_result"
    }
   ],
   "source": [
    "X = np.array([[-1, -1], [-2, -1], [-3, -2], [1, 1], [2, 1], [3, 2]])\n",
    "nbrs = NearestNeighbors(n_neighbors=2, algorithm='ball_tree').fit(X)\n",
    "distances, indices = nbrs.kneighbors([4,4])\n",
    "indices"
   ]
  },
  {
   "cell_type": "code",
   "execution_count": null,
   "metadata": {
    "collapsed": true
   },
   "outputs": [],
   "source": [
    "from sklearn.feature_extraction.text import TfidfTransformer\n",
    "tfidf = TfidfTransformer()\n",
    "np.set_printoptions(precision=2)\n",
    "print(tfidf.fit_transform(count.fit_transform(name_np)).toarray())"
   ]
  },
  {
   "cell_type": "code",
   "execution_count": 286,
   "metadata": {
    "collapsed": false
   },
   "outputs": [
    {
     "data": {
      "text/html": [
       "<div>\n",
       "<table border=\"1\" class=\"dataframe\">\n",
       "  <thead>\n",
       "    <tr style=\"text-align: right;\">\n",
       "      <th></th>\n",
       "      <th>product_id</th>\n",
       "      <th>product_name</th>\n",
       "      <th>product_brand</th>\n",
       "      <th>product_detail</th>\n",
       "      <th>product_description</th>\n",
       "      <th>product_price</th>\n",
       "      <th>product_sale</th>\n",
       "      <th>weight</th>\n",
       "      <th>photo_num</th>\n",
       "      <th>best_seller_rank</th>\n",
       "      <th>water_proof</th>\n",
       "      <th>noise_cancel</th>\n",
       "      <th>micro_phone</th>\n",
       "      <th>review_num</th>\n",
       "      <th>review_rate</th>\n",
       "      <th>product_discount</th>\n",
       "    </tr>\n",
       "  </thead>\n",
       "  <tbody>\n",
       "    <tr>\n",
       "      <th>0</th>\n",
       "      <td>B012N7X65S</td>\n",
       "      <td>Trendwoo Runner X9 Bluetooth 4.0 Wireless Ster...</td>\n",
       "      <td>Trendwoo</td>\n",
       "      <td>Enter your model number above to make sure thi...</td>\n",
       "      <td>Features: Specifications: Model: Runner X9 Blu...</td>\n",
       "      <td>39.99</td>\n",
       "      <td>0.00</td>\n",
       "      <td>82.213617</td>\n",
       "      <td>7</td>\n",
       "      <td>2318</td>\n",
       "      <td>1</td>\n",
       "      <td>0</td>\n",
       "      <td>0</td>\n",
       "      <td>228</td>\n",
       "      <td>3.7</td>\n",
       "      <td>39.99</td>\n",
       "    </tr>\n",
       "    <tr>\n",
       "      <th>1</th>\n",
       "      <td>B016OADE1Q</td>\n",
       "      <td>Bluetooth 4.1 Headphones,LADEY Wireless Blueto...</td>\n",
       "      <td>LADEY</td>\n",
       "      <td>Bluetooth 4.1,support volume control,it also c...</td>\n",
       "      <td>Sweatproof design,best choice when you do spor...</td>\n",
       "      <td>44.29</td>\n",
       "      <td>14.26</td>\n",
       "      <td>861.825503</td>\n",
       "      <td>7</td>\n",
       "      <td>9289</td>\n",
       "      <td>1</td>\n",
       "      <td>1</td>\n",
       "      <td>0</td>\n",
       "      <td>0</td>\n",
       "      <td>0.0</td>\n",
       "      <td>30.03</td>\n",
       "    </tr>\n",
       "    <tr>\n",
       "      <th>3</th>\n",
       "      <td>B017RDCZ1Y</td>\n",
       "      <td>PowerLead S200 Bluetooth 4.1 Sport Gym Running...</td>\n",
       "      <td>PowerLead</td>\n",
       "      <td>Premuim high quality CSR chip allows this head...</td>\n",
       "      <td>Product fetures: It's a high end smart sports ...</td>\n",
       "      <td>56.87</td>\n",
       "      <td>40.54</td>\n",
       "      <td>8.504857</td>\n",
       "      <td>7</td>\n",
       "      <td>8379</td>\n",
       "      <td>0</td>\n",
       "      <td>1</td>\n",
       "      <td>0</td>\n",
       "      <td>11</td>\n",
       "      <td>4.5</td>\n",
       "      <td>16.33</td>\n",
       "    </tr>\n",
       "    <tr>\n",
       "      <th>6</th>\n",
       "      <td>B00IJG54RQ</td>\n",
       "      <td>SHOWERDOORDIRECT.COM WWBS-BU Waterproof Blueto...</td>\n",
       "      <td>SHOWER DOOR DIRECT</td>\n",
       "      <td>Enter your model number above to make sure thi...</td>\n",
       "      <td>Now you can sing in your shower and enjoy all ...</td>\n",
       "      <td>69.99</td>\n",
       "      <td>0.00</td>\n",
       "      <td>221.126280</td>\n",
       "      <td>2</td>\n",
       "      <td>3779</td>\n",
       "      <td>0</td>\n",
       "      <td>0</td>\n",
       "      <td>0</td>\n",
       "      <td>0</td>\n",
       "      <td>0.0</td>\n",
       "      <td>69.99</td>\n",
       "    </tr>\n",
       "    <tr>\n",
       "      <th>7</th>\n",
       "      <td>B00XQSQKI4</td>\n",
       "      <td>BluBeats Bluetooth Headset, High-Quality, Cris...</td>\n",
       "      <td>Klip xtreme</td>\n",
       "      <td>Mobile headset with Bluetooth wireless technol...</td>\n",
       "      <td>Klip Xtreme BluBeats mobile headset with Bluet...</td>\n",
       "      <td>34.99</td>\n",
       "      <td>0.00</td>\n",
       "      <td>9661.517481</td>\n",
       "      <td>4</td>\n",
       "      <td>5994</td>\n",
       "      <td>0</td>\n",
       "      <td>0</td>\n",
       "      <td>1</td>\n",
       "      <td>4</td>\n",
       "      <td>3.0</td>\n",
       "      <td>34.99</td>\n",
       "    </tr>\n",
       "    <tr>\n",
       "      <th>8</th>\n",
       "      <td>B01AD9XU04</td>\n",
       "      <td>OEM [2016 Version] Sport Handsfree, Stereo V8 ...</td>\n",
       "      <td>BlueRay®</td>\n",
       "      <td>Brand New and High Quality Suitable For BLU St...</td>\n",
       "      <td>Compatible with any bluetooth enabled mobile p...</td>\n",
       "      <td>39.99</td>\n",
       "      <td>24.99</td>\n",
       "      <td>45.359237</td>\n",
       "      <td>7</td>\n",
       "      <td>11819</td>\n",
       "      <td>0</td>\n",
       "      <td>0</td>\n",
       "      <td>0</td>\n",
       "      <td>0</td>\n",
       "      <td>0.0</td>\n",
       "      <td>15.00</td>\n",
       "    </tr>\n",
       "    <tr>\n",
       "      <th>9</th>\n",
       "      <td>B00XLQWHI8</td>\n",
       "      <td>BSI 3pcs Metal Clasps for Fitbit Charge Band W...</td>\n",
       "      <td>PL</td>\n",
       "      <td>BSI 3pcs Metal Clasps for Fitbit Charge Band W...</td>\n",
       "      <td>BSI 3pcs Metal Clasps for Fitbit Charge Band W...</td>\n",
       "      <td>6.02</td>\n",
       "      <td>0.00</td>\n",
       "      <td>NaN</td>\n",
       "      <td>2</td>\n",
       "      <td>11609</td>\n",
       "      <td>0</td>\n",
       "      <td>0</td>\n",
       "      <td>0</td>\n",
       "      <td>0</td>\n",
       "      <td>0.0</td>\n",
       "      <td>6.02</td>\n",
       "    </tr>\n",
       "    <tr>\n",
       "      <th>10</th>\n",
       "      <td>B00Y4M01JA</td>\n",
       "      <td>Bluetooth Headphones, TOTU Wireless Bluetooth ...</td>\n",
       "      <td>TOTU</td>\n",
       "      <td>Advanced Technology: With bluetooth 4.0 and ap...</td>\n",
       "      <td>About TOTU: TOTU use the best material and bra...</td>\n",
       "      <td>139.99</td>\n",
       "      <td>19.99</td>\n",
       "      <td>14.174762</td>\n",
       "      <td>7</td>\n",
       "      <td>21</td>\n",
       "      <td>1</td>\n",
       "      <td>0</td>\n",
       "      <td>1</td>\n",
       "      <td>905</td>\n",
       "      <td>3.3</td>\n",
       "      <td>120.00</td>\n",
       "    </tr>\n",
       "    <tr>\n",
       "      <th>11</th>\n",
       "      <td>B011Y3GU0U</td>\n",
       "      <td>Bluetooth Wireless HandFree Sports Stereo Head...</td>\n",
       "      <td>Doormoon</td>\n",
       "      <td>100% brand new!! Compatible with Advanced Blue...</td>\n",
       "      <td>Designed with precision and feature the highes...</td>\n",
       "      <td>20.80</td>\n",
       "      <td>12.00</td>\n",
       "      <td>NaN</td>\n",
       "      <td>7</td>\n",
       "      <td>13412</td>\n",
       "      <td>0</td>\n",
       "      <td>0</td>\n",
       "      <td>0</td>\n",
       "      <td>0</td>\n",
       "      <td>0.0</td>\n",
       "      <td>8.80</td>\n",
       "    </tr>\n",
       "    <tr>\n",
       "      <th>12</th>\n",
       "      <td>B00NG57HF2</td>\n",
       "      <td>Sony MDR-XB950BT/H Extra Bass Bluetooth Headse...</td>\n",
       "      <td>Sony</td>\n",
       "      <td>This product has a Bluetooth.By Bluetooth,you ...</td>\n",
       "      <td>Headphone parts Model: closed dynamic. Driver ...</td>\n",
       "      <td>169.40</td>\n",
       "      <td>0.00</td>\n",
       "      <td>680.388555</td>\n",
       "      <td>1</td>\n",
       "      <td>1290</td>\n",
       "      <td>0</td>\n",
       "      <td>0</td>\n",
       "      <td>0</td>\n",
       "      <td>21</td>\n",
       "      <td>4.9</td>\n",
       "      <td>169.40</td>\n",
       "    </tr>\n",
       "    <tr>\n",
       "      <th>13</th>\n",
       "      <td>B00Z0ME68A</td>\n",
       "      <td>Newest Smallest Wireless Invisible Bluetooth M...</td>\n",
       "      <td>EGRD</td>\n",
       "      <td>The Newest bluetooth headset with  lightweight...</td>\n",
       "      <td>Package Include: 1.One EGRD earbud 2.One instr...</td>\n",
       "      <td>45.99</td>\n",
       "      <td>0.00</td>\n",
       "      <td>28.349523</td>\n",
       "      <td>7</td>\n",
       "      <td>80</td>\n",
       "      <td>0</td>\n",
       "      <td>0</td>\n",
       "      <td>1</td>\n",
       "      <td>1</td>\n",
       "      <td>3.1</td>\n",
       "      <td>45.99</td>\n",
       "    </tr>\n",
       "    <tr>\n",
       "      <th>14</th>\n",
       "      <td>B01CS5VUEO</td>\n",
       "      <td>Uniway E5S High Definition Earbud In-ear Bluet...</td>\n",
       "      <td>Uniway</td>\n",
       "      <td>Easy upgrade from standard earphones:This earp...</td>\n",
       "      <td>Product descriptions: This headphone not only ...</td>\n",
       "      <td>19.89</td>\n",
       "      <td>0.00</td>\n",
       "      <td>8.504857</td>\n",
       "      <td>7</td>\n",
       "      <td>7694</td>\n",
       "      <td>0</td>\n",
       "      <td>1</td>\n",
       "      <td>1</td>\n",
       "      <td>0</td>\n",
       "      <td>0.0</td>\n",
       "      <td>19.89</td>\n",
       "    </tr>\n",
       "    <tr>\n",
       "      <th>15</th>\n",
       "      <td>B005FVNHBI</td>\n",
       "      <td>Jabra SPORT Bluetooth Stereo Headset - Black/Y...</td>\n",
       "      <td>Jabra</td>\n",
       "      <td>Secure &amp; Comfortable Fit During Workouts Us Mi...</td>\n",
       "      <td>Jabra 100-96600000-02 Sport Bluetooth(R) Stere...</td>\n",
       "      <td>99.99</td>\n",
       "      <td>0.00</td>\n",
       "      <td>85.048569</td>\n",
       "      <td>7</td>\n",
       "      <td>2588</td>\n",
       "      <td>0</td>\n",
       "      <td>0</td>\n",
       "      <td>1</td>\n",
       "      <td>1</td>\n",
       "      <td>2.8</td>\n",
       "      <td>99.99</td>\n",
       "    </tr>\n",
       "    <tr>\n",
       "      <th>16</th>\n",
       "      <td>B009923WIW</td>\n",
       "      <td>On-Ear Bluetooth Headphones Wireless + Wired T...</td>\n",
       "      <td>HDE</td>\n",
       "      <td>Enter your model number above to make sure thi...</td>\n",
       "      <td>Premium Design The classic, yet bold, design o...</td>\n",
       "      <td>39.99</td>\n",
       "      <td>0.00</td>\n",
       "      <td>294.835040</td>\n",
       "      <td>6</td>\n",
       "      <td>3155</td>\n",
       "      <td>0</td>\n",
       "      <td>0</td>\n",
       "      <td>1</td>\n",
       "      <td>459</td>\n",
       "      <td>3.7</td>\n",
       "      <td>39.99</td>\n",
       "    </tr>\n",
       "    <tr>\n",
       "      <th>17</th>\n",
       "      <td>B019EU13RK</td>\n",
       "      <td>Ularmo 2015 New Popular Wireless Bluetooth Ear...</td>\n",
       "      <td>Ularmo®</td>\n",
       "      <td>Build in Micphone,easy free Talk Music Time: U...</td>\n",
       "      <td>How to use: Press the power button(the BLUE pa...</td>\n",
       "      <td>10.50</td>\n",
       "      <td>0.00</td>\n",
       "      <td>NaN</td>\n",
       "      <td>7</td>\n",
       "      <td>7424</td>\n",
       "      <td>0</td>\n",
       "      <td>0</td>\n",
       "      <td>0</td>\n",
       "      <td>0</td>\n",
       "      <td>0.0</td>\n",
       "      <td>10.50</td>\n",
       "    </tr>\n",
       "    <tr>\n",
       "      <th>18</th>\n",
       "      <td>B005FVNHBI</td>\n",
       "      <td>Jabra SPORT Bluetooth Stereo Headset - Black/Y...</td>\n",
       "      <td>Jabra</td>\n",
       "      <td>Secure &amp; Comfortable Fit During Workouts Us Mi...</td>\n",
       "      <td>Jabra 100-96600000-02 Sport Bluetooth(R) Stere...</td>\n",
       "      <td>99.99</td>\n",
       "      <td>0.00</td>\n",
       "      <td>85.048569</td>\n",
       "      <td>7</td>\n",
       "      <td>2588</td>\n",
       "      <td>0</td>\n",
       "      <td>0</td>\n",
       "      <td>1</td>\n",
       "      <td>1</td>\n",
       "      <td>2.8</td>\n",
       "      <td>99.99</td>\n",
       "    </tr>\n",
       "    <tr>\n",
       "      <th>19</th>\n",
       "      <td>B019TVHVDY</td>\n",
       "      <td>Wireless Headphones, OCTOPUS Bluetooth Earbuds...</td>\n",
       "      <td>Octopus</td>\n",
       "      <td>ADVANCED TECHNOLOGY: Fast UNDER 2 HOURS chargi...</td>\n",
       "      <td>*** Powerful and Stylish *** The new 2016 mode...</td>\n",
       "      <td>69.95</td>\n",
       "      <td>18.95</td>\n",
       "      <td>68.038855</td>\n",
       "      <td>5</td>\n",
       "      <td>2383</td>\n",
       "      <td>0</td>\n",
       "      <td>1</td>\n",
       "      <td>1</td>\n",
       "      <td>28</td>\n",
       "      <td>4.5</td>\n",
       "      <td>51.00</td>\n",
       "    </tr>\n",
       "    <tr>\n",
       "      <th>21</th>\n",
       "      <td>B0080ARADC</td>\n",
       "      <td>1 pc New Medium Size Good Quality Eargel for P...</td>\n",
       "      <td>PL</td>\n",
       "      <td>Enter your model number above to make sure thi...</td>\n",
       "      <td>1 pc New Medium Size Good Quality Eargel for P...</td>\n",
       "      <td>10.99</td>\n",
       "      <td>0.00</td>\n",
       "      <td>NaN</td>\n",
       "      <td>2</td>\n",
       "      <td>5328</td>\n",
       "      <td>0</td>\n",
       "      <td>0</td>\n",
       "      <td>0</td>\n",
       "      <td>0</td>\n",
       "      <td>0.0</td>\n",
       "      <td>10.99</td>\n",
       "    </tr>\n",
       "    <tr>\n",
       "      <th>22</th>\n",
       "      <td>B00DVU9HIC</td>\n",
       "      <td>Hercules Ultra-Compact Bluetooth 2.0 Speaker -...</td>\n",
       "      <td>Hercules</td>\n",
       "      <td>Enter your model number above to make sure thi...</td>\n",
       "      <td>The Hercules WAE-BTP03 Mini Bluetooth 2.0 Spea...</td>\n",
       "      <td>79.99</td>\n",
       "      <td>0.00</td>\n",
       "      <td>816.466266</td>\n",
       "      <td>3</td>\n",
       "      <td>14013</td>\n",
       "      <td>0</td>\n",
       "      <td>0</td>\n",
       "      <td>1</td>\n",
       "      <td>0</td>\n",
       "      <td>0.0</td>\n",
       "      <td>79.99</td>\n",
       "    </tr>\n",
       "    <tr>\n",
       "      <th>23</th>\n",
       "      <td>B00O8PWW7W</td>\n",
       "      <td>Insten Bluetooth Wireless Running Gym Fitness ...</td>\n",
       "      <td>INSTEN</td>\n",
       "      <td>Enjoy wireless music and answer your call with...</td>\n",
       "      <td>Enjoy wireless music and answer your call with...</td>\n",
       "      <td>13.84</td>\n",
       "      <td>0.00</td>\n",
       "      <td>90.718474</td>\n",
       "      <td>6</td>\n",
       "      <td>5057</td>\n",
       "      <td>0</td>\n",
       "      <td>0</td>\n",
       "      <td>0</td>\n",
       "      <td>7</td>\n",
       "      <td>3.1</td>\n",
       "      <td>13.84</td>\n",
       "    </tr>\n",
       "    <tr>\n",
       "      <th>24</th>\n",
       "      <td>B006C6DZDK</td>\n",
       "      <td>Plantronics Savi W745 Earset 86507-01</td>\n",
       "      <td>Plantronics</td>\n",
       "      <td>Connection Type: Wireless Sound Mode: Mono</td>\n",
       "      <td>Plantronics Savi W745 Earset 86507-01 Headsets...</td>\n",
       "      <td>449.95</td>\n",
       "      <td>0.00</td>\n",
       "      <td>816.466266</td>\n",
       "      <td>1</td>\n",
       "      <td>4933</td>\n",
       "      <td>0</td>\n",
       "      <td>0</td>\n",
       "      <td>0</td>\n",
       "      <td>3</td>\n",
       "      <td>3.5</td>\n",
       "      <td>449.95</td>\n",
       "    </tr>\n",
       "    <tr>\n",
       "      <th>25</th>\n",
       "      <td>B0195K8714</td>\n",
       "      <td>BSI New Silver Metal Necklace With New Unique ...</td>\n",
       "      <td>PL</td>\n",
       "      <td>New Elegant Silver Metal Necklace With New Uni...</td>\n",
       "      <td>BSI New Elegant Silver Metal Necklace With New...</td>\n",
       "      <td>39.99</td>\n",
       "      <td>0.00</td>\n",
       "      <td>8.504857</td>\n",
       "      <td>3</td>\n",
       "      <td>2277</td>\n",
       "      <td>0</td>\n",
       "      <td>0</td>\n",
       "      <td>0</td>\n",
       "      <td>3</td>\n",
       "      <td>3.3</td>\n",
       "      <td>39.99</td>\n",
       "    </tr>\n",
       "    <tr>\n",
       "      <th>26</th>\n",
       "      <td>B01AAHLH6S</td>\n",
       "      <td>Bluetooth Headphones, DolTech Bluetooth Headse...</td>\n",
       "      <td>DolTech</td>\n",
       "      <td>Bluetooth Function: Compatible with Advanced B...</td>\n",
       "      <td>Description: Bluetooth Function: Compatible wi...</td>\n",
       "      <td>75.99</td>\n",
       "      <td>16.99</td>\n",
       "      <td>45.359237</td>\n",
       "      <td>7</td>\n",
       "      <td>5853</td>\n",
       "      <td>0</td>\n",
       "      <td>1</td>\n",
       "      <td>0</td>\n",
       "      <td>14</td>\n",
       "      <td>3.2</td>\n",
       "      <td>59.00</td>\n",
       "    </tr>\n",
       "    <tr>\n",
       "      <th>27</th>\n",
       "      <td>B00N43EREA</td>\n",
       "      <td>Kinivo BTH240 Limited Edition Bluetooth Stereo...</td>\n",
       "      <td>Kinivo</td>\n",
       "      <td>Compatible with Bluetooth enabled music player...</td>\n",
       "      <td>The Kinivo BTH240 is a redesign of our top sel...</td>\n",
       "      <td>54.99</td>\n",
       "      <td>29.99</td>\n",
       "      <td>181.436948</td>\n",
       "      <td>7</td>\n",
       "      <td>1772</td>\n",
       "      <td>0</td>\n",
       "      <td>0</td>\n",
       "      <td>0</td>\n",
       "      <td>56</td>\n",
       "      <td>4.1</td>\n",
       "      <td>25.00</td>\n",
       "    </tr>\n",
       "    <tr>\n",
       "      <th>28</th>\n",
       "      <td>B00ZLOSVH4</td>\n",
       "      <td>Bluetooth Headset, Wires That Work® T0782 Univ...</td>\n",
       "      <td>Wires That Work</td>\n",
       "      <td>FUTURE PROOF: Noise-cancelling microphone redu...</td>\n",
       "      <td>Noise-cancelling microphone reduces background...</td>\n",
       "      <td>36.99</td>\n",
       "      <td>0.00</td>\n",
       "      <td>68.038855</td>\n",
       "      <td>5</td>\n",
       "      <td>5960</td>\n",
       "      <td>0</td>\n",
       "      <td>1</td>\n",
       "      <td>1</td>\n",
       "      <td>23</td>\n",
       "      <td>3.7</td>\n",
       "      <td>36.99</td>\n",
       "    </tr>\n",
       "    <tr>\n",
       "      <th>29</th>\n",
       "      <td>B0181S7Y6A</td>\n",
       "      <td>Fetta Universal Wireless Bluetooth Headset Ste...</td>\n",
       "      <td>Fetta</td>\n",
       "      <td>Bluetooth version 4.0 built with well-known CS...</td>\n",
       "      <td>Features Automatically Play/Pause music on inc...</td>\n",
       "      <td>12.99</td>\n",
       "      <td>0.00</td>\n",
       "      <td>45.359237</td>\n",
       "      <td>7</td>\n",
       "      <td>519</td>\n",
       "      <td>0</td>\n",
       "      <td>0</td>\n",
       "      <td>0</td>\n",
       "      <td>229</td>\n",
       "      <td>3.8</td>\n",
       "      <td>12.99</td>\n",
       "    </tr>\n",
       "    <tr>\n",
       "      <th>30</th>\n",
       "      <td>B00LN1GEFK</td>\n",
       "      <td>Granvela Imbson A802 Foldable Headphone Headse...</td>\n",
       "      <td>Granvela</td>\n",
       "      <td>18 Hours of Continuous Playback time, 3 Minute...</td>\n",
       "      <td>Specifications: Standard charge time:Approx.2 ...</td>\n",
       "      <td>49.90</td>\n",
       "      <td>14.29</td>\n",
       "      <td>141.747615</td>\n",
       "      <td>6</td>\n",
       "      <td>7017</td>\n",
       "      <td>0</td>\n",
       "      <td>0</td>\n",
       "      <td>0</td>\n",
       "      <td>30</td>\n",
       "      <td>4.0</td>\n",
       "      <td>35.61</td>\n",
       "    </tr>\n",
       "    <tr>\n",
       "      <th>31</th>\n",
       "      <td>B012NOVH70</td>\n",
       "      <td>Enegg Universal Smallest Wireless BLuetooth In...</td>\n",
       "      <td>Enegg</td>\n",
       "      <td>The Newest bluetooth headset with lightweight ...</td>\n",
       "      <td>Handsfree call and listen Music, Freely switch...</td>\n",
       "      <td>39.99</td>\n",
       "      <td>0.00</td>\n",
       "      <td>22.679618</td>\n",
       "      <td>7</td>\n",
       "      <td>7848</td>\n",
       "      <td>0</td>\n",
       "      <td>0</td>\n",
       "      <td>1</td>\n",
       "      <td>16</td>\n",
       "      <td>2.6</td>\n",
       "      <td>39.99</td>\n",
       "    </tr>\n",
       "    <tr>\n",
       "      <th>32</th>\n",
       "      <td>B01C3NFGGO</td>\n",
       "      <td>Bluetooth Headphone Winsbotech Bluetooth 4.0 W...</td>\n",
       "      <td>winsbotech</td>\n",
       "      <td>NEW BLUETOOTH TECHNOLOGY --- Bluetooth 4.0 + E...</td>\n",
       "      <td>Key Feature: 1.Advanced Bluetooth 4.0 technolo...</td>\n",
       "      <td>59.99</td>\n",
       "      <td>16.99</td>\n",
       "      <td>NaN</td>\n",
       "      <td>7</td>\n",
       "      <td>12962</td>\n",
       "      <td>0</td>\n",
       "      <td>1</td>\n",
       "      <td>1</td>\n",
       "      <td>2</td>\n",
       "      <td>4.0</td>\n",
       "      <td>43.00</td>\n",
       "    </tr>\n",
       "    <tr>\n",
       "      <th>33</th>\n",
       "      <td>B00T3NEDI0</td>\n",
       "      <td>BSI Set 1 Pink and 1 Teal Replacement Bands &amp; ...</td>\n",
       "      <td>PL</td>\n",
       "      <td>BSI Set 1 Pink and 1 Teal Replacement Bands &amp; ...</td>\n",
       "      <td>BSI Set 1 Pink and 1 Teal Replacement Bands &amp; ...</td>\n",
       "      <td>24.99</td>\n",
       "      <td>0.00</td>\n",
       "      <td>NaN</td>\n",
       "      <td>1</td>\n",
       "      <td>14284</td>\n",
       "      <td>0</td>\n",
       "      <td>0</td>\n",
       "      <td>0</td>\n",
       "      <td>0</td>\n",
       "      <td>0.0</td>\n",
       "      <td>24.99</td>\n",
       "    </tr>\n",
       "    <tr>\n",
       "      <th>...</th>\n",
       "      <td>...</td>\n",
       "      <td>...</td>\n",
       "      <td>...</td>\n",
       "      <td>...</td>\n",
       "      <td>...</td>\n",
       "      <td>...</td>\n",
       "      <td>...</td>\n",
       "      <td>...</td>\n",
       "      <td>...</td>\n",
       "      <td>...</td>\n",
       "      <td>...</td>\n",
       "      <td>...</td>\n",
       "      <td>...</td>\n",
       "      <td>...</td>\n",
       "      <td>...</td>\n",
       "      <td>...</td>\n",
       "    </tr>\n",
       "    <tr>\n",
       "      <th>10593</th>\n",
       "      <td>B016WCI1R8</td>\n",
       "      <td>Bluetooth Earbuds, Bluetooth Headphones, Dolte...</td>\n",
       "      <td>DolTech</td>\n",
       "      <td>HIGH-FIDELITY - Provide High-fidelity stereo m...</td>\n",
       "      <td>DolTech 2015 Newest Premium Music Mini Sports ...</td>\n",
       "      <td>88.99</td>\n",
       "      <td>15.99</td>\n",
       "      <td>39.689332</td>\n",
       "      <td>5</td>\n",
       "      <td>8773</td>\n",
       "      <td>1</td>\n",
       "      <td>1</td>\n",
       "      <td>0</td>\n",
       "      <td>4</td>\n",
       "      <td>3.6</td>\n",
       "      <td>73.00</td>\n",
       "    </tr>\n",
       "    <tr>\n",
       "      <th>10594</th>\n",
       "      <td>B01AJL171K</td>\n",
       "      <td>Bluetooth Earphones,DLAND Wireless Mic Noise C...</td>\n",
       "      <td>DLAND</td>\n",
       "      <td>Elegant appearance and Multi-function:answer/e...</td>\n",
       "      <td>Specifications: compatible with most Bluetooth...</td>\n",
       "      <td>18.99</td>\n",
       "      <td>0.00</td>\n",
       "      <td>8.504857</td>\n",
       "      <td>7</td>\n",
       "      <td>13</td>\n",
       "      <td>0</td>\n",
       "      <td>1</td>\n",
       "      <td>1</td>\n",
       "      <td>37</td>\n",
       "      <td>4.7</td>\n",
       "      <td>18.99</td>\n",
       "    </tr>\n",
       "    <tr>\n",
       "      <th>10595</th>\n",
       "      <td>B01A6TJV0E</td>\n",
       "      <td>Bluetooth Headset, Lookatool® Mini Ultra-small...</td>\n",
       "      <td>Lookatool</td>\n",
       "      <td>Taiwan and the bluetooth master control chip. ...</td>\n",
       "      <td>Spescification: Bluetooth version:V4.0 + EDR B...</td>\n",
       "      <td>5.74</td>\n",
       "      <td>0.00</td>\n",
       "      <td>14.174762</td>\n",
       "      <td>5</td>\n",
       "      <td>652</td>\n",
       "      <td>0</td>\n",
       "      <td>0</td>\n",
       "      <td>0</td>\n",
       "      <td>7</td>\n",
       "      <td>4.7</td>\n",
       "      <td>5.74</td>\n",
       "    </tr>\n",
       "    <tr>\n",
       "      <th>10597</th>\n",
       "      <td>B019WBJ78S</td>\n",
       "      <td>Twinbuys Each B3505 3.5mm Wireless Bluetooth S...</td>\n",
       "      <td>Twinbuys</td>\n",
       "      <td>Wireless bluetooth headset compatible with blu...</td>\n",
       "      <td>Overview This B3505 wireless bluetooth stereo ...</td>\n",
       "      <td>35.99</td>\n",
       "      <td>0.00</td>\n",
       "      <td>218.291328</td>\n",
       "      <td>7</td>\n",
       "      <td>11734</td>\n",
       "      <td>0</td>\n",
       "      <td>1</td>\n",
       "      <td>0</td>\n",
       "      <td>0</td>\n",
       "      <td>0.0</td>\n",
       "      <td>35.99</td>\n",
       "    </tr>\n",
       "    <tr>\n",
       "      <th>10598</th>\n",
       "      <td>B015OJ0JN4</td>\n",
       "      <td>RQN Outdoor Bluetooth Hat Wireless Bluetooth H...</td>\n",
       "      <td>RQN</td>\n",
       "      <td>1. You can keep warm and speakerphone, enjoy t...</td>\n",
       "      <td>Technology Spec:Size:One size fits most Blueto...</td>\n",
       "      <td>99.00</td>\n",
       "      <td>0.00</td>\n",
       "      <td>90.718474</td>\n",
       "      <td>3</td>\n",
       "      <td>7561</td>\n",
       "      <td>0</td>\n",
       "      <td>0</td>\n",
       "      <td>0</td>\n",
       "      <td>19</td>\n",
       "      <td>4.1</td>\n",
       "      <td>99.00</td>\n",
       "    </tr>\n",
       "    <tr>\n",
       "      <th>10599</th>\n",
       "      <td>B00LZRFB10</td>\n",
       "      <td>JIAFENG Bluetooth Wireless Headphone Bluetooth...</td>\n",
       "      <td>JiaFeng</td>\n",
       "      <td>Support LINE-IN mode and multi-media playing W...</td>\n",
       "      <td>The wireless headset support LINE-IN mode and ...</td>\n",
       "      <td>55.99</td>\n",
       "      <td>0.00</td>\n",
       "      <td>317.514659</td>\n",
       "      <td>3</td>\n",
       "      <td>9819</td>\n",
       "      <td>0</td>\n",
       "      <td>0</td>\n",
       "      <td>1</td>\n",
       "      <td>3</td>\n",
       "      <td>3.3</td>\n",
       "      <td>55.99</td>\n",
       "    </tr>\n",
       "    <tr>\n",
       "      <th>10600</th>\n",
       "      <td>B014R5TFVS</td>\n",
       "      <td>AngLink Mini Wireless Bluetooth 4.1 Stereo Hea...</td>\n",
       "      <td>anglink</td>\n",
       "      <td>Compact portable design: the mini light-weight...</td>\n",
       "      <td>Product Description Hear it all-music, calls a...</td>\n",
       "      <td>19.99</td>\n",
       "      <td>13.99</td>\n",
       "      <td>8.504857</td>\n",
       "      <td>7</td>\n",
       "      <td>3551</td>\n",
       "      <td>0</td>\n",
       "      <td>1</td>\n",
       "      <td>1</td>\n",
       "      <td>79</td>\n",
       "      <td>3.8</td>\n",
       "      <td>6.00</td>\n",
       "    </tr>\n",
       "    <tr>\n",
       "      <th>10601</th>\n",
       "      <td>B00Q2JKF94</td>\n",
       "      <td>Sunvito HBS-740 Wireless Bluetooth 4.0 Music S...</td>\n",
       "      <td>Sunvito</td>\n",
       "      <td>Brand new and high quality. Support Bluetooth ...</td>\n",
       "      <td>Specifications: -Length of data cable: 77cm -F...</td>\n",
       "      <td>75.96</td>\n",
       "      <td>13.89</td>\n",
       "      <td>8.504857</td>\n",
       "      <td>6</td>\n",
       "      <td>3771</td>\n",
       "      <td>0</td>\n",
       "      <td>0</td>\n",
       "      <td>0</td>\n",
       "      <td>38</td>\n",
       "      <td>3.5</td>\n",
       "      <td>62.07</td>\n",
       "    </tr>\n",
       "    <tr>\n",
       "      <th>10602</th>\n",
       "      <td>B00QIIYI6U</td>\n",
       "      <td>MiNi Bluetooth Wireless In-Ear Headphones Head...</td>\n",
       "      <td>Generic</td>\n",
       "      <td>Enter your model number above to make sure thi...</td>\n",
       "      <td>Resistant to scratches, dust and spills, Keep ...</td>\n",
       "      <td>8.96</td>\n",
       "      <td>0.00</td>\n",
       "      <td>28.349523</td>\n",
       "      <td>5</td>\n",
       "      <td>10446</td>\n",
       "      <td>0</td>\n",
       "      <td>0</td>\n",
       "      <td>0</td>\n",
       "      <td>2</td>\n",
       "      <td>1.0</td>\n",
       "      <td>8.96</td>\n",
       "    </tr>\n",
       "    <tr>\n",
       "      <th>10604</th>\n",
       "      <td>B012D1M0TC</td>\n",
       "      <td>Marsboy Bluetooth V4.0 Headphones Wireless Swi...</td>\n",
       "      <td>Marsboy</td>\n",
       "      <td>Enter your model number above to make sure thi...</td>\n",
       "      <td>Marsboy New Version Bluetooth 4.0 Headphones T...</td>\n",
       "      <td>39.99</td>\n",
       "      <td>0.00</td>\n",
       "      <td>99.223331</td>\n",
       "      <td>7</td>\n",
       "      <td>4946</td>\n",
       "      <td>0</td>\n",
       "      <td>0</td>\n",
       "      <td>0</td>\n",
       "      <td>403</td>\n",
       "      <td>3.5</td>\n",
       "      <td>39.99</td>\n",
       "    </tr>\n",
       "    <tr>\n",
       "      <th>10605</th>\n",
       "      <td>B01ABVLU9C</td>\n",
       "      <td>Keweier Mini Bluetooth Wireless Headphones wit...</td>\n",
       "      <td>KWE</td>\n",
       "      <td>Sweat-proof, durable design, Onscreen Battery ...</td>\n",
       "      <td>NaN</td>\n",
       "      <td>18.88</td>\n",
       "      <td>0.00</td>\n",
       "      <td>45.359237</td>\n",
       "      <td>4</td>\n",
       "      <td>1263</td>\n",
       "      <td>0</td>\n",
       "      <td>1</td>\n",
       "      <td>0</td>\n",
       "      <td>0</td>\n",
       "      <td>0.0</td>\n",
       "      <td>18.88</td>\n",
       "    </tr>\n",
       "    <tr>\n",
       "      <th>10606</th>\n",
       "      <td>B019ROX9K2</td>\n",
       "      <td>AUGLAMOUR Original R8 HIFI Music Headphone Sup...</td>\n",
       "      <td>AUGLAMOUR</td>\n",
       "      <td>Enter your model number above to make sure thi...</td>\n",
       "      <td>Features: Ergonomics cavity design: R8 offers ...</td>\n",
       "      <td>35.83</td>\n",
       "      <td>0.00</td>\n",
       "      <td>277.825326</td>\n",
       "      <td>7</td>\n",
       "      <td>10523</td>\n",
       "      <td>0</td>\n",
       "      <td>0</td>\n",
       "      <td>0</td>\n",
       "      <td>0</td>\n",
       "      <td>0.0</td>\n",
       "      <td>35.83</td>\n",
       "    </tr>\n",
       "    <tr>\n",
       "      <th>10607</th>\n",
       "      <td>B016HICONE</td>\n",
       "      <td>Top-Longer Wireless Bluetooth V4.0 Bluetooth H...</td>\n",
       "      <td>Top-Longer</td>\n",
       "      <td>Compatible with Apple and Android smart phones...</td>\n",
       "      <td>Product Description - Compatible with most cel...</td>\n",
       "      <td>46.00</td>\n",
       "      <td>24.99</td>\n",
       "      <td>8.504857</td>\n",
       "      <td>3</td>\n",
       "      <td>12068</td>\n",
       "      <td>0</td>\n",
       "      <td>0</td>\n",
       "      <td>1</td>\n",
       "      <td>7</td>\n",
       "      <td>4.5</td>\n",
       "      <td>21.01</td>\n",
       "    </tr>\n",
       "    <tr>\n",
       "      <th>10608</th>\n",
       "      <td>B011ID4VDO</td>\n",
       "      <td>Kasstino Bluetooth Mini Lightweight Wireless S...</td>\n",
       "      <td>Kasstino</td>\n",
       "      <td>Bluetooth V4.0 Portable lightweight and sweatp...</td>\n",
       "      <td>Technical specification: Bluetooth Specificati...</td>\n",
       "      <td>8.91</td>\n",
       "      <td>0.00</td>\n",
       "      <td>8.504857</td>\n",
       "      <td>7</td>\n",
       "      <td>2621</td>\n",
       "      <td>1</td>\n",
       "      <td>1</td>\n",
       "      <td>1</td>\n",
       "      <td>4</td>\n",
       "      <td>4.0</td>\n",
       "      <td>8.91</td>\n",
       "    </tr>\n",
       "    <tr>\n",
       "      <th>10609</th>\n",
       "      <td>B00OOFMHL2</td>\n",
       "      <td>Masentek H26 Fashion Wireless V3.0+EDR Bluetoo...</td>\n",
       "      <td>Cyber-Bay</td>\n",
       "      <td>It is wireless headset. In the Box: headset, e...</td>\n",
       "      <td>This is a mono headset with bluetooth wireless...</td>\n",
       "      <td>29.99</td>\n",
       "      <td>0.00</td>\n",
       "      <td>22.679618</td>\n",
       "      <td>3</td>\n",
       "      <td>4502</td>\n",
       "      <td>0</td>\n",
       "      <td>1</td>\n",
       "      <td>0</td>\n",
       "      <td>38</td>\n",
       "      <td>3.7</td>\n",
       "      <td>29.99</td>\n",
       "    </tr>\n",
       "    <tr>\n",
       "      <th>10610</th>\n",
       "      <td>B019OOIN60</td>\n",
       "      <td>Selectec Wireless 4.0 Bluetooth Headset Headph...</td>\n",
       "      <td>Selectec</td>\n",
       "      <td>Bluetooth version: 4.0+aptx Pair two phones wi...</td>\n",
       "      <td>Features: Hand free listening Listen to music,...</td>\n",
       "      <td>29.99</td>\n",
       "      <td>0.00</td>\n",
       "      <td>NaN</td>\n",
       "      <td>5</td>\n",
       "      <td>10066</td>\n",
       "      <td>0</td>\n",
       "      <td>0</td>\n",
       "      <td>0</td>\n",
       "      <td>0</td>\n",
       "      <td>0.0</td>\n",
       "      <td>29.99</td>\n",
       "    </tr>\n",
       "    <tr>\n",
       "      <th>10611</th>\n",
       "      <td>B013DAQOJ4</td>\n",
       "      <td>Rymemo 2016 Newest Universal Wireless Bluetoot...</td>\n",
       "      <td>Rymemo</td>\n",
       "      <td>BLUETOOTH FUNCTION:100% brand new!! Compatible...</td>\n",
       "      <td>Description Bluetooth Function: Compatible wit...</td>\n",
       "      <td>79.99</td>\n",
       "      <td>14.88</td>\n",
       "      <td>68.038855</td>\n",
       "      <td>6</td>\n",
       "      <td>928</td>\n",
       "      <td>0</td>\n",
       "      <td>0</td>\n",
       "      <td>0</td>\n",
       "      <td>45</td>\n",
       "      <td>3.4</td>\n",
       "      <td>65.11</td>\n",
       "    </tr>\n",
       "    <tr>\n",
       "      <th>10613</th>\n",
       "      <td>B00ZCOJDDO</td>\n",
       "      <td>N Logitech H800 Wireless Bluetooth Headset for...</td>\n",
       "      <td>Halothailand</td>\n",
       "      <td>Enter your model number above to make sure thi...</td>\n",
       "      <td>Features Compatible Easily connect to and swit...</td>\n",
       "      <td>104.35</td>\n",
       "      <td>0.00</td>\n",
       "      <td>NaN</td>\n",
       "      <td>2</td>\n",
       "      <td>12773</td>\n",
       "      <td>0</td>\n",
       "      <td>0</td>\n",
       "      <td>1</td>\n",
       "      <td>0</td>\n",
       "      <td>0.0</td>\n",
       "      <td>104.35</td>\n",
       "    </tr>\n",
       "    <tr>\n",
       "      <th>10614</th>\n",
       "      <td>B00LN1FA5U</td>\n",
       "      <td>Granvela imbson A802 Foldable Headphone Headse...</td>\n",
       "      <td>Granvela</td>\n",
       "      <td>18 Hours of Continuous Playback time, 3 Minute...</td>\n",
       "      <td>Specifications: Standard charge time:Approx.2 ...</td>\n",
       "      <td>49.90</td>\n",
       "      <td>14.29</td>\n",
       "      <td>141.747615</td>\n",
       "      <td>6</td>\n",
       "      <td>6348</td>\n",
       "      <td>0</td>\n",
       "      <td>0</td>\n",
       "      <td>0</td>\n",
       "      <td>30</td>\n",
       "      <td>4.0</td>\n",
       "      <td>35.61</td>\n",
       "    </tr>\n",
       "    <tr>\n",
       "      <th>10615</th>\n",
       "      <td>B00HAV75GE</td>\n",
       "      <td>KOKKIA MarathonS Sports Buds : Tiny aptX Ver 4...</td>\n",
       "      <td>KOKKIA</td>\n",
       "      <td>Tiny MarathonS aptX V4.X Bluetooth Stereo Head...</td>\n",
       "      <td>MarathonS aptX hi-fidelity stereo music Blueto...</td>\n",
       "      <td>29.99</td>\n",
       "      <td>0.00</td>\n",
       "      <td>8.504857</td>\n",
       "      <td>7</td>\n",
       "      <td>6221</td>\n",
       "      <td>0</td>\n",
       "      <td>1</td>\n",
       "      <td>1</td>\n",
       "      <td>35</td>\n",
       "      <td>3.5</td>\n",
       "      <td>29.99</td>\n",
       "    </tr>\n",
       "    <tr>\n",
       "      <th>10616</th>\n",
       "      <td>B015J59F5Q</td>\n",
       "      <td>Mydeal Bluetooth Beanie Hat Adult Unisex Trend...</td>\n",
       "      <td>MyDeal Products</td>\n",
       "      <td>Style and Tech Combine: 100% Soft Acrylic,doub...</td>\n",
       "      <td>Mydeal pays more attention to Innovation and Q...</td>\n",
       "      <td>49.99</td>\n",
       "      <td>26.99</td>\n",
       "      <td>107.728188</td>\n",
       "      <td>7</td>\n",
       "      <td>0</td>\n",
       "      <td>0</td>\n",
       "      <td>0</td>\n",
       "      <td>1</td>\n",
       "      <td>96</td>\n",
       "      <td>4.1</td>\n",
       "      <td>23.00</td>\n",
       "    </tr>\n",
       "    <tr>\n",
       "      <th>10617</th>\n",
       "      <td>B01CNM9RJC</td>\n",
       "      <td>ZenNutt Hands Free Wireless Bluetooth Headband...</td>\n",
       "      <td>ZenNutt</td>\n",
       "      <td>Provides wireless freedom to you,which is a fa...</td>\n",
       "      <td>Specifications: Bluetooth Version: V3.0+EDR Fr...</td>\n",
       "      <td>16.98</td>\n",
       "      <td>12.45</td>\n",
       "      <td>NaN</td>\n",
       "      <td>7</td>\n",
       "      <td>5317</td>\n",
       "      <td>1</td>\n",
       "      <td>0</td>\n",
       "      <td>0</td>\n",
       "      <td>10</td>\n",
       "      <td>4.1</td>\n",
       "      <td>4.53</td>\n",
       "    </tr>\n",
       "    <tr>\n",
       "      <th>10618</th>\n",
       "      <td>B019DDNRC2</td>\n",
       "      <td>Bluetooth 4.0+APTX Headphones -- GRDE® Sweat-p...</td>\n",
       "      <td>GRDE®</td>\n",
       "      <td>Retractable Earbuds : Easy to adjust the lengt...</td>\n",
       "      <td>Let you enjoy the leisure life more comfortabl...</td>\n",
       "      <td>29.99</td>\n",
       "      <td>0.00</td>\n",
       "      <td>68.038855</td>\n",
       "      <td>6</td>\n",
       "      <td>1759</td>\n",
       "      <td>0</td>\n",
       "      <td>0</td>\n",
       "      <td>1</td>\n",
       "      <td>70</td>\n",
       "      <td>3.0</td>\n",
       "      <td>29.99</td>\n",
       "    </tr>\n",
       "    <tr>\n",
       "      <th>10620</th>\n",
       "      <td>B01A0NBPYG</td>\n",
       "      <td>Towallmark(TM) New Wireless Bluetooth Earphone...</td>\n",
       "      <td>towallmark</td>\n",
       "      <td>How to use: Press the power button(the BLUE pa...</td>\n",
       "      <td>Feature: 100% brand new and high quality Outst...</td>\n",
       "      <td>8.94</td>\n",
       "      <td>0.00</td>\n",
       "      <td>31.184475</td>\n",
       "      <td>1</td>\n",
       "      <td>7311</td>\n",
       "      <td>0</td>\n",
       "      <td>0</td>\n",
       "      <td>0</td>\n",
       "      <td>0</td>\n",
       "      <td>0.0</td>\n",
       "      <td>8.94</td>\n",
       "    </tr>\n",
       "    <tr>\n",
       "      <th>10622</th>\n",
       "      <td>B00NQG2WC4</td>\n",
       "      <td>Samsung HM1350 Wireless Hands Free Bluetooth H...</td>\n",
       "      <td>Samsung</td>\n",
       "      <td>Simple Pairing technology automatically pairin...</td>\n",
       "      <td>The Samsung HM1350 mono Bluetooth headset offe...</td>\n",
       "      <td>29.99</td>\n",
       "      <td>0.00</td>\n",
       "      <td>8.504857</td>\n",
       "      <td>5</td>\n",
       "      <td>4698</td>\n",
       "      <td>0</td>\n",
       "      <td>0</td>\n",
       "      <td>1</td>\n",
       "      <td>7</td>\n",
       "      <td>3.6</td>\n",
       "      <td>29.99</td>\n",
       "    </tr>\n",
       "    <tr>\n",
       "      <th>10623</th>\n",
       "      <td>B017ERD7IS</td>\n",
       "      <td>Universal Bluetooth Headphones Wireless Hands-...</td>\n",
       "      <td>Duto</td>\n",
       "      <td>Stereo bluetooth version 4.0/ A2DP profile, pr...</td>\n",
       "      <td>Specification Standby time/Talk time: Up to 50...</td>\n",
       "      <td>49.99</td>\n",
       "      <td>0.00</td>\n",
       "      <td>68.038855</td>\n",
       "      <td>5</td>\n",
       "      <td>501</td>\n",
       "      <td>0</td>\n",
       "      <td>1</td>\n",
       "      <td>0</td>\n",
       "      <td>53</td>\n",
       "      <td>4.4</td>\n",
       "      <td>49.99</td>\n",
       "    </tr>\n",
       "    <tr>\n",
       "      <th>10624</th>\n",
       "      <td>B017K3NLEG</td>\n",
       "      <td>Moudio M100 Wireless Stereo Bluetooth Smart He...</td>\n",
       "      <td>Moudio</td>\n",
       "      <td>Bluetooth 4.0 chips hardware configuration ens...</td>\n",
       "      <td>Moudio M100 Sports Bluetooth Headphone: Feel t...</td>\n",
       "      <td>99.99</td>\n",
       "      <td>34.99</td>\n",
       "      <td>68.038855</td>\n",
       "      <td>7</td>\n",
       "      <td>1987</td>\n",
       "      <td>0</td>\n",
       "      <td>0</td>\n",
       "      <td>0</td>\n",
       "      <td>194</td>\n",
       "      <td>4.3</td>\n",
       "      <td>65.00</td>\n",
       "    </tr>\n",
       "    <tr>\n",
       "      <th>10625</th>\n",
       "      <td>B0169SNKCQ</td>\n",
       "      <td>NoiseHush Bluetooth Headset for Apple &amp; Other ...</td>\n",
       "      <td>NoiseHush</td>\n",
       "      <td>A Trusted American Brand. Don't be misheard: a...</td>\n",
       "      <td>The Noise Hush N720M Bluetooth Headset sets a ...</td>\n",
       "      <td>59.99</td>\n",
       "      <td>0.00</td>\n",
       "      <td>28.349523</td>\n",
       "      <td>3</td>\n",
       "      <td>3684</td>\n",
       "      <td>0</td>\n",
       "      <td>1</td>\n",
       "      <td>1</td>\n",
       "      <td>9</td>\n",
       "      <td>3.8</td>\n",
       "      <td>59.99</td>\n",
       "    </tr>\n",
       "    <tr>\n",
       "      <th>10626</th>\n",
       "      <td>B015HGREUK</td>\n",
       "      <td>Beyda NEW Bluetooth headsets Bluetooth Headpho...</td>\n",
       "      <td>Beyda</td>\n",
       "      <td>Hi-Fi quality surrounding stereo music, comfor...</td>\n",
       "      <td>Beyda BT-003B1 is a sleek comfort Bluetooth he...</td>\n",
       "      <td>19.99</td>\n",
       "      <td>18.99</td>\n",
       "      <td>22.679618</td>\n",
       "      <td>6</td>\n",
       "      <td>2624</td>\n",
       "      <td>1</td>\n",
       "      <td>1</td>\n",
       "      <td>0</td>\n",
       "      <td>17</td>\n",
       "      <td>4.2</td>\n",
       "      <td>1.00</td>\n",
       "    </tr>\n",
       "    <tr>\n",
       "      <th>10627</th>\n",
       "      <td>B00OGO6TV0</td>\n",
       "      <td>Ipanda® Jamz Behind the Neck Bluetooth Stereo ...</td>\n",
       "      <td>iPanda Electronics</td>\n",
       "      <td>NaN</td>\n",
       "      <td>Being constantly on-the-go means that your han...</td>\n",
       "      <td>29.99</td>\n",
       "      <td>0.00</td>\n",
       "      <td>22.679618</td>\n",
       "      <td>1</td>\n",
       "      <td>6332</td>\n",
       "      <td>0</td>\n",
       "      <td>0</td>\n",
       "      <td>1</td>\n",
       "      <td>4</td>\n",
       "      <td>2.0</td>\n",
       "      <td>29.99</td>\n",
       "    </tr>\n",
       "  </tbody>\n",
       "</table>\n",
       "<p>9339 rows × 16 columns</p>\n",
       "</div>"
      ],
      "text/plain": [
       "       product_id                                       product_name  \\\n",
       "0      B012N7X65S  Trendwoo Runner X9 Bluetooth 4.0 Wireless Ster...   \n",
       "1      B016OADE1Q  Bluetooth 4.1 Headphones,LADEY Wireless Blueto...   \n",
       "3      B017RDCZ1Y  PowerLead S200 Bluetooth 4.1 Sport Gym Running...   \n",
       "6      B00IJG54RQ  SHOWERDOORDIRECT.COM WWBS-BU Waterproof Blueto...   \n",
       "7      B00XQSQKI4  BluBeats Bluetooth Headset, High-Quality, Cris...   \n",
       "8      B01AD9XU04  OEM [2016 Version] Sport Handsfree, Stereo V8 ...   \n",
       "9      B00XLQWHI8  BSI 3pcs Metal Clasps for Fitbit Charge Band W...   \n",
       "10     B00Y4M01JA  Bluetooth Headphones, TOTU Wireless Bluetooth ...   \n",
       "11     B011Y3GU0U  Bluetooth Wireless HandFree Sports Stereo Head...   \n",
       "12     B00NG57HF2  Sony MDR-XB950BT/H Extra Bass Bluetooth Headse...   \n",
       "13     B00Z0ME68A  Newest Smallest Wireless Invisible Bluetooth M...   \n",
       "14     B01CS5VUEO  Uniway E5S High Definition Earbud In-ear Bluet...   \n",
       "15     B005FVNHBI  Jabra SPORT Bluetooth Stereo Headset - Black/Y...   \n",
       "16     B009923WIW  On-Ear Bluetooth Headphones Wireless + Wired T...   \n",
       "17     B019EU13RK  Ularmo 2015 New Popular Wireless Bluetooth Ear...   \n",
       "18     B005FVNHBI  Jabra SPORT Bluetooth Stereo Headset - Black/Y...   \n",
       "19     B019TVHVDY  Wireless Headphones, OCTOPUS Bluetooth Earbuds...   \n",
       "21     B0080ARADC  1 pc New Medium Size Good Quality Eargel for P...   \n",
       "22     B00DVU9HIC  Hercules Ultra-Compact Bluetooth 2.0 Speaker -...   \n",
       "23     B00O8PWW7W  Insten Bluetooth Wireless Running Gym Fitness ...   \n",
       "24     B006C6DZDK              Plantronics Savi W745 Earset 86507-01   \n",
       "25     B0195K8714  BSI New Silver Metal Necklace With New Unique ...   \n",
       "26     B01AAHLH6S  Bluetooth Headphones, DolTech Bluetooth Headse...   \n",
       "27     B00N43EREA  Kinivo BTH240 Limited Edition Bluetooth Stereo...   \n",
       "28     B00ZLOSVH4  Bluetooth Headset, Wires That Work® T0782 Univ...   \n",
       "29     B0181S7Y6A  Fetta Universal Wireless Bluetooth Headset Ste...   \n",
       "30     B00LN1GEFK  Granvela Imbson A802 Foldable Headphone Headse...   \n",
       "31     B012NOVH70  Enegg Universal Smallest Wireless BLuetooth In...   \n",
       "32     B01C3NFGGO  Bluetooth Headphone Winsbotech Bluetooth 4.0 W...   \n",
       "33     B00T3NEDI0  BSI Set 1 Pink and 1 Teal Replacement Bands & ...   \n",
       "...           ...                                                ...   \n",
       "10593  B016WCI1R8  Bluetooth Earbuds, Bluetooth Headphones, Dolte...   \n",
       "10594  B01AJL171K  Bluetooth Earphones,DLAND Wireless Mic Noise C...   \n",
       "10595  B01A6TJV0E  Bluetooth Headset, Lookatool® Mini Ultra-small...   \n",
       "10597  B019WBJ78S  Twinbuys Each B3505 3.5mm Wireless Bluetooth S...   \n",
       "10598  B015OJ0JN4  RQN Outdoor Bluetooth Hat Wireless Bluetooth H...   \n",
       "10599  B00LZRFB10  JIAFENG Bluetooth Wireless Headphone Bluetooth...   \n",
       "10600  B014R5TFVS  AngLink Mini Wireless Bluetooth 4.1 Stereo Hea...   \n",
       "10601  B00Q2JKF94  Sunvito HBS-740 Wireless Bluetooth 4.0 Music S...   \n",
       "10602  B00QIIYI6U  MiNi Bluetooth Wireless In-Ear Headphones Head...   \n",
       "10604  B012D1M0TC  Marsboy Bluetooth V4.0 Headphones Wireless Swi...   \n",
       "10605  B01ABVLU9C  Keweier Mini Bluetooth Wireless Headphones wit...   \n",
       "10606  B019ROX9K2  AUGLAMOUR Original R8 HIFI Music Headphone Sup...   \n",
       "10607  B016HICONE  Top-Longer Wireless Bluetooth V4.0 Bluetooth H...   \n",
       "10608  B011ID4VDO  Kasstino Bluetooth Mini Lightweight Wireless S...   \n",
       "10609  B00OOFMHL2  Masentek H26 Fashion Wireless V3.0+EDR Bluetoo...   \n",
       "10610  B019OOIN60  Selectec Wireless 4.0 Bluetooth Headset Headph...   \n",
       "10611  B013DAQOJ4  Rymemo 2016 Newest Universal Wireless Bluetoot...   \n",
       "10613  B00ZCOJDDO  N Logitech H800 Wireless Bluetooth Headset for...   \n",
       "10614  B00LN1FA5U  Granvela imbson A802 Foldable Headphone Headse...   \n",
       "10615  B00HAV75GE  KOKKIA MarathonS Sports Buds : Tiny aptX Ver 4...   \n",
       "10616  B015J59F5Q  Mydeal Bluetooth Beanie Hat Adult Unisex Trend...   \n",
       "10617  B01CNM9RJC  ZenNutt Hands Free Wireless Bluetooth Headband...   \n",
       "10618  B019DDNRC2  Bluetooth 4.0+APTX Headphones -- GRDE® Sweat-p...   \n",
       "10620  B01A0NBPYG  Towallmark(TM) New Wireless Bluetooth Earphone...   \n",
       "10622  B00NQG2WC4  Samsung HM1350 Wireless Hands Free Bluetooth H...   \n",
       "10623  B017ERD7IS  Universal Bluetooth Headphones Wireless Hands-...   \n",
       "10624  B017K3NLEG  Moudio M100 Wireless Stereo Bluetooth Smart He...   \n",
       "10625  B0169SNKCQ  NoiseHush Bluetooth Headset for Apple & Other ...   \n",
       "10626  B015HGREUK  Beyda NEW Bluetooth headsets Bluetooth Headpho...   \n",
       "10627  B00OGO6TV0  Ipanda® Jamz Behind the Neck Bluetooth Stereo ...   \n",
       "\n",
       "            product_brand                                     product_detail  \\\n",
       "0                Trendwoo  Enter your model number above to make sure thi...   \n",
       "1                   LADEY  Bluetooth 4.1,support volume control,it also c...   \n",
       "3               PowerLead  Premuim high quality CSR chip allows this head...   \n",
       "6      SHOWER DOOR DIRECT  Enter your model number above to make sure thi...   \n",
       "7             Klip xtreme  Mobile headset with Bluetooth wireless technol...   \n",
       "8                BlueRay®  Brand New and High Quality Suitable For BLU St...   \n",
       "9                      PL  BSI 3pcs Metal Clasps for Fitbit Charge Band W...   \n",
       "10                   TOTU  Advanced Technology: With bluetooth 4.0 and ap...   \n",
       "11               Doormoon  100% brand new!! Compatible with Advanced Blue...   \n",
       "12                   Sony  This product has a Bluetooth.By Bluetooth,you ...   \n",
       "13                   EGRD  The Newest bluetooth headset with  lightweight...   \n",
       "14                 Uniway  Easy upgrade from standard earphones:This earp...   \n",
       "15                  Jabra  Secure & Comfortable Fit During Workouts Us Mi...   \n",
       "16                    HDE  Enter your model number above to make sure thi...   \n",
       "17                Ularmo®  Build in Micphone,easy free Talk Music Time: U...   \n",
       "18                  Jabra  Secure & Comfortable Fit During Workouts Us Mi...   \n",
       "19                Octopus  ADVANCED TECHNOLOGY: Fast UNDER 2 HOURS chargi...   \n",
       "21                     PL  Enter your model number above to make sure thi...   \n",
       "22               Hercules  Enter your model number above to make sure thi...   \n",
       "23                 INSTEN  Enjoy wireless music and answer your call with...   \n",
       "24            Plantronics         Connection Type: Wireless Sound Mode: Mono   \n",
       "25                     PL  New Elegant Silver Metal Necklace With New Uni...   \n",
       "26                DolTech  Bluetooth Function: Compatible with Advanced B...   \n",
       "27                 Kinivo  Compatible with Bluetooth enabled music player...   \n",
       "28        Wires That Work  FUTURE PROOF: Noise-cancelling microphone redu...   \n",
       "29                  Fetta  Bluetooth version 4.0 built with well-known CS...   \n",
       "30               Granvela  18 Hours of Continuous Playback time, 3 Minute...   \n",
       "31                  Enegg  The Newest bluetooth headset with lightweight ...   \n",
       "32             winsbotech  NEW BLUETOOTH TECHNOLOGY --- Bluetooth 4.0 + E...   \n",
       "33                     PL  BSI Set 1 Pink and 1 Teal Replacement Bands & ...   \n",
       "...                   ...                                                ...   \n",
       "10593             DolTech  HIGH-FIDELITY - Provide High-fidelity stereo m...   \n",
       "10594               DLAND  Elegant appearance and Multi-function:answer/e...   \n",
       "10595           Lookatool  Taiwan and the bluetooth master control chip. ...   \n",
       "10597            Twinbuys  Wireless bluetooth headset compatible with blu...   \n",
       "10598                 RQN  1. You can keep warm and speakerphone, enjoy t...   \n",
       "10599             JiaFeng  Support LINE-IN mode and multi-media playing W...   \n",
       "10600             anglink  Compact portable design: the mini light-weight...   \n",
       "10601             Sunvito  Brand new and high quality. Support Bluetooth ...   \n",
       "10602             Generic  Enter your model number above to make sure thi...   \n",
       "10604             Marsboy  Enter your model number above to make sure thi...   \n",
       "10605                 KWE  Sweat-proof, durable design, Onscreen Battery ...   \n",
       "10606           AUGLAMOUR  Enter your model number above to make sure thi...   \n",
       "10607          Top-Longer  Compatible with Apple and Android smart phones...   \n",
       "10608            Kasstino  Bluetooth V4.0 Portable lightweight and sweatp...   \n",
       "10609           Cyber-Bay  It is wireless headset. In the Box: headset, e...   \n",
       "10610            Selectec  Bluetooth version: 4.0+aptx Pair two phones wi...   \n",
       "10611              Rymemo  BLUETOOTH FUNCTION:100% brand new!! Compatible...   \n",
       "10613        Halothailand  Enter your model number above to make sure thi...   \n",
       "10614            Granvela  18 Hours of Continuous Playback time, 3 Minute...   \n",
       "10615              KOKKIA  Tiny MarathonS aptX V4.X Bluetooth Stereo Head...   \n",
       "10616     MyDeal Products  Style and Tech Combine: 100% Soft Acrylic,doub...   \n",
       "10617             ZenNutt  Provides wireless freedom to you,which is a fa...   \n",
       "10618               GRDE®  Retractable Earbuds : Easy to adjust the lengt...   \n",
       "10620          towallmark  How to use: Press the power button(the BLUE pa...   \n",
       "10622             Samsung  Simple Pairing technology automatically pairin...   \n",
       "10623                Duto  Stereo bluetooth version 4.0/ A2DP profile, pr...   \n",
       "10624              Moudio  Bluetooth 4.0 chips hardware configuration ens...   \n",
       "10625           NoiseHush  A Trusted American Brand. Don't be misheard: a...   \n",
       "10626               Beyda  Hi-Fi quality surrounding stereo music, comfor...   \n",
       "10627  iPanda Electronics                                                NaN   \n",
       "\n",
       "                                     product_description  product_price  \\\n",
       "0      Features: Specifications: Model: Runner X9 Blu...          39.99   \n",
       "1      Sweatproof design,best choice when you do spor...          44.29   \n",
       "3      Product fetures: It's a high end smart sports ...          56.87   \n",
       "6      Now you can sing in your shower and enjoy all ...          69.99   \n",
       "7      Klip Xtreme BluBeats mobile headset with Bluet...          34.99   \n",
       "8      Compatible with any bluetooth enabled mobile p...          39.99   \n",
       "9      BSI 3pcs Metal Clasps for Fitbit Charge Band W...           6.02   \n",
       "10     About TOTU: TOTU use the best material and bra...         139.99   \n",
       "11     Designed with precision and feature the highes...          20.80   \n",
       "12     Headphone parts Model: closed dynamic. Driver ...         169.40   \n",
       "13     Package Include: 1.One EGRD earbud 2.One instr...          45.99   \n",
       "14     Product descriptions: This headphone not only ...          19.89   \n",
       "15     Jabra 100-96600000-02 Sport Bluetooth(R) Stere...          99.99   \n",
       "16     Premium Design The classic, yet bold, design o...          39.99   \n",
       "17     How to use: Press the power button(the BLUE pa...          10.50   \n",
       "18     Jabra 100-96600000-02 Sport Bluetooth(R) Stere...          99.99   \n",
       "19     *** Powerful and Stylish *** The new 2016 mode...          69.95   \n",
       "21     1 pc New Medium Size Good Quality Eargel for P...          10.99   \n",
       "22     The Hercules WAE-BTP03 Mini Bluetooth 2.0 Spea...          79.99   \n",
       "23     Enjoy wireless music and answer your call with...          13.84   \n",
       "24     Plantronics Savi W745 Earset 86507-01 Headsets...         449.95   \n",
       "25     BSI New Elegant Silver Metal Necklace With New...          39.99   \n",
       "26     Description: Bluetooth Function: Compatible wi...          75.99   \n",
       "27     The Kinivo BTH240 is a redesign of our top sel...          54.99   \n",
       "28     Noise-cancelling microphone reduces background...          36.99   \n",
       "29     Features Automatically Play/Pause music on inc...          12.99   \n",
       "30     Specifications: Standard charge time:Approx.2 ...          49.90   \n",
       "31     Handsfree call and listen Music, Freely switch...          39.99   \n",
       "32     Key Feature: 1.Advanced Bluetooth 4.0 technolo...          59.99   \n",
       "33     BSI Set 1 Pink and 1 Teal Replacement Bands & ...          24.99   \n",
       "...                                                  ...            ...   \n",
       "10593  DolTech 2015 Newest Premium Music Mini Sports ...          88.99   \n",
       "10594  Specifications: compatible with most Bluetooth...          18.99   \n",
       "10595  Spescification: Bluetooth version:V4.0 + EDR B...           5.74   \n",
       "10597  Overview This B3505 wireless bluetooth stereo ...          35.99   \n",
       "10598  Technology Spec:Size:One size fits most Blueto...          99.00   \n",
       "10599  The wireless headset support LINE-IN mode and ...          55.99   \n",
       "10600  Product Description Hear it all-music, calls a...          19.99   \n",
       "10601  Specifications: -Length of data cable: 77cm -F...          75.96   \n",
       "10602  Resistant to scratches, dust and spills, Keep ...           8.96   \n",
       "10604  Marsboy New Version Bluetooth 4.0 Headphones T...          39.99   \n",
       "10605                                                NaN          18.88   \n",
       "10606  Features: Ergonomics cavity design: R8 offers ...          35.83   \n",
       "10607  Product Description - Compatible with most cel...          46.00   \n",
       "10608  Technical specification: Bluetooth Specificati...           8.91   \n",
       "10609  This is a mono headset with bluetooth wireless...          29.99   \n",
       "10610  Features: Hand free listening Listen to music,...          29.99   \n",
       "10611  Description Bluetooth Function: Compatible wit...          79.99   \n",
       "10613  Features Compatible Easily connect to and swit...         104.35   \n",
       "10614  Specifications: Standard charge time:Approx.2 ...          49.90   \n",
       "10615  MarathonS aptX hi-fidelity stereo music Blueto...          29.99   \n",
       "10616  Mydeal pays more attention to Innovation and Q...          49.99   \n",
       "10617  Specifications: Bluetooth Version: V3.0+EDR Fr...          16.98   \n",
       "10618  Let you enjoy the leisure life more comfortabl...          29.99   \n",
       "10620  Feature: 100% brand new and high quality Outst...           8.94   \n",
       "10622  The Samsung HM1350 mono Bluetooth headset offe...          29.99   \n",
       "10623  Specification Standby time/Talk time: Up to 50...          49.99   \n",
       "10624  Moudio M100 Sports Bluetooth Headphone: Feel t...          99.99   \n",
       "10625  The Noise Hush N720M Bluetooth Headset sets a ...          59.99   \n",
       "10626  Beyda BT-003B1 is a sleek comfort Bluetooth he...          19.99   \n",
       "10627  Being constantly on-the-go means that your han...          29.99   \n",
       "\n",
       "       product_sale       weight  photo_num  best_seller_rank  water_proof  \\\n",
       "0              0.00    82.213617          7              2318            1   \n",
       "1             14.26   861.825503          7              9289            1   \n",
       "3             40.54     8.504857          7              8379            0   \n",
       "6              0.00   221.126280          2              3779            0   \n",
       "7              0.00  9661.517481          4              5994            0   \n",
       "8             24.99    45.359237          7             11819            0   \n",
       "9              0.00          NaN          2             11609            0   \n",
       "10            19.99    14.174762          7                21            1   \n",
       "11            12.00          NaN          7             13412            0   \n",
       "12             0.00   680.388555          1              1290            0   \n",
       "13             0.00    28.349523          7                80            0   \n",
       "14             0.00     8.504857          7              7694            0   \n",
       "15             0.00    85.048569          7              2588            0   \n",
       "16             0.00   294.835040          6              3155            0   \n",
       "17             0.00          NaN          7              7424            0   \n",
       "18             0.00    85.048569          7              2588            0   \n",
       "19            18.95    68.038855          5              2383            0   \n",
       "21             0.00          NaN          2              5328            0   \n",
       "22             0.00   816.466266          3             14013            0   \n",
       "23             0.00    90.718474          6              5057            0   \n",
       "24             0.00   816.466266          1              4933            0   \n",
       "25             0.00     8.504857          3              2277            0   \n",
       "26            16.99    45.359237          7              5853            0   \n",
       "27            29.99   181.436948          7              1772            0   \n",
       "28             0.00    68.038855          5              5960            0   \n",
       "29             0.00    45.359237          7               519            0   \n",
       "30            14.29   141.747615          6              7017            0   \n",
       "31             0.00    22.679618          7              7848            0   \n",
       "32            16.99          NaN          7             12962            0   \n",
       "33             0.00          NaN          1             14284            0   \n",
       "...             ...          ...        ...               ...          ...   \n",
       "10593         15.99    39.689332          5              8773            1   \n",
       "10594          0.00     8.504857          7                13            0   \n",
       "10595          0.00    14.174762          5               652            0   \n",
       "10597          0.00   218.291328          7             11734            0   \n",
       "10598          0.00    90.718474          3              7561            0   \n",
       "10599          0.00   317.514659          3              9819            0   \n",
       "10600         13.99     8.504857          7              3551            0   \n",
       "10601         13.89     8.504857          6              3771            0   \n",
       "10602          0.00    28.349523          5             10446            0   \n",
       "10604          0.00    99.223331          7              4946            0   \n",
       "10605          0.00    45.359237          4              1263            0   \n",
       "10606          0.00   277.825326          7             10523            0   \n",
       "10607         24.99     8.504857          3             12068            0   \n",
       "10608          0.00     8.504857          7              2621            1   \n",
       "10609          0.00    22.679618          3              4502            0   \n",
       "10610          0.00          NaN          5             10066            0   \n",
       "10611         14.88    68.038855          6               928            0   \n",
       "10613          0.00          NaN          2             12773            0   \n",
       "10614         14.29   141.747615          6              6348            0   \n",
       "10615          0.00     8.504857          7              6221            0   \n",
       "10616         26.99   107.728188          7                 0            0   \n",
       "10617         12.45          NaN          7              5317            1   \n",
       "10618          0.00    68.038855          6              1759            0   \n",
       "10620          0.00    31.184475          1              7311            0   \n",
       "10622          0.00     8.504857          5              4698            0   \n",
       "10623          0.00    68.038855          5               501            0   \n",
       "10624         34.99    68.038855          7              1987            0   \n",
       "10625          0.00    28.349523          3              3684            0   \n",
       "10626         18.99    22.679618          6              2624            1   \n",
       "10627          0.00    22.679618          1              6332            0   \n",
       "\n",
       "       noise_cancel  micro_phone  review_num  review_rate  product_discount  \n",
       "0                 0            0         228          3.7             39.99  \n",
       "1                 1            0           0          0.0             30.03  \n",
       "3                 1            0          11          4.5             16.33  \n",
       "6                 0            0           0          0.0             69.99  \n",
       "7                 0            1           4          3.0             34.99  \n",
       "8                 0            0           0          0.0             15.00  \n",
       "9                 0            0           0          0.0              6.02  \n",
       "10                0            1         905          3.3            120.00  \n",
       "11                0            0           0          0.0              8.80  \n",
       "12                0            0          21          4.9            169.40  \n",
       "13                0            1           1          3.1             45.99  \n",
       "14                1            1           0          0.0             19.89  \n",
       "15                0            1           1          2.8             99.99  \n",
       "16                0            1         459          3.7             39.99  \n",
       "17                0            0           0          0.0             10.50  \n",
       "18                0            1           1          2.8             99.99  \n",
       "19                1            1          28          4.5             51.00  \n",
       "21                0            0           0          0.0             10.99  \n",
       "22                0            1           0          0.0             79.99  \n",
       "23                0            0           7          3.1             13.84  \n",
       "24                0            0           3          3.5            449.95  \n",
       "25                0            0           3          3.3             39.99  \n",
       "26                1            0          14          3.2             59.00  \n",
       "27                0            0          56          4.1             25.00  \n",
       "28                1            1          23          3.7             36.99  \n",
       "29                0            0         229          3.8             12.99  \n",
       "30                0            0          30          4.0             35.61  \n",
       "31                0            1          16          2.6             39.99  \n",
       "32                1            1           2          4.0             43.00  \n",
       "33                0            0           0          0.0             24.99  \n",
       "...             ...          ...         ...          ...               ...  \n",
       "10593             1            0           4          3.6             73.00  \n",
       "10594             1            1          37          4.7             18.99  \n",
       "10595             0            0           7          4.7              5.74  \n",
       "10597             1            0           0          0.0             35.99  \n",
       "10598             0            0          19          4.1             99.00  \n",
       "10599             0            1           3          3.3             55.99  \n",
       "10600             1            1          79          3.8              6.00  \n",
       "10601             0            0          38          3.5             62.07  \n",
       "10602             0            0           2          1.0              8.96  \n",
       "10604             0            0         403          3.5             39.99  \n",
       "10605             1            0           0          0.0             18.88  \n",
       "10606             0            0           0          0.0             35.83  \n",
       "10607             0            1           7          4.5             21.01  \n",
       "10608             1            1           4          4.0              8.91  \n",
       "10609             1            0          38          3.7             29.99  \n",
       "10610             0            0           0          0.0             29.99  \n",
       "10611             0            0          45          3.4             65.11  \n",
       "10613             0            1           0          0.0            104.35  \n",
       "10614             0            0          30          4.0             35.61  \n",
       "10615             1            1          35          3.5             29.99  \n",
       "10616             0            1          96          4.1             23.00  \n",
       "10617             0            0          10          4.1              4.53  \n",
       "10618             0            1          70          3.0             29.99  \n",
       "10620             0            0           0          0.0              8.94  \n",
       "10622             0            1           7          3.6             29.99  \n",
       "10623             1            0          53          4.4             49.99  \n",
       "10624             0            0         194          4.3             65.00  \n",
       "10625             1            1           9          3.8             59.99  \n",
       "10626             1            0          17          4.2              1.00  \n",
       "10627             0            1           4          2.0             29.99  \n",
       "\n",
       "[9339 rows x 16 columns]"
      ]
     },
     "execution_count": 286,
     "metadata": {},
     "output_type": "execute_result"
    }
   ],
   "source": [
    "my_data"
   ]
  },
  {
   "cell_type": "code",
   "execution_count": 14,
   "metadata": {
    "collapsed": false
   },
   "outputs": [
    {
     "name": "stderr",
     "output_type": "stream",
     "text": [
      "A newer version of GraphLab Create (v1.8.5) is available! Your current version is v1.8.4.\n",
      "\n",
      "You can use pip to upgrade the graphlab-create package. For more information see https://dato.com/products/create/upgrade.\n",
      "2016-04-15 16:42:14,112 [INFO] graphlab.cython.cy_server, 176: GraphLab Create v1.8.4 started. Logging: /tmp/graphlab_server_1460709732.log\n"
     ]
    },
    {
     "data": {
      "text/html": [
       "<pre>Finished parsing file /Users/Feelings/Programming/amazon-review/crawler/pd_result.csv</pre>"
      ],
      "text/plain": [
       "Finished parsing file /Users/Feelings/Programming/amazon-review/crawler/pd_result.csv"
      ]
     },
     "metadata": {},
     "output_type": "display_data"
    },
    {
     "data": {
      "text/html": [
       "<pre>Parsing completed. Parsed 100 lines in 0.221503 secs.</pre>"
      ],
      "text/plain": [
       "Parsing completed. Parsed 100 lines in 0.221503 secs."
      ]
     },
     "metadata": {},
     "output_type": "display_data"
    },
    {
     "name": "stdout",
     "output_type": "stream",
     "text": [
      "This non-commercial license of GraphLab Create is assigned to b99705016@ntu.edu.tw and will expire on March 02, 2017. For commercial licensing options, visit https://dato.com/buy/.\n",
      "------------------------------------------------------"
     ]
    },
    {
     "data": {
      "text/html": [
       "<pre>Finished parsing file /Users/Feelings/Programming/amazon-review/crawler/pd_result.csv</pre>"
      ],
      "text/plain": [
       "Finished parsing file /Users/Feelings/Programming/amazon-review/crawler/pd_result.csv"
      ]
     },
     "metadata": {},
     "output_type": "display_data"
    },
    {
     "data": {
      "text/html": [
       "<pre>Parsing completed. Parsed 9381 lines in 0.386209 secs.</pre>"
      ],
      "text/plain": [
       "Parsing completed. Parsed 9381 lines in 0.386209 secs."
      ]
     },
     "metadata": {},
     "output_type": "display_data"
    },
    {
     "name": "stdout",
     "output_type": "stream",
     "text": [
      "\n",
      "Inferred types from first line of file as \n",
      "column_type_hints=[int,str,str,str,str,str,float,float,float,int,int,int,int,int,int,float,float]\n",
      "If parsing fails due to incorrect types, you can correct\n",
      "the inferred type list above and pass it to read_csv in\n",
      "the column_type_hints argument\n",
      "------------------------------------------------------\n"
     ]
    }
   ],
   "source": [
    "#graphlab\n",
    "import graphlab\n",
    "gf = graphlab.SFrame('pd_result.csv')"
   ]
  },
  {
   "cell_type": "code",
   "execution_count": 15,
   "metadata": {
    "collapsed": false
   },
   "outputs": [],
   "source": [
    "gf['detail_tfidf'] = graphlab.text_analytics.tf_idf(gf['product_detail'])\n",
    "gf['description_tfidf'] = graphlab.text_analytics.tf_idf(gf['product_description'])"
   ]
  },
  {
   "cell_type": "code",
   "execution_count": 17,
   "metadata": {
    "collapsed": false
   },
   "outputs": [
    {
     "data": {
      "text/html": [
       "<pre>Starting brute force nearest neighbors model training.</pre>"
      ],
      "text/plain": [
       "Starting brute force nearest neighbors model training."
      ]
     },
     "metadata": {},
     "output_type": "display_data"
    },
    {
     "name": "stdout",
     "output_type": "stream",
     "text": [
      "Defaulting to brute force instead of ball tree because there are multiple distance components.\n"
     ]
    }
   ],
   "source": [
    "knn_model = graphlab.nearest_neighbors.create(gf, features=['detail_tfidf','description_tfidf'], label='product_id')"
   ]
  },
  {
   "cell_type": "code",
   "execution_count": 18,
   "metadata": {
    "collapsed": false
   },
   "outputs": [
    {
     "data": {
      "text/html": [
       "<pre>Starting pairwise querying.</pre>"
      ],
      "text/plain": [
       "Starting pairwise querying."
      ]
     },
     "metadata": {},
     "output_type": "display_data"
    },
    {
     "data": {
      "text/html": [
       "<pre>+--------------+---------+-------------+--------------+</pre>"
      ],
      "text/plain": [
       "+--------------+---------+-------------+--------------+"
      ]
     },
     "metadata": {},
     "output_type": "display_data"
    },
    {
     "data": {
      "text/html": [
       "<pre>| Query points | # Pairs | % Complete. | Elapsed Time |</pre>"
      ],
      "text/plain": [
       "| Query points | # Pairs | % Complete. | Elapsed Time |"
      ]
     },
     "metadata": {},
     "output_type": "display_data"
    },
    {
     "data": {
      "text/html": [
       "<pre>+--------------+---------+-------------+--------------+</pre>"
      ],
      "text/plain": [
       "+--------------+---------+-------------+--------------+"
      ]
     },
     "metadata": {},
     "output_type": "display_data"
    },
    {
     "data": {
      "text/html": [
       "<pre>| 0            | 1       | 0.0106598   | 16.482ms     |</pre>"
      ],
      "text/plain": [
       "| 0            | 1       | 0.0106598   | 16.482ms     |"
      ]
     },
     "metadata": {},
     "output_type": "display_data"
    },
    {
     "data": {
      "text/html": [
       "<pre>| Done         |         | 100         | 70.992ms     |</pre>"
      ],
      "text/plain": [
       "| Done         |         | 100         | 70.992ms     |"
      ]
     },
     "metadata": {},
     "output_type": "display_data"
    },
    {
     "data": {
      "text/html": [
       "<pre>+--------------+---------+-------------+--------------+</pre>"
      ],
      "text/plain": [
       "+--------------+---------+-------------+--------------+"
      ]
     },
     "metadata": {},
     "output_type": "display_data"
    },
    {
     "data": {
      "text/html": [
       "<div style=\"max-height:1000px;max-width:1500px;overflow:auto;\"><table frame=\"box\" rules=\"cols\">\n",
       "    <tr>\n",
       "        <th style=\"padding-left: 1em; padding-right: 1em; text-align: center\">query_label</th>\n",
       "        <th style=\"padding-left: 1em; padding-right: 1em; text-align: center\">reference_label</th>\n",
       "        <th style=\"padding-left: 1em; padding-right: 1em; text-align: center\">distance</th>\n",
       "        <th style=\"padding-left: 1em; padding-right: 1em; text-align: center\">rank</th>\n",
       "    </tr>\n",
       "    <tr>\n",
       "        <td style=\"padding-left: 1em; padding-right: 1em; text-align: center; vertical-align: top\">0</td>\n",
       "        <td style=\"padding-left: 1em; padding-right: 1em; text-align: center; vertical-align: top\">B012N7X65S</td>\n",
       "        <td style=\"padding-left: 1em; padding-right: 1em; text-align: center; vertical-align: top\">0.0</td>\n",
       "        <td style=\"padding-left: 1em; padding-right: 1em; text-align: center; vertical-align: top\">1</td>\n",
       "    </tr>\n",
       "    <tr>\n",
       "        <td style=\"padding-left: 1em; padding-right: 1em; text-align: center; vertical-align: top\">0</td>\n",
       "        <td style=\"padding-left: 1em; padding-right: 1em; text-align: center; vertical-align: top\">B012N7WVW2</td>\n",
       "        <td style=\"padding-left: 1em; padding-right: 1em; text-align: center; vertical-align: top\">0.0</td>\n",
       "        <td style=\"padding-left: 1em; padding-right: 1em; text-align: center; vertical-align: top\">2</td>\n",
       "    </tr>\n",
       "    <tr>\n",
       "        <td style=\"padding-left: 1em; padding-right: 1em; text-align: center; vertical-align: top\">0</td>\n",
       "        <td style=\"padding-left: 1em; padding-right: 1em; text-align: center; vertical-align: top\">B015W1SY1I</td>\n",
       "        <td style=\"padding-left: 1em; padding-right: 1em; text-align: center; vertical-align: top\">1.23811107416</td>\n",
       "        <td style=\"padding-left: 1em; padding-right: 1em; text-align: center; vertical-align: top\">3</td>\n",
       "    </tr>\n",
       "    <tr>\n",
       "        <td style=\"padding-left: 1em; padding-right: 1em; text-align: center; vertical-align: top\">0</td>\n",
       "        <td style=\"padding-left: 1em; padding-right: 1em; text-align: center; vertical-align: top\">B015W1SWRE</td>\n",
       "        <td style=\"padding-left: 1em; padding-right: 1em; text-align: center; vertical-align: top\">1.23811107416</td>\n",
       "        <td style=\"padding-left: 1em; padding-right: 1em; text-align: center; vertical-align: top\">4</td>\n",
       "    </tr>\n",
       "    <tr>\n",
       "        <td style=\"padding-left: 1em; padding-right: 1em; text-align: center; vertical-align: top\">0</td>\n",
       "        <td style=\"padding-left: 1em; padding-right: 1em; text-align: center; vertical-align: top\">B015W1SVH0</td>\n",
       "        <td style=\"padding-left: 1em; padding-right: 1em; text-align: center; vertical-align: top\">1.23811107416</td>\n",
       "        <td style=\"padding-left: 1em; padding-right: 1em; text-align: center; vertical-align: top\">5</td>\n",
       "    </tr>\n",
       "</table>\n",
       "[5 rows x 4 columns]<br/>\n",
       "</div>"
      ],
      "text/plain": [
       "Columns:\n",
       "\tquery_label\tint\n",
       "\treference_label\tstr\n",
       "\tdistance\tfloat\n",
       "\trank\tint\n",
       "\n",
       "Rows: 5\n",
       "\n",
       "Data:\n",
       "+-------------+-----------------+---------------+------+\n",
       "| query_label | reference_label |    distance   | rank |\n",
       "+-------------+-----------------+---------------+------+\n",
       "|      0      |    B012N7X65S   |      0.0      |  1   |\n",
       "|      0      |    B012N7WVW2   |      0.0      |  2   |\n",
       "|      0      |    B015W1SY1I   | 1.23811107416 |  3   |\n",
       "|      0      |    B015W1SWRE   | 1.23811107416 |  4   |\n",
       "|      0      |    B015W1SVH0   | 1.23811107416 |  5   |\n",
       "+-------------+-----------------+---------------+------+\n",
       "[5 rows x 4 columns]"
      ]
     },
     "execution_count": 18,
     "metadata": {},
     "output_type": "execute_result"
    }
   ],
   "source": [
    "knn_model.query(gf[gf['product_id']=='B012N7X65S'])"
   ]
  },
  {
   "cell_type": "code",
   "execution_count": 21,
   "metadata": {
    "collapsed": false
   },
   "outputs": [
    {
     "data": {
      "text/html": [
       "<pre>Starting brute force nearest neighbors model training.</pre>"
      ],
      "text/plain": [
       "Starting brute force nearest neighbors model training."
      ]
     },
     "metadata": {},
     "output_type": "display_data"
    },
    {
     "name": "stdout",
     "output_type": "stream",
     "text": [
      "Defaulting to brute force instead of ball tree because there are multiple distance components.\n"
     ]
    }
   ],
   "source": [
    "knn_mixed_model = graphlab.nearest_neighbors.create(gf, features=['detail_tfidf','description_tfidf','water_proof','noise_cancel','micro_phone'], label='product_id')"
   ]
  },
  {
   "cell_type": "code",
   "execution_count": 20,
   "metadata": {
    "collapsed": false
   },
   "outputs": [
    {
     "data": {
      "text/html": [
       "<pre>Starting pairwise querying.</pre>"
      ],
      "text/plain": [
       "Starting pairwise querying."
      ]
     },
     "metadata": {},
     "output_type": "display_data"
    },
    {
     "data": {
      "text/html": [
       "<pre>+--------------+---------+-------------+--------------+</pre>"
      ],
      "text/plain": [
       "+--------------+---------+-------------+--------------+"
      ]
     },
     "metadata": {},
     "output_type": "display_data"
    },
    {
     "data": {
      "text/html": [
       "<pre>| Query points | # Pairs | % Complete. | Elapsed Time |</pre>"
      ],
      "text/plain": [
       "| Query points | # Pairs | % Complete. | Elapsed Time |"
      ]
     },
     "metadata": {},
     "output_type": "display_data"
    },
    {
     "data": {
      "text/html": [
       "<pre>+--------------+---------+-------------+--------------+</pre>"
      ],
      "text/plain": [
       "+--------------+---------+-------------+--------------+"
      ]
     },
     "metadata": {},
     "output_type": "display_data"
    },
    {
     "data": {
      "text/html": [
       "<pre>| 0            | 1       | 0.0106598   | 23.708ms     |</pre>"
      ],
      "text/plain": [
       "| 0            | 1       | 0.0106598   | 23.708ms     |"
      ]
     },
     "metadata": {},
     "output_type": "display_data"
    },
    {
     "data": {
      "text/html": [
       "<pre>| Done         |         | 100         | 84.273ms     |</pre>"
      ],
      "text/plain": [
       "| Done         |         | 100         | 84.273ms     |"
      ]
     },
     "metadata": {},
     "output_type": "display_data"
    },
    {
     "data": {
      "text/html": [
       "<pre>+--------------+---------+-------------+--------------+</pre>"
      ],
      "text/plain": [
       "+--------------+---------+-------------+--------------+"
      ]
     },
     "metadata": {},
     "output_type": "display_data"
    },
    {
     "data": {
      "text/html": [
       "<div style=\"max-height:1000px;max-width:1500px;overflow:auto;\"><table frame=\"box\" rules=\"cols\">\n",
       "    <tr>\n",
       "        <th style=\"padding-left: 1em; padding-right: 1em; text-align: center\">query_label</th>\n",
       "        <th style=\"padding-left: 1em; padding-right: 1em; text-align: center\">reference_label</th>\n",
       "        <th style=\"padding-left: 1em; padding-right: 1em; text-align: center\">distance</th>\n",
       "        <th style=\"padding-left: 1em; padding-right: 1em; text-align: center\">rank</th>\n",
       "    </tr>\n",
       "    <tr>\n",
       "        <td style=\"padding-left: 1em; padding-right: 1em; text-align: center; vertical-align: top\">0</td>\n",
       "        <td style=\"padding-left: 1em; padding-right: 1em; text-align: center; vertical-align: top\">B012N7X65S</td>\n",
       "        <td style=\"padding-left: 1em; padding-right: 1em; text-align: center; vertical-align: top\">0.0</td>\n",
       "        <td style=\"padding-left: 1em; padding-right: 1em; text-align: center; vertical-align: top\">1</td>\n",
       "    </tr>\n",
       "    <tr>\n",
       "        <td style=\"padding-left: 1em; padding-right: 1em; text-align: center; vertical-align: top\">0</td>\n",
       "        <td style=\"padding-left: 1em; padding-right: 1em; text-align: center; vertical-align: top\">B012N7WVW2</td>\n",
       "        <td style=\"padding-left: 1em; padding-right: 1em; text-align: center; vertical-align: top\">0.0</td>\n",
       "        <td style=\"padding-left: 1em; padding-right: 1em; text-align: center; vertical-align: top\">2</td>\n",
       "    </tr>\n",
       "    <tr>\n",
       "        <td style=\"padding-left: 1em; padding-right: 1em; text-align: center; vertical-align: top\">0</td>\n",
       "        <td style=\"padding-left: 1em; padding-right: 1em; text-align: center; vertical-align: top\">B015W1SY1I</td>\n",
       "        <td style=\"padding-left: 1em; padding-right: 1em; text-align: center; vertical-align: top\">1.23811107416</td>\n",
       "        <td style=\"padding-left: 1em; padding-right: 1em; text-align: center; vertical-align: top\">3</td>\n",
       "    </tr>\n",
       "    <tr>\n",
       "        <td style=\"padding-left: 1em; padding-right: 1em; text-align: center; vertical-align: top\">0</td>\n",
       "        <td style=\"padding-left: 1em; padding-right: 1em; text-align: center; vertical-align: top\">B015W1SWRE</td>\n",
       "        <td style=\"padding-left: 1em; padding-right: 1em; text-align: center; vertical-align: top\">1.23811107416</td>\n",
       "        <td style=\"padding-left: 1em; padding-right: 1em; text-align: center; vertical-align: top\">4</td>\n",
       "    </tr>\n",
       "    <tr>\n",
       "        <td style=\"padding-left: 1em; padding-right: 1em; text-align: center; vertical-align: top\">0</td>\n",
       "        <td style=\"padding-left: 1em; padding-right: 1em; text-align: center; vertical-align: top\">B015W1SVH0</td>\n",
       "        <td style=\"padding-left: 1em; padding-right: 1em; text-align: center; vertical-align: top\">1.23811107416</td>\n",
       "        <td style=\"padding-left: 1em; padding-right: 1em; text-align: center; vertical-align: top\">5</td>\n",
       "    </tr>\n",
       "</table>\n",
       "[5 rows x 4 columns]<br/>\n",
       "</div>"
      ],
      "text/plain": [
       "Columns:\n",
       "\tquery_label\tint\n",
       "\treference_label\tstr\n",
       "\tdistance\tfloat\n",
       "\trank\tint\n",
       "\n",
       "Rows: 5\n",
       "\n",
       "Data:\n",
       "+-------------+-----------------+---------------+------+\n",
       "| query_label | reference_label |    distance   | rank |\n",
       "+-------------+-----------------+---------------+------+\n",
       "|      0      |    B012N7X65S   |      0.0      |  1   |\n",
       "|      0      |    B012N7WVW2   |      0.0      |  2   |\n",
       "|      0      |    B015W1SY1I   | 1.23811107416 |  3   |\n",
       "|      0      |    B015W1SWRE   | 1.23811107416 |  4   |\n",
       "|      0      |    B015W1SVH0   | 1.23811107416 |  5   |\n",
       "+-------------+-----------------+---------------+------+\n",
       "[5 rows x 4 columns]"
      ]
     },
     "execution_count": 20,
     "metadata": {},
     "output_type": "execute_result"
    }
   ],
   "source": [
    "knn_mixed_model.query(gf[gf['product_id']=='B012N7X65S'])"
   ]
  },
  {
   "cell_type": "code",
   "execution_count": 26,
   "metadata": {
    "collapsed": true
   },
   "outputs": [],
   "source": [
    "#add price feature"
   ]
  },
  {
   "cell_type": "code",
   "execution_count": 25,
   "metadata": {
    "collapsed": true
   },
   "outputs": [],
   "source": [
    "#normalization\n",
    "gf[\"normalized_sale\"] = gf[\"product_sale\"] - gf[\"product_sale\"].min() / gf[\"product_sale\"].max() - gf[\"product_sale\"].min()"
   ]
  },
  {
   "cell_type": "code",
   "execution_count": 23,
   "metadata": {
    "collapsed": false
   },
   "outputs": [
    {
     "data": {
      "text/html": [
       "<pre>Starting brute force nearest neighbors model training.</pre>"
      ],
      "text/plain": [
       "Starting brute force nearest neighbors model training."
      ]
     },
     "metadata": {},
     "output_type": "display_data"
    },
    {
     "name": "stdout",
     "output_type": "stream",
     "text": [
      "Defaulting to brute force instead of ball tree because there are multiple distance components.\n"
     ]
    }
   ],
   "source": [
    "knn_mixed_model = graphlab.nearest_neighbors.create(gf, features=['detail_tfidf','description_tfidf','water_proof','noise_cancel','micro_phone','normalized_sale'], label='product_id')"
   ]
  },
  {
   "cell_type": "code",
   "execution_count": 24,
   "metadata": {
    "collapsed": false
   },
   "outputs": [
    {
     "data": {
      "text/html": [
       "<pre>Starting pairwise querying.</pre>"
      ],
      "text/plain": [
       "Starting pairwise querying."
      ]
     },
     "metadata": {},
     "output_type": "display_data"
    },
    {
     "data": {
      "text/html": [
       "<pre>+--------------+---------+-------------+--------------+</pre>"
      ],
      "text/plain": [
       "+--------------+---------+-------------+--------------+"
      ]
     },
     "metadata": {},
     "output_type": "display_data"
    },
    {
     "data": {
      "text/html": [
       "<pre>| Query points | # Pairs | % Complete. | Elapsed Time |</pre>"
      ],
      "text/plain": [
       "| Query points | # Pairs | % Complete. | Elapsed Time |"
      ]
     },
     "metadata": {},
     "output_type": "display_data"
    },
    {
     "data": {
      "text/html": [
       "<pre>+--------------+---------+-------------+--------------+</pre>"
      ],
      "text/plain": [
       "+--------------+---------+-------------+--------------+"
      ]
     },
     "metadata": {},
     "output_type": "display_data"
    },
    {
     "data": {
      "text/html": [
       "<pre>| 0            | 1       | 0.0106598   | 25.151ms     |</pre>"
      ],
      "text/plain": [
       "| 0            | 1       | 0.0106598   | 25.151ms     |"
      ]
     },
     "metadata": {},
     "output_type": "display_data"
    },
    {
     "data": {
      "text/html": [
       "<pre>| Done         |         | 100         | 97.112ms     |</pre>"
      ],
      "text/plain": [
       "| Done         |         | 100         | 97.112ms     |"
      ]
     },
     "metadata": {},
     "output_type": "display_data"
    },
    {
     "data": {
      "text/html": [
       "<pre>+--------------+---------+-------------+--------------+</pre>"
      ],
      "text/plain": [
       "+--------------+---------+-------------+--------------+"
      ]
     },
     "metadata": {},
     "output_type": "display_data"
    },
    {
     "data": {
      "text/html": [
       "<div style=\"max-height:1000px;max-width:1500px;overflow:auto;\"><table frame=\"box\" rules=\"cols\">\n",
       "    <tr>\n",
       "        <th style=\"padding-left: 1em; padding-right: 1em; text-align: center\">query_label</th>\n",
       "        <th style=\"padding-left: 1em; padding-right: 1em; text-align: center\">reference_label</th>\n",
       "        <th style=\"padding-left: 1em; padding-right: 1em; text-align: center\">distance</th>\n",
       "        <th style=\"padding-left: 1em; padding-right: 1em; text-align: center\">rank</th>\n",
       "    </tr>\n",
       "    <tr>\n",
       "        <td style=\"padding-left: 1em; padding-right: 1em; text-align: center; vertical-align: top\">0</td>\n",
       "        <td style=\"padding-left: 1em; padding-right: 1em; text-align: center; vertical-align: top\">B012N7X65S</td>\n",
       "        <td style=\"padding-left: 1em; padding-right: 1em; text-align: center; vertical-align: top\">0.0</td>\n",
       "        <td style=\"padding-left: 1em; padding-right: 1em; text-align: center; vertical-align: top\">1</td>\n",
       "    </tr>\n",
       "    <tr>\n",
       "        <td style=\"padding-left: 1em; padding-right: 1em; text-align: center; vertical-align: top\">0</td>\n",
       "        <td style=\"padding-left: 1em; padding-right: 1em; text-align: center; vertical-align: top\">B012N7WVW2</td>\n",
       "        <td style=\"padding-left: 1em; padding-right: 1em; text-align: center; vertical-align: top\">0.0</td>\n",
       "        <td style=\"padding-left: 1em; padding-right: 1em; text-align: center; vertical-align: top\">2</td>\n",
       "    </tr>\n",
       "    <tr>\n",
       "        <td style=\"padding-left: 1em; padding-right: 1em; text-align: center; vertical-align: top\">0</td>\n",
       "        <td style=\"padding-left: 1em; padding-right: 1em; text-align: center; vertical-align: top\">B00VLMUSPS</td>\n",
       "        <td style=\"padding-left: 1em; padding-right: 1em; text-align: center; vertical-align: top\">1.72049637479</td>\n",
       "        <td style=\"padding-left: 1em; padding-right: 1em; text-align: center; vertical-align: top\">3</td>\n",
       "    </tr>\n",
       "    <tr>\n",
       "        <td style=\"padding-left: 1em; padding-right: 1em; text-align: center; vertical-align: top\">0</td>\n",
       "        <td style=\"padding-left: 1em; padding-right: 1em; text-align: center; vertical-align: top\">B015E1OUOQ</td>\n",
       "        <td style=\"padding-left: 1em; padding-right: 1em; text-align: center; vertical-align: top\">1.77570876684</td>\n",
       "        <td style=\"padding-left: 1em; padding-right: 1em; text-align: center; vertical-align: top\">4</td>\n",
       "    </tr>\n",
       "    <tr>\n",
       "        <td style=\"padding-left: 1em; padding-right: 1em; text-align: center; vertical-align: top\">0</td>\n",
       "        <td style=\"padding-left: 1em; padding-right: 1em; text-align: center; vertical-align: top\">B015E1OLH2</td>\n",
       "        <td style=\"padding-left: 1em; padding-right: 1em; text-align: center; vertical-align: top\">1.77570876684</td>\n",
       "        <td style=\"padding-left: 1em; padding-right: 1em; text-align: center; vertical-align: top\">5</td>\n",
       "    </tr>\n",
       "</table>\n",
       "[5 rows x 4 columns]<br/>\n",
       "</div>"
      ],
      "text/plain": [
       "Columns:\n",
       "\tquery_label\tint\n",
       "\treference_label\tstr\n",
       "\tdistance\tfloat\n",
       "\trank\tint\n",
       "\n",
       "Rows: 5\n",
       "\n",
       "Data:\n",
       "+-------------+-----------------+---------------+------+\n",
       "| query_label | reference_label |    distance   | rank |\n",
       "+-------------+-----------------+---------------+------+\n",
       "|      0      |    B012N7X65S   |      0.0      |  1   |\n",
       "|      0      |    B012N7WVW2   |      0.0      |  2   |\n",
       "|      0      |    B00VLMUSPS   | 1.72049637479 |  3   |\n",
       "|      0      |    B015E1OUOQ   | 1.77570876684 |  4   |\n",
       "|      0      |    B015E1OLH2   | 1.77570876684 |  5   |\n",
       "+-------------+-----------------+---------------+------+\n",
       "[5 rows x 4 columns]"
      ]
     },
     "execution_count": 24,
     "metadata": {},
     "output_type": "execute_result"
    }
   ],
   "source": [
    "knn_mixed_model.query(gf[gf['product_id']=='B012N7X65S'])"
   ]
  },
  {
   "cell_type": "code",
   "execution_count": 82,
   "metadata": {
    "collapsed": false
   },
   "outputs": [],
   "source": [
    "tb = {}\n",
    "tb[\"brand\"] = my_data[\"product_brand\"]\n",
    "tb[\"price\"] = my_data[\"product_price\"]\n",
    "tb[\"sale\"] = my_data[\"product_sale\"]\n",
    "tb[\"review_number\"] = my_data[\"review_num\"]\n",
    "tb[\"review_rate\"] = my_data[\"review_rate\"]"
   ]
  },
  {
   "cell_type": "code",
   "execution_count": 102,
   "metadata": {
    "collapsed": false
   },
   "outputs": [],
   "source": [
    "def replaceSale(row):\n",
    "    if row[\"sale\"] == 0.0:\n",
    "        row[\"sale\"] = row[\"price\"]\n",
    "    return row"
   ]
  },
  {
   "cell_type": "code",
   "execution_count": null,
   "metadata": {
    "collapsed": false
   },
   "outputs": [],
   "source": [
    "tb = pd.DataFrame(tb)\n",
    "tb = tb.apply(replaceSale, axis=1)"
   ]
  },
  {
   "cell_type": "code",
   "execution_count": 86,
   "metadata": {
    "collapsed": false
   },
   "outputs": [],
   "source": [
    "tb[\"discount\"] = tb[\"price\"] - tb[\"sale\"]\n",
    "tb_csv = pd.DataFrame(tb).to_csv(\"tb.csv\")"
   ]
  },
  {
   "cell_type": "code",
   "execution_count": 67,
   "metadata": {
    "collapsed": true
   },
   "outputs": [],
   "source": [
    "#for review parsing"
   ]
  },
  {
   "cell_type": "code",
   "execution_count": 30,
   "metadata": {
    "collapsed": false
   },
   "outputs": [
    {
     "data": {
      "text/plain": [
       "9381"
      ]
     },
     "execution_count": 30,
     "metadata": {},
     "output_type": "execute_result"
    }
   ],
   "source": [
    "len(my_data[\"review_num\"])"
   ]
  },
  {
   "cell_type": "code",
   "execution_count": 64,
   "metadata": {
    "collapsed": false
   },
   "outputs": [],
   "source": [
    "import math\n",
    "my_data = pd.read_csv('new_result.csv', sep=',')\n",
    "review_page = pd.DataFrame()\n",
    "review_page[\"id\"] = my_data[\"product_id\"]\n",
    "review_page[\"page\"] = my_data[\"review_num\"].apply(lambda x: int(math.ceil(float(x)/50)))"
   ]
  },
  {
   "cell_type": "code",
   "execution_count": 65,
   "metadata": {
    "collapsed": false
   },
   "outputs": [
    {
     "data": {
      "text/html": [
       "<div>\n",
       "<table border=\"1\" class=\"dataframe\">\n",
       "  <thead>\n",
       "    <tr style=\"text-align: right;\">\n",
       "      <th></th>\n",
       "      <th>id</th>\n",
       "      <th>page</th>\n",
       "    </tr>\n",
       "  </thead>\n",
       "  <tbody>\n",
       "    <tr>\n",
       "      <th>0</th>\n",
       "      <td>B012N7X65S</td>\n",
       "      <td>5</td>\n",
       "    </tr>\n",
       "    <tr>\n",
       "      <th>1</th>\n",
       "      <td>B016OADE1Q</td>\n",
       "      <td>0</td>\n",
       "    </tr>\n",
       "    <tr>\n",
       "      <th>2</th>\n",
       "      <td>B005IYDFVO</td>\n",
       "      <td>1</td>\n",
       "    </tr>\n",
       "    <tr>\n",
       "      <th>3</th>\n",
       "      <td>B017RDCZ1Y</td>\n",
       "      <td>1</td>\n",
       "    </tr>\n",
       "    <tr>\n",
       "      <th>4</th>\n",
       "      <td>B01AHYVC8M</td>\n",
       "      <td>0</td>\n",
       "    </tr>\n",
       "    <tr>\n",
       "      <th>5</th>\n",
       "      <td>B0012YZQ9I</td>\n",
       "      <td>1</td>\n",
       "    </tr>\n",
       "    <tr>\n",
       "      <th>6</th>\n",
       "      <td>B00IJG54RQ</td>\n",
       "      <td>0</td>\n",
       "    </tr>\n",
       "    <tr>\n",
       "      <th>7</th>\n",
       "      <td>B00XQSQKI4</td>\n",
       "      <td>1</td>\n",
       "    </tr>\n",
       "    <tr>\n",
       "      <th>8</th>\n",
       "      <td>B01AD9XU04</td>\n",
       "      <td>0</td>\n",
       "    </tr>\n",
       "    <tr>\n",
       "      <th>9</th>\n",
       "      <td>B00XLQWHI8</td>\n",
       "      <td>0</td>\n",
       "    </tr>\n",
       "    <tr>\n",
       "      <th>10</th>\n",
       "      <td>B00Y4M01JA</td>\n",
       "      <td>19</td>\n",
       "    </tr>\n",
       "    <tr>\n",
       "      <th>11</th>\n",
       "      <td>B011Y3GU0U</td>\n",
       "      <td>0</td>\n",
       "    </tr>\n",
       "    <tr>\n",
       "      <th>12</th>\n",
       "      <td>B00NG57HF2</td>\n",
       "      <td>1</td>\n",
       "    </tr>\n",
       "    <tr>\n",
       "      <th>13</th>\n",
       "      <td>B00Z0ME68A</td>\n",
       "      <td>1</td>\n",
       "    </tr>\n",
       "    <tr>\n",
       "      <th>14</th>\n",
       "      <td>B01CS5VUEO</td>\n",
       "      <td>0</td>\n",
       "    </tr>\n",
       "    <tr>\n",
       "      <th>15</th>\n",
       "      <td>B005FVNHBI</td>\n",
       "      <td>1</td>\n",
       "    </tr>\n",
       "    <tr>\n",
       "      <th>16</th>\n",
       "      <td>B009923WIW</td>\n",
       "      <td>10</td>\n",
       "    </tr>\n",
       "    <tr>\n",
       "      <th>17</th>\n",
       "      <td>B019EU13RK</td>\n",
       "      <td>0</td>\n",
       "    </tr>\n",
       "    <tr>\n",
       "      <th>19</th>\n",
       "      <td>B019TVHVDY</td>\n",
       "      <td>1</td>\n",
       "    </tr>\n",
       "    <tr>\n",
       "      <th>20</th>\n",
       "      <td>B01AHQRH0M</td>\n",
       "      <td>0</td>\n",
       "    </tr>\n",
       "    <tr>\n",
       "      <th>21</th>\n",
       "      <td>B0080ARADC</td>\n",
       "      <td>0</td>\n",
       "    </tr>\n",
       "    <tr>\n",
       "      <th>22</th>\n",
       "      <td>B00DVU9HIC</td>\n",
       "      <td>0</td>\n",
       "    </tr>\n",
       "    <tr>\n",
       "      <th>23</th>\n",
       "      <td>B00O8PWW7W</td>\n",
       "      <td>1</td>\n",
       "    </tr>\n",
       "    <tr>\n",
       "      <th>24</th>\n",
       "      <td>B006C6DZDK</td>\n",
       "      <td>1</td>\n",
       "    </tr>\n",
       "    <tr>\n",
       "      <th>25</th>\n",
       "      <td>B0195K8714</td>\n",
       "      <td>1</td>\n",
       "    </tr>\n",
       "    <tr>\n",
       "      <th>26</th>\n",
       "      <td>B01AAHLH6S</td>\n",
       "      <td>1</td>\n",
       "    </tr>\n",
       "    <tr>\n",
       "      <th>27</th>\n",
       "      <td>B00N43EREA</td>\n",
       "      <td>2</td>\n",
       "    </tr>\n",
       "    <tr>\n",
       "      <th>28</th>\n",
       "      <td>B00ZLOSVH4</td>\n",
       "      <td>1</td>\n",
       "    </tr>\n",
       "    <tr>\n",
       "      <th>29</th>\n",
       "      <td>B0181S7Y6A</td>\n",
       "      <td>5</td>\n",
       "    </tr>\n",
       "    <tr>\n",
       "      <th>30</th>\n",
       "      <td>B00LN1GEFK</td>\n",
       "      <td>1</td>\n",
       "    </tr>\n",
       "    <tr>\n",
       "      <th>...</th>\n",
       "      <td>...</td>\n",
       "      <td>...</td>\n",
       "    </tr>\n",
       "    <tr>\n",
       "      <th>10598</th>\n",
       "      <td>B015OJ0JN4</td>\n",
       "      <td>1</td>\n",
       "    </tr>\n",
       "    <tr>\n",
       "      <th>10599</th>\n",
       "      <td>B00LZRFB10</td>\n",
       "      <td>1</td>\n",
       "    </tr>\n",
       "    <tr>\n",
       "      <th>10600</th>\n",
       "      <td>B014R5TFVS</td>\n",
       "      <td>2</td>\n",
       "    </tr>\n",
       "    <tr>\n",
       "      <th>10601</th>\n",
       "      <td>B00Q2JKF94</td>\n",
       "      <td>1</td>\n",
       "    </tr>\n",
       "    <tr>\n",
       "      <th>10602</th>\n",
       "      <td>B00QIIYI6U</td>\n",
       "      <td>1</td>\n",
       "    </tr>\n",
       "    <tr>\n",
       "      <th>10603</th>\n",
       "      <td>B01AAR1SGM</td>\n",
       "      <td>0</td>\n",
       "    </tr>\n",
       "    <tr>\n",
       "      <th>10604</th>\n",
       "      <td>B012D1M0TC</td>\n",
       "      <td>9</td>\n",
       "    </tr>\n",
       "    <tr>\n",
       "      <th>10605</th>\n",
       "      <td>B01ABVLU9C</td>\n",
       "      <td>0</td>\n",
       "    </tr>\n",
       "    <tr>\n",
       "      <th>10606</th>\n",
       "      <td>B019ROX9K2</td>\n",
       "      <td>0</td>\n",
       "    </tr>\n",
       "    <tr>\n",
       "      <th>10607</th>\n",
       "      <td>B016HICONE</td>\n",
       "      <td>1</td>\n",
       "    </tr>\n",
       "    <tr>\n",
       "      <th>10608</th>\n",
       "      <td>B011ID4VDO</td>\n",
       "      <td>1</td>\n",
       "    </tr>\n",
       "    <tr>\n",
       "      <th>10609</th>\n",
       "      <td>B00OOFMHL2</td>\n",
       "      <td>1</td>\n",
       "    </tr>\n",
       "    <tr>\n",
       "      <th>10610</th>\n",
       "      <td>B019OOIN60</td>\n",
       "      <td>0</td>\n",
       "    </tr>\n",
       "    <tr>\n",
       "      <th>10611</th>\n",
       "      <td>B013DAQOJ4</td>\n",
       "      <td>1</td>\n",
       "    </tr>\n",
       "    <tr>\n",
       "      <th>10612</th>\n",
       "      <td>B00HBW4FLK</td>\n",
       "      <td>1</td>\n",
       "    </tr>\n",
       "    <tr>\n",
       "      <th>10613</th>\n",
       "      <td>B00ZCOJDDO</td>\n",
       "      <td>0</td>\n",
       "    </tr>\n",
       "    <tr>\n",
       "      <th>10614</th>\n",
       "      <td>B00LN1FA5U</td>\n",
       "      <td>1</td>\n",
       "    </tr>\n",
       "    <tr>\n",
       "      <th>10615</th>\n",
       "      <td>B00HAV75GE</td>\n",
       "      <td>1</td>\n",
       "    </tr>\n",
       "    <tr>\n",
       "      <th>10616</th>\n",
       "      <td>B015J59F5Q</td>\n",
       "      <td>2</td>\n",
       "    </tr>\n",
       "    <tr>\n",
       "      <th>10617</th>\n",
       "      <td>B01CNM9RJC</td>\n",
       "      <td>1</td>\n",
       "    </tr>\n",
       "    <tr>\n",
       "      <th>10618</th>\n",
       "      <td>B019DDNRC2</td>\n",
       "      <td>2</td>\n",
       "    </tr>\n",
       "    <tr>\n",
       "      <th>10619</th>\n",
       "      <td>B017OLCEHE</td>\n",
       "      <td>1</td>\n",
       "    </tr>\n",
       "    <tr>\n",
       "      <th>10620</th>\n",
       "      <td>B01A0NBPYG</td>\n",
       "      <td>0</td>\n",
       "    </tr>\n",
       "    <tr>\n",
       "      <th>10621</th>\n",
       "      <td>B00AX5LE3E</td>\n",
       "      <td>1</td>\n",
       "    </tr>\n",
       "    <tr>\n",
       "      <th>10622</th>\n",
       "      <td>B00NQG2WC4</td>\n",
       "      <td>1</td>\n",
       "    </tr>\n",
       "    <tr>\n",
       "      <th>10623</th>\n",
       "      <td>B017ERD7IS</td>\n",
       "      <td>2</td>\n",
       "    </tr>\n",
       "    <tr>\n",
       "      <th>10624</th>\n",
       "      <td>B017K3NLEG</td>\n",
       "      <td>4</td>\n",
       "    </tr>\n",
       "    <tr>\n",
       "      <th>10625</th>\n",
       "      <td>B0169SNKCQ</td>\n",
       "      <td>1</td>\n",
       "    </tr>\n",
       "    <tr>\n",
       "      <th>10626</th>\n",
       "      <td>B015HGREUK</td>\n",
       "      <td>1</td>\n",
       "    </tr>\n",
       "    <tr>\n",
       "      <th>10627</th>\n",
       "      <td>B00OGO6TV0</td>\n",
       "      <td>1</td>\n",
       "    </tr>\n",
       "  </tbody>\n",
       "</table>\n",
       "<p>9649 rows × 2 columns</p>\n",
       "</div>"
      ],
      "text/plain": [
       "               id  page\n",
       "0      B012N7X65S     5\n",
       "1      B016OADE1Q     0\n",
       "2      B005IYDFVO     1\n",
       "3      B017RDCZ1Y     1\n",
       "4      B01AHYVC8M     0\n",
       "5      B0012YZQ9I     1\n",
       "6      B00IJG54RQ     0\n",
       "7      B00XQSQKI4     1\n",
       "8      B01AD9XU04     0\n",
       "9      B00XLQWHI8     0\n",
       "10     B00Y4M01JA    19\n",
       "11     B011Y3GU0U     0\n",
       "12     B00NG57HF2     1\n",
       "13     B00Z0ME68A     1\n",
       "14     B01CS5VUEO     0\n",
       "15     B005FVNHBI     1\n",
       "16     B009923WIW    10\n",
       "17     B019EU13RK     0\n",
       "19     B019TVHVDY     1\n",
       "20     B01AHQRH0M     0\n",
       "21     B0080ARADC     0\n",
       "22     B00DVU9HIC     0\n",
       "23     B00O8PWW7W     1\n",
       "24     B006C6DZDK     1\n",
       "25     B0195K8714     1\n",
       "26     B01AAHLH6S     1\n",
       "27     B00N43EREA     2\n",
       "28     B00ZLOSVH4     1\n",
       "29     B0181S7Y6A     5\n",
       "30     B00LN1GEFK     1\n",
       "...           ...   ...\n",
       "10598  B015OJ0JN4     1\n",
       "10599  B00LZRFB10     1\n",
       "10600  B014R5TFVS     2\n",
       "10601  B00Q2JKF94     1\n",
       "10602  B00QIIYI6U     1\n",
       "10603  B01AAR1SGM     0\n",
       "10604  B012D1M0TC     9\n",
       "10605  B01ABVLU9C     0\n",
       "10606  B019ROX9K2     0\n",
       "10607  B016HICONE     1\n",
       "10608  B011ID4VDO     1\n",
       "10609  B00OOFMHL2     1\n",
       "10610  B019OOIN60     0\n",
       "10611  B013DAQOJ4     1\n",
       "10612  B00HBW4FLK     1\n",
       "10613  B00ZCOJDDO     0\n",
       "10614  B00LN1FA5U     1\n",
       "10615  B00HAV75GE     1\n",
       "10616  B015J59F5Q     2\n",
       "10617  B01CNM9RJC     1\n",
       "10618  B019DDNRC2     2\n",
       "10619  B017OLCEHE     1\n",
       "10620  B01A0NBPYG     0\n",
       "10621  B00AX5LE3E     1\n",
       "10622  B00NQG2WC4     1\n",
       "10623  B017ERD7IS     2\n",
       "10624  B017K3NLEG     4\n",
       "10625  B0169SNKCQ     1\n",
       "10626  B015HGREUK     1\n",
       "10627  B00OGO6TV0     1\n",
       "\n",
       "[9649 rows x 2 columns]"
      ]
     },
     "execution_count": 65,
     "metadata": {},
     "output_type": "execute_result"
    }
   ],
   "source": [
    "review_page.drop_duplicates(subset=\"id\")"
   ]
  },
  {
   "cell_type": "code",
   "execution_count": 66,
   "metadata": {
    "collapsed": false
   },
   "outputs": [],
   "source": [
    "review_page.to_csv(path_or_buf =\"ipd_with_page.csv\", index_label=False, index =False, header =False)"
   ]
  },
  {
   "cell_type": "code",
   "execution_count": null,
   "metadata": {
    "collapsed": false
   },
   "outputs": [],
   "source": []
  },
  {
   "cell_type": "code",
   "execution_count": 97,
   "metadata": {
    "collapsed": false
   },
   "outputs": [],
   "source": []
  },
  {
   "cell_type": "code",
   "execution_count": 113,
   "metadata": {
    "collapsed": false
   },
   "outputs": [],
   "source": []
  },
  {
   "cell_type": "code",
   "execution_count": 101,
   "metadata": {
    "collapsed": true
   },
   "outputs": [],
   "source": []
  },
  {
   "cell_type": "code",
   "execution_count": null,
   "metadata": {
    "collapsed": true
   },
   "outputs": [],
   "source": []
  }
 ],
 "metadata": {
  "kernelspec": {
   "display_name": "Python 2",
   "language": "python",
   "name": "python2"
  },
  "language_info": {
   "codemirror_mode": {
    "name": "ipython",
    "version": 2
   },
   "file_extension": ".py",
   "mimetype": "text/x-python",
   "name": "python",
   "nbconvert_exporter": "python",
   "pygments_lexer": "ipython2",
   "version": "2.7.11"
  }
 },
 "nbformat": 4,
 "nbformat_minor": 0
}
